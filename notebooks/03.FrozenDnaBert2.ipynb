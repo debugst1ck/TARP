{
 "cells": [
  {
   "cell_type": "code",
   "execution_count": 1,
   "id": "a34d174a",
   "metadata": {},
   "outputs": [
    {
     "name": "stderr",
     "output_type": "stream",
     "text": [
      "c:\\Mainframe\\TARP\\.venv\\Lib\\site-packages\\tqdm\\auto.py:21: TqdmWarning: IProgress not found. Please update jupyter and ipywidgets. See https://ipywidgets.readthedocs.io/en/stable/user_install.html\n",
      "  from .autonotebook import tqdm as notebook_tqdm\n"
     ]
    }
   ],
   "source": [
    "from tarp.model.backbone.untrained.lstm import LstmEncoder\n",
    "from tarp.model.backbone.untrained.hyena import HyenaEncoder\n",
    "from tarp.model.finetuning.classification import ClassificationModel\n",
    "\n",
    "from tarp.services.datasets.classification.multilabel import MultiLabelClassificationDataset\n",
    "from tarp.services.tokenizers.pretrained.dnabert import Dnabert2Tokenizer\n",
    "from tarp.services.datasource.sequence import TabularSequenceSource, CombinationSource, FastaSliceSource\n",
    "\n",
    "\n",
    "from tarp.services.preprocessing.augumentation import (\n",
    "    CombinationTechnique,\n",
    "    RandomMutation,\n",
    "    InsertionDeletion,\n",
    "    ReverseComplement,\n",
    ")\n",
    "\n",
    "from tarp.services.datasets.metric.triplet import MultilabelOfflineTripletDataset\n",
    "\n",
    "\n",
    "import torch\n",
    "import torch.nn as nn\n",
    "from torch.utils.data import DataLoader\n",
    "import polars as pl\n",
    "import numpy as np\n",
    "\n",
    "from sklearn.neighbors import NearestNeighbors\n",
    "\n",
    "from pathlib import Path"
   ]
  },
  {
   "cell_type": "code",
   "execution_count": 2,
   "id": "bfc4bb7b",
   "metadata": {},
   "outputs": [],
   "source": [
    "label_columns = (\n",
    "    pl.read_csv(Path(\"../temp/data/processed/labels.csv\")).to_series().to_list()\n",
    ")"
   ]
  },
  {
   "cell_type": "code",
   "execution_count": 3,
   "id": "ed61844b",
   "metadata": {},
   "outputs": [
    {
     "name": "stderr",
     "output_type": "stream",
     "text": [
      "\u001b[96m[DEBUG]\t2025-10-14 18:29:18,761 - Checking for label cache at: ../temp/data/interim/labels_cache.parquet\u001b[0m\n",
      "\u001b[92m[INFO]\t2025-10-14 18:29:18,771 - Loaded labels from cache (aligned to label_columns): ../temp/data/interim/labels_cache.parquet\u001b[0m\n"
     ]
    }
   ],
   "source": [
    "dataset = MultiLabelClassificationDataset(\n",
    "    CombinationSource(\n",
    "        [\n",
    "            TabularSequenceSource(\n",
    "                source=Path(\"../temp/data/processed/card_amr.parquet\")\n",
    "            ),\n",
    "            FastaSliceSource(\n",
    "                directory=Path(\"../temp/data/external/sequences\"),\n",
    "                metadata=Path(\"../temp/data/processed/non_amr_genes_10000.parquet\"),\n",
    "                key_column=\"genomic_nucleotide_accession.version\",\n",
    "                start_column=\"start_position_on_the_genomic_accession\",\n",
    "                end_column=\"end_position_on_the_genomic_accession\",\n",
    "                orientation_column=\"orientation\",\n",
    "            ),\n",
    "        ]\n",
    "    ),\n",
    "    Dnabert2Tokenizer(),\n",
    "    sequence_column=\"sequence\",\n",
    "    label_columns=label_columns,\n",
    "    maximum_sequence_length=512,\n",
    "    augumentation=CombinationTechnique(\n",
    "        [\n",
    "            RandomMutation(),\n",
    "            InsertionDeletion(),\n",
    "            ReverseComplement(0.5),\n",
    "        ]\n",
    "    ),\n",
    ")\n",
    "\n",
    "metric_dataset = MultilabelOfflineTripletDataset(\n",
    "    base_dataset=dataset, label_cache=\"../temp/data/interim/labels_cache.parquet\"\n",
    ")"
   ]
  },
  {
   "cell_type": "code",
   "execution_count": 4,
   "id": "91d6fd7d",
   "metadata": {},
   "outputs": [
    {
     "name": "stderr",
     "output_type": "stream",
     "text": [
      "C:\\Users\\joelj\\.cache\\huggingface\\modules\\transformers_modules\\zhihan1996\\DNABERT_hyphen_2_hyphen_117M\\7bce263b15377fc15361f52cfab88f8b586abda0\\bert_layers.py:126: UserWarning: Unable to import Triton; defaulting MosaicBERT attention implementation to pytorch (this will reduce throughput when using this model).\n",
      "  warnings.warn(\n",
      "Some weights of BertModel were not initialized from the model checkpoint at zhihan1996/DNABERT-2-117M and are newly initialized: ['pooler.dense.bias', 'pooler.dense.weight']\n",
      "You should probably TRAIN this model on a down-stream task to be able to use it for predictions and inference.\n"
     ]
    }
   ],
   "source": [
    "from tarp.config import Dnabert2Config\n",
    "from tarp.model.backbone.pretrained.dnabert2 import FrozenDnabert2Encoder\n",
    "\n",
    "encoder = FrozenDnabert2Encoder(Dnabert2Config().hidden_dimension)\n",
    "\n",
    "classification_model = ClassificationModel(\n",
    "    encoder=encoder,\n",
    "    number_of_classes=len(label_columns),\n",
    ")\n",
    "\n",
    "classification_model.load_state_dict(\n",
    "    torch.load(\"../temp/checkpoints/FrozenDnabert2Encoder_20251014_132302.pt\")\n",
    ")\n",
    "\n",
    "# Get the encoder part of the model\n",
    "encoder: FrozenDnabert2Encoder = classification_model.encoder"
   ]
  },
  {
   "cell_type": "code",
   "execution_count": 5,
   "id": "cee7144e",
   "metadata": {},
   "outputs": [
    {
     "name": "stderr",
     "output_type": "stream",
     "text": [
      "100%|██████████| 513/513 [04:33<00:00,  1.87it/s]\n"
     ]
    }
   ],
   "source": [
    "# Apply the model to the dataset to get the embeddings\n",
    "from tqdm.auto import tqdm\n",
    "\n",
    "# Preallocate numpy array for all embeddings\n",
    "num_samples = len(dataset)\n",
    "batch_size = 32\n",
    "embedding_dim = encoder.encoding_size  # Output dimension of encoder.encode\n",
    "embeddings = np.empty((num_samples, embedding_dim), dtype=np.float32)\n",
    "\n",
    "DEVICE = torch.device(\"cuda\" if torch.cuda.is_available() else \"cpu\")\n",
    "encoder.to(DEVICE)\n",
    "\n",
    "dataloader = DataLoader(dataset, batch_size=batch_size, shuffle=False)\n",
    "start_idx = 0\n",
    "encoder.eval()\n",
    "with torch.no_grad():\n",
    "    for batch in tqdm(dataloader):\n",
    "        input_ids = batch[\"sequence\"].to(DEVICE)\n",
    "        attention_mask = batch[\"attention_mask\"].to(DEVICE)\n",
    "        batch_embeddings = encoder.encode(input_ids, attention_mask)\n",
    "        batch_size_actual = batch_embeddings.shape[0]\n",
    "        embeddings[start_idx:start_idx + batch_size_actual] = batch_embeddings.cpu().numpy()\n",
    "        start_idx += batch_size_actual"
   ]
  },
  {
   "cell_type": "code",
   "execution_count": 6,
   "id": "a6870838",
   "metadata": {},
   "outputs": [
    {
     "name": "stdout",
     "output_type": "stream",
     "text": [
      "Embeddings shape: (16392, 768)\n"
     ]
    }
   ],
   "source": [
    "# Print the shape of the embeddings\n",
    "print(\"Embeddings shape:\", embeddings.shape)"
   ]
  },
  {
   "cell_type": "code",
   "execution_count": 7,
   "id": "8a0f2021",
   "metadata": {},
   "outputs": [
    {
     "name": "stdout",
     "output_type": "stream",
     "text": [
      "Train embeddings shape: (13113, 768)\n",
      "Test embeddings shape: (3279, 768)\n"
     ]
    }
   ],
   "source": [
    "# Split the dataset into train and test sets\n",
    "train_size = int(0.8 * len(dataset))\n",
    "train_embeddings = embeddings[:train_size]\n",
    "test_embeddings = embeddings[train_size:]\n",
    "\n",
    "print(\"Train embeddings shape:\", train_embeddings.shape)\n",
    "print(\"Test embeddings shape:\", test_embeddings.shape)\n"
   ]
  },
  {
   "cell_type": "code",
   "execution_count": 8,
   "id": "a473598c",
   "metadata": {},
   "outputs": [],
   "source": [
    "# KNN search\n",
    "from sklearn.neighbors import KNeighborsClassifier\n",
    "\n",
    "knn = KNeighborsClassifier(n_neighbors=5, metric='cosine')\n",
    "\n",
    "knn.fit(train_embeddings, [\n",
    "    dataset[i]['labels'].numpy() for i in range(train_size)\n",
    "])\n",
    "\n",
    "# Classify test set\n",
    "predictions = knn.predict(test_embeddings)\n",
    "\n"
   ]
  },
  {
   "cell_type": "code",
   "execution_count": 9,
   "id": "b09767a5",
   "metadata": {},
   "outputs": [
    {
     "name": "stdout",
     "output_type": "stream",
     "text": [
      "                                           precision    recall  f1-score   support\n",
      "\n",
      "      disinfecting agents and antiseptics       0.00      0.00      0.00         0\n",
      "                            glycylcycline       0.00      0.00      0.00         0\n",
      "                     rifamycin antibiotic       0.00      0.00      0.00         0\n",
      "                     macrolide antibiotic       0.00      0.00      0.00         0\n",
      "                 streptogramin antibiotic       0.00      0.00      0.00         0\n",
      "                      pyrazine antibiotic       0.00      0.00      0.00         0\n",
      "                  tetracycline antibiotic       0.00      0.00      0.00         0\n",
      "             bicyclomycin-like antibiotic       0.00      0.00      0.00         0\n",
      "                isoniazid-like antibiotic       0.00      0.00      0.00         0\n",
      "                nitroimidazole antibiotic       0.00      0.00      0.00         0\n",
      "                  orthosomycin antibiotic       0.00      0.00      0.00         0\n",
      "                    nitrofuran antibiotic       0.00      0.00      0.00         0\n",
      "                               carbapenem       0.00      0.00      0.00         0\n",
      "               pactamycin-like antibiotic       0.00      0.00      0.00         0\n",
      "                    moenomycin antibiotic       0.00      0.00      0.00         0\n",
      "              cycloserine-like antibiotic       0.00      0.00      0.00         0\n",
      "                            cephalosporin       0.00      0.00      0.00         0\n",
      "             diaminopyrimidine antibiotic       0.00      0.00      0.00         0\n",
      "               fluoroquinolone antibiotic       0.00      0.00      0.00         0\n",
      "antibiotic without defined classification       0.00      0.00      0.00         0\n",
      "               phosphonic acid antibiotic       0.00      0.00      0.00         0\n",
      "                 pleuromutilin antibiotic       0.00      0.00      0.00         0\n",
      "                     elfamycin antibiotic       0.00      0.00      0.00         0\n",
      "                    nucleoside antibiotic       0.00      0.00      0.00         0\n",
      "                       peptide antibiotic       0.00      0.00      0.00         0\n",
      "                      phenicol antibiotic       0.00      0.00      0.00         0\n",
      "               streptogramin A antibiotic       0.00      0.00      0.00         0\n",
      "                 aminocoumarin antibiotic       0.00      0.00      0.00         0\n",
      "               streptogramin B antibiotic       0.00      0.00      0.00         0\n",
      "                   sulfonamide antibiotic       0.00      0.00      0.00         0\n",
      "                      fusidane antibiotic       0.00      0.00      0.00         0\n",
      "             zoliflodacin-like antibiotic       0.00      0.00      0.00         0\n",
      "                       sulfone antibiotic       0.00      0.00      0.00         0\n",
      "             thiosemicarbazone antibiotic       0.00      0.00      0.00         0\n",
      "                  glycopeptide antibiotic       0.00      0.00      0.00         0\n",
      "                 oxazolidinone antibiotic       0.00      0.00      0.00         0\n",
      "                aminoglycoside antibiotic       0.00      0.00      0.00         0\n",
      "                     thioamide antibiotic       0.00      0.00      0.00         0\n",
      "                salicylic acid antibiotic       0.00      0.00      0.00         0\n",
      "                mupirocin-like antibiotic       0.00      0.00      0.00         0\n",
      "               diarylquinoline antibiotic       0.00      0.00      0.00         0\n",
      "                   penicillin beta-lactam       0.00      0.00      0.00         0\n",
      "           antibacterial free fatty acids       0.00      0.00      0.00         0\n",
      "                   lincosamide antibiotic       0.00      0.00      0.00         0\n",
      "                               monobactam       0.00      0.00      0.00         0\n",
      "                     polyamine antibiotic       0.00      0.00      0.00         0\n",
      "                                  non-AMR       1.00      0.12      0.21      3279\n",
      "\n",
      "                                micro avg       0.14      0.12      0.13      3279\n",
      "                                macro avg       0.02      0.00      0.00      3279\n",
      "                             weighted avg       1.00      0.12      0.21      3279\n",
      "                              samples avg       0.12      0.12      0.12      3279\n",
      "\n"
     ]
    }
   ],
   "source": [
    "# Classification report\n",
    "from sklearn.metrics import classification_report\n",
    "\n",
    "print(classification_report(\n",
    "    [dataset[i + train_size]['labels'].numpy() for i in range(len(test_embeddings))],\n",
    "    predictions,\n",
    "    zero_division=0,\n",
    "    target_names=label_columns\n",
    "))"
   ]
  },
  {
   "cell_type": "code",
   "execution_count": 10,
   "id": "8b4c66a2",
   "metadata": {},
   "outputs": [],
   "source": [
    "# %%\n",
    "import plotly.express as px\n",
    "\n",
    "from sklearn.manifold import TSNE\n",
    "\n",
    "# Run t-SNE on the embeddings\n",
    "tsne = TSNE(n_components=2, random_state=102, perplexity=30)\n",
    "train_embeddings_2d = tsne.fit_transform(train_embeddings)\n"
   ]
  },
  {
   "cell_type": "code",
   "execution_count": 11,
   "id": "f7696bdd",
   "metadata": {},
   "outputs": [
    {
     "name": "stdout",
     "output_type": "stream",
     "text": [
      "Train labels shape: (13113, 47)\n"
     ]
    }
   ],
   "source": [
    "from torch.utils.data import DataLoader\n",
    "\n",
    "# Collect labels for the training split\n",
    "labels = []\n",
    "dataloader_labels = DataLoader(dataset, batch_size=32, shuffle=False)\n",
    "\n",
    "for i, batch in enumerate(dataloader_labels):\n",
    "    if i * 32 >= train_size:  # stop after train split\n",
    "        break\n",
    "    labels.append(batch[\"labels\"].numpy())\n",
    "\n",
    "train_labels = np.vstack(labels)[:train_size]  # shape (N, num_labels)\n",
    "print(\"Train labels shape:\", train_labels.shape)\n",
    "\n",
    "# Convert multilabel → single label for visualization\n",
    "train_labels_simple = train_labels.argmax(axis=1)"
   ]
  },
  {
   "cell_type": "code",
   "execution_count": null,
   "id": "f5769465",
   "metadata": {},
   "outputs": [
    {
     "data": {
      "application/vnd.plotly.v1+json": {
       "config": {
        "plotlyServerURL": "https://plot.ly"
       },
       "data": [
        {
         "hovertemplate": "Gene family=carbapenem<br>t-SNE dim 1=%{x}<br>t-SNE dim 2=%{y}<extra></extra>",
         "legendgroup": "carbapenem",
         "marker": {
          "color": "#636efa",
          "opacity": 0.7,
          "symbol": "circle"
         },
         "mode": "markers",
         "name": "carbapenem",
         "showlegend": true,
         "type": "scattergl",
         "x": {
          "bdata": "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",
          "dtype": "f4"
         },
         "xaxis": "x",
         "y": {
          "bdata": "IFGgwbV9e0HxfUnCAjmswTw7a8KWBJLB4JtjQYQfU8IPBOxB1h/WwfPz1kBa+DbC9GyiwXwgoMFqjedBGtFtQV29lMFQX47BfNDUQbNohsJgpZs/JH62wd0rAkCd9aXBpKkXQrBKJsHmSFjCH7HiQVjWn8GFlxfBzXFcwZ6dFkKRPR1CvQ8bQpJrU8IaxsHBJYLvwVTXvcEmZVTCbeIIQnM44sFqmwZCSh5MwrAjgcDxbKnBSnHLwdvNaEGSXHI+jmAvwvArn8HCAnLCjdf6QTy5ZcJRj+RBzZtRwi9U5MF0MLY/5BIPwQ72WMIIhiTBCrqYwScBTsIoswHCZi8qwcF02sE8cf/B9QhrQQ3cIz9e+EJBzGztQDVK7kHmUCxCqVVPwmMdscHLyDTC/5ehwTkopsHJgylCGQdtwlg1gsJ6ItnBKFciQg7BgT7L8/7Bm7adwWpBzcEa8PVA/venwSKtKsHyo99BrcU/wrhYssFRHtbB5bUVQm1it0GFoVVAjg3KvrJsL8HAVdHBbFT9wYyUasIMghxB83khwe2Ns8FTSGnC27kSwck21UEUlbDBkpq1wX6PaMAJHr/Bm8zUweeRT8KAeI1BYmwsQjMTWEFHDqPAJw85wm/uF0LZLEvC9BcWQgKZu0EW6cHB3ZwywrDmC8BKv25AR4QTQkgwS8IQkjRC50nfPwmNu8Dp213CrPswQu4FLkKWXU/ApmKpPyFYWsJOxiJA35anQJIC5sHdHQ3BxlcaQtr9v8GzcBhCxxRiQREVkUEimf7B7kIdQvWNTML5Yj7B7+RUwToSskAWmGJBzNVswg78VcIm7srAUdCGwj2NikAM2DLCE7WzwUfHIMGT9ZDBiyJywmDGSEF9xsTBaKviwRq1jcGJbB3B9tKPwaE00MGY945Bv/qPwZy6JUJPfRPB/qLSwWvXhsJqUy7C4A5Qwmb+jMHg7ZvB7uHyvy6b7EHxB4TBcnX3PzYR58EorfXBKa58QUlCF0KDqU7CuzMyweQ2hkGiMoPCeGbpwepy0kE6nRjAzGPLwaDzD0B+8SxCgE3kwVgBFsEZGUrC7A/PQcjxe8FjSx3Biju4wMGwqsF95q1A9GNOwjWNRMJHYCFCYM85wev9MkJR6t7BAmuSwIoFLkLXc+TBWJGoPmgpO0IZP71BANK7QbOxs8HPF6e9zgbBwRm1vECdm5/BK8aQP5RtN8J6nqPB+s+ewWL/mkAEKJHB18JhwdjC38GVA9nBoTzmQfsMQMINMsHA2YH6v6FsXsJhTh7BwS83wh4yK0LLXUvCjgwNwQj0aUFtj0nCx7Y8wqPkV0HzbrfBQX1nwQCTr8FA2FzCNqKtQH2grcFwYKtBLMFcwvRjHEIxmtXANfM+wHfhvMFHuEbBXU9mwEC6icJ1c0jCNBFUwiW/VkGNi2vCaoYqQsdsS8KghlHCDXKOQWGPmkGzeNfB3ksWQuFdvMBLTzzCloSzQUjYm8D6R8vBeQQ4wt8aaMJyolbCY4lJwQ6GY8IJhzJBCG/tQIywMUFzuidCOQSDQWLwU8ID2kXCTjGUwD89/UGdbjPC8MQZQsY2KkLSgVVBkk5vQc0ZAsLkhLxBR+a4wXCrU8KFwQ9Aw1/ewf90ssEP44u/hgE/wr5tWsLr90dBVmOmwVe8LkCdnRJC0B07woHog8I4bMK9YdpEwusyTsKtyxpCyh3FPQ+mAkIOzILCEVvawXh0lL5eRFA/MrI0QRzktMFUizLClLuTQCdbhkGDZYXC7SkewdJYJUJBj/hBwFpcwex/NcKmylDCdKIQQVVTIUKqYd7BI9NUwsX1bMIhDGPCzChzQQchK0JiWbjBwMDeQSkxqUCk5gLBRtekP+D+2MGTVcBAeDhYQTOUHEJRL8HBaZnRQRkt3MGO4trBHyGSQL93ykHeOUdBp5OdwXtnT8L5cZrB4hWhwaZtGkKqzmnCWFg/wYMhV8JFx23CvNgZQicmN8E6I+bBy44ZQoTxTMFsc0zCz/vawRU110E/wOg/x1+WQSNKzEFVQChCRb5FwXERqMHLe4lBAO47wiajcMJtyCzB07vbwaYNvUHItjXCytpBwqMjT8KKJoXBLLWGwtBfj8Egsa1BVgbCwPcNPsIxwRVCbNJUwgl0IEJknZHBhANcwkJaG0If8t/BcoySwAHKysFZEDBBiCA2wQQSXcLpYLjBU1yrwfZylsHjW5jBIBKgwRfMlcEcV1fCWptNwi9FhcL2ae1BsO1QwabfXcIUSCBCIPQuwLTS2UHct1/COXHlwVL8rz+WX8/BuE66QPb/PcIMx7zBD0YbwqCYcMIzO7nBVJXbwfTM2cD6n67BXLfGQLPlT8IkCNbBVpS+wR7umsFs1pnBE97DP/jtXcIToxvAA4OsQJ/ZlcFeiYLCDRviwYNqocFkapu+9enYwbCrT8IV/ri/Afy0wQuBPsLgjkrCyBD3wRRAucFnKYXCaiD/QcMbMcG7Yq9ANxhCwj0ImUBFjFVBBfnjwZn5VMJiqg9CcwCWwXPNycFYdjrCis6fwTlXtcHJwthBxcTev1tvlcJXj6TBNvTUQa4ms8GhlBdCDGSGwlItHkJBu5jCkpS/wUjWpcCsjxnBb37fQGCeZMIQktzB0i7qQelcacLKEdnBijzXwZCy3cE5smrCdI6swTVBUMLh+I5B/bWGwtpanMFHy3g/BPuowf3H2UGBblTCNJtawqjTgsEfzF7CG3OgwVE8yMHmF4xBml41Px+C6D+IrKfBW9AtwR1GacL0rG1B6TNxwVT3kcGe7LxAk2sVwatR7sHdwdlBF6uewSIoZ8Ks7uFBqGudwRKdVcKE2a7BTUhSwn3P4kFa1YPCPY4rwuDu0cFJfkTBWyNswhTpvMFMHtPBha/OwX/8KcIBcljCQlvvv0c6SsIFNOfBCavrQSWIRMLqW3lBPBzXwUxz/cHVnaDB0eo+whswpsFsw/zBblNAwofqm8EYbz7CdmYsQpJJYkF89zrC1QBvwrJoMsJSrIvATH5JwgoJV0HiFujBOSq8wS56JULpri1C49y3QN4+RMFRo7XBKyCfwVrQtcFFeDzC79iiwQD4V8LpNVfCg83pQQSpO8LskSzCcfGGwbUIncG6VD/ChzVowlFYG73TyRNALa8/wh9L28EIPVLC9qJWwV8aKUJs5cNBkMw3wj0DScLoalDBWNO5wbETPMLnQyrB8MjrwYb73MGX6TJCGzjQwfAQW0FGvJJB63mRviinQMEokiFCF/vjQXz4IsGELn9Bnb3zwcyaS8LxBNZAaGSzwYP2TMLC++pBc3WUwQe6ZsIata3BlxLNwdUtXsKvORrButzswFuQN0Cz9WzCRLFgwsaYRMLUrmzCkAZZQS80VEL1Ce5BifL9QTqoQsLPfPbBbjzbP1KQScII4zvCYLABQgt96sFd7DFCUT7vQVz64kFglmzCFJdKv+FcIUEtkWtB0/EwQnE4c8DrrhnBXVb3PureAMLgwEnCuKs8wo3udcEcKcXBOKDRwSHzbsJ0f6nBCZwjQsGuUcLpv6LBkwm6wXzO0MEOK03AlY7/wS7WPcJ8bMTB8OElQnkxJcHt/1/CXFmNwb9znMFAs4hB3ja3wUKDJcHNAYTCm+4Wwa5/zL9JA9PBKiaZwTZTncFRDNHBMq90P0rlusBapTnCsNc3wp86Q8JzWULB8j+fwXJUrMEQ8YPBI3u/wQnE7kGLEC5C2FkcQskn0MDRxFDBjZ1OwZ09gcGH4+xBi7vsv14iT8J1PVxBfNHtQGh3w8GBjJzApHaVwmhFCMG9tjJBEnNJwhoLX8JfsdnBFOfdQe1/cEG9tjjCQPptwiqc1cGcTyo/WypfwSfj3T/dfzlAAvX5QZV8NEISI5/BXntawh5mlT/B+JnACEFtwV0WLkLPdD7CTcqawaoam8GmmNLB5H/7wcG1usG/xuFBn9pKwiByVcKh8tHBq9oJvoHLt8HIYzBCxC9hQcUTmkHvrjrCPpVmwoyHxsF+iYxBncrNQUSbHUIaejzCi9SCwhlS5kC3gOdBfB4xwphqg8FRV9rBjDNqwj3g1kDEj5XBgTU5wg38vMH7ymvCuC5WQfRW38F/Sa1B8w8/woqGhsIDjdbB73lGQZjh48Cq34bBEEsZQjRE7MGQo8/BgBkUwI1W2cHUW7fBTypywiiO5MH2q8rAghS9wDt2JUL4J9dAkbLLwRzQlsHb3Nm/NqiDwnC8OcK637BB2uREwtaFUMKta5zBWVyiwXzWqkH3cilCuthRwhh9QcJczjPCxwv5wcHKYz/5aSFCcqWHwXiNOsJpeznCu+H0QIIig8JUIJdBA5pswstvq8E3f29AKiC9wcqzWEFLex1CHjwVQlu21kDFueDBxx9WwnALAMIzVa5A/JUZQi72L0Llv91B7F+eQTV6bMCF80fCXlvBwK1u/8EBpRhCKOzHPasfVsIYsjJBkBBMwSl8H0CpMUTCmnZOwkiLA8DIz1VB5mk7wlqR3cEKtxjBiSpWQYNcusG9AEXCJdauwPwuJELIAGBB29SLQfx8w8HVWVTCw59EwqWpPcIANGPCLc0owVqQv8Fu/2HCMlzxPwJtusFL5ylCmzFjwXKo08G7vIPCegsnQl8h3kFc/j/CDhBKwjw3X0ErATrCnCTTwT4ic8HdWzzCv+PdQMlXX8G26dS/AirZwTResUEHOobCC9sgQkiLM8Ij+dXBa19SwmbfssFuWmrBLh1Mwv/HSMJ5sp3BiuYvQgMn8b8HtUXC7Y9fwnka2sGBjP1Brd6bwSFmH8E7RCtCIqhRwUmYnsEb2h9CxCSEwkYKD8JIiFVB0Oj+wCmKgUF/DJfBM+A8wob0XMEcugJCIcHzwWp6OD/b+CzBZLQEP+LwPsIab/PBfVM6wpVcdcGsHBY/s6g0ws3eJcDwD0zCvO2xQHVUK0AZCTzCi849wcaAHUINXNg/wNhSwqQq/L/cbjjCfC4YQhE0Er+xqzHC0v1fwfs3MEKz+zrCxXEpwTsgW8Kt3mjCd7oSQpZkuMEGgKfBGOK0QCliRsC7+S5BXG7rwZyG08EZtmnBlMhQPzeEtUE21jNCHwgdQnFEvsFH+lJBuEcgwpYVNsLazMjBxeRrwiwnNkDBVkvBTAI/wmYj5j/wGjnCm40NQvydAUIKblnC8olQwuoNBcD7IE/CjhXbwYx1rcFE/5fBV3s7wn+qYUGGai1BvnrYvlBXScKjX7vBDIabwe4FN8JHThdC25Q5wrSkP8IiwgZC1BPfQFbq2kH3UoHC/JUxwWCbtMHzErFBicoeQmBwiMFC6a/BSiGxwapiskFQAZnBvY4bQtG7t8EGx1XCUrPPQITQHcFUWq7B7LhGwghQn8GHhpbAaY23wdyZmMFHBKDB12+iwTsuOcJ6XTBCKjWwwYy4CcLdYTLCHyxHwneZJMF7YYPBrWylwCMtH0KQyjNCN+YdwDZVB8FD9M/BlKO7QDX4dMEO3TlCZ9xJwuLQRsKOfJfBskCMwfcCGME8fcLBjXZcwqc+O8Ia52bBuHVOwrh5XME3b/DB7BVmwg4MHEJX2lPC5xU4wnii7kEudSHByB6MwoOKhsKLVW/ChebtPWDcNELQaRzAxlZYwuhXfMFwOtTBn3JHwVvGSsJ5ZAjBSloXQnTNccGDbVXCDjVKwWS4EEFEFsY9HjeIPsoxUsK/BozAbeBPwmM85z/zqiJC/UqbwWbD1EBq/ULCL1hOwpagtsFikO1Bh6clQk2QIsE74VVBxslZwRmTksGnP6TBjmeGwvyvY8KBcunBfivQwSj5UcHhYBLA5HuLwfxZ0kFEGBdC5uiIwh2I98HURrHBKkmPP348+0EtcG3C5VWjwUfKN8Kz/9TBddm8Qfzf2cGde5HB8R7iwXxp57+2IpjBMy5twevktkBkxmjC2Wt1wSgxKsCkVuvB8/IYQnRikr6RsRNAkMYBwi7cuMHYFfRA2QMYQjoKx8Gpp//B6hUaQnEIq8FGn0DCEqHnv/x2ocFJwHdBqmZIwtoT5sGF+HpBJvWxwf9uGEJWqYDBF5VswtDfa8Iw7WXAEMZbQUrwssA+zlPCDvqLwIbvnsEXV1bCvpvQwStnJELik1jCN/ezQRuvUsIqKN7B7/vZwZ8rv8Hb37vB611Cwt+FZ0Hdm0TCeSZywrIG+cEsNz3CJpS4QSm24cGenEQ/YpXswRoC58GU5tvBsv1UwjeWUsK4VpxAY2ubwe0cwsBzNj3CGuskQmrLMMHlqhdCMJ0vQWHd4sGKDAHCaQQdwdhl3MHYTNI+/qhEwpfADELAH4XBr9aEwo/tVcJ/kCK/9SlYwlp74sFJ6XHCQO0hQvdFqsGj158/t8/AwW7k2sH2jQZAgQybwUNPysF/v+TBuNhkwhTezMELWpvBg2QWQmUzYsI7p9nBc4YaQVRQVsKrKr7B7fw+wvcGRMI4h0Y/Xu8xwfqBJT8Bc9C/5Jxqwjl5E8EVX+fBlg7EwQY8pMEc9xxC2Lurv6f1nMGElGZB/h8fQtnkdkEhJTNBjudQwlCrGMLGU4PCKbSQwfK/IkJxZEnCz20wQv0FMsEqD5bBmnpYQUYz28FfaorCtMRJwoYorcFstEXCG/BNwiKYscGn+TPCvu9uQZ8v2sGen6TAgFxtPx0caEHq1VrBhIJqwspwjcKpuHtB9YbRwRAGA0K/byzBPYwbwYCsJMG79j7CWjs8wZD7mD9JMZXB4uJEwSdNkMHBdiTBM9u0wZcTucFOkj/CVkhNwnYvQsIXIpLBvDqdwZCSIEIQ+kHCG9Q9wp+2K0IPy9dAX96+wdhqt0B5Z9lBwQlTwtrvPsKnsobCIWPewTmVZML1bjrChVYLQsUwDsKJQDfBKgeiwfSp1MEHuK/BBwLlwROGLMGQeanBsoNuwuk0Q8KsrwZCIgPYwaQGTcKqd27CCfyDwqfwi8L9W+tBwbX/wb7DhsIGVdPBjR2CQbGIi8KdWCBCNDY5wvm0hsIeaRxC3C76Qfne5kEgdKPBAUA8wm/53T6lU8fBJ48pQvQb/UH6S/Y+8NY1QlOVBD/l1E7CVtYywVwM/kFdL5BBWZSkwcdmlMFeTUTCpamLwgM74sFK5oDC8JTGwbLTsUADQz2+AUcyQaBOqcHodjDCWa8SQtcbisGVtMTB0DxLwixkP8ERbJvB3qBdwk2OJcBnCVVBqO4qQlisMEAdqM3BsrOgwRkrQcJk6mvCWb6HwePd2cGxzoE/e4TbwZyB8MFUyhdC7/Q/weGrQMJc3zDCbUNkwnAUL8FtCTvCkIHpQbYEsL+cCS2+r0SUP2/DDkIoYdHB47hRwd4A2sGtfdPBLffowbwuM8KKFBBBLJw7wrKONkBSTYJBWOpTwTqSDkJhTVbCGpWkwFNFAsCH2srBZ9u/wVItXcIEipXBWugXQisD+sEk6MlAQCzMwddFn8FOJUjCn11qvywhIsGuu8bBQGLcwRqJoMHKboTCDeF+QWoxnsH2wa5AEEMBwI2Tpz/HQ0E/U40WQpnPlkAv+mfC4WhgwtG5k7+yhBZCoqJUwf+qIUKJwMXByDkeQnbuw8GRqbU/1KIkwbn22sHirTzCs1y8wf3ciMJu1bPBaPYEv6omukG+J6TBekCywZjIGUL3MOTBf++7wS1/W8KyAJbBsKxWQTJozMHp5qLAp7ssQiLM70DuwqpBELFwP5LvusFL/izC9JfZwcApZ8JIG6TBHt/FwXrFRsL7VZ7BMJyMwm+Uj0EHX6rBoCJuwa2wG0JPht1B2YamwdMiPMK/j2fC4/aZwa9vVcJIkyTCxpFuwqDARsJRP9HB9VsPPiLErcBnzqnBKkIlwCsEbUGjdILC5FgaQlCcJkIOvL/BCPUPwRs3hMKw3mlAfc/VwcK5/sFdFjfCYa5OwoKJisHt/kPCWJTbwbeFMUHp4+fB96j1wc1otMFaxNjBemCgweFoyMAfZQFAUBxEwgxME8G5/bpBtT1UwvbeMkHNLZDAZSkxQXrZysHE+m/C77xIwlYGIcF8w6m/4MIiwUfeLEKPjW7B4YLrPzBlScKaDjVAHZvRwV0qR8JUnFPC4mXqQY54gsJEvTXCKjmJwqjUksAfHVbCPRrGv4AR38HxqN5B5m4fwQejbMKgP93B6CeYwbzpo77NUINBFwqBQZLBoMHBuUbBSQXKwVF4nMGavy/BmiPiQQyngsL1gUzCIhI2wYvGkEHP14rCWIC8wVcixcFlBPfARqqcwZ/iJcAy6ynCPHOKPTeNJkJaEoHA+7EdwcwFbsBRPejBWUqqwTfVaMLl/I5BkyZHwkn+dcEGYkDCfY5Twlm9UMK8SAdCk5LJwS+WZsLGW4PBq653Qceg6TwvCjfCepWawQ9L0sHLzDzCy1/2wYE1L0Lk0yRCoTfbwbRqO8IaCJBAmN6KwU+0T8J+v1bC3AlmwjFZYMLcEzRCMFqlPmffn8EvwUDC/5/YQdrxYcGeghRAmx3ZQVd1FULqMxJCzfyoP0pX8MDueD/CO2lhwVNDuMAeMrDAxjjjQQRfl8AG7qLBwsJewsLGnMFlL48/O+3owff34EFeVC1Ce2lswsuE3b8tMUrCRgPcwWAjX8HPTbDBR+3ywXKsOUDFDpQ/0C+bwIhGVMLF5ILCvQvuQU8GqMAAJ6rB7O8eQrrWlD6SHh5CRe0ZQiS0H8EmM8jBIQqWQHt7VMLT6q0/wuTqQbUVGkKcEjBCi+q0wfQ8LkKPlT7BQFxcwmHsIcCxzxVCyMozQlBNi8KMm/7BFrakwb/SCEKl9QBA6tRJwkR34EDmKFLBJa/QwfoY6cGU1SFAPRw5QriaKkJCPuM9/VjbwV1bvMHxA1jBFVQ3whe0GUJxWlzC+TkaQpu2bcJXF1vCZI/qQYDcAUCi+hhC39nrwbBRs8HkufPBYsAKvsalwMHSWBDBm9RcQX/OZsJwwaPBnSQWQlZCp8HHBJXAPd22wEabJsF2NmXCLTMHwPjZg0FZ7//BYNujwesNJ0IyO5TBwloaQgkMKEEhqoPCDztIwovsk8CKtNfBtxaiwTGYhsKWiFjBxmObwVpWukBFJjzCChuQwa8GT8IkDUXCh5wqwS9HoMEvRmHCqIkRwfmhQsGrTeRBZijqwSQTb8LwjKHAJRyLwlUegsEJ4yNCupe4wak+3MEbs0rCArziQIxiR8GNlzbCa13UQJ1ilcHn9SZCZlrHwQPLWEHAQ18+XGOGwsR7U8Ar9NzBk/8GwLVw3cEOZGpB3cyrQef+ocGx2gBCj9rYwejglUF630bC/uHVwQyv4MGIzqfBuGfWwQFzY8HEzmzC/AzswRpvF0Kr49HB1ulZwu94ksC9exnCuLkwQQOg3kGxZFXBZkDVQfVAU8LUN9LBbYpWwudIz0GEITFCmcyywV8EAkLM0cDBK1dkwgmWaMJYecpBWxYbQnqCpMLlMzJCXDrQwAw8IkJFVNvBH/bawcZ/acDUXWvCAYwowZ/5A8KFNi9CltfkwYRpwMCy78rBOIupQDRu3EFBRUDC5iknQkbyi8I7ilNBY25JwpBCQsEtOHDBXMx2QdMZgEFNvcHBQ+HVwT70a8JFVXLCZlBSwfxmAcKv8lbCdrGGwsm/6r8Di9nBJZCZwRuLZcKyGCFCW7IOwep/OsJw4kBAfwQDwm6nCsLqHWVBOTxswnCd/cGDJmhBk4shQg6sn8FivkTCSXZOwpyeTT8IXAFB0rFNwqPs1sEMdNtBCaeiwbWWRMIdIf/BuZi8wWHDuT9FWJnBzW5xwrZFs8GB/0PCpZd6QB4FDsHg+TBC/DQ7wiPEbsL8v71B/ljxQQUqy8G0SuPBwwcdQj2k7UEbSLXBUU1LwjH9UMKkFTvC+6SuwVD7HUK2N9pBo/+nwTJLg8KrDHBBa0JMwhI7uEEjXSi/FrxywbakFkJl+LrB9tbsQRFdxcHKPL/BgtJqwomsNMJwBttBM63JQG2M40Fb7jlBYCXVwdWyVcJuuClCzXDlwd/DUcLTDa7Cr348woBKOsJyxBC9arIHQIj1TsLTu9nB6Kw3QgUS68FjTkrCQ4y+wW1v6UEqu8vB3+OqQJp+I0KKox9C8LcjwNszOz8c+GrBfBJuwqQ3vsHOUhTBaU5Mwnj3G0Jup17CGYHbwfdMOcLprYbCbXGnwf1egz8S8aHBp9NdwgDPScKzhZPAs7rgwUfZacKbj4vCyuVfQVXvVMJGLAjC0/Ywwf5NlT/ZJtHBY00lQhau2MFt/ErCe1uwwRIHYMJYAkvCCBOlP+rGLEKTrzPC0NHRwRRzKkJvg/lB0c1awhrjr8GRhM7Bxm8CwkLJ3UGGmTvAH8WwwVxPUMHklbxApzVbPxOiFkKwOWE/kiNQwgMH8UHIJfrBj0zqQduvzcF6YZjB1b6KwRt9XMHiZaLBt4i7QEhkU8LcDfjBNnNrwYRPlsEllGjCdWfkwTCPjMJALyVCAsUSQtzvPMIu6GBBKhyMwgfIrMF4utXBHAQ4wi2mPcGCNlI/lGjewTMelcE6zO1BxuI1wm3xpcHQ/qfB9rYkQkI/0MFhBlvCzUqvQfkqJ8FslJrBTPGCwXPj1MEQ5E3CczeDwqfW1cDCAEPCTHOawc0O9UGGFmTCGe+8webSHEJucyRAsuL9wSLuWcLzNcrAj2Viwm2p48GvaTDBCSe7QPtcRMKVDUHCazY8wsn9FkKTV5TBjOo3wkhMCMFwSRxCxKlnwqgUBMJZLylC9rnnQYmVHUIQphVCpk+2QIsRScL0y0LCf2tUwvaX/cEPVBtC2DvCwOQqgkELpCLB+SLQwV/ejMH+7KTBa18MQDlRLkKL5dDBvMkvweqwy0BjJidCghKIwbGBQcJE7itC7LwnQiQb0sGbDdNB2ORGwv0pp8E0c/PBCV5DwmmvUMLK/cjAw+odQv2hNsK5CMfBzCOnQZ/lScJTaIPCGa6YwZyqbsK5+mXCldMjwDWb2sGDgDRC0gQBQkCC6MFr1ObBSUxxQQQFUcKLt5LBioZcQSqOzUHVACNCdARCwRYD6kGNNtnBNnSTwXB7zsE/WSdCvDUbwRPmp7x5pxHB5Sc5wnWGWsJ5u4LCD8rxPxrd0MBcj09BZOqKwn/p0cEWB6zBbtAcQgfTmT+JJJXBk4FOwpISuMF7N1HCS2IoweXYM8LGt/9BulucwaC8Fz9FGb3BH8M0Qrl5i8JjmLHBuEGfwZvlFUIxs3RB3ePCQYi6pT8SMEfChu2KwdOno8Ge0EzCbNpMwqEqbcJR487B0GzcwStGB0LjHdDBRi1GQqZD4UHb2erB5MX3QcpPD0E9/BhCTfdtwp7ql8JMEYzCRhK2wTQKHMF4UEDCnXYkQkw+zcEEBfpBOCVlwkeqaUL57SBAuXGxwaF7p8FjNjPBnbTpv7RJGEKdXDnCdxRQwAA1GEBd/PBBlygQwdDZlD0jQMfBXshiQaw4j8GRv7lB6uVTwhuk/0GLDjRCZkmqvm5P40GBp1bCDegnwYNOwcHTLuXAj6LcQFXldD8UGeXBTItPwmAyK0KVGtPBwQ80QjrMM8L9yNjBxm+pwTeWacLtTYnC0JVpQkKfusBMGjfCfX0ywYlPAMIvjYrCapBCwPjTEEDejzjBUwoXQqEOIEJwd3DC5gumwWfbi8GYPFbCFVwbQmswQ8JAntrBZyBpQsqZRMKWqE/AzWMgQpFwoMIoaxRCjBKiQBtikT+moHzBMKhZwoGVXcKC6UtAX7TTwahxrEDnVTFCuIiEwjpyPMIlbWTBcPCZQHn1rb/2FbO+CYU9wrbopMEDHWrC+xPpwe0KVL+3RGhB1Ae0warHHEDVlL7BSWkvQW75IMKH4hdCHVvgQdO9ocEk6SFCYMJ4P2JoZcJBqzW/6xBcQR1WT8IFymjCPEGjwYNAmkBw2N4/46hCwkiaisI4aaDBWdzcwfBgyMEPlzRC7a4jQhZ6IEKDAZNBMLQNPqOPXsKsRipCuPPqwYJvlsGAXK7BWZMRQbMtn8FOKEjA1248wkXIR8F/+uLBdRorwaAsUcLd2idC1R5OwgoRAb4HZGrCgByDwkxoy8EUE53Bn5TXwaowssFTCt9BD7McQsRFskEuWKxBmmLiQUEkzsGooUDCY+wNwQjDGMErbLnBsJ00wazMpsE6Wl/BGHg/wuGf1cF2Dac+LmzfwRoMHMJ1WNjBqUH5P2/WPz16Qc3BzJmcwNyS08GGO0nC9SW0QBipMEIsJ6HBnMLeQfo0ysHHK6PCVovXwB1BscE0nE3BAdkXwCN9VkEQoGDC6AVMwcWgN8JemwDAKSIfwIRaGkIx31vC1+dvwuU1VMHP0o0/+mwxwrsBIMEPSxpC6cOVQBoUn0BbCNbByHsnPiBtJEJD4UvCp3GbwWJ93MCzJEbBaY/RwOwbysAHF/pBXc83wpUZUMJwDDY/5eFjQZXorj/6t2XCgO/cwTwhOcE1cm3CzIFowvOU47/cgFjCziNEwtCxHMF3l1zCutDEQMMKUcIxpYjCpF9XQZkI0MHrhvpBd1CuwWB67kDqdDNCLXhfwTAnxMG7gCJCRaowwZU/F0LYwTJCazIiwAfuWcKm4jrC+U03wuCzhsLwvtDB8ysvQtNIcUENbSPBEqTQwfyzP8JoLjRC/uuWwYdrgsKFqAZAPS8SwUqmQcJv/0DC/3ebP52yO8J8oU3CIeFZP0zrnsH0WSxCJTY2wKAUGEKTPW7CqYBvwjJNbcKWsq/BQX6QwbX2d8FCr9pBblahwSz2LUIE5MHAXuP1wSBSoMHsXp3B0s2MQY6bbcF8JEDCBVP/wceVGkIPFutApFF/QWU4g8LUg9a/7OsGQjnM4sHwsxpCCCtSwvhIosElqjbCf4B0wVuy/8FNAypBWgZbwh5k3cFZ95BBWau0Qco5FkKqB87BS9RVwqz7XkH+9q7CJOJSwvwUTcKlapvBFHDkQULUZcJpIZnBpABjwlmwi8JP6mvCyN9uQazr30B1wEnC3sC3QVGaq8FiX4rCGrEtQl2RhsLC4GnCaHxOwmmW1z+sjWnC4uXgwZafNcJqKwHAULi5QIkU90HyoIPCW3qLwYoI30F5jhBBrCYhQnX4aEH/odDB+2m7Qb8ZOcLqmC/CkUhjwnqZJMGaKprB9WTVQYEB18GT1onBJOdhwnwnQMIItzDCW+fCwZZmg8LTaE7C7DacwZKSlb8A4lHCeYZrQdWe0MHe6GLAEOVdwp6mPcIGtD3CzbC0wRHA98HOByBCTjZrwTy8nsETwzvCMwNhQRaF3sEQKD7BKBubwVdoMEHSIznCWptGwjmMycBExp1By+Zewg+FakFsxZU/PJ1pQR9ZmsHYWYBB+x+DwsHm1cETKR1C2HArQpAyPsJv2xlC2nnIwZWDNUKujG5B/zLywQgip8EDuNTBRo4oPnDT10HdmYHC/LmnwWcbaMI7Wj/C1+kWQlqCTMJ0145BOq3XwQfOC8G6MiVBdItoQYB1QMIyh2bBg5zbwe7GScGvlGbCT8tzQZQ688FLsr3BjcTWQSSmz8GZ22RB52xFwkowDsAfOxfBIRaPwcR2bj3MmuXBhi0pQntfKsHxTxdCDwqIv8oZcMLcw7nB3LMvwkhSr8E5M65BN2CDwpMXlMETWNTB",
          "dtype": "f4"
         },
         "yaxis": "y"
        },
        {
         "hovertemplate": "Gene family=penicillin beta-lactam<br>t-SNE dim 1=%{x}<br>t-SNE dim 2=%{y}<extra></extra>",
         "legendgroup": "penicillin beta-lactam",
         "marker": {
          "color": "#EF553B",
          "opacity": 0.7,
          "symbol": "circle"
         },
         "mode": "markers",
         "name": "penicillin beta-lactam",
         "showlegend": true,
         "type": "scattergl",
         "x": {
          "bdata": "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",
          "dtype": "f4"
         },
         "xaxis": "x",
         "y": {
          "bdata": "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",
          "dtype": "f4"
         },
         "yaxis": "y"
        },
        {
         "hovertemplate": "Gene family=cephalosporin<br>t-SNE dim 1=%{x}<br>t-SNE dim 2=%{y}<extra></extra>",
         "legendgroup": "cephalosporin",
         "marker": {
          "color": "#00cc96",
          "opacity": 0.7,
          "symbol": "circle"
         },
         "mode": "markers",
         "name": "cephalosporin",
         "showlegend": true,
         "type": "scattergl",
         "x": {
          "bdata": "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",
          "dtype": "f4"
         },
         "xaxis": "x",
         "y": {
          "bdata": "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",
          "dtype": "f4"
         },
         "yaxis": "y"
        },
        {
         "hovertemplate": "Gene family=peptide antibiotic<br>t-SNE dim 1=%{x}<br>t-SNE dim 2=%{y}<extra></extra>",
         "legendgroup": "peptide antibiotic",
         "marker": {
          "color": "#ab63fa",
          "opacity": 0.7,
          "symbol": "circle"
         },
         "mode": "markers",
         "name": "peptide antibiotic",
         "showlegend": true,
         "type": "scattergl",
         "x": {
          "bdata": "rSTHQVRKX8A3ADdCqyg/wV9YR8EX0ofBepZ8wb1WQEIUwjZCuifLQSoiMkKkTjZCL1nZQCxHQUGi6DZC+eM+wbZEHMIQwYnBQ2R9wYahTcH3mE1BPEF9wYpAFT/urzJCpgcKQgv7lUJOzSJAHJU+wXmbykGTH79BcE+JwesFN0Jq6zzBGshAweJYN0IdIQpC9kF9wupWvEHyF1PBOdlRwaSFH0ILjspBLTnEQY/XBMK/mMlB9RDLwVv4d0KFZthBi1sLQoXoh8GnP0JC8QLqwX98iUIB1sNBvUGHwbFCFEKa8zZCq2J8wdswoEFrF/NBlP02QiFPwEE09BFC//SIwXQd60FsEqxBG0k4QUYON0JJjIlCbQeJwdMNi0Krnr9Bj7oBwulYLMLoW3HCcVsxwcNAPcGeyi/CrOU2Qlc3xkFeVg/CROhPQjPyVkJd9DVBd2UtwhBEM0LFsYjBtGvrwbxkEULBxtVBnSjGQRZZyEECsbxBQtw+wRimicGKrTzByUHIQcSixUF0LDdC1jFDQhQZekJaP2rBiVDCQcHHw0HWQD7BfkSEQSJvacGRVGrBrVg+wVJn8EE3D0/B6TGKQjjONkKDE2FBhB43Qo+NPcGctD7B8IsBwotLN0K6Sn3B/HJbQqXSOUFKXU/BB5U2QjBDiUIm08hBsJY9wQ0BykGg5bxBrEbKQRskiMHKdrvB15zHQeP9icF3RSLCNDXAQfrcikLEmU9CzedTwU2hMkKV9lDCh8yDwaNhHML0CPLABotRwe9QP8E1eolCkBJWwds5HsIlOSjArJ3RQRDDPUDwqz1COW4SQrfYX0EveYm/J4o3Qs6CQME1aDdCqxCIwaALCkIGKIPBKOw2QnREyUE976/ByGgyQrzpgUEWTTdCzmDLQeMi0MHWPMNB",
          "dtype": "f4"
         },
         "xaxis": "x",
         "y": {
          "bdata": "zUSFQZmfm8HF+MNBTrJ+wiyLRsIBZgvCPFK5wYba9UGbL8RBaPiIQSTB18FEQsRBn/qdwud3n8LTNMVB1hF/wkknw8F6SArC5XYEwibudsLU15bBIXK0wfGgKkK0b9FB0zsfwmPJ0sHSosxBTzR/wqmPiEGHnnVBahYKwmakxEGOon/CoJN+wsMlx0F+YB/CkpLNwTZlc0EKy3zCPQ19wn6SEULKP4hB3mSCQebvA8IbZodBv9aNQZbRwcFmuRrCgiJMQpZaC8JW3hvCbtNuwdrgq0Hk5iBCbl8MwpYlLULNUcZBx3m3wXzR58E3VVpCWxzFQQAGfUGKpKxBAdQJwvPgB0JZuINBH4Knwc1gyEFN/aVBPysKwkaDmEFSiHhBd8tMwqCZ1cGHTjTCcFeBwiWPf8LS81rC5uzGQbmwhUFbOcfBCK1swalwScJp3aTBp/IEwtGczUFDOAvCaCDFwQGNr0GS+JlB6j+DQTh5hkEPknNBVlV/wjnqCcKle3/ClNiFQf7whEER98tBt4w7wm28sMEkX8DBvFV+QajHgUEYT3/CpLPYQfkGwcGoecDB+Cx/wlSIJkFccH3CRzejQZJAw0HaY5bCAQ7GQZJbf8IjP3/ClbBtQm6hyUFDerTBPPupwaluqcGAjX3Cd9nCQcbcpkHAU4ZBkYd/wpuSiEG8xXJBRDeIQeUUC8KwRlbCRikLQuI5CcJxUzPC5sh7QaKzoEE1+zdC7MR8wgXRy0HDYp7BCC/Gwe2ga8KF1bHBv+t/wt1Ff8IWj6ZB0VR8ws2IXELwkB5Cs2RYQeyGKULDRSPCh8SrQTDUl8ILiqHCXrPMQTJFfsIBsclBP6kHwrRaH8LSTsXBNa3FQf8WiEGk67VB4nLHQXVX8ECBVshBKBaJQbw/QcJEKYFB",
          "dtype": "f4"
         },
         "yaxis": "y"
        },
        {
         "hovertemplate": "Gene family=fluoroquinolone antibiotic<br>t-SNE dim 1=%{x}<br>t-SNE dim 2=%{y}<extra></extra>",
         "legendgroup": "fluoroquinolone antibiotic",
         "marker": {
          "color": "#FFA15A",
          "opacity": 0.7,
          "symbol": "circle"
         },
         "mode": "markers",
         "name": "fluoroquinolone antibiotic",
         "showlegend": true,
         "type": "scattergl",
         "x": {
          "bdata": "0g4YwqwovsGM39JB9nfpQbt1HEIZFN5BCAEFQcZhNb4Vhuk+bk0zQvXVA0EORac/G7W5QQbq4EEQ5AvC74KgwTHXDkKU5GdC2oCdQBixer8p19NBUJ7cQYuoUL+mmtdBtLqIQcq830Gsz4nBc4JdQpbm10HhHOhBvqa5QUTuSEHQWD4+NF1iQfiBu8EBeuFBG9HaQWGHJUJKQ4hCcDFkQWQxPr72gwRCDnMEQXGTvcFtVABBPRVwPjKYIMKQj4hBYiDQQewx1T6Dd99BoN9WQrXI4UH7oi1Cer/OQS4g1kFEjeJBonqQv2ZJEUL5XuFB+A0RQjUXnT+BiedBppkAQvKAQEJN3FRC7kThQdJt2EH7DJi+uS3UQQts0ME5NTm/07NJQXNkDD4MQblBQNINwqwL1cG7pMq+gWQawpJpVcEqk+VBmosXwriTAkGd8R/CfkEYvxbCcMFWstVBItgBwqyQiEEoJndBP12NQhAbkEKPqeJB0YkzwVcWjL/1XtpBLMyLQmDdHMEe3NNBKWf/wdsjJUEn3h/CFwBGQl3oqj+ehKc/JegKvwHcuUGJKLpBy5RIQbO+AL/Ld+ZB2ns8QmQjqb0M7IlCod/fQdurXUL0IRjCGDDbQba69D5XTwZB0fA5vj2eKL+iGmPBhXfhQd2MDsK59klBHzd9QeEjIr7GPJ+/WpIDQXjalUJrvFFCKwadvxkAKEL0XY1CGRLjQWofy0HFropCMpQuQjuImkBdT9m+SZJwwWgP30GXceBBx89GQLNSpz9M1NVBdnFKQZ82JEGi7eBB5OkYQsmef0Fx7mLBTvtPQu52Db+kFylCDc5JQesWY0GByWdCkmgdweD/DkJOv9pBFRloQoSQT0Kxu9RB6BM7Qrtqpz8q8TNCNrSWvTZTmr+Q0wO/nYu5QS70qr82QAHCyx3XQUjOi0JhJse978WCv2FKAEJ3nVhBC6VLQkhiVr88rCBCVYVGQu+G0kEJx7U+SqTKQfmbiEFEz769W6HHQQ==",
          "dtype": "f4"
         },
         "xaxis": "x",
         "y": {
          "bdata": "d28TQtyaN8LcHMm/tdPWv73LY0GR0kfAA9ccwlASKsLidCTC0tjfwYAcHcIxpsjBnLGcwQm6ksBSePc+XaFZwhcAP8C+UTJCC2cdQMGnI8JGUVbAPnY3wPgeJsK1iEbA/Jn9wRcf/b/AuUvCA/pBQnhv3r+z4QLA61adwWejJMEiFibCFwaWwnj/VcI7OhHAPjohwIPOHsL6sZJBWwmWwmMTKsKZK33BCCkdwrUQVsI0dLu/ll8mwrzK8cFvWv7BM+3Uv0ZzIcKhMwrAld3DwRWkz79X7NfBMFowwAvwk79Tk/m/9jkrwi3Nh0Hlb/q/T1iIQXAGy8GcECHAPKZSwias6sGiT8HB+n/cv3cjbsC1LiHCxZazv3nlhcGsDCfCeLklwQY0JsJmLJ/Bg1zYPhFig8GVDiHCxEhCQcGxEUFmzGjAznYSwgiyx77AbffBykAqwsZU8EAMM6S/rihUwuxH/sEh1pPCaL7LwY79BkJkOQLAtBs/wsJTJcLzFy7AmRyeQTKGvsDCyXzA4TBTwpAr18FUBPbBU0snwhWux8HI9cjBENEpwo7znMHy653B/RYjwbIULcKZXF/AHkilwEYSKsIHLpZBcsHxv4C4vMHTLBNCdYMfwMsxJMJ1HZjCEmgpwrtUJcJHmdnBiGo+wPN60j5VvyPBpgmTwsB+KMKCYy3CyCYdwjPu1MHxqi7CbWElwimEEsJnscvBgH4EwKOXcsAbEJhBHNKGwQznk8I3kinCRhc7wo/lC8DmQtHAdE+lwUqMx8Gp1bq/XMMKQn2gz8GET5DAePeEQRS4ksLCItjB+FzbwTwOLMK4w1FCPngjwZTBlcIxjDJCTk6+wNUMP8B/uynAVi8yQkDw28EaP7G/xXgZwtzYyMExWFzClkQpwoXEK8IvcSvCodScwekDK8KKRFPC+Oqov1aPnkGtqiXCJPghwu6HBUIsbinBQEsswq8mJ8IgOhPCo/fkwflqxr+J+SrCnAJ0wMlS+cEY3ynC+ajlQQ==",
          "dtype": "f4"
         },
         "yaxis": "y"
        },
        {
         "hovertemplate": "Gene family=lincosamide antibiotic<br>t-SNE dim 1=%{x}<br>t-SNE dim 2=%{y}<extra></extra>",
         "legendgroup": "lincosamide antibiotic",
         "marker": {
          "color": "#19d3f3",
          "opacity": 0.7,
          "symbol": "circle"
         },
         "mode": "markers",
         "name": "lincosamide antibiotic",
         "showlegend": true,
         "type": "scattergl",
         "x": {
          "bdata": "eq30QUMK3sE1TVHCI3EiwepL5cHO2SxBQTMAwqQ7rcFGqzbCExNDwhsXocAqrmdCjWQ4wkjtAsKabSNB",
          "dtype": "f4"
         },
         "xaxis": "x",
         "y": {
          "bdata": "4KdSwV7nTUKxuOFASMV1QSqTRULoZ//BYs1Pws4psUGBPiBCVFo+Qu9rrcEB+bvBd4lrQprYScIVu4vB",
          "dtype": "f4"
         },
         "yaxis": "y"
        },
        {
         "hovertemplate": "Gene family=pactamycin-like antibiotic<br>t-SNE dim 1=%{x}<br>t-SNE dim 2=%{y}<extra></extra>",
         "legendgroup": "pactamycin-like antibiotic",
         "marker": {
          "color": "#FF6692",
          "opacity": 0.7,
          "symbol": "circle"
         },
         "mode": "markers",
         "name": "pactamycin-like antibiotic",
         "showlegend": true,
         "type": "scattergl",
         "x": {
          "bdata": "Ph01QQ==",
          "dtype": "f4"
         },
         "xaxis": "x",
         "y": {
          "bdata": "L2+ewQ==",
          "dtype": "f4"
         },
         "yaxis": "y"
        },
        {
         "hovertemplate": "Gene family=glycopeptide antibiotic<br>t-SNE dim 1=%{x}<br>t-SNE dim 2=%{y}<extra></extra>",
         "legendgroup": "glycopeptide antibiotic",
         "marker": {
          "color": "#B6E880",
          "opacity": 0.7,
          "symbol": "circle"
         },
         "mode": "markers",
         "name": "glycopeptide antibiotic",
         "showlegend": true,
         "type": "scattergl",
         "x": {
          "bdata": "HGCRP+SHzr9mmvXAXYprwl8jl0K0IZLB7VHbwIbQksIEzgZBaXCmP4YVZcKRiBTCNFHpwAk3MsIDo3++zJICP4fpMsLctAvCQuu6QVCYD8GQzpzB14IFwjzH/sBsLJbB0/wdQuKDF0KIsEfCGeD6wLDxW8JpSThCXpKQwdSlHULXYmnCnvm6wWL9AkHmnAPC/Ew2wnQAJcHyXhrCSNXZwXeUlsHeOODAQhQZwWaVKcAtvgvBLs+CQW0r0L/iPB3C2XFzwUKeGUK0MYvB02QAwZuFGkKJnzRBTpvjQGY1uMBEKkjC40A2wneRAsHXEZvATKgTwT8JZ8H23nHANIDawI4MqUHNIDO//ooPwdYQmz9c4hBCMkCoQJEur8EyHXPCs68swP2KCcFypcfBDOUZwk/UgMIGdFDCmsyfv7ZdScKyYqDByNPCPy6RDMFalPW7rBIXPkPCmb8GFWNC2ykzQnCPbMEQAac/",
          "dtype": "f4"
         },
         "xaxis": "x",
         "y": {
          "bdata": "TTMgQnwIEEG8A7nByVG1wRmjAUIfCppBD1ulwZeEUcFTbCZBtcjzQRZSo8DB6BzB8+Okwe5KrcB7RhpB0zrhQVo1E8FgIdTAgIFiQTtdpsGBnotCf1FCQqontsGbCtbBOyccwt+xI8GJD6y/XaixwUk2JsEBMR7CrZ8fQcJqG8IvGurA45G9QZPtKEGm0SdCwP+Dwc3ZPcJQNDjBbJLNwV5ZosEXZJ/Bq62mwcp4A0IKP6XBaT0fwvGbMMKem7vBfaoDwv5T3cCJEqpCAnukwXiOGMJN26TB07wIQcZSqMFQyOC/o9XKP+LiosGIHYtCbiWmwUcZR0H/ec7B+0Q8QZxLh0GNxz1Br6Ouwc0f8UGZ8sZBU8anQdBJ9MH1zsJA4UYEQhkZl8LBS4lBi34qwQRT58Fl/qfBLHgTQfQd6b/sHsNBL4PxQchSpcH66RhBQPYhQYRtHUHTRKPBnq0owmYKQkFYeM8/",
          "dtype": "f4"
         },
         "yaxis": "y"
        },
        {
         "hovertemplate": "Gene family=rifamycin antibiotic<br>t-SNE dim 1=%{x}<br>t-SNE dim 2=%{y}<extra></extra>",
         "legendgroup": "rifamycin antibiotic",
         "marker": {
          "color": "#FF97FF",
          "opacity": 0.7,
          "symbol": "circle"
         },
         "mode": "markers",
         "name": "rifamycin antibiotic",
         "showlegend": true,
         "type": "scattergl",
         "x": {
          "bdata": "f7Y8QiYnKcL/ZyVCaMA6Qh0RJsG2hhhCBWtAQj4s8cHI++xBZ3pEQjqqLUINkCNC7MEewnaEXMHtiLDByvFUQrbaNELcDEZCN7Ubwka4acGVDyDCua1fQrlTJkKAxl9C+fI+QvkSYULEQi9C/DxzQl71REKD0AzCcewFwnR0gEGWOztCT3ZVQkjDP0JYfF9CEGhxQhLml8E=",
          "dtype": "f4"
         },
         "xaxis": "x",
         "y": {
          "bdata": "QRLjwU7CxcB5dRLCgtsYwgnVPcIE4yNCV47owYwqGMIwoVJCblnuwQqRH8ItPhfCb6Y/QtaBTMIRb1bCqmvBwZtklMEH7ObBCBw0Qr3yN8L6/ERCozVGQuavE8I4VEZCh3zmwZT5PEIz6iLCHH/PwSZm5MFOjlFCv1lEwgsO2sF/3CzCjk02QowTHMJ5dTxCdjjUwWudWkI=",
          "dtype": "f4"
         },
         "yaxis": "y"
        },
        {
         "hovertemplate": "Gene family=phenicol antibiotic<br>t-SNE dim 1=%{x}<br>t-SNE dim 2=%{y}<extra></extra>",
         "legendgroup": "phenicol antibiotic",
         "marker": {
          "color": "#FECB52",
          "opacity": 0.7,
          "symbol": "circle"
         },
         "mode": "markers",
         "name": "phenicol antibiotic",
         "showlegend": true,
         "type": "scattergl",
         "x": {
          "bdata": "XK1YwpAsG0KqSNvAYS5mwm8XqUE0I2BC5iSfQaGatkGYTgZCBY8GQtzTUz9sczPCbFNEwEfrzsGwpxZCjh+gPuUVYcLUbglBwjlKwgzrbEKI/hdCEWu9QWG/f8IDkz9BCuU/QSHFrMHrE9vAW29ZQozFc0L96ARCLQXCwBsaEcKK1AnCIFczwm3lv8GE3WJCex2pQQBxPkIp7z9BKkgGQvnpiEH4bT9BkVENwhd6P0GjTu/ATTgTwln7lD8U41dC2D12QkjyCUJotErCRdEiQbDBGkJp6bvBtYRFQgtVgMI=",
          "dtype": "f4"
         },
         "xaxis": "x",
         "y": {
          "bdata": "dX1RwBvtU8IuXIFB4kEUwtXR8D/4qZvBNY01wmvPM8HQDVXBXmdUwRX8rkGQB2vAL+ZTQQHlrkFdmxvC9pPgwcZPY8GCVpnBh27BwDUBLcET3xvC1V8twUSv+kA9+h7CLgcfwibOj0HaJq3BPSyDwbX1x0HtsQNCetikweRX08CoNrHBk35iQc57jsHRxJHBPCjxP4aoHMKfFx/CfhlVwUFuNcHf+x7CbHPJwdfhHsLt6IFBFxbVwPIWBMJDxGrCSSPIwfgyU8GRK3TB24mbwSEYusBk4b1BSI7nwc6o7kA=",
          "dtype": "f4"
         },
         "yaxis": "y"
        },
        {
         "hovertemplate": "Gene family=aminoglycoside antibiotic<br>t-SNE dim 1=%{x}<br>t-SNE dim 2=%{y}<extra></extra>",
         "legendgroup": "aminoglycoside antibiotic",
         "marker": {
          "color": "#636efa",
          "opacity": 0.7,
          "symbol": "circle"
         },
         "mode": "markers",
         "name": "aminoglycoside antibiotic",
         "showlegend": true,
         "type": "scattergl",
         "x": {
          "bdata": "maR2QkwYIUIbkDlBICKgQTteB0KXXktB1rSAQa1y00Al/YTCDWuqQUseiUEFuZbBDd/XQacf38GHF93BsL1Hwhu3QMJuaq9BC8h5QnPAfUKF6NdArCc1wn8IOEHjNnlBvsIZQcy5NUFZc1jCMxPHQQ+3ekLDaYNBUb4yQZnKbEESX7tB47gyQgT5XMKOedXARDlwQp4pLMKaagpCumKzwce9NUEMXx/CKB5xQnnLS0Guf1tCf/k/QuYetcGAak5BJb7lwRogaEEsTPxBthsGv/5+28BdKF/C3zj9QSw+6EG6YwhCSdAHwud3aMJa0XdCe+avwd4WN8IdI8xBc4fxQQyaWEH+6PdBJa8dQtarjUI/xIhBrcL4Qangt0EOqDVBvr9yQow++MCM5jNBCMKLQYKDOEHPdltB9iRCQUTxrUHd9QjCLnYLwuHv3cGthIZBtJSqvwBZ3L6+XYBB6ox3QjQKtsGMvTdCV430QXGWY8JWrTdCpMDHwcjYqMF+9YBBNN4ywodRTUE4AOPAO6hrQgiA18Gqzj1ChqaJQcjKeULLnB1Cwlo1wvfmMUKShsrB9VmJQWAFgMIBLjfCoUugv2740kDnlU9CHhUbQthtRMK7FHpCBO/3QcUqvkHMOaRBqtdxQgl5zEFhp7PBME9tQZ2Fg8EAW4BBCR04QQB++sADNym+G3C5QbTOX0Kf/VtCZRzlQfA48UF/FixCzshmQsTRKj83f0TCSi4IQnVDlUEfb93BO4aAweFU7kEQM2RCFiSfQcF4tcHuoW9Cg51tQU5brEHRxndCMRjIQdQiNkJgSiRCorN4Qv/jP0JNBS5CwhbIwRPCucCOTAxC+ihxQgDxZkL7KktBh5l9QiyMsMFd9+HAwD5HQXn+ScLrBkZBCypbwpgYikG7j29C+rcdQlUJTEGn+PhBFZp/wUB2R8I7s2xBlNTQwUx3S0HPRolB35w4Qi6k5UAv80lBkbggwf3TwsGSq45BSo0LQgo7tcGJK/JBStnQQGp/uL+vPz7C+5JNwbqkVME86wZCq5N0QZQEz0HdijxCHPMxwq2wTUEq1MpB2pF6v6oON8JxOwhC2wrewT6IacCZB0xBripiQX05gEJ5SqxB2TBMQVUJMkHexb9B6/0mwm/uFEGYtnlC",
          "dtype": "f4"
         },
         "xaxis": "x",
         "y": {
          "bdata": "PsbAwVhiVMIRxKjB2LqewtJ5esF5rgTCy/bcwfJ5wEEFkOTBVMKewUh5+cGHsadBfk6awrPGK0LgDBhCEe69wGoC6cCB7UvBBOxWwfQp7cBUEAHATZ9jQQf3psEYKBPC02QKwhr6pMFCA+nBcSaywViaXMFuNqzBhW+iwdYAC8K2rarBAxAewuCzU8In5oBB532kwcLaNr2P13zBlCtTQtFdpcFRPz5Cbkeqwc1QC8KQXmfBH+OIwMhTU0KpwpbBsPEiQiHDC8KvwlnBXgugQb7OjEKUy53BxON5whJpm8JHgYzBXUwiQkhJBUC8nMPB3RdVQvfhIUJqOq7BknISwf0VkcFrnwjB/vYbwviHqMHzPfvB/YAHwYJgnsE6Ww7CnOOqwU1eB0JDRqTBQjPywSAWqMEOBJDBRY0GwiTVOMLGFiJCUjgnQv3RI0Ib3ADCuQSRQZ1nFEGy99vBIYhewXSuVUK90iDCjfwQwQVNGMAfwB7Cs6CJQY7msEG6OdrBc5+bQIN/lcE3k4tCK0yowcI6VkK/1R/C8zL5wVJyv8Fs8kPCEZRjQVNsG8ImjHVCbUoAwlTw7EA6seC+uo+iQRfL2sEuu6zBHw4/wqgik8CLE8TBmVYJwf3BpsFPJgdCZJ2pwRsSrcGlR1RCbmMOwgI7ZkHd2ZLCdf0Mwr/VtcEOKJlB4s2dwYcOtMGoMG/BjFU4wjx0EcHabEPCCXuowextCcKKn5XAUwCNwVLoar9x2BhC+m2PQdgPosJCkmvBJ2trwV5Ag0Ls5qnBLCQOwshLn8GJlsLBI8+lwWbzG8LJOSHBJs6owV2mI8EUdSbCX5CdQRrVi0La8X/BZjWswa+/nsFdfZfBYM1iwVdUskGyp4tCm8kGwj87Fr8UBwfC5LrpwNTvAMLsXqjBkQREwluLl8FGYAfBPUGFQdEmlcEZDQ7CNowZQoJMmMHQmADCaIAewr2QP0Kpbp7BW2VqQdbDpEGbR+XBnwp+wRVdU0IgYU/B9aPawcQroUGEHE1CAougQWZiNsJ3E3vBLWkRwovPwsGRPB/CHBz6wCU8l8GLTa/BNQElQrdH4r6XQYzBBY4aQhvrp8H6/QrCi534wU89TcH+7p7BBImXwZtUD8Kgd6bBPpNbQjAV/8Ee3cLB",
          "dtype": "f4"
         },
         "yaxis": "y"
        },
        {
         "hovertemplate": "Gene family=isoniazid-like antibiotic<br>t-SNE dim 1=%{x}<br>t-SNE dim 2=%{y}<extra></extra>",
         "legendgroup": "isoniazid-like antibiotic",
         "marker": {
          "color": "#EF553B",
          "opacity": 0.7,
          "symbol": "circle"
         },
         "mode": "markers",
         "name": "isoniazid-like antibiotic",
         "showlegend": true,
         "type": "scattergl",
         "x": {
          "bdata": "FuhcQrZJYEJ9EoRC5VBmQuC1ZkJZWERCvyAaQme+N0LeuV9C5uwHQhCgZUIgw2ZC0BUUQiYTa0IP6VxCazElQokIXkIjSSVC",
          "dtype": "f4"
         },
         "xaxis": "x",
         "y": {
          "bdata": "3NyswZZ2rcEAlk7BBI5ywUfNVsGb7SjCnfQfwr7yGMKovK/BbOFTwv81ncGY36jBe3g3woaMusF8UbzBYdoewuwDusHhGhrC",
          "dtype": "f4"
         },
         "yaxis": "y"
        },
        {
         "hovertemplate": "Gene family=macrolide antibiotic<br>t-SNE dim 1=%{x}<br>t-SNE dim 2=%{y}<extra></extra>",
         "legendgroup": "macrolide antibiotic",
         "marker": {
          "color": "#00cc96",
          "opacity": 0.7,
          "symbol": "circle"
         },
         "mode": "markers",
         "name": "macrolide antibiotic",
         "showlegend": true,
         "type": "scattergl",
         "x": {
          "bdata": "dsQ6Qq6rSsJMYDxCISzSwf9vl7+ijApBJvh8QqnVOEK6gPpBQUxVQWmdMULIeClCxxBGwoDBgMKA5KhBsBo7QpzusEHHnEVCZGxGQg+j/0DEX5pA40wvQn7w0sGME0bCQFIkQSGao0HKdjtCZTaBwuMgdUJGFm7BBdH6wBcUgcItq3JC5j9VQao/D8JqM9HB3sAcQn+Zp8EX6sDB3tUFQb/xP0LLuatBGxAqQu+ygcENOgpBCep2QsyvV0J6FDZCHmivwRx1L8JP4wPCQM3UwaqIZkLrgYjBZdEKwmFQ4EEVcFLBNtwqQb9e6EGrQCRBrViWQli4QUKMUSfCqDVpQrPbN0KpGWdC2QwvQopRHEKEPitBJ7ZUQl2ZBkFdqCRB9y/pQTu/F0E3z9xBdUZqQqA+NsH6WOxBgFNMvowhhELS8ZZCH3oHQSFui8KPtidBWqMDQsZMPUJqSR9B6UaOQqdERsL+CDNCTt1/QmRVFEEpqnK/etUEPM74QUGwzaBBIVeYQsrrMEIcIn9CVst5QrdufcEJmyZBXwwPwgHlbkE2YYJBdBkSQfZQPEL+l0RCbvQNQUH7gUAPDW1C2SNYQpp2+EFJahVBCOVzQjP/RkG2QCRBBbuIwRwYGEHZsy1CSns2Qj/efkJkYOhB3f4/QgDs+8HJYMRBA5uBQsJqoMFXzlPCk5h4wqo3PkI5AnNCH1fTwUqiJEHJkwhBcJLSwYpAf8Ka2XNCWw3oQeofaEL5nXlCitrkQYImRsK8HHlCM42gwFKCJUEjm1XB7YNhwYP6T0IzoajBj6aDweptekL4uxlBYPlAQt/VqMF8m09CwgB8QpMWbsISvFdBKcCZQidJOEIER/vATdBNwnRdokDMkD3BoBd1QjHbAsJrHzVCmDgqQon6MEKBbFVBnV0AQd8JXEIRNx7CLhZDQisvNj7yMmRCvQp+wbIkc0La9tPB83IJwjRdXsLY6j1BW/RhQV72/MHHPllC",
          "dtype": "f4"
         },
         "xaxis": "x",
         "y": {
          "bdata": "Ytc4wmPjjUCAsjnC1BODwTRe+EGmQJrBEnaqwdpDHsJsIAVCYRTbwYdZGsITdUrBYFaIQFRm3kCRb0LC1TAewm7ugcCPGOfBT7jlwSDvl8JSaYnCJQ0dwnCZgkIJMIHB0oijwSFoZcEnZRvCZKTJQHuWx8G544BBI3m2wY0qzkDTZNDBq2FQQpmUCsFTfKXBAMEcwssYFcKEBLBBhYGYwT4R6MGbRoNBVDMawpd7OUFKI5nBjS1uwSTIYcLjmR7CQfusQbu+IMJ55eDBhZqpQIX7o8FuN0rCurixwSZpGsL/t49BEo+dwWEZ6EGH69rBZQ/RwesX6sFaMmg/jbKnwYh4HsJiozJCmyqVwfvVGsJ4DZ7BxGBZwkDnmMHbmIvBrIurwtmFjcEs5vZBxr6swbTcnUHKhh/C9sOYQaGFQMKiU9bBKbaYweyYiME7OYvB2w4RQtJ5H8JjZYzBJcoMQrRkgkB/Ux/CVSKzwbREjsE3YgzC8o6WQSHjlsLYemFCQUzewbO0HMIv01dBxC/EwUawsEH6k4vBquoKwSqWD8IwWh/CjXybwfrQHMJUVyjCa76Zwfkl80DztbvBMbRgwod6BELuzY3B0SG9wVE8lcHOhIvBhVy8QblRPr1YkxzCcaMewkogAcH8rehBYI8bwrXwi8HkCD7Cvn2zwVUik8B1nu2+bnmwwQS3+cGd/M/BaniCwYxCi8FiIZnBnjyGQmT050Dc/rzBow8swqrRpcHDNsTBFY3mQdlShUAg/8TBRrCuwWU+i8Hn00XC+oDewW9f28HCDY1BmftQQcQPxsHbF43BJl87wrznjEGduqzBztf1wEkEbUDBA5HBaKfcwaX7HcIcBblB9xixQBcKp0FE8DzCE1zLweSK8sGGjlvCh1NVwT2H9cAUD9vB3YiWwZI+hsH5fg1A5Jbmwc09ykHekabBsNM1Qfjnz8HbRn7BiuLFwSzDlsFuvwLCIf49QjAAeEL9RjbC",
          "dtype": "f4"
         },
         "yaxis": "y"
        },
        {
         "hovertemplate": "Gene family=disinfecting agents and antiseptics<br>t-SNE dim 1=%{x}<br>t-SNE dim 2=%{y}<extra></extra>",
         "legendgroup": "disinfecting agents and antiseptics",
         "marker": {
          "color": "#ab63fa",
          "opacity": 0.7,
          "symbol": "circle"
         },
         "mode": "markers",
         "name": "disinfecting agents and antiseptics",
         "showlegend": true,
         "type": "scattergl",
         "x": {
          "bdata": "YqjxQWECP0J1uCXCctdFQvgo+UEUtr9BLDJ4QqTmfkLfiFTBbFtBQjQ2IsJC8FBCW4TqwTj6FEGrMFZClb7aQX7hE8GcVjPB96tFQiJOgELUwgzC967tQT+WlsGazpTBbCJoQnY4FsIRH85AIIdqQntWO0KIGRXCO8srwlIHgkKaRs3AIokDwZ9JfUJEgwjCIJ+WwTzpFsJ6GghBxpEdwmPjB0I7Z1PBRMgPQmU11EEFpUZCCkyOQpFDl0LnOxbCo1VEQks0bEK6JHNCjNCIQmAtPkGO1j9CsSgVwjFjQUI5DY1ClgS6wcCtzMGf9TtCtHH+wRRVcMJlQNxBEug7QhNDFMFULgtCt25nQrEAY0K5pKHAPF9ZQiz4gULrTxXCzFdEQnS7YEEn8EFCCeZUQv2rfkKVAR5CddguQq/SVEJZ8xFCnnZEQltFFkJQaoBCfKEtQuxhdEJNjRhCXwuNQgSxqMA=",
          "dtype": "f4"
         },
         "xaxis": "x",
         "y": {
          "bdata": "SvRlwN+4O8KzBEdCEAgtwgbwFUJOs0XCB9OkwVUiscF+x0XCCLbAwFzy58EFA+ZBpc06QnZdIUKoCUvCKGf1QfpQgUJSeo1CXATlwQ3DssEM/R1Cdu3oQQGfYEKmUnXBpiYyQinpD8JkbpXC+WO7wY3XLMJ9N2zCPsMWQjMZv0FvXiHCS4WVwk4lqMHUZLDBLy1gQnj6kEJow5fCPsUQwu8zVMJ17EXCj+JTwi4P5kFCeeXBndYMQp0t2cGxuAnCU7oowv72wkEna1vB3SqTQauEl8IZRYnA+yhswtT96cFR9MrBPp6MQgDynEL+4i3C50qJQiMkOcK77PVBID+kwIYmgUL28NJBirAyQh/9asIy9o5Cq102wqk0xUGMGWzCAg7lwbaClsKcVerBdQlZwjnFAMEUOFPCrklpQJtgWcKsMhRCRuvnwZShvsADBbTB4+3XwSZ0V8HGIBxCrPbKwWx7IMI=",
          "dtype": "f4"
         },
         "yaxis": "y"
        },
        {
         "hovertemplate": "Gene family=phosphonic acid antibiotic<br>t-SNE dim 1=%{x}<br>t-SNE dim 2=%{y}<extra></extra>",
         "legendgroup": "phosphonic acid antibiotic",
         "marker": {
          "color": "#FFA15A",
          "opacity": 0.7,
          "symbol": "circle"
         },
         "mode": "markers",
         "name": "phosphonic acid antibiotic",
         "showlegend": true,
         "type": "scattergl",
         "x": {
          "bdata": "uEnEwZTxP0K2TxnCCKQnwrF0FsIyDzjCdZzuwW8ImMGE/xHCMfw4QjWW2cGsZ4JCAEkXwmBsckJZNuzBM3l4Qe6yl8F7fYFB/GxVQXObe0FfR+3BHWcRwuKRBkJWuCtC1jOIQtxX68ElGRLC8+YRwupo+cHi4xNCWBQSwrjTfkHtKfnBNssSwqXv7MFJLyFCVfnpwR9l4kEjYWlBBzCDQT9iZkImdSVCjWPAwZzZAsLRhR7CF1fCwQ==",
          "dtype": "f4"
         },
         "xaxis": "x",
         "y": {
          "bdata": "gUOKQrEFgcAu+XRC/80hQkUsU0LiQ2tCcpRzQmZlWkKkTZZCEUshwg06T0Lpp7NBTT5gwn6/s8GgJF1CJyktwk00WkLTCCzCdpWmQIXPLML5NlNCkmiWQnDoBkJ6zq/A7CqTQfRNXELwU5ZCmkuWQvzVgUIpSiBCIIb8wWXVksK1wo9Cj7J5Qs0XU0K9bVTCx445QqCjTUJ/YxLC/rstwjtMUUHawRnClVmLwUPfh0JXwEJCWYmKQg==",
          "dtype": "f4"
         },
         "yaxis": "y"
        },
        {
         "hovertemplate": "Gene family=tetracycline antibiotic<br>t-SNE dim 1=%{x}<br>t-SNE dim 2=%{y}<extra></extra>",
         "legendgroup": "tetracycline antibiotic",
         "marker": {
          "color": "#19d3f3",
          "opacity": 0.7,
          "symbol": "circle"
         },
         "mode": "markers",
         "name": "tetracycline antibiotic",
         "showlegend": true,
         "type": "scattergl",
         "x": {
          "bdata": "CBIeQuoOvcEA731BNvH2wcc270Ed82xBfSTiQeCUCMJ49XdBptkcwpb4d0EvonFCW1WbQE0ebkGYqnNBX6s0QUKZd0FDvAlCDniPwToTWULGaRVC5QqSwcWxf8F2nVnBxvHsQbLAKkKD7WFCRB6lweM5I8IAJxnCUoITQpZlHcIJ7cVAj1UIwmOiKcFFoirCeL4MQmuNXEKKIwhCzu/nwUXT0UFkdefBTM6+wcFymUFxb3FCnPlcQoED6EEThRRC2EmSwS//5kHQXuJB/4QHQX6+GEKG1VlCfziIQZ+rFkJVDltBGpWCQu8bm0BvJoDBEzdcQc/qOEJJohjCUhLgQCkaHMLt4CHCRrVuQZuDZ0JhHvtBrQZiQlW2TEIKeJHBK/w4QsVpUcL52wjCddcbwnQLakFExeFAPsNVQZRtAkE4HT9CcM+IQY4ojELr+elBxTTsQUxOR0Ld4hxCt5iMwq0BF0J4rXRCsuvvQURSGMJCjDVBFkyWwXfXVEEElHVCI9ccwoQHFME=",
          "dtype": "f4"
         },
         "xaxis": "x",
         "y": {
          "bdata": "jDgcwqx0jcHmJshBdCwXwSmnSEJanUJAZ1HsQVCYsMGgBTNA0XlBQsT3MkCud9PB2CBFQeMHQkBK3jlAOSCiweK3M0Br+VLBDvYKwn0hgsEkuiZC3pnYwZ8O68G0jtPB2m8KQlavtb/fII7BaXUwQRztUsIm//3BYnsRQnq/CcKLdC1B2dmwwcl5+MHgtUTC8ZhpQqcuq8FCOnrBJs/1wVaQlkFYufXBQF1OQkJ/OEIbu9TBVHo+QnIH50GtHg5CdCKXwacb6kHcTqzC5RTiv30KG8ILDYLBlvx/QfvlFEJVE5DBUjCzQYkelMLmwurBXSaZwpMMI8LW1/3BNNOYQekwbMLJQS3BKlNEQO36u8HdQn3CFX+KwVDfLMIDSt/BRmkZwg8tocHsc9LBV7NAQqYCrUGJnrdAF4inQDet+78CAR3CAhSuQY8fy8GumotBazaKQXmXNsBzLYlAr0+qwb7pEUKXONDBdA7pQciW/cFhJKXBg3yLQih3PECTktDBBMw1QG2xe0E=",
          "dtype": "f4"
         },
         "yaxis": "y"
        },
        {
         "hovertemplate": "Gene family=diaminopyrimidine antibiotic<br>t-SNE dim 1=%{x}<br>t-SNE dim 2=%{y}<extra></extra>",
         "legendgroup": "diaminopyrimidine antibiotic",
         "marker": {
          "color": "#FF6692",
          "opacity": 0.7,
          "symbol": "circle"
         },
         "mode": "markers",
         "name": "diaminopyrimidine antibiotic",
         "showlegend": true,
         "type": "scattergl",
         "x": {
          "bdata": "tazjwQb7LcJbpx/CEps/QSsKE8LY/VVCJF3wwbvD7kFd1YHA0KWGQa3WBsJHUIpBCbAoQho4CcL9HoLC0rnhwRH5PEKCycRBJL4fwhlsgsBxEbjAao8YwrSgJcJ6WAPC7WEMwqsi8MD05bBBwSMnwgUXQEJrI4pB6gknwlvbgkH96YxCnm6vwLJXH8KUjM9BJMoXQD+R68HYvppBEdcVwvrNEsJpeYPAasEmwhO5KMJT7+XBrhU6QnP8yUAV/qZBm1oBwjwn28DQpM/BZ12CwfcHIMLHlSrCm88owgkXl8HfXrDAMBlvwkQNFcLSFjjCiqm+v0yJ2sAFj2vBnKYVwg3sbcB1J+nB2TbTwA==",
          "dtype": "f4"
         },
         "xaxis": "x",
         "y": {
          "bdata": "931NQv7jOEKbrjxCTb8ewkHsKkIg9knCuVVGQmqrXMEXroRC+T72wbWvNkLrxBrCohAgwt2XNkLBTQ/CsElGQsr4IcJPqh7BDZQyQluUhEKRjI9C1T+5QCzDHEIa1zlCoNUYQqUFjUItWmXBu/o3QtHJ6MHNoBrC2ZehwMnZ3cH2VsvB56uPQk+4MkKMqDnCubAKwopISUJ2WTLCDUEvQjeeKkJltoRCvj45QoFYI0JS7ExCkoQrwjNI2cFwR1jBShKHQoe8iUJn4VRC36JuQpMxNEKGl1lCEKgjQv/rWEKWiI9Cw18CwhP2QUK24WtCDKvsweO1e0IV6/lAigswQt7pjEKAByZCucAMQg==",
          "dtype": "f4"
         },
         "yaxis": "y"
        },
        {
         "hovertemplate": "Gene family=oxazolidinone antibiotic<br>t-SNE dim 1=%{x}<br>t-SNE dim 2=%{y}<extra></extra>",
         "legendgroup": "oxazolidinone antibiotic",
         "marker": {
          "color": "#B6E880",
          "opacity": 0.7,
          "symbol": "circle"
         },
         "mode": "markers",
         "name": "oxazolidinone antibiotic",
         "showlegend": true,
         "type": "scattergl",
         "x": {
          "bdata": "97MJQQ==",
          "dtype": "f4"
         },
         "xaxis": "x",
         "y": {
          "bdata": "QluZwQ==",
          "dtype": "f4"
         },
         "yaxis": "y"
        },
        {
         "hovertemplate": "Gene family=polyamine antibiotic<br>t-SNE dim 1=%{x}<br>t-SNE dim 2=%{y}<extra></extra>",
         "legendgroup": "polyamine antibiotic",
         "marker": {
          "color": "#FF97FF",
          "opacity": 0.7,
          "symbol": "circle"
         },
         "mode": "markers",
         "name": "polyamine antibiotic",
         "showlegend": true,
         "type": "scattergl",
         "x": {
          "bdata": "eTI+QuwEX0Knpl1C47JDQt9HY0KLpz9CEgYeQvfpJUI=",
          "dtype": "f4"
         },
         "xaxis": "x",
         "y": {
          "bdata": "3Sz5wQwbtsHtD67BeDvnwekxqMFGeunBs/tcwgv1EcI=",
          "dtype": "f4"
         },
         "yaxis": "y"
        },
        {
         "hovertemplate": "Gene family=streptogramin antibiotic<br>t-SNE dim 1=%{x}<br>t-SNE dim 2=%{y}<extra></extra>",
         "legendgroup": "streptogramin antibiotic",
         "marker": {
          "color": "#FECB52",
          "opacity": 0.7,
          "symbol": "circle"
         },
         "mode": "markers",
         "name": "streptogramin antibiotic",
         "showlegend": true,
         "type": "scattergl",
         "x": {
          "bdata": "J3LHwZZ5nUDdS5tA/SzhQN+s0sHFbRZBkcYcQUf6qUFKP/dA9StmwjEgyMFuoGS/EstnwpuOjsFAl67BQwT1QP1090A+LY/BouVKwkop5kH/z8rBqZUOwbCwdsI668fBm97cQAnnSUClsGZBhMKLwTE+60CJ3ZrAXLWJQdYAcsJuHYZAUfqjwT57LMLr1DPAbDFwwhzi3MAb4o3BdA+qwbybCMI=",
          "dtype": "f4"
         },
         "xaxis": "x",
         "y": {
          "bdata": "Eb2EwbeeZb/Ej3S/ZxKtvgWpfsE0MfE/ONOdvmXngkEtywzAwXgnv9BchcEKBfhBza3gP3RrlEEPj4XBkoERwGsY/79ob1nB1HIEwSciE0E/iIXB1yOuwVPlcUDppbpB7KWZv837OEBmpwfCbOCUwXFcYD+IBKDBZ+ezQToCDMBrMTNCQ9IVwuNSlUAFZQVCk6X6P42Fc0HSjZNBitn5wQBfU8A=",
          "dtype": "f4"
         },
         "yaxis": "y"
        },
        {
         "hovertemplate": "Gene family=pyrazine antibiotic<br>t-SNE dim 1=%{x}<br>t-SNE dim 2=%{y}<extra></extra>",
         "legendgroup": "pyrazine antibiotic",
         "marker": {
          "color": "#636efa",
          "opacity": 0.7,
          "symbol": "circle"
         },
         "mode": "markers",
         "name": "pyrazine antibiotic",
         "showlegend": true,
         "type": "scattergl",
         "x": {
          "bdata": "oExnQhF4akJ/u0NCe8g7Qt+pI0If1T5CA7k9Qj81KEI9l41CK9Q8QgLDPUKMhCDC",
          "dtype": "f4"
         },
         "xaxis": "x",
         "y": {
          "bdata": "EPShwbdRt8Hj3irC8EHjwa9JGcLqleXBbALrwdghFcLujKjB3LDjwYuH5sEPoj1C",
          "dtype": "f4"
         },
         "yaxis": "y"
        },
        {
         "hovertemplate": "Gene family=mupirocin-like antibiotic<br>t-SNE dim 1=%{x}<br>t-SNE dim 2=%{y}<extra></extra>",
         "legendgroup": "mupirocin-like antibiotic",
         "marker": {
          "color": "#EF553B",
          "opacity": 0.7,
          "symbol": "circle"
         },
         "mode": "markers",
         "name": "mupirocin-like antibiotic",
         "showlegend": true,
         "type": "scattergl",
         "x": {
          "bdata": "5bhUQim9oMEV/SvB0Mu8wQ==",
          "dtype": "f4"
         },
         "xaxis": "x",
         "y": {
          "bdata": "UvjAwXzMhMGmcT3CbgRWwg==",
          "dtype": "f4"
         },
         "yaxis": "y"
        },
        {
         "hovertemplate": "Gene family=moenomycin antibiotic<br>t-SNE dim 1=%{x}<br>t-SNE dim 2=%{y}<extra></extra>",
         "legendgroup": "moenomycin antibiotic",
         "marker": {
          "color": "#00cc96",
          "opacity": 0.7,
          "symbol": "circle"
         },
         "mode": "markers",
         "name": "moenomycin antibiotic",
         "showlegend": true,
         "type": "scattergl",
         "x": {
          "bdata": "oREBQQ==",
          "dtype": "f4"
         },
         "xaxis": "x",
         "y": {
          "bdata": "nm6bwQ==",
          "dtype": "f4"
         },
         "yaxis": "y"
        },
        {
         "hovertemplate": "Gene family=aminocoumarin antibiotic<br>t-SNE dim 1=%{x}<br>t-SNE dim 2=%{y}<extra></extra>",
         "legendgroup": "aminocoumarin antibiotic",
         "marker": {
          "color": "#ab63fa",
          "opacity": 0.7,
          "symbol": "circle"
         },
         "mode": "markers",
         "name": "aminocoumarin antibiotic",
         "showlegend": true,
         "type": "scattergl",
         "x": {
          "bdata": "NDgAwtLFmUA+GidCVc1fQRpWckKZzAHCE0t4QkIP8UCBR4BBiDumQlkggEEUnX5B",
          "dtype": "f4"
         },
         "xaxis": "x",
         "y": {
          "bdata": "16NSwhAPlMKWMU5C5FOYwgeL0cHL1FPCMLrDQc8dl8J+o5LC+I+WQN6sksKy15LC",
          "dtype": "f4"
         },
         "yaxis": "y"
        },
        {
         "hovertemplate": "Gene family=sulfonamide antibiotic<br>t-SNE dim 1=%{x}<br>t-SNE dim 2=%{y}<extra></extra>",
         "legendgroup": "sulfonamide antibiotic",
         "marker": {
          "color": "#FFA15A",
          "opacity": 0.7,
          "symbol": "circle"
         },
         "mode": "markers",
         "name": "sulfonamide antibiotic",
         "showlegend": true,
         "type": "scattergl",
         "x": {
          "bdata": "qoImwanTEkIF4gzCNfZaQqAKbL95bHY/1d/kQSe6kMAJxQJC",
          "dtype": "f4"
         },
         "xaxis": "x",
         "y": {
          "bdata": "Y/HoQT+nNcIvgg9CvOZdwSIho0HP+oXCfQM3wudWlsJp7iC/",
          "dtype": "f4"
         },
         "yaxis": "y"
        },
        {
         "hovertemplate": "Gene family=glycylcycline<br>t-SNE dim 1=%{x}<br>t-SNE dim 2=%{y}<extra></extra>",
         "legendgroup": "glycylcycline",
         "marker": {
          "color": "#19d3f3",
          "opacity": 0.7,
          "symbol": "circle"
         },
         "mode": "markers",
         "name": "glycylcycline",
         "showlegend": true,
         "type": "scattergl",
         "x": {
          "bdata": "CJYTQvv8K8EXNzJCdxSNQnDnmcKtLybCLBHsQbfxDsK+1ArClSWSwebtxUDXAMVA5vL0wQ==",
          "dtype": "f4"
         },
         "xaxis": "x",
         "y": {
          "bdata": "/hQfQgqTkkG+CtrBEWWVQaK9tcGhk3xCXaunQbwLJ8EzroPBKJpVwgvYKkGa8ShBEW0Ewg==",
          "dtype": "f4"
         },
         "yaxis": "y"
        },
        {
         "hovertemplate": "Gene family=thioamide antibiotic<br>t-SNE dim 1=%{x}<br>t-SNE dim 2=%{y}<extra></extra>",
         "legendgroup": "thioamide antibiotic",
         "marker": {
          "color": "#FF6692",
          "opacity": 0.7,
          "symbol": "circle"
         },
         "mode": "markers",
         "name": "thioamide antibiotic",
         "showlegend": true,
         "type": "scattergl",
         "x": {
          "bdata": "WwclQm1FXUIv8CFCBvUMQqczhEIAtENCeYhnQg==",
          "dtype": "f4"
         },
         "xaxis": "x",
         "y": {
          "bdata": "y5YXwg8ku8Er9RjC2FlTwsWPUcFNHynCSd67wQ==",
          "dtype": "f4"
         },
         "yaxis": "y"
        },
        {
         "hovertemplate": "Gene family=pleuromutilin antibiotic<br>t-SNE dim 1=%{x}<br>t-SNE dim 2=%{y}<extra></extra>",
         "legendgroup": "pleuromutilin antibiotic",
         "marker": {
          "color": "#B6E880",
          "opacity": 0.7,
          "symbol": "circle"
         },
         "mode": "markers",
         "name": "pleuromutilin antibiotic",
         "showlegend": true,
         "type": "scattergl",
         "x": {
          "bdata": "hIv1QLkLZ0HCrXzBruc4QvyK3kEM9wdB",
          "dtype": "f4"
         },
         "xaxis": "x",
         "y": {
          "bdata": "D4eIvteNqsEmuwPC02I1wo6eHcIKfJnB",
          "dtype": "f4"
         },
         "yaxis": "y"
        },
        {
         "hovertemplate": "Gene family=nitroimidazole antibiotic<br>t-SNE dim 1=%{x}<br>t-SNE dim 2=%{y}<extra></extra>",
         "legendgroup": "nitroimidazole antibiotic",
         "marker": {
          "color": "#FF97FF",
          "opacity": 0.7,
          "symbol": "circle"
         },
         "mode": "markers",
         "name": "nitroimidazole antibiotic",
         "showlegend": true,
         "type": "scattergl",
         "x": {
          "bdata": "byNOwu1Yg78RYAi/F4xrQnQMB0KlkUvCNlaLQR3ilEHB8pJBhlnuQLAEncA3eXdC/uviwdO7CcLIf57AByNOwEQYcsI=",
          "dtype": "f4"
         },
         "xaxis": "x",
         "y": {
          "bdata": "dlliwbUOqEGTMrFBCRwRwVFgU8K+Yf+/me0ZwoFkir8DNC7C6CuWwk+w4sEIoIHBa1RAQqFhKEIsaOLBPPKnwV0j4sE=",
          "dtype": "f4"
         },
         "yaxis": "y"
        },
        {
         "hovertemplate": "Gene family=elfamycin antibiotic<br>t-SNE dim 1=%{x}<br>t-SNE dim 2=%{y}<extra></extra>",
         "legendgroup": "elfamycin antibiotic",
         "marker": {
          "color": "#FECB52",
          "opacity": 0.7,
          "symbol": "circle"
         },
         "mode": "markers",
         "name": "elfamycin antibiotic",
         "showlegend": true,
         "type": "scattergl",
         "x": {
          "bdata": "rNJ9QlsafkIrxEBCsiERQjY4HcKAHB3CtLQHQQ==",
          "dtype": "f4"
         },
         "xaxis": "x",
         "y": {
          "bdata": "RZ3Pwcr6z8EIYxvChTRgQniuZ8LHHGjCMImYvg==",
          "dtype": "f4"
         },
         "yaxis": "y"
        },
        {
         "hovertemplate": "Gene family=nitrofuran antibiotic<br>t-SNE dim 1=%{x}<br>t-SNE dim 2=%{y}<extra></extra>",
         "legendgroup": "nitrofuran antibiotic",
         "marker": {
          "color": "#636efa",
          "opacity": 0.7,
          "symbol": "circle"
         },
         "mode": "markers",
         "name": "nitrofuran antibiotic",
         "showlegend": true,
         "type": "scattergl",
         "x": {
          "bdata": "GDmswJnwYsA=",
          "dtype": "f4"
         },
         "xaxis": "x",
         "y": {
          "bdata": "dE2fwhJoksI=",
          "dtype": "f4"
         },
         "yaxis": "y"
        },
        {
         "hovertemplate": "Gene family=salicylic acid antibiotic<br>t-SNE dim 1=%{x}<br>t-SNE dim 2=%{y}<extra></extra>",
         "legendgroup": "salicylic acid antibiotic",
         "marker": {
          "color": "#EF553B",
          "opacity": 0.7,
          "symbol": "circle"
         },
         "mode": "markers",
         "name": "salicylic acid antibiotic",
         "showlegend": true,
         "type": "scattergl",
         "x": {
          "bdata": "CfkrQpATZUI8smFC",
          "dtype": "f4"
         },
         "xaxis": "x",
         "y": {
          "bdata": "oLEcwkLUbsFMsLLB",
          "dtype": "f4"
         },
         "yaxis": "y"
        },
        {
         "hovertemplate": "Gene family=nucleoside antibiotic<br>t-SNE dim 1=%{x}<br>t-SNE dim 2=%{y}<extra></extra>",
         "legendgroup": "nucleoside antibiotic",
         "marker": {
          "color": "#00cc96",
          "opacity": 0.7,
          "symbol": "circle"
         },
         "mode": "markers",
         "name": "nucleoside antibiotic",
         "showlegend": true,
         "type": "scattergl",
         "x": {
          "bdata": "KR4nwoZdQEJGePxBY5kPwqZyYkJ4mifCbhw2QiNoNsI=",
          "dtype": "f4"
         },
         "xaxis": "x",
         "y": {
          "bdata": "3MEfQulJG8JTzVfB5un0vx3xTEHI+CJBDYAgwhjcJUI=",
          "dtype": "f4"
         },
         "yaxis": "y"
        },
        {
         "hovertemplate": "Gene family=fusidane antibiotic<br>t-SNE dim 1=%{x}<br>t-SNE dim 2=%{y}<extra></extra>",
         "legendgroup": "fusidane antibiotic",
         "marker": {
          "color": "#ab63fa",
          "opacity": 0.7,
          "symbol": "circle"
         },
         "mode": "markers",
         "name": "fusidane antibiotic",
         "showlegend": true,
         "type": "scattergl",
         "x": {
          "bdata": "H4SYP1XKnMEFdsnBBnpzQqBdkcHYK2LB5lcSwg==",
          "dtype": "f4"
         },
         "xaxis": "x",
         "y": {
          "bdata": "jAwvQkAmf0F8bLRBdf/OwQFpfkIGYclBjQRYwg==",
          "dtype": "f4"
         },
         "yaxis": "y"
        },
        {
         "hovertemplate": "Gene family=antibiotic without defined classification<br>t-SNE dim 1=%{x}<br>t-SNE dim 2=%{y}<extra></extra>",
         "legendgroup": "antibiotic without defined classification",
         "marker": {
          "color": "#FFA15A",
          "opacity": 0.7,
          "symbol": "circle"
         },
         "mode": "markers",
         "name": "antibiotic without defined classification",
         "showlegend": true,
         "type": "scattergl",
         "x": {
          "bdata": "ie/3QA==",
          "dtype": "f4"
         },
         "xaxis": "x",
         "y": {
          "bdata": "bicUwA==",
          "dtype": "f4"
         },
         "yaxis": "y"
        },
        {
         "hovertemplate": "Gene family=diarylquinoline antibiotic<br>t-SNE dim 1=%{x}<br>t-SNE dim 2=%{y}<extra></extra>",
         "legendgroup": "diarylquinoline antibiotic",
         "marker": {
          "color": "#19d3f3",
          "opacity": 0.7,
          "symbol": "circle"
         },
         "mode": "markers",
         "name": "diarylquinoline antibiotic",
         "showlegend": true,
         "type": "scattergl",
         "x": {
          "bdata": "anzBwDtQAEKk76jA",
          "dtype": "f4"
         },
         "xaxis": "x",
         "y": {
          "bdata": "o02QQkajUsIjqY1C",
          "dtype": "f4"
         },
         "yaxis": "y"
        },
        {
         "hovertemplate": "Gene family=cycloserine-like antibiotic<br>t-SNE dim 1=%{x}<br>t-SNE dim 2=%{y}<extra></extra>",
         "legendgroup": "cycloserine-like antibiotic",
         "marker": {
          "color": "#FF6692",
          "opacity": 0.7,
          "symbol": "circle"
         },
         "mode": "markers",
         "name": "cycloserine-like antibiotic",
         "showlegend": true,
         "type": "scattergl",
         "x": {
          "bdata": "7KEwQnLUJEI=",
          "dtype": "f4"
         },
         "xaxis": "x",
         "y": {
          "bdata": "pe8bwoARH8I=",
          "dtype": "f4"
         },
         "yaxis": "y"
        },
        {
         "hovertemplate": "Gene family=antibacterial free fatty acids<br>t-SNE dim 1=%{x}<br>t-SNE dim 2=%{y}<extra></extra>",
         "legendgroup": "antibacterial free fatty acids",
         "marker": {
          "color": "#B6E880",
          "opacity": 0.7,
          "symbol": "circle"
         },
         "mode": "markers",
         "name": "antibacterial free fatty acids",
         "showlegend": true,
         "type": "scattergl",
         "x": {
          "bdata": "tDFHQZuWKkI=",
          "dtype": "f4"
         },
         "xaxis": "x",
         "y": {
          "bdata": "QlSfwjAVVcE=",
          "dtype": "f4"
         },
         "yaxis": "y"
        },
        {
         "hovertemplate": "Gene family=sulfone antibiotic<br>t-SNE dim 1=%{x}<br>t-SNE dim 2=%{y}<extra></extra>",
         "legendgroup": "sulfone antibiotic",
         "marker": {
          "color": "#FF97FF",
          "opacity": 0.7,
          "symbol": "circle"
         },
         "mode": "markers",
         "name": "sulfone antibiotic",
         "showlegend": true,
         "type": "scattergl",
         "x": {
          "bdata": "OOtDQQ==",
          "dtype": "f4"
         },
         "xaxis": "x",
         "y": {
          "bdata": "HI4mwg==",
          "dtype": "f4"
         },
         "yaxis": "y"
        },
        {
         "hovertemplate": "Gene family=zoliflodacin-like antibiotic<br>t-SNE dim 1=%{x}<br>t-SNE dim 2=%{y}<extra></extra>",
         "legendgroup": "zoliflodacin-like antibiotic",
         "marker": {
          "color": "#FECB52",
          "opacity": 0.7,
          "symbol": "circle"
         },
         "mode": "markers",
         "name": "zoliflodacin-like antibiotic",
         "showlegend": true,
         "type": "scattergl",
         "x": {
          "bdata": "QRPwQQ==",
          "dtype": "f4"
         },
         "xaxis": "x",
         "y": {
          "bdata": "v8gewg==",
          "dtype": "f4"
         },
         "yaxis": "y"
        },
        {
         "hovertemplate": "Gene family=thiosemicarbazone antibiotic<br>t-SNE dim 1=%{x}<br>t-SNE dim 2=%{y}<extra></extra>",
         "legendgroup": "thiosemicarbazone antibiotic",
         "marker": {
          "color": "#636efa",
          "opacity": 0.7,
          "symbol": "circle"
         },
         "mode": "markers",
         "name": "thiosemicarbazone antibiotic",
         "showlegend": true,
         "type": "scattergl",
         "x": {
          "bdata": "zF0jQg==",
          "dtype": "f4"
         },
         "xaxis": "x",
         "y": {
          "bdata": "5RcYwg==",
          "dtype": "f4"
         },
         "yaxis": "y"
        },
        {
         "hovertemplate": "Gene family=bicyclomycin-like antibiotic<br>t-SNE dim 1=%{x}<br>t-SNE dim 2=%{y}<extra></extra>",
         "legendgroup": "bicyclomycin-like antibiotic",
         "marker": {
          "color": "#EF553B",
          "opacity": 0.7,
          "symbol": "circle"
         },
         "mode": "markers",
         "name": "bicyclomycin-like antibiotic",
         "showlegend": true,
         "type": "scattergl",
         "x": {
          "bdata": "nyRSQg==",
          "dtype": "f4"
         },
         "xaxis": "x",
         "y": {
          "bdata": "Ns4uwg==",
          "dtype": "f4"
         },
         "yaxis": "y"
        },
        {
         "hovertemplate": "Gene family=non-AMR<br>t-SNE dim 1=%{x}<br>t-SNE dim 2=%{y}<extra></extra>",
         "legendgroup": "non-AMR",
         "marker": {
          "color": "#00cc96",
          "opacity": 0.7,
          "symbol": "circle"
         },
         "mode": "markers",
         "name": "non-AMR",
         "showlegend": true,
         "type": "scattergl",
         "x": {
          "bdata": "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",
          "dtype": "f4"
         },
         "xaxis": "x",
         "y": {
          "bdata": "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",
          "dtype": "f4"
         },
         "yaxis": "y"
        }
       ],
       "layout": {
        "height": 768,
        "legend": {
         "title": {
          "text": "Gene family"
         },
         "tracegroupgap": 0
        },
        "template": {
         "data": {
          "bar": [
           {
            "error_x": {
             "color": "#2a3f5f"
            },
            "error_y": {
             "color": "#2a3f5f"
            },
            "marker": {
             "line": {
              "color": "#E5ECF6",
              "width": 0.5
             },
             "pattern": {
              "fillmode": "overlay",
              "size": 10,
              "solidity": 0.2
             }
            },
            "type": "bar"
           }
          ],
          "barpolar": [
           {
            "marker": {
             "line": {
              "color": "#E5ECF6",
              "width": 0.5
             },
             "pattern": {
              "fillmode": "overlay",
              "size": 10,
              "solidity": 0.2
             }
            },
            "type": "barpolar"
           }
          ],
          "carpet": [
           {
            "aaxis": {
             "endlinecolor": "#2a3f5f",
             "gridcolor": "white",
             "linecolor": "white",
             "minorgridcolor": "white",
             "startlinecolor": "#2a3f5f"
            },
            "baxis": {
             "endlinecolor": "#2a3f5f",
             "gridcolor": "white",
             "linecolor": "white",
             "minorgridcolor": "white",
             "startlinecolor": "#2a3f5f"
            },
            "type": "carpet"
           }
          ],
          "choropleth": [
           {
            "colorbar": {
             "outlinewidth": 0,
             "ticks": ""
            },
            "type": "choropleth"
           }
          ],
          "contour": [
           {
            "colorbar": {
             "outlinewidth": 0,
             "ticks": ""
            },
            "colorscale": [
             [
              0,
              "#0d0887"
             ],
             [
              0.1111111111111111,
              "#46039f"
             ],
             [
              0.2222222222222222,
              "#7201a8"
             ],
             [
              0.3333333333333333,
              "#9c179e"
             ],
             [
              0.4444444444444444,
              "#bd3786"
             ],
             [
              0.5555555555555556,
              "#d8576b"
             ],
             [
              0.6666666666666666,
              "#ed7953"
             ],
             [
              0.7777777777777778,
              "#fb9f3a"
             ],
             [
              0.8888888888888888,
              "#fdca26"
             ],
             [
              1,
              "#f0f921"
             ]
            ],
            "type": "contour"
           }
          ],
          "contourcarpet": [
           {
            "colorbar": {
             "outlinewidth": 0,
             "ticks": ""
            },
            "type": "contourcarpet"
           }
          ],
          "heatmap": [
           {
            "colorbar": {
             "outlinewidth": 0,
             "ticks": ""
            },
            "colorscale": [
             [
              0,
              "#0d0887"
             ],
             [
              0.1111111111111111,
              "#46039f"
             ],
             [
              0.2222222222222222,
              "#7201a8"
             ],
             [
              0.3333333333333333,
              "#9c179e"
             ],
             [
              0.4444444444444444,
              "#bd3786"
             ],
             [
              0.5555555555555556,
              "#d8576b"
             ],
             [
              0.6666666666666666,
              "#ed7953"
             ],
             [
              0.7777777777777778,
              "#fb9f3a"
             ],
             [
              0.8888888888888888,
              "#fdca26"
             ],
             [
              1,
              "#f0f921"
             ]
            ],
            "type": "heatmap"
           }
          ],
          "histogram": [
           {
            "marker": {
             "pattern": {
              "fillmode": "overlay",
              "size": 10,
              "solidity": 0.2
             }
            },
            "type": "histogram"
           }
          ],
          "histogram2d": [
           {
            "colorbar": {
             "outlinewidth": 0,
             "ticks": ""
            },
            "colorscale": [
             [
              0,
              "#0d0887"
             ],
             [
              0.1111111111111111,
              "#46039f"
             ],
             [
              0.2222222222222222,
              "#7201a8"
             ],
             [
              0.3333333333333333,
              "#9c179e"
             ],
             [
              0.4444444444444444,
              "#bd3786"
             ],
             [
              0.5555555555555556,
              "#d8576b"
             ],
             [
              0.6666666666666666,
              "#ed7953"
             ],
             [
              0.7777777777777778,
              "#fb9f3a"
             ],
             [
              0.8888888888888888,
              "#fdca26"
             ],
             [
              1,
              "#f0f921"
             ]
            ],
            "type": "histogram2d"
           }
          ],
          "histogram2dcontour": [
           {
            "colorbar": {
             "outlinewidth": 0,
             "ticks": ""
            },
            "colorscale": [
             [
              0,
              "#0d0887"
             ],
             [
              0.1111111111111111,
              "#46039f"
             ],
             [
              0.2222222222222222,
              "#7201a8"
             ],
             [
              0.3333333333333333,
              "#9c179e"
             ],
             [
              0.4444444444444444,
              "#bd3786"
             ],
             [
              0.5555555555555556,
              "#d8576b"
             ],
             [
              0.6666666666666666,
              "#ed7953"
             ],
             [
              0.7777777777777778,
              "#fb9f3a"
             ],
             [
              0.8888888888888888,
              "#fdca26"
             ],
             [
              1,
              "#f0f921"
             ]
            ],
            "type": "histogram2dcontour"
           }
          ],
          "mesh3d": [
           {
            "colorbar": {
             "outlinewidth": 0,
             "ticks": ""
            },
            "type": "mesh3d"
           }
          ],
          "parcoords": [
           {
            "line": {
             "colorbar": {
              "outlinewidth": 0,
              "ticks": ""
             }
            },
            "type": "parcoords"
           }
          ],
          "pie": [
           {
            "automargin": true,
            "type": "pie"
           }
          ],
          "scatter": [
           {
            "fillpattern": {
             "fillmode": "overlay",
             "size": 10,
             "solidity": 0.2
            },
            "type": "scatter"
           }
          ],
          "scatter3d": [
           {
            "line": {
             "colorbar": {
              "outlinewidth": 0,
              "ticks": ""
             }
            },
            "marker": {
             "colorbar": {
              "outlinewidth": 0,
              "ticks": ""
             }
            },
            "type": "scatter3d"
           }
          ],
          "scattercarpet": [
           {
            "marker": {
             "colorbar": {
              "outlinewidth": 0,
              "ticks": ""
             }
            },
            "type": "scattercarpet"
           }
          ],
          "scattergeo": [
           {
            "marker": {
             "colorbar": {
              "outlinewidth": 0,
              "ticks": ""
             }
            },
            "type": "scattergeo"
           }
          ],
          "scattergl": [
           {
            "marker": {
             "colorbar": {
              "outlinewidth": 0,
              "ticks": ""
             }
            },
            "type": "scattergl"
           }
          ],
          "scattermap": [
           {
            "marker": {
             "colorbar": {
              "outlinewidth": 0,
              "ticks": ""
             }
            },
            "type": "scattermap"
           }
          ],
          "scattermapbox": [
           {
            "marker": {
             "colorbar": {
              "outlinewidth": 0,
              "ticks": ""
             }
            },
            "type": "scattermapbox"
           }
          ],
          "scatterpolar": [
           {
            "marker": {
             "colorbar": {
              "outlinewidth": 0,
              "ticks": ""
             }
            },
            "type": "scatterpolar"
           }
          ],
          "scatterpolargl": [
           {
            "marker": {
             "colorbar": {
              "outlinewidth": 0,
              "ticks": ""
             }
            },
            "type": "scatterpolargl"
           }
          ],
          "scatterternary": [
           {
            "marker": {
             "colorbar": {
              "outlinewidth": 0,
              "ticks": ""
             }
            },
            "type": "scatterternary"
           }
          ],
          "surface": [
           {
            "colorbar": {
             "outlinewidth": 0,
             "ticks": ""
            },
            "colorscale": [
             [
              0,
              "#0d0887"
             ],
             [
              0.1111111111111111,
              "#46039f"
             ],
             [
              0.2222222222222222,
              "#7201a8"
             ],
             [
              0.3333333333333333,
              "#9c179e"
             ],
             [
              0.4444444444444444,
              "#bd3786"
             ],
             [
              0.5555555555555556,
              "#d8576b"
             ],
             [
              0.6666666666666666,
              "#ed7953"
             ],
             [
              0.7777777777777778,
              "#fb9f3a"
             ],
             [
              0.8888888888888888,
              "#fdca26"
             ],
             [
              1,
              "#f0f921"
             ]
            ],
            "type": "surface"
           }
          ],
          "table": [
           {
            "cells": {
             "fill": {
              "color": "#EBF0F8"
             },
             "line": {
              "color": "white"
             }
            },
            "header": {
             "fill": {
              "color": "#C8D4E3"
             },
             "line": {
              "color": "white"
             }
            },
            "type": "table"
           }
          ]
         },
         "layout": {
          "annotationdefaults": {
           "arrowcolor": "#2a3f5f",
           "arrowhead": 0,
           "arrowwidth": 1
          },
          "autotypenumbers": "strict",
          "coloraxis": {
           "colorbar": {
            "outlinewidth": 0,
            "ticks": ""
           }
          },
          "colorscale": {
           "diverging": [
            [
             0,
             "#8e0152"
            ],
            [
             0.1,
             "#c51b7d"
            ],
            [
             0.2,
             "#de77ae"
            ],
            [
             0.3,
             "#f1b6da"
            ],
            [
             0.4,
             "#fde0ef"
            ],
            [
             0.5,
             "#f7f7f7"
            ],
            [
             0.6,
             "#e6f5d0"
            ],
            [
             0.7,
             "#b8e186"
            ],
            [
             0.8,
             "#7fbc41"
            ],
            [
             0.9,
             "#4d9221"
            ],
            [
             1,
             "#276419"
            ]
           ],
           "sequential": [
            [
             0,
             "#0d0887"
            ],
            [
             0.1111111111111111,
             "#46039f"
            ],
            [
             0.2222222222222222,
             "#7201a8"
            ],
            [
             0.3333333333333333,
             "#9c179e"
            ],
            [
             0.4444444444444444,
             "#bd3786"
            ],
            [
             0.5555555555555556,
             "#d8576b"
            ],
            [
             0.6666666666666666,
             "#ed7953"
            ],
            [
             0.7777777777777778,
             "#fb9f3a"
            ],
            [
             0.8888888888888888,
             "#fdca26"
            ],
            [
             1,
             "#f0f921"
            ]
           ],
           "sequentialminus": [
            [
             0,
             "#0d0887"
            ],
            [
             0.1111111111111111,
             "#46039f"
            ],
            [
             0.2222222222222222,
             "#7201a8"
            ],
            [
             0.3333333333333333,
             "#9c179e"
            ],
            [
             0.4444444444444444,
             "#bd3786"
            ],
            [
             0.5555555555555556,
             "#d8576b"
            ],
            [
             0.6666666666666666,
             "#ed7953"
            ],
            [
             0.7777777777777778,
             "#fb9f3a"
            ],
            [
             0.8888888888888888,
             "#fdca26"
            ],
            [
             1,
             "#f0f921"
            ]
           ]
          },
          "colorway": [
           "#636efa",
           "#EF553B",
           "#00cc96",
           "#ab63fa",
           "#FFA15A",
           "#19d3f3",
           "#FF6692",
           "#B6E880",
           "#FF97FF",
           "#FECB52"
          ],
          "font": {
           "color": "#2a3f5f"
          },
          "geo": {
           "bgcolor": "white",
           "lakecolor": "white",
           "landcolor": "#E5ECF6",
           "showlakes": true,
           "showland": true,
           "subunitcolor": "white"
          },
          "hoverlabel": {
           "align": "left"
          },
          "hovermode": "closest",
          "mapbox": {
           "style": "light"
          },
          "paper_bgcolor": "white",
          "plot_bgcolor": "#E5ECF6",
          "polar": {
           "angularaxis": {
            "gridcolor": "white",
            "linecolor": "white",
            "ticks": ""
           },
           "bgcolor": "#E5ECF6",
           "radialaxis": {
            "gridcolor": "white",
            "linecolor": "white",
            "ticks": ""
           }
          },
          "scene": {
           "xaxis": {
            "backgroundcolor": "#E5ECF6",
            "gridcolor": "white",
            "gridwidth": 2,
            "linecolor": "white",
            "showbackground": true,
            "ticks": "",
            "zerolinecolor": "white"
           },
           "yaxis": {
            "backgroundcolor": "#E5ECF6",
            "gridcolor": "white",
            "gridwidth": 2,
            "linecolor": "white",
            "showbackground": true,
            "ticks": "",
            "zerolinecolor": "white"
           },
           "zaxis": {
            "backgroundcolor": "#E5ECF6",
            "gridcolor": "white",
            "gridwidth": 2,
            "linecolor": "white",
            "showbackground": true,
            "ticks": "",
            "zerolinecolor": "white"
           }
          },
          "shapedefaults": {
           "line": {
            "color": "#2a3f5f"
           }
          },
          "ternary": {
           "aaxis": {
            "gridcolor": "white",
            "linecolor": "white",
            "ticks": ""
           },
           "baxis": {
            "gridcolor": "white",
            "linecolor": "white",
            "ticks": ""
           },
           "bgcolor": "#E5ECF6",
           "caxis": {
            "gridcolor": "white",
            "linecolor": "white",
            "ticks": ""
           }
          },
          "title": {
           "x": 0.05
          },
          "xaxis": {
           "automargin": true,
           "gridcolor": "white",
           "linecolor": "white",
           "ticks": "",
           "title": {
            "standoff": 15
           },
           "zerolinecolor": "white",
           "zerolinewidth": 2
          },
          "yaxis": {
           "automargin": true,
           "gridcolor": "white",
           "linecolor": "white",
           "ticks": "",
           "title": {
            "standoff": 15
           },
           "zerolinecolor": "white",
           "zerolinewidth": 2
          }
         }
        },
        "title": {
         "text": "t-SNE visualization of Hyena embeddings"
        },
        "width": 1024,
        "xaxis": {
         "anchor": "y",
         "domain": [
          0,
          1
         ],
         "title": {
          "text": "t-SNE dim 1"
         }
        },
        "yaxis": {
         "anchor": "x",
         "domain": [
          0,
          1
         ],
         "title": {
          "text": "t-SNE dim 2"
         }
        }
       }
      }
     },
     "metadata": {},
     "output_type": "display_data"
    }
   ],
   "source": [
    "fig = px.scatter(\n",
    "    x=train_embeddings_2d[:, 0],\n",
    "    y=train_embeddings_2d[:, 1],\n",
    "    color=[label_columns[i] for i in train_labels_simple],\n",
    "    title=\"t-SNE visualization of Frozen DNABERT-2 embeddings\",\n",
    "    labels={\"x\": \"t-SNE dim 1\", \"y\": \"t-SNE dim 2\", \"color\": \"Gene family\"},\n",
    "    opacity=0.7,\n",
    ")\n",
    "# Square figure\n",
    "fig.update_layout(width=1024, height=768)\n",
    "fig.show()\n",
    "\n"
   ]
  }
 ],
 "metadata": {
  "kernelspec": {
   "display_name": ".venv",
   "language": "python",
   "name": "python3"
  },
  "language_info": {
   "codemirror_mode": {
    "name": "ipython",
    "version": 3
   },
   "file_extension": ".py",
   "mimetype": "text/x-python",
   "name": "python",
   "nbconvert_exporter": "python",
   "pygments_lexer": "ipython3",
   "version": "3.13.7"
  }
 },
 "nbformat": 4,
 "nbformat_minor": 5
}
