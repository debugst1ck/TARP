{
 "cells": [
  {
   "cell_type": "code",
   "execution_count": null,
   "id": "ea24741b",
   "metadata": {},
   "outputs": [],
   "source": [
    "import polars as pl"
   ]
  },
  {
   "cell_type": "code",
   "execution_count": null,
   "id": "ed5e9baf",
   "metadata": {},
   "outputs": [],
   "source": [
    "df = pl.read_parquet(\"../temp/data/processed/card_amr.parquet\")"
   ]
  },
  {
   "cell_type": "code",
   "execution_count": null,
   "id": "f8596012",
   "metadata": {},
   "outputs": [],
   "source": [
    "df.head()"
   ]
  },
  {
   "cell_type": "code",
   "execution_count": null,
   "id": "6056cfad",
   "metadata": {},
   "outputs": [],
   "source": [
    "# Combine all the AMR columns into a single binary column\n",
    "amr_columns = [col for col in df.columns if col != \"sequence\"]"
   ]
  },
  {
   "cell_type": "code",
   "execution_count": null,
   "id": "89fb3257",
   "metadata": {},
   "outputs": [],
   "source": [
    "# Make a new column 'amr' which is 1 if any of the AMR columns is 1, else 0\n",
    "\n",
    "df.with_columns(\n",
    "    pl.when(pl.any_horizontal(pl.col(amr_columns) == 1))\n",
    "    .then(pl.lit(1))\n",
    "    .otherwise(pl.lit(0))\n",
    "    .alias(\"amr\")\n",
    ").select([\"sequence\", \"amr\"]).write_parquet(\"../temp/data/processed/card_amr_binary.parquet\")"
   ]
  }
 ],
 "metadata": {
  "kernelspec": {
   "display_name": ".venv",
   "language": "python",
   "name": "python3"
  },
  "language_info": {
   "codemirror_mode": {
    "name": "ipython",
    "version": 3
   },
   "file_extension": ".py",
   "mimetype": "text/x-python",
   "name": "python",
   "nbconvert_exporter": "python",
   "pygments_lexer": "ipython3",
   "version": "3.13.9"
  }
 },
 "nbformat": 4,
 "nbformat_minor": 5
}
