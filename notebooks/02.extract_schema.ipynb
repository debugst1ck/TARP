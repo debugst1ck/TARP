{
 "cells": [
  {
   "cell_type": "code",
   "execution_count": 15,
   "id": "b277f38a",
   "metadata": {},
   "outputs": [],
   "source": [
    "import polars as pl"
   ]
  },
  {
   "cell_type": "code",
   "execution_count": 16,
   "id": "28c27c0d",
   "metadata": {},
   "outputs": [],
   "source": [
    "amr = pl.scan_parquet(\"../temp/data/processed/card_amr.parquet\")"
   ]
  },
  {
   "cell_type": "code",
   "execution_count": 17,
   "id": "95ca0ffc",
   "metadata": {},
   "outputs": [],
   "source": [
    "non_amr = pl.scan_parquet(\"../temp/data/processed/non_amr_genes_10000.parquet\")"
   ]
  },
  {
   "cell_type": "code",
   "execution_count": 18,
   "id": "419cb655",
   "metadata": {},
   "outputs": [
    {
     "data": {
      "text/html": [
       "<div><style>\n",
       ".dataframe > thead > tr,\n",
       ".dataframe > tbody > tr {\n",
       "  text-align: right;\n",
       "  white-space: pre-wrap;\n",
       "}\n",
       "</style>\n",
       "<small>shape: (5, 9)</small><table border=\"1\" class=\"dataframe\"><thead><tr><th>GeneID</th><th>#tax_id</th><th>status</th><th>genomic_nucleotide_accession.version</th><th>start_position_on_the_genomic_accession</th><th>end_position_on_the_genomic_accession</th><th>orientation</th><th>Symbol</th><th>non-AMR</th></tr><tr><td>i64</td><td>i64</td><td>str</td><td>str</td><td>i64</td><td>i64</td><td>str</td><td>str</td><td>i32</td></tr></thead><tbody><tr><td>57034424</td><td>446</td><td>null</td><td>&quot;NZ_CP013742.1&quot;</td><td>460139</td><td>460801</td><td>&quot;+&quot;</td><td>&quot;AVR58_RS02155&quot;</td><td>1</td></tr><tr><td>57034428</td><td>446</td><td>null</td><td>&quot;NZ_CP013742.1&quot;</td><td>464223</td><td>464762</td><td>null</td><td>&quot;AVR58_RS02175&quot;</td><td>1</td></tr><tr><td>57034440</td><td>446</td><td>null</td><td>&quot;NZ_CP013742.1&quot;</td><td>473737</td><td>474546</td><td>null</td><td>&quot;ankJ&quot;</td><td>1</td></tr><tr><td>57034448</td><td>446</td><td>null</td><td>&quot;NZ_CP013742.1&quot;</td><td>482059</td><td>484410</td><td>&quot;+&quot;</td><td>&quot;icmO&quot;</td><td>1</td></tr><tr><td>57034451</td><td>446</td><td>null</td><td>&quot;NZ_CP013742.1&quot;</td><td>485695</td><td>486333</td><td>&quot;+&quot;</td><td>&quot;AVR58_RS02300&quot;</td><td>1</td></tr></tbody></table></div>"
      ],
      "text/plain": [
       "shape: (5, 9)\n",
       "┌──────────┬─────────┬────────┬─────────────┬───┬─────────────┬─────────────┬────────────┬─────────┐\n",
       "│ GeneID   ┆ #tax_id ┆ status ┆ genomic_nuc ┆ … ┆ end_positio ┆ orientation ┆ Symbol     ┆ non-AMR │\n",
       "│ ---      ┆ ---     ┆ ---    ┆ leotide_acc ┆   ┆ n_on_the_ge ┆ ---         ┆ ---        ┆ ---     │\n",
       "│ i64      ┆ i64     ┆ str    ┆ ession.v…   ┆   ┆ nomic_ac…   ┆ str         ┆ str        ┆ i32     │\n",
       "│          ┆         ┆        ┆ ---         ┆   ┆ ---         ┆             ┆            ┆         │\n",
       "│          ┆         ┆        ┆ str         ┆   ┆ i64         ┆             ┆            ┆         │\n",
       "╞══════════╪═════════╪════════╪═════════════╪═══╪═════════════╪═════════════╪════════════╪═════════╡\n",
       "│ 57034424 ┆ 446     ┆ null   ┆ NZ_CP013742 ┆ … ┆ 460801      ┆ +           ┆ AVR58_RS02 ┆ 1       │\n",
       "│          ┆         ┆        ┆ .1          ┆   ┆             ┆             ┆ 155        ┆         │\n",
       "│ 57034428 ┆ 446     ┆ null   ┆ NZ_CP013742 ┆ … ┆ 464762      ┆ null        ┆ AVR58_RS02 ┆ 1       │\n",
       "│          ┆         ┆        ┆ .1          ┆   ┆             ┆             ┆ 175        ┆         │\n",
       "│ 57034440 ┆ 446     ┆ null   ┆ NZ_CP013742 ┆ … ┆ 474546      ┆ null        ┆ ankJ       ┆ 1       │\n",
       "│          ┆         ┆        ┆ .1          ┆   ┆             ┆             ┆            ┆         │\n",
       "│ 57034448 ┆ 446     ┆ null   ┆ NZ_CP013742 ┆ … ┆ 484410      ┆ +           ┆ icmO       ┆ 1       │\n",
       "│          ┆         ┆        ┆ .1          ┆   ┆             ┆             ┆            ┆         │\n",
       "│ 57034451 ┆ 446     ┆ null   ┆ NZ_CP013742 ┆ … ┆ 486333      ┆ +           ┆ AVR58_RS02 ┆ 1       │\n",
       "│          ┆         ┆        ┆ .1          ┆   ┆             ┆             ┆ 300        ┆         │\n",
       "└──────────┴─────────┴────────┴─────────────┴───┴─────────────┴─────────────┴────────────┴─────────┘"
      ]
     },
     "execution_count": 18,
     "metadata": {},
     "output_type": "execute_result"
    }
   ],
   "source": [
    "non_amr.head().collect()"
   ]
  },
  {
   "cell_type": "code",
   "execution_count": null,
   "id": "4280bbc9",
   "metadata": {},
   "outputs": [
    {
     "ename": "AttributeError",
     "evalue": "'LazyFrame' object has no attribute 'distinct'",
     "output_type": "error",
     "traceback": [
      "\u001b[31m---------------------------------------------------------------------------\u001b[39m",
      "\u001b[31mAttributeError\u001b[39m                            Traceback (most recent call last)",
      "\u001b[36mCell\u001b[39m\u001b[36m \u001b[39m\u001b[32mIn[29]\u001b[39m\u001b[32m, line 2\u001b[39m\n\u001b[32m      1\u001b[39m \u001b[38;5;66;03m# Find all the \tgenomic_nucleotide_accession.version in non_amr\u001b[39;00m\n\u001b[32m----> \u001b[39m\u001b[32m2\u001b[39m \u001b[43mnon_amr\u001b[49m\u001b[43m.\u001b[49m\u001b[43mselect\u001b[49m\u001b[43m(\u001b[49m\u001b[33;43m\"\u001b[39;49m\u001b[33;43mgenomic_nucleotide_accession.version\u001b[39;49m\u001b[33;43m\"\u001b[39;49m\u001b[43m)\u001b[49m\u001b[43m.\u001b[49m\u001b[43mdistinct\u001b[49m().collect()\n",
      "\u001b[31mAttributeError\u001b[39m: 'LazyFrame' object has no attribute 'distinct'"
     ]
    }
   ],
   "source": [
    "# Find all the \tgenomic_nucleotide_accession.version in non_amr\n",
    "non_amr.select(\"genomic_nucleotide_accession.version\").unique().collect()"
   ]
  },
  {
   "cell_type": "code",
   "execution_count": 20,
   "id": "cfa47e9d",
   "metadata": {},
   "outputs": [],
   "source": [
    "# In AMR data, every column name is antibiotic column except for 'sequence' column\n",
    "label_columns = [col for col in amr.collect_schema().names() if col != \"sequence\"] + [\"non-AMR\"]"
   ]
  },
  {
   "cell_type": "code",
   "execution_count": 21,
   "id": "9a2d5b61",
   "metadata": {},
   "outputs": [
    {
     "name": "stdout",
     "output_type": "stream",
     "text": [
      "Label columns: ['disinfecting agents and antiseptics', 'glycylcycline', 'rifamycin antibiotic', 'macrolide antibiotic', 'streptogramin antibiotic', 'pyrazine antibiotic', 'tetracycline antibiotic', 'bicyclomycin-like antibiotic', 'isoniazid-like antibiotic', 'nitroimidazole antibiotic', 'orthosomycin antibiotic', 'nitrofuran antibiotic', 'carbapenem', 'pactamycin-like antibiotic', 'moenomycin antibiotic', 'cycloserine-like antibiotic', 'cephalosporin', 'diaminopyrimidine antibiotic', 'fluoroquinolone antibiotic', 'antibiotic without defined classification', 'phosphonic acid antibiotic', 'pleuromutilin antibiotic', 'elfamycin antibiotic', 'nucleoside antibiotic', 'peptide antibiotic', 'phenicol antibiotic', 'streptogramin A antibiotic', 'aminocoumarin antibiotic', 'streptogramin B antibiotic', 'sulfonamide antibiotic', 'fusidane antibiotic', 'zoliflodacin-like antibiotic', 'sulfone antibiotic', 'thiosemicarbazone antibiotic', 'glycopeptide antibiotic', 'oxazolidinone antibiotic', 'aminoglycoside antibiotic', 'thioamide antibiotic', 'salicylic acid antibiotic', 'mupirocin-like antibiotic', 'diarylquinoline antibiotic', 'penicillin beta-lactam', 'antibacterial free fatty acids', 'lincosamide antibiotic', 'monobactam', 'polyamine antibiotic', 'non-AMR']\n"
     ]
    }
   ],
   "source": [
    "print(\"Label columns:\", label_columns)"
   ]
  },
  {
   "cell_type": "code",
   "execution_count": 22,
   "id": "9445a78b",
   "metadata": {},
   "outputs": [],
   "source": [
    "# Output the schema as json\n",
    "pl.Series(label_columns).to_frame(\"labels\").write_csv(\"../temp/data/processed/labels.csv\")"
   ]
  },
  {
   "cell_type": "code",
   "execution_count": 23,
   "id": "53f8bc8e",
   "metadata": {},
   "outputs": [],
   "source": [
    "# Cache the labels for both AMR and non-AMR\n",
    "# Make a new dataset with only the labels, if column does not exist, fill with 0\n",
    "amr_labels = (\n",
    "    amr\n",
    "    .with_columns(pl.lit(0).alias(\"non-AMR\"))\n",
    "    .select(label_columns)\n",
    "    .collect()\n",
    ")"
   ]
  },
  {
   "cell_type": "code",
   "execution_count": 24,
   "id": "8cf712c3",
   "metadata": {},
   "outputs": [],
   "source": [
    "non_amr_labels = pl.DataFrame(\n",
    "    {\n",
    "        **{col: [0] * non_amr.collect().height for col in label_columns if col != \"non-AMR\"},\n",
    "        \"non-AMR\": [1] * non_amr.collect().height,\n",
    "    }\n",
    ")"
   ]
  },
  {
   "cell_type": "code",
   "execution_count": 25,
   "id": "163dd5be",
   "metadata": {},
   "outputs": [],
   "source": [
    "# Cast non_amr_labels columns to match amr_labels dtypes\n",
    "non_amr_labels_casted = non_amr_labels.with_columns([\n",
    "\tpl.col(col).cast(amr_labels.schema[col]) for col in label_columns\n",
    "])\n",
    "label_cache = pl.concat([amr_labels, non_amr_labels_casted], how=\"vertical\")"
   ]
  },
  {
   "cell_type": "code",
   "execution_count": 26,
   "id": "3886bfc5",
   "metadata": {},
   "outputs": [
    {
     "data": {
      "application/vnd.plotly.v1+json": {
       "config": {
        "plotlyServerURL": "https://plot.ly"
       },
       "data": [
        {
         "hovertemplate": "x=%{x}<br>y=%{y}<extra></extra>",
         "legendgroup": "",
         "marker": {
          "color": "#636efa",
          "pattern": {
           "shape": ""
          }
         },
         "name": "",
         "orientation": "v",
         "showlegend": false,
         "textposition": "auto",
         "type": "bar",
         "x": [
          "disinfecting agents and antiseptics",
          "glycylcycline",
          "rifamycin antibiotic",
          "macrolide antibiotic",
          "streptogramin antibiotic",
          "pyrazine antibiotic",
          "tetracycline antibiotic",
          "bicyclomycin-like antibiotic",
          "isoniazid-like antibiotic",
          "nitroimidazole antibiotic",
          "orthosomycin antibiotic",
          "nitrofuran antibiotic",
          "carbapenem",
          "pactamycin-like antibiotic",
          "moenomycin antibiotic",
          "cycloserine-like antibiotic",
          "cephalosporin",
          "diaminopyrimidine antibiotic",
          "fluoroquinolone antibiotic",
          "antibiotic without defined classification",
          "phosphonic acid antibiotic",
          "pleuromutilin antibiotic",
          "elfamycin antibiotic",
          "nucleoside antibiotic",
          "peptide antibiotic",
          "phenicol antibiotic",
          "streptogramin A antibiotic",
          "aminocoumarin antibiotic",
          "streptogramin B antibiotic",
          "sulfonamide antibiotic",
          "fusidane antibiotic",
          "zoliflodacin-like antibiotic",
          "sulfone antibiotic",
          "thiosemicarbazone antibiotic",
          "glycopeptide antibiotic",
          "oxazolidinone antibiotic",
          "aminoglycoside antibiotic",
          "thioamide antibiotic",
          "salicylic acid antibiotic",
          "mupirocin-like antibiotic",
          "diarylquinoline antibiotic",
          "penicillin beta-lactam",
          "antibacterial free fatty acids",
          "lincosamide antibiotic",
          "monobactam",
          "polyamine antibiotic",
          "non-AMR"
         ],
         "xaxis": "x",
         "y": {
          "bdata": "UgAlAD8A0gBjAAwAuQABABUAEgABAAUADAoBAAIAAgBMDVgAMgECADAAIgAHABEAuQCLADUAHAAlAAoACwABAAEAAQBdABIAEgEHAAMABAAEACsMAwBsAB4FCgAQJw==",
          "dtype": "i2"
         },
         "yaxis": "y"
        }
       ],
       "layout": {
        "barmode": "relative",
        "legend": {
         "tracegroupgap": 0
        },
        "margin": {
         "t": 60
        },
        "template": {
         "data": {
          "bar": [
           {
            "error_x": {
             "color": "#2a3f5f"
            },
            "error_y": {
             "color": "#2a3f5f"
            },
            "marker": {
             "line": {
              "color": "#E5ECF6",
              "width": 0.5
             },
             "pattern": {
              "fillmode": "overlay",
              "size": 10,
              "solidity": 0.2
             }
            },
            "type": "bar"
           }
          ],
          "barpolar": [
           {
            "marker": {
             "line": {
              "color": "#E5ECF6",
              "width": 0.5
             },
             "pattern": {
              "fillmode": "overlay",
              "size": 10,
              "solidity": 0.2
             }
            },
            "type": "barpolar"
           }
          ],
          "carpet": [
           {
            "aaxis": {
             "endlinecolor": "#2a3f5f",
             "gridcolor": "white",
             "linecolor": "white",
             "minorgridcolor": "white",
             "startlinecolor": "#2a3f5f"
            },
            "baxis": {
             "endlinecolor": "#2a3f5f",
             "gridcolor": "white",
             "linecolor": "white",
             "minorgridcolor": "white",
             "startlinecolor": "#2a3f5f"
            },
            "type": "carpet"
           }
          ],
          "choropleth": [
           {
            "colorbar": {
             "outlinewidth": 0,
             "ticks": ""
            },
            "type": "choropleth"
           }
          ],
          "contour": [
           {
            "colorbar": {
             "outlinewidth": 0,
             "ticks": ""
            },
            "colorscale": [
             [
              0,
              "#0d0887"
             ],
             [
              0.1111111111111111,
              "#46039f"
             ],
             [
              0.2222222222222222,
              "#7201a8"
             ],
             [
              0.3333333333333333,
              "#9c179e"
             ],
             [
              0.4444444444444444,
              "#bd3786"
             ],
             [
              0.5555555555555556,
              "#d8576b"
             ],
             [
              0.6666666666666666,
              "#ed7953"
             ],
             [
              0.7777777777777778,
              "#fb9f3a"
             ],
             [
              0.8888888888888888,
              "#fdca26"
             ],
             [
              1,
              "#f0f921"
             ]
            ],
            "type": "contour"
           }
          ],
          "contourcarpet": [
           {
            "colorbar": {
             "outlinewidth": 0,
             "ticks": ""
            },
            "type": "contourcarpet"
           }
          ],
          "heatmap": [
           {
            "colorbar": {
             "outlinewidth": 0,
             "ticks": ""
            },
            "colorscale": [
             [
              0,
              "#0d0887"
             ],
             [
              0.1111111111111111,
              "#46039f"
             ],
             [
              0.2222222222222222,
              "#7201a8"
             ],
             [
              0.3333333333333333,
              "#9c179e"
             ],
             [
              0.4444444444444444,
              "#bd3786"
             ],
             [
              0.5555555555555556,
              "#d8576b"
             ],
             [
              0.6666666666666666,
              "#ed7953"
             ],
             [
              0.7777777777777778,
              "#fb9f3a"
             ],
             [
              0.8888888888888888,
              "#fdca26"
             ],
             [
              1,
              "#f0f921"
             ]
            ],
            "type": "heatmap"
           }
          ],
          "histogram": [
           {
            "marker": {
             "pattern": {
              "fillmode": "overlay",
              "size": 10,
              "solidity": 0.2
             }
            },
            "type": "histogram"
           }
          ],
          "histogram2d": [
           {
            "colorbar": {
             "outlinewidth": 0,
             "ticks": ""
            },
            "colorscale": [
             [
              0,
              "#0d0887"
             ],
             [
              0.1111111111111111,
              "#46039f"
             ],
             [
              0.2222222222222222,
              "#7201a8"
             ],
             [
              0.3333333333333333,
              "#9c179e"
             ],
             [
              0.4444444444444444,
              "#bd3786"
             ],
             [
              0.5555555555555556,
              "#d8576b"
             ],
             [
              0.6666666666666666,
              "#ed7953"
             ],
             [
              0.7777777777777778,
              "#fb9f3a"
             ],
             [
              0.8888888888888888,
              "#fdca26"
             ],
             [
              1,
              "#f0f921"
             ]
            ],
            "type": "histogram2d"
           }
          ],
          "histogram2dcontour": [
           {
            "colorbar": {
             "outlinewidth": 0,
             "ticks": ""
            },
            "colorscale": [
             [
              0,
              "#0d0887"
             ],
             [
              0.1111111111111111,
              "#46039f"
             ],
             [
              0.2222222222222222,
              "#7201a8"
             ],
             [
              0.3333333333333333,
              "#9c179e"
             ],
             [
              0.4444444444444444,
              "#bd3786"
             ],
             [
              0.5555555555555556,
              "#d8576b"
             ],
             [
              0.6666666666666666,
              "#ed7953"
             ],
             [
              0.7777777777777778,
              "#fb9f3a"
             ],
             [
              0.8888888888888888,
              "#fdca26"
             ],
             [
              1,
              "#f0f921"
             ]
            ],
            "type": "histogram2dcontour"
           }
          ],
          "mesh3d": [
           {
            "colorbar": {
             "outlinewidth": 0,
             "ticks": ""
            },
            "type": "mesh3d"
           }
          ],
          "parcoords": [
           {
            "line": {
             "colorbar": {
              "outlinewidth": 0,
              "ticks": ""
             }
            },
            "type": "parcoords"
           }
          ],
          "pie": [
           {
            "automargin": true,
            "type": "pie"
           }
          ],
          "scatter": [
           {
            "fillpattern": {
             "fillmode": "overlay",
             "size": 10,
             "solidity": 0.2
            },
            "type": "scatter"
           }
          ],
          "scatter3d": [
           {
            "line": {
             "colorbar": {
              "outlinewidth": 0,
              "ticks": ""
             }
            },
            "marker": {
             "colorbar": {
              "outlinewidth": 0,
              "ticks": ""
             }
            },
            "type": "scatter3d"
           }
          ],
          "scattercarpet": [
           {
            "marker": {
             "colorbar": {
              "outlinewidth": 0,
              "ticks": ""
             }
            },
            "type": "scattercarpet"
           }
          ],
          "scattergeo": [
           {
            "marker": {
             "colorbar": {
              "outlinewidth": 0,
              "ticks": ""
             }
            },
            "type": "scattergeo"
           }
          ],
          "scattergl": [
           {
            "marker": {
             "colorbar": {
              "outlinewidth": 0,
              "ticks": ""
             }
            },
            "type": "scattergl"
           }
          ],
          "scattermap": [
           {
            "marker": {
             "colorbar": {
              "outlinewidth": 0,
              "ticks": ""
             }
            },
            "type": "scattermap"
           }
          ],
          "scattermapbox": [
           {
            "marker": {
             "colorbar": {
              "outlinewidth": 0,
              "ticks": ""
             }
            },
            "type": "scattermapbox"
           }
          ],
          "scatterpolar": [
           {
            "marker": {
             "colorbar": {
              "outlinewidth": 0,
              "ticks": ""
             }
            },
            "type": "scatterpolar"
           }
          ],
          "scatterpolargl": [
           {
            "marker": {
             "colorbar": {
              "outlinewidth": 0,
              "ticks": ""
             }
            },
            "type": "scatterpolargl"
           }
          ],
          "scatterternary": [
           {
            "marker": {
             "colorbar": {
              "outlinewidth": 0,
              "ticks": ""
             }
            },
            "type": "scatterternary"
           }
          ],
          "surface": [
           {
            "colorbar": {
             "outlinewidth": 0,
             "ticks": ""
            },
            "colorscale": [
             [
              0,
              "#0d0887"
             ],
             [
              0.1111111111111111,
              "#46039f"
             ],
             [
              0.2222222222222222,
              "#7201a8"
             ],
             [
              0.3333333333333333,
              "#9c179e"
             ],
             [
              0.4444444444444444,
              "#bd3786"
             ],
             [
              0.5555555555555556,
              "#d8576b"
             ],
             [
              0.6666666666666666,
              "#ed7953"
             ],
             [
              0.7777777777777778,
              "#fb9f3a"
             ],
             [
              0.8888888888888888,
              "#fdca26"
             ],
             [
              1,
              "#f0f921"
             ]
            ],
            "type": "surface"
           }
          ],
          "table": [
           {
            "cells": {
             "fill": {
              "color": "#EBF0F8"
             },
             "line": {
              "color": "white"
             }
            },
            "header": {
             "fill": {
              "color": "#C8D4E3"
             },
             "line": {
              "color": "white"
             }
            },
            "type": "table"
           }
          ]
         },
         "layout": {
          "annotationdefaults": {
           "arrowcolor": "#2a3f5f",
           "arrowhead": 0,
           "arrowwidth": 1
          },
          "autotypenumbers": "strict",
          "coloraxis": {
           "colorbar": {
            "outlinewidth": 0,
            "ticks": ""
           }
          },
          "colorscale": {
           "diverging": [
            [
             0,
             "#8e0152"
            ],
            [
             0.1,
             "#c51b7d"
            ],
            [
             0.2,
             "#de77ae"
            ],
            [
             0.3,
             "#f1b6da"
            ],
            [
             0.4,
             "#fde0ef"
            ],
            [
             0.5,
             "#f7f7f7"
            ],
            [
             0.6,
             "#e6f5d0"
            ],
            [
             0.7,
             "#b8e186"
            ],
            [
             0.8,
             "#7fbc41"
            ],
            [
             0.9,
             "#4d9221"
            ],
            [
             1,
             "#276419"
            ]
           ],
           "sequential": [
            [
             0,
             "#0d0887"
            ],
            [
             0.1111111111111111,
             "#46039f"
            ],
            [
             0.2222222222222222,
             "#7201a8"
            ],
            [
             0.3333333333333333,
             "#9c179e"
            ],
            [
             0.4444444444444444,
             "#bd3786"
            ],
            [
             0.5555555555555556,
             "#d8576b"
            ],
            [
             0.6666666666666666,
             "#ed7953"
            ],
            [
             0.7777777777777778,
             "#fb9f3a"
            ],
            [
             0.8888888888888888,
             "#fdca26"
            ],
            [
             1,
             "#f0f921"
            ]
           ],
           "sequentialminus": [
            [
             0,
             "#0d0887"
            ],
            [
             0.1111111111111111,
             "#46039f"
            ],
            [
             0.2222222222222222,
             "#7201a8"
            ],
            [
             0.3333333333333333,
             "#9c179e"
            ],
            [
             0.4444444444444444,
             "#bd3786"
            ],
            [
             0.5555555555555556,
             "#d8576b"
            ],
            [
             0.6666666666666666,
             "#ed7953"
            ],
            [
             0.7777777777777778,
             "#fb9f3a"
            ],
            [
             0.8888888888888888,
             "#fdca26"
            ],
            [
             1,
             "#f0f921"
            ]
           ]
          },
          "colorway": [
           "#636efa",
           "#EF553B",
           "#00cc96",
           "#ab63fa",
           "#FFA15A",
           "#19d3f3",
           "#FF6692",
           "#B6E880",
           "#FF97FF",
           "#FECB52"
          ],
          "font": {
           "color": "#2a3f5f"
          },
          "geo": {
           "bgcolor": "white",
           "lakecolor": "white",
           "landcolor": "#E5ECF6",
           "showlakes": true,
           "showland": true,
           "subunitcolor": "white"
          },
          "hoverlabel": {
           "align": "left"
          },
          "hovermode": "closest",
          "mapbox": {
           "style": "light"
          },
          "paper_bgcolor": "white",
          "plot_bgcolor": "#E5ECF6",
          "polar": {
           "angularaxis": {
            "gridcolor": "white",
            "linecolor": "white",
            "ticks": ""
           },
           "bgcolor": "#E5ECF6",
           "radialaxis": {
            "gridcolor": "white",
            "linecolor": "white",
            "ticks": ""
           }
          },
          "scene": {
           "xaxis": {
            "backgroundcolor": "#E5ECF6",
            "gridcolor": "white",
            "gridwidth": 2,
            "linecolor": "white",
            "showbackground": true,
            "ticks": "",
            "zerolinecolor": "white"
           },
           "yaxis": {
            "backgroundcolor": "#E5ECF6",
            "gridcolor": "white",
            "gridwidth": 2,
            "linecolor": "white",
            "showbackground": true,
            "ticks": "",
            "zerolinecolor": "white"
           },
           "zaxis": {
            "backgroundcolor": "#E5ECF6",
            "gridcolor": "white",
            "gridwidth": 2,
            "linecolor": "white",
            "showbackground": true,
            "ticks": "",
            "zerolinecolor": "white"
           }
          },
          "shapedefaults": {
           "line": {
            "color": "#2a3f5f"
           }
          },
          "ternary": {
           "aaxis": {
            "gridcolor": "white",
            "linecolor": "white",
            "ticks": ""
           },
           "baxis": {
            "gridcolor": "white",
            "linecolor": "white",
            "ticks": ""
           },
           "bgcolor": "#E5ECF6",
           "caxis": {
            "gridcolor": "white",
            "linecolor": "white",
            "ticks": ""
           }
          },
          "title": {
           "x": 0.05
          },
          "xaxis": {
           "automargin": true,
           "gridcolor": "white",
           "linecolor": "white",
           "ticks": "",
           "title": {
            "standoff": 15
           },
           "zerolinecolor": "white",
           "zerolinewidth": 2
          },
          "yaxis": {
           "automargin": true,
           "gridcolor": "white",
           "linecolor": "white",
           "ticks": "",
           "title": {
            "standoff": 15
           },
           "zerolinecolor": "white",
           "zerolinewidth": 2
          }
         }
        },
        "xaxis": {
         "anchor": "y",
         "domain": [
          0,
          1
         ],
         "title": {
          "text": "x"
         }
        },
        "yaxis": {
         "anchor": "x",
         "domain": [
          0,
          1
         ],
         "title": {
          "text": "y"
         }
        }
       }
      }
     },
     "metadata": {},
     "output_type": "display_data"
    }
   ],
   "source": [
    "from plotly import express as px\n",
    "\n",
    "# Visualize the distribution of each label\n",
    "label_sums = label_cache.select(pl.all().sum())\n",
    "fig = px.bar(x=label_sums.columns, y=label_sums.row(0))\n",
    "fig.show()"
   ]
  },
  {
   "cell_type": "code",
   "execution_count": 27,
   "id": "ffa3210a",
   "metadata": {},
   "outputs": [],
   "source": [
    "# Save the label cache to parquet\n",
    "label_cache.write_parquet(\"../temp/data/interim/labels_cache.parquet\")"
   ]
  }
 ],
 "metadata": {
  "kernelspec": {
   "display_name": ".venv",
   "language": "python",
   "name": "python3"
  },
  "language_info": {
   "codemirror_mode": {
    "name": "ipython",
    "version": 3
   },
   "file_extension": ".py",
   "mimetype": "text/x-python",
   "name": "python",
   "nbconvert_exporter": "python",
   "pygments_lexer": "ipython3",
   "version": "3.13.7"
  }
 },
 "nbformat": 4,
 "nbformat_minor": 5
}
