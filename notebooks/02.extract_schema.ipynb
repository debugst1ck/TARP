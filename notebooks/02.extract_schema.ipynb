{
 "cells": [
  {
   "cell_type": "code",
   "execution_count": null,
   "id": "b277f38a",
   "metadata": {},
   "outputs": [],
   "source": [
    "import polars as pl"
   ]
  },
  {
   "cell_type": "code",
   "execution_count": null,
   "id": "28c27c0d",
   "metadata": {},
   "outputs": [],
   "source": [
    "amr = pl.scan_parquet(\"../temp/data/processed/card_amr.parquet\")"
   ]
  },
  {
   "cell_type": "code",
   "execution_count": null,
   "id": "95ca0ffc",
   "metadata": {},
   "outputs": [],
   "source": [
    "non_amr = pl.scan_parquet(\"../temp/data/processed/non_amr_genes_10000.parquet\")"
   ]
  },
  {
   "cell_type": "code",
   "execution_count": null,
   "id": "419cb655",
   "metadata": {},
   "outputs": [],
   "source": [
    "non_amr.head().collect()"
   ]
  },
  {
   "cell_type": "code",
   "execution_count": null,
   "id": "4280bbc9",
   "metadata": {},
   "outputs": [],
   "source": [
    "# Find all the \tgenomic_nucleotide_accession.version in non_amr\n",
    "non_amr.select(\"genomic_nucleotide_accession.version\").unique().collect()"
   ]
  },
  {
   "cell_type": "code",
   "execution_count": null,
   "id": "cfa47e9d",
   "metadata": {},
   "outputs": [],
   "source": [
    "# In AMR data, every column name is antibiotic column except for 'sequence' column\n",
    "label_columns = [col for col in amr.collect_schema().names() if col != \"sequence\"] + [\"non-AMR\"]"
   ]
  },
  {
   "cell_type": "code",
   "execution_count": null,
   "id": "9a2d5b61",
   "metadata": {},
   "outputs": [],
   "source": [
    "print(\"Label columns:\", label_columns)"
   ]
  },
  {
   "cell_type": "code",
   "execution_count": null,
   "id": "9445a78b",
   "metadata": {},
   "outputs": [],
   "source": [
    "# Output the schema as json\n",
    "pl.Series(label_columns).to_frame(\"labels\").write_csv(\"../temp/data/processed/labels.csv\")"
   ]
  },
  {
   "cell_type": "code",
   "execution_count": null,
   "id": "53f8bc8e",
   "metadata": {},
   "outputs": [],
   "source": [
    "# Cache the labels for both AMR and non-AMR\n",
    "# Make a new dataset with only the labels, if column does not exist, fill with 0\n",
    "amr_labels = (\n",
    "    amr\n",
    "    .with_columns(pl.lit(0).alias(\"non-AMR\"))\n",
    "    .select(label_columns)\n",
    "    .collect()\n",
    ")"
   ]
  },
  {
   "cell_type": "code",
   "execution_count": null,
   "id": "8cf712c3",
   "metadata": {},
   "outputs": [],
   "source": [
    "non_amr_labels = pl.DataFrame(\n",
    "    {\n",
    "        **{col: [0] * non_amr.collect().height for col in label_columns if col != \"non-AMR\"},\n",
    "        \"non-AMR\": [1] * non_amr.collect().height,\n",
    "    }\n",
    ")"
   ]
  },
  {
   "cell_type": "code",
   "execution_count": null,
   "id": "163dd5be",
   "metadata": {},
   "outputs": [],
   "source": [
    "# Cast non_amr_labels columns to match amr_labels dtypes\n",
    "non_amr_labels_casted = non_amr_labels.with_columns([\n",
    "\tpl.col(col).cast(amr_labels.schema[col]) for col in label_columns\n",
    "])\n",
    "label_cache = pl.concat([amr_labels, non_amr_labels_casted], how=\"vertical\")"
   ]
  },
  {
   "cell_type": "code",
   "execution_count": null,
   "id": "3886bfc5",
   "metadata": {},
   "outputs": [],
   "source": [
    "from plotly import express as px\n",
    "\n",
    "# Visualize the distribution of each label\n",
    "label_sums = label_cache.select(pl.all().sum())\n",
    "fig = px.bar(x=label_sums.columns, y=label_sums.row(0))\n",
    "fig.show()"
   ]
  },
  {
   "cell_type": "code",
   "execution_count": null,
   "id": "ffa3210a",
   "metadata": {},
   "outputs": [],
   "source": [
    "# Save the label cache to parquet\n",
    "label_cache.write_parquet(\"../temp/data/cache/labels_cache.parquet\")"
   ]
  }
 ],
 "metadata": {
  "kernelspec": {
   "display_name": ".venv",
   "language": "python",
   "name": "python3"
  },
  "language_info": {
   "codemirror_mode": {
    "name": "ipython",
    "version": 3
   },
   "file_extension": ".py",
   "mimetype": "text/x-python",
   "name": "python",
   "nbconvert_exporter": "python",
   "pygments_lexer": "ipython3",
   "version": "3.13.9"
  }
 },
 "nbformat": 4,
 "nbformat_minor": 5
}
