{
 "cells": [
  {
   "cell_type": "code",
   "execution_count": null,
   "id": "2228e609",
   "metadata": {},
   "outputs": [],
   "source": [
    "# Get non-AMR\n",
    "import polars as pl\n",
    "from pathlib import Path"
   ]
  },
  {
   "cell_type": "code",
   "execution_count": null,
   "id": "970e57de",
   "metadata": {},
   "outputs": [],
   "source": [
    "bacteria_gene_info = pl.scan_parquet(Path(\"../temp/data/raw/bacteria.gene_info.20251001.parquet\"))"
   ]
  },
  {
   "cell_type": "code",
   "execution_count": null,
   "id": "ff41efdf",
   "metadata": {},
   "outputs": [],
   "source": [
    "gene2accession = pl.scan_parquet(Path(\"../temp/data/raw/gene2accession.20251006.parquet\"))"
   ]
  },
  {
   "cell_type": "code",
   "execution_count": null,
   "id": "7923b890",
   "metadata": {},
   "outputs": [],
   "source": [
    "gene2accession.head().collect()"
   ]
  },
  {
   "cell_type": "code",
   "execution_count": null,
   "id": "509f21f9",
   "metadata": {},
   "outputs": [],
   "source": [
    "protein_coding_genes = (\n",
    "    bacteria_gene_info.filter(pl.col(\"type_of_gene\") == \"protein-coding\")\n",
    "    .select(\"GeneID\")\n",
    "    .join(gene2accession, on=\"GeneID\", how=\"inner\")\n",
    "    .filter(pl.col(\"end_position_on_the_genomic_accession\").is_not_null() & pl.col(\"start_position_on_the_genomic_accession\").is_not_null())\n",
    ")"
   ]
  },
  {
   "cell_type": "code",
   "execution_count": null,
   "id": "d3ab8ddd",
   "metadata": {},
   "outputs": [],
   "source": [
    "protein_coding_genes.select(\n",
    "    (\n",
    "        (\n",
    "            pl.col(\"end_position_on_the_genomic_accession\")\n",
    "            - pl.col(\"start_position_on_the_genomic_accession\")\n",
    "        )\n",
    "    ).mean()\n",
    ").collect()"
   ]
  },
  {
   "cell_type": "code",
   "execution_count": null,
   "id": "41aa19aa",
   "metadata": {},
   "outputs": [],
   "source": [
    "# Get number of unique accessions\n",
    "protein_coding_genes.select(pl.col(\"genomic_nucleotide_accession.version\").n_unique()).collect()"
   ]
  },
  {
   "cell_type": "code",
   "execution_count": null,
   "id": "8379821f",
   "metadata": {},
   "outputs": [],
   "source": [
    "# Get top 20000 protein coding genes\n",
    "limited = protein_coding_genes.limit(20000)"
   ]
  },
  {
   "cell_type": "code",
   "execution_count": null,
   "id": "4f6f9748",
   "metadata": {},
   "outputs": [],
   "source": [
    "# Get unique \tgenomic_nucleotide_accession.version in the limited set\n",
    "limited.select(pl.col(\"genomic_nucleotide_accession.version\").n_unique()).collect()"
   ]
  },
  {
   "cell_type": "code",
   "execution_count": null,
   "id": "eb25de6e",
   "metadata": {},
   "outputs": [],
   "source": [
    "limited.select(\n",
    "    (\n",
    "        (\n",
    "            pl.col(\"end_position_on_the_genomic_accession\")\n",
    "            - pl.col(\"start_position_on_the_genomic_accession\")\n",
    "        )\n",
    "    ).mean()\n",
    ").collect()"
   ]
  },
  {
   "cell_type": "code",
   "execution_count": null,
   "id": "2c8ed5c9",
   "metadata": {},
   "outputs": [],
   "source": [
    "# Extract GeneID\t#tax_id\tstatus\tgenomic_nucleotide_accession.version\tstart_position_on_the_genomic_accession\tend_position_on_the_genomic_accession\torientation\tSymbol\tnon-AMR\n",
    "# Non-AMR is always 1\n",
    "limited.select(\n",
    "    [\n",
    "        \"GeneID\",\n",
    "        \"#tax_id\",\n",
    "        \"status\",\n",
    "        \"genomic_nucleotide_accession.version\",\n",
    "        \"start_position_on_the_genomic_accession\",\n",
    "        \"end_position_on_the_genomic_accession\",\n",
    "        \"orientation\",\n",
    "        \"Symbol\",\n",
    "    ]\n",
    ").with_columns(\n",
    "    pl.lit(1).alias(\"non_amr\")\n",
    ").sink_parquet(\n",
    "    Path(\"../temp/data/processed/non_amr_genes_10000.parquet\"), compression=\"zstd\"\n",
    ")"
   ]
  },
  {
   "cell_type": "code",
   "execution_count": null,
   "id": "de7ede41",
   "metadata": {},
   "outputs": [],
   "source": [
    "non_amr = pl.scan_parquet(\"../temp/data/processed/non_amr_genes_10000.parquet\")"
   ]
  },
  {
   "cell_type": "code",
   "execution_count": null,
   "id": "6a799b90",
   "metadata": {},
   "outputs": [],
   "source": [
    "import ssl, certifi\n",
    "import urllib.request\n",
    "\n",
    "# Force urllib to always use certifi certs\n",
    "ssl._create_default_https_context(cafile=certifi.where())\n",
    "\n",
    "from Bio import Entrez\n",
    "\n",
    "urllib.request.install_opener(\n",
    "    urllib.request.build_opener(\n",
    "        urllib.request.HTTPSHandler(\n",
    "            context=ssl.create_default_context(cafile=certifi.where())\n",
    "        )\n",
    "    )\n",
    ")\n",
    "\n",
    "Entrez.email = \"j7.jacob@hdr.qut.edu.au\"\n",
    "\n",
    "# For each accession in accessions, fetch the fasta sequence from NCBI\n",
    "accession_list = non_amr.select(\"genomic_nucleotide_accession.version\").unique().collect().to_series().to_list()\n",
    "\n",
    "from pathlib import Path\n",
    "from tqdm import tqdm\n",
    "loop = tqdm(accession_list)\n",
    "try:\n",
    "    for acc in loop:\n",
    "        fasta_path = Path(f\"../temp/data/external/sequences/{acc}.fasta\")\n",
    "        # Check if sequences already exists\n",
    "        if fasta_path.exists():\n",
    "            loop.set_description(f\"Skipping {acc}\")\n",
    "            continue\n",
    "\n",
    "        handle = Entrez.efetch(db=\"nucleotide\", id=acc, rettype=\"fasta\", retmode=\"text\")\n",
    "        with open(fasta_path, \"w\") as out_handle:\n",
    "            loop.set_description(f\"Fetching {acc}\")\n",
    "            out_handle.write(handle.read())\n",
    "        handle.close()\n",
    "except Exception as e:\n",
    "    # Remove last file if it exists (to avoid half-downloaded file)\n",
    "    if 'fasta_path' in locals() and fasta_path.exists():\n",
    "        fasta_path.unlink()\n",
    "    print(\"\\nDownload interrupted. Last file removed. You can rerun the cell to resume.\")\n",
    "    print(e)"
   ]
  }
 ],
 "metadata": {
  "kernelspec": {
   "display_name": ".venv",
   "language": "python",
   "name": "python3"
  },
  "language_info": {
   "codemirror_mode": {
    "name": "ipython",
    "version": 3
   },
   "file_extension": ".py",
   "mimetype": "text/x-python",
   "name": "python",
   "nbconvert_exporter": "python",
   "pygments_lexer": "ipython3",
   "version": "3.13.9"
  }
 },
 "nbformat": 4,
 "nbformat_minor": 5
}
