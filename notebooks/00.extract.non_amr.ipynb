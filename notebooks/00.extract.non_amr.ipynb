{
 "cells": [
  {
   "cell_type": "code",
   "execution_count": 1,
   "id": "2228e609",
   "metadata": {},
   "outputs": [],
   "source": [
    "# Get non-AMR\n",
    "import polars as pl\n",
    "from pathlib import Path"
   ]
  },
  {
   "cell_type": "code",
   "execution_count": 2,
   "id": "970e57de",
   "metadata": {},
   "outputs": [],
   "source": [
    "bacteria_gene_info = pl.scan_parquet(Path(\"../temp/data/raw/bacteria.gene_info.20251001.parquet\"))"
   ]
  },
  {
   "cell_type": "code",
   "execution_count": 3,
   "id": "ff41efdf",
   "metadata": {},
   "outputs": [],
   "source": [
    "gene2accession = pl.scan_parquet(Path(\"../temp/data/raw/gene2accession.20251006.parquet\"))"
   ]
  },
  {
   "cell_type": "code",
   "execution_count": 4,
   "id": "7923b890",
   "metadata": {},
   "outputs": [
    {
     "data": {
      "text/html": [
       "<div><style>\n",
       ".dataframe > thead > tr,\n",
       ".dataframe > tbody > tr {\n",
       "  text-align: right;\n",
       "  white-space: pre-wrap;\n",
       "}\n",
       "</style>\n",
       "<small>shape: (5, 16)</small><table border=\"1\" class=\"dataframe\"><thead><tr><th>#tax_id</th><th>GeneID</th><th>status</th><th>RNA_nucleotide_accession.version</th><th>RNA_nucleotide_gi</th><th>protein_accession.version</th><th>protein_gi</th><th>genomic_nucleotide_accession.version</th><th>genomic_nucleotide_gi</th><th>start_position_on_the_genomic_accession</th><th>end_position_on_the_genomic_accession</th><th>orientation</th><th>assembly</th><th>mature_peptide_accession.version</th><th>mature_peptide_gi</th><th>Symbol</th></tr><tr><td>i64</td><td>i64</td><td>str</td><td>str</td><td>str</td><td>str</td><td>i64</td><td>str</td><td>i64</td><td>i64</td><td>i64</td><td>str</td><td>str</td><td>str</td><td>str</td><td>str</td></tr></thead><tbody><tr><td>24</td><td>67441593</td><td>null</td><td>null</td><td>null</td><td>&quot;AVV84537.1&quot;</td><td>1375494891</td><td>&quot;CP028435.1&quot;</td><td>1375492240</td><td>null</td><td>null</td><td>null</td><td>null</td><td>null</td><td>null</td><td>&quot;dnaA&quot;</td></tr><tr><td>24</td><td>67441593</td><td>null</td><td>null</td><td>null</td><td>&quot;GGN30668.1&quot;</td><td>1901901873</td><td>&quot;BMPK01000013.1&quot;</td><td>1901901840</td><td>null</td><td>null</td><td>null</td><td>null</td><td>null</td><td>null</td><td>&quot;dnaA&quot;</td></tr><tr><td>24</td><td>67441593</td><td>null</td><td>null</td><td>null</td><td>&quot;QGS47963.1&quot;</td><td>1780508786</td><td>&quot;CP046329.1&quot;</td><td>1780508237</td><td>null</td><td>null</td><td>null</td><td>null</td><td>null</td><td>null</td><td>&quot;dnaA&quot;</td></tr><tr><td>24</td><td>67441593</td><td>null</td><td>null</td><td>null</td><td>&quot;QSE49449.1&quot;</td><td>1995444448</td><td>&quot;CP070865.1&quot;</td><td>1995442716</td><td>null</td><td>null</td><td>null</td><td>null</td><td>null</td><td>null</td><td>&quot;dnaA&quot;</td></tr><tr><td>24</td><td>67441593</td><td>null</td><td>null</td><td>null</td><td>&quot;QYX72858.1&quot;</td><td>2080735016</td><td>&quot;CP080635.1&quot;</td><td>2080733279</td><td>null</td><td>null</td><td>null</td><td>null</td><td>null</td><td>null</td><td>&quot;dnaA&quot;</td></tr></tbody></table></div>"
      ],
      "text/plain": [
       "shape: (5, 16)\n",
       "┌─────────┬──────────┬────────┬──────────────┬───┬──────────┬──────────────┬──────────────┬────────┐\n",
       "│ #tax_id ┆ GeneID   ┆ status ┆ RNA_nucleoti ┆ … ┆ assembly ┆ mature_pepti ┆ mature_pepti ┆ Symbol │\n",
       "│ ---     ┆ ---      ┆ ---    ┆ de_accession ┆   ┆ ---      ┆ de_accession ┆ de_gi        ┆ ---    │\n",
       "│ i64     ┆ i64      ┆ str    ┆ .versi…      ┆   ┆ str      ┆ .versi…      ┆ ---          ┆ str    │\n",
       "│         ┆          ┆        ┆ ---          ┆   ┆          ┆ ---          ┆ str          ┆        │\n",
       "│         ┆          ┆        ┆ str          ┆   ┆          ┆ str          ┆              ┆        │\n",
       "╞═════════╪══════════╪════════╪══════════════╪═══╪══════════╪══════════════╪══════════════╪════════╡\n",
       "│ 24      ┆ 67441593 ┆ null   ┆ null         ┆ … ┆ null     ┆ null         ┆ null         ┆ dnaA   │\n",
       "│ 24      ┆ 67441593 ┆ null   ┆ null         ┆ … ┆ null     ┆ null         ┆ null         ┆ dnaA   │\n",
       "│ 24      ┆ 67441593 ┆ null   ┆ null         ┆ … ┆ null     ┆ null         ┆ null         ┆ dnaA   │\n",
       "│ 24      ┆ 67441593 ┆ null   ┆ null         ┆ … ┆ null     ┆ null         ┆ null         ┆ dnaA   │\n",
       "│ 24      ┆ 67441593 ┆ null   ┆ null         ┆ … ┆ null     ┆ null         ┆ null         ┆ dnaA   │\n",
       "└─────────┴──────────┴────────┴──────────────┴───┴──────────┴──────────────┴──────────────┴────────┘"
      ]
     },
     "execution_count": 4,
     "metadata": {},
     "output_type": "execute_result"
    }
   ],
   "source": [
    "gene2accession.head().collect()"
   ]
  },
  {
   "cell_type": "code",
   "execution_count": 5,
   "id": "509f21f9",
   "metadata": {},
   "outputs": [],
   "source": [
    "protein_coding_genes = (\n",
    "    bacteria_gene_info.filter(pl.col(\"type_of_gene\") == \"protein-coding\")\n",
    "    .select(\"GeneID\")\n",
    "    .join(gene2accession, on=\"GeneID\", how=\"inner\")\n",
    "    .filter(pl.col(\"end_position_on_the_genomic_accession\").is_not_null() & pl.col(\"start_position_on_the_genomic_accession\").is_not_null())\n",
    ")"
   ]
  },
  {
   "cell_type": "code",
   "execution_count": 6,
   "id": "d3ab8ddd",
   "metadata": {},
   "outputs": [
    {
     "data": {
      "text/html": [
       "<div><style>\n",
       ".dataframe > thead > tr,\n",
       ".dataframe > tbody > tr {\n",
       "  text-align: right;\n",
       "  white-space: pre-wrap;\n",
       "}\n",
       "</style>\n",
       "<small>shape: (1, 1)</small><table border=\"1\" class=\"dataframe\"><thead><tr><th>end_position_on_the_genomic_accession</th></tr><tr><td>f64</td></tr></thead><tbody><tr><td>969.274357</td></tr></tbody></table></div>"
      ],
      "text/plain": [
       "shape: (1, 1)\n",
       "┌─────────────────────────────────┐\n",
       "│ end_position_on_the_genomic_ac… │\n",
       "│ ---                             │\n",
       "│ f64                             │\n",
       "╞═════════════════════════════════╡\n",
       "│ 969.274357                      │\n",
       "└─────────────────────────────────┘"
      ]
     },
     "execution_count": 6,
     "metadata": {},
     "output_type": "execute_result"
    }
   ],
   "source": [
    "protein_coding_genes.select(\n",
    "    (\n",
    "        (\n",
    "            pl.col(\"end_position_on_the_genomic_accession\")\n",
    "            - pl.col(\"start_position_on_the_genomic_accession\")\n",
    "        )\n",
    "    ).mean()\n",
    ").collect()"
   ]
  },
  {
   "cell_type": "code",
   "execution_count": 7,
   "id": "41aa19aa",
   "metadata": {},
   "outputs": [
    {
     "data": {
      "text/html": [
       "<div><style>\n",
       ".dataframe > thead > tr,\n",
       ".dataframe > tbody > tr {\n",
       "  text-align: right;\n",
       "  white-space: pre-wrap;\n",
       "}\n",
       "</style>\n",
       "<small>shape: (1, 1)</small><table border=\"1\" class=\"dataframe\"><thead><tr><th>genomic_nucleotide_accession.version</th></tr><tr><td>u32</td></tr></thead><tbody><tr><td>33706</td></tr></tbody></table></div>"
      ],
      "text/plain": [
       "shape: (1, 1)\n",
       "┌─────────────────────────────────┐\n",
       "│ genomic_nucleotide_accession.v… │\n",
       "│ ---                             │\n",
       "│ u32                             │\n",
       "╞═════════════════════════════════╡\n",
       "│ 33706                           │\n",
       "└─────────────────────────────────┘"
      ]
     },
     "execution_count": 7,
     "metadata": {},
     "output_type": "execute_result"
    }
   ],
   "source": [
    "# Get number of unique accessions\n",
    "protein_coding_genes.select(pl.col(\"genomic_nucleotide_accession.version\").n_unique()).collect()"
   ]
  },
  {
   "cell_type": "code",
   "execution_count": 8,
   "id": "8379821f",
   "metadata": {},
   "outputs": [],
   "source": [
    "# Get top 10000 protein coding genes\n",
    "limited = protein_coding_genes.limit(10000)"
   ]
  },
  {
   "cell_type": "code",
   "execution_count": 9,
   "id": "4f6f9748",
   "metadata": {},
   "outputs": [
    {
     "data": {
      "text/html": [
       "<div><style>\n",
       ".dataframe > thead > tr,\n",
       ".dataframe > tbody > tr {\n",
       "  text-align: right;\n",
       "  white-space: pre-wrap;\n",
       "}\n",
       "</style>\n",
       "<small>shape: (1, 1)</small><table border=\"1\" class=\"dataframe\"><thead><tr><th>genomic_nucleotide_accession.version</th></tr><tr><td>u32</td></tr></thead><tbody><tr><td>3</td></tr></tbody></table></div>"
      ],
      "text/plain": [
       "shape: (1, 1)\n",
       "┌─────────────────────────────────┐\n",
       "│ genomic_nucleotide_accession.v… │\n",
       "│ ---                             │\n",
       "│ u32                             │\n",
       "╞═════════════════════════════════╡\n",
       "│ 3                               │\n",
       "└─────────────────────────────────┘"
      ]
     },
     "execution_count": 9,
     "metadata": {},
     "output_type": "execute_result"
    }
   ],
   "source": [
    "# Get unique \tgenomic_nucleotide_accession.version in the limited set\n",
    "limited.select(pl.col(\"genomic_nucleotide_accession.version\").n_unique()).collect()"
   ]
  },
  {
   "cell_type": "code",
   "execution_count": 10,
   "id": "eb25de6e",
   "metadata": {},
   "outputs": [
    {
     "data": {
      "text/html": [
       "<div><style>\n",
       ".dataframe > thead > tr,\n",
       ".dataframe > tbody > tr {\n",
       "  text-align: right;\n",
       "  white-space: pre-wrap;\n",
       "}\n",
       "</style>\n",
       "<small>shape: (1, 1)</small><table border=\"1\" class=\"dataframe\"><thead><tr><th>end_position_on_the_genomic_accession</th></tr><tr><td>f64</td></tr></thead><tbody><tr><td>1040.3212</td></tr></tbody></table></div>"
      ],
      "text/plain": [
       "shape: (1, 1)\n",
       "┌─────────────────────────────────┐\n",
       "│ end_position_on_the_genomic_ac… │\n",
       "│ ---                             │\n",
       "│ f64                             │\n",
       "╞═════════════════════════════════╡\n",
       "│ 1040.3212                       │\n",
       "└─────────────────────────────────┘"
      ]
     },
     "execution_count": 10,
     "metadata": {},
     "output_type": "execute_result"
    }
   ],
   "source": [
    "limited.select(\n",
    "    (\n",
    "        (\n",
    "            pl.col(\"end_position_on_the_genomic_accession\")\n",
    "            - pl.col(\"start_position_on_the_genomic_accession\")\n",
    "        )\n",
    "    ).mean()\n",
    ").collect()"
   ]
  },
  {
   "cell_type": "code",
   "execution_count": 11,
   "id": "2c8ed5c9",
   "metadata": {},
   "outputs": [],
   "source": [
    "# Extract GeneID\t#tax_id\tstatus\tgenomic_nucleotide_accession.version\tstart_position_on_the_genomic_accession\tend_position_on_the_genomic_accession\torientation\tSymbol\tnon-AMR\n",
    "# Non-AMR is always 1\n",
    "limited.select(\n",
    "    [\n",
    "        \"GeneID\",\n",
    "        \"#tax_id\",\n",
    "        \"status\",\n",
    "        \"genomic_nucleotide_accession.version\",\n",
    "        \"start_position_on_the_genomic_accession\",\n",
    "        \"end_position_on_the_genomic_accession\",\n",
    "        \"orientation\",\n",
    "        \"Symbol\",\n",
    "    ]\n",
    ").with_columns(\n",
    "    pl.lit(1).alias(\"non-AMR\")\n",
    ").sink_parquet(\n",
    "    Path(\"../temp/data/processed/non_amr_genes_10000.parquet\"), compression=\"zstd\"\n",
    ")"
   ]
  },
  {
   "cell_type": "code",
   "execution_count": 12,
   "id": "de7ede41",
   "metadata": {},
   "outputs": [],
   "source": [
    "non_amr = pl.scan_parquet(\"../temp/data/processed/non_amr_genes_10000.parquet\")"
   ]
  },
  {
   "cell_type": "code",
   "execution_count": 14,
   "id": "6a799b90",
   "metadata": {},
   "outputs": [
    {
     "name": "stderr",
     "output_type": "stream",
     "text": [
      "Skipping NZ_CP066370.1: 100%|██████████| 3/3 [00:00<00:00, 1337.33it/s]\n"
     ]
    }
   ],
   "source": [
    "import ssl, certifi\n",
    "import urllib.request\n",
    "\n",
    "# Force urllib to always use certifi certs\n",
    "ssl._create_default_https_context(cafile=certifi.where())\n",
    "\n",
    "from Bio import Entrez\n",
    "\n",
    "urllib.request.install_opener(\n",
    "    urllib.request.build_opener(\n",
    "        urllib.request.HTTPSHandler(\n",
    "            context=ssl.create_default_context(cafile=certifi.where())\n",
    "        )\n",
    "    )\n",
    ")\n",
    "\n",
    "Entrez.email = \"j7.jacob@hdr.qut.edu.au\"\n",
    "\n",
    "# For each accession in accessions, fetch the fasta sequence from NCBI\n",
    "accession_list = limited.select(\"genomic_nucleotide_accession.version\").unique().collect().to_series().to_list()\n",
    "\n",
    "from pathlib import Path\n",
    "from tqdm import tqdm\n",
    "loop = tqdm(accession_list)\n",
    "try:\n",
    "    for acc in loop:\n",
    "        fasta_path = Path(f\"../temp/data/external/sequences/{acc}.fasta\")\n",
    "        # Check if sequences already exists\n",
    "        if fasta_path.exists():\n",
    "            loop.set_description(f\"Skipping {acc}\")\n",
    "            continue\n",
    "\n",
    "        handle = Entrez.efetch(db=\"nucleotide\", id=acc, rettype=\"fasta\", retmode=\"text\")\n",
    "        with open(fasta_path, \"w\") as out_handle:\n",
    "            loop.set_description(f\"Fetching {acc}\")\n",
    "            out_handle.write(handle.read())\n",
    "        handle.close()\n",
    "except Exception as e:\n",
    "    # Remove last file if it exists (to avoid half-downloaded file)\n",
    "    if 'fasta_path' in locals() and fasta_path.exists():\n",
    "        fasta_path.unlink()\n",
    "    print(\"\\nDownload interrupted. Last file removed. You can rerun the cell to resume.\")\n",
    "    print(e)"
   ]
  }
 ],
 "metadata": {
  "kernelspec": {
   "display_name": ".venv",
   "language": "python",
   "name": "python3"
  },
  "language_info": {
   "codemirror_mode": {
    "name": "ipython",
    "version": 3
   },
   "file_extension": ".py",
   "mimetype": "text/x-python",
   "name": "python",
   "nbconvert_exporter": "python",
   "pygments_lexer": "ipython3",
   "version": "3.13.7"
  }
 },
 "nbformat": 4,
 "nbformat_minor": 5
}
