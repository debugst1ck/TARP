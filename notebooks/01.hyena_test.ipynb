{
 "cells": [
  {
   "cell_type": "code",
   "execution_count": 1,
   "id": "a34d174a",
   "metadata": {},
   "outputs": [
    {
     "name": "stderr",
     "output_type": "stream",
     "text": [
      "c:\\Mainframe\\TARP\\.venv\\Lib\\site-packages\\tqdm\\auto.py:21: TqdmWarning: IProgress not found. Please update jupyter and ipywidgets. See https://ipywidgets.readthedocs.io/en/stable/user_install.html\n",
      "  from .autonotebook import tqdm as notebook_tqdm\n"
     ]
    }
   ],
   "source": [
    "from tarp.model.backbone.untrained.lstm import LstmEncoder\n",
    "from tarp.model.backbone.untrained.hyena import HyenaEncoder\n",
    "from tarp.model.finetuning.classification import ClassificationModel\n",
    "\n",
    "from tarp.services.datasets.classification.multilabel import MultiLabelClassificationDataset\n",
    "from tarp.services.tokenizers.pretrained.dnabert import Dnabert2Tokenizer\n",
    "from tarp.services.datasource.sequence import TabularSequenceSource, CombinationSource, FastaSliceSource\n",
    "\n",
    "\n",
    "from tarp.services.preprocessing.augmentation import (\n",
    "    CombinationTechnique,\n",
    "    RandomMutation,\n",
    "    InsertionDeletion,\n",
    "    ReverseComplement,\n",
    ")\n",
    "\n",
    "from tarp.services.datasets.metric.triplet import MultiLabelOfflineTripletDataset\n",
    "\n",
    "\n",
    "import torch\n",
    "import torch.nn as nn\n",
    "from torch.utils.data import DataLoader\n",
    "import polars as pl\n",
    "import numpy as np\n",
    "\n",
    "from sklearn.neighbors import NearestNeighbors\n",
    "\n",
    "from pathlib import Path"
   ]
  },
  {
   "cell_type": "code",
   "execution_count": 2,
   "id": "bfc4bb7b",
   "metadata": {},
   "outputs": [],
   "source": [
    "label_columns = (\n",
    "    pl.read_csv(Path(\"../temp/data/processed/labels.csv\")).to_series().to_list()\n",
    ")"
   ]
  },
  {
   "cell_type": "code",
   "execution_count": 3,
   "id": "ed61844b",
   "metadata": {},
   "outputs": [
    {
     "name": "stderr",
     "output_type": "stream",
     "text": [
      "\u001b[96m[DEBUG]\t2025-10-18 21:24:52,656 - Checking for label cache at: ../temp/data/cache/labels_cache.parquet\u001b[0m\n",
      "\u001b[92m[INFO]\t2025-10-18 21:24:52,667 - Loaded labels from cache (aligned to label_columns): ../temp/data/cache/labels_cache.parquet\u001b[0m\n"
     ]
    }
   ],
   "source": [
    "dataset = MultiLabelClassificationDataset(\n",
    "    CombinationSource(\n",
    "        [\n",
    "            TabularSequenceSource(\n",
    "                source=Path(\"../temp/data/processed/card_amr.parquet\")\n",
    "            ),\n",
    "            FastaSliceSource(\n",
    "                directory=Path(\"../temp/data/external/sequences\"),\n",
    "                metadata=Path(\"../temp/data/processed/non_amr_genes_10000.parquet\"),\n",
    "                key_column=\"genomic_nucleotide_accession.version\",\n",
    "                start_column=\"start_position_on_the_genomic_accession\",\n",
    "                end_column=\"end_position_on_the_genomic_accession\",\n",
    "                orientation_column=\"orientation\",\n",
    "            ),\n",
    "        ]\n",
    "    ),\n",
    "    Dnabert2Tokenizer(),\n",
    "    sequence_column=\"sequence\",\n",
    "    label_columns=label_columns,\n",
    "    maximum_sequence_length=512,\n",
    "    augmentation=CombinationTechnique(\n",
    "        [\n",
    "            RandomMutation(),\n",
    "            InsertionDeletion(),\n",
    "            ReverseComplement(0.5),\n",
    "        ]\n",
    "    ),\n",
    ")\n",
    "\n",
    "metric_dataset = MultiLabelOfflineTripletDataset(\n",
    "    base_dataset=dataset, label_cache=\"../temp/data/cache/labels_cache.parquet\"\n",
    ")"
   ]
  },
  {
   "cell_type": "code",
   "execution_count": 4,
   "id": "91d6fd7d",
   "metadata": {},
   "outputs": [],
   "source": [
    "encoder = HyenaEncoder(\n",
    "        vocabulary_size=dataset.tokenizer.vocab_size,\n",
    "        embedding_dimension=128,\n",
    "        hidden_dimension=256,\n",
    "        padding_id=dataset.tokenizer.pad_token_id,\n",
    "        number_of_layers=2,\n",
    "        dropout=0.2,\n",
    "    )\n",
    "\n",
    "classification_model = ClassificationModel(\n",
    "    encoder=encoder,\n",
    "    number_of_classes=len(label_columns),\n",
    ")\n",
    "\n",
    "classification_model.load_state_dict(\n",
    "    torch.load(\"../temp/checkpoints/HyenaEncoder_20251018_210127.pt\")\n",
    ")\n",
    "\n",
    "# Get the encoder part of the model\n",
    "encoder: HyenaEncoder = classification_model.encoder"
   ]
  },
  {
   "cell_type": "code",
   "execution_count": 5,
   "id": "cee7144e",
   "metadata": {},
   "outputs": [
    {
     "name": "stderr",
     "output_type": "stream",
     "text": [
      "100%|██████████| 513/513 [00:19<00:00, 26.77it/s]\n"
     ]
    }
   ],
   "source": [
    "# Apply the model to the dataset to get the embeddings\n",
    "from tqdm.auto import tqdm\n",
    "\n",
    "# Preallocate numpy array for all embeddings\n",
    "num_samples = len(dataset)\n",
    "batch_size = 32\n",
    "embedding_dim = encoder.encoding_size  # Output dimension of encoder.encode\n",
    "embeddings = np.empty((num_samples, embedding_dim), dtype=np.float32)\n",
    "\n",
    "DEVICE = torch.device(\"cuda\" if torch.cuda.is_available() else \"cpu\")\n",
    "encoder.to(DEVICE)\n",
    "\n",
    "dataloader = DataLoader(dataset, batch_size=batch_size, shuffle=False)\n",
    "start_idx = 0\n",
    "encoder.eval()\n",
    "with torch.no_grad():\n",
    "    for batch in tqdm(dataloader):\n",
    "        input_ids = batch[\"sequence\"].to(DEVICE)\n",
    "        attention_mask = batch[\"attention_mask\"].to(DEVICE)\n",
    "        batch_embeddings = encoder.encode(input_ids, attention_mask)\n",
    "        batch_size_actual = batch_embeddings.shape[0]\n",
    "        embeddings[start_idx:start_idx + batch_size_actual] = batch_embeddings.cpu().numpy()\n",
    "        start_idx += batch_size_actual"
   ]
  },
  {
   "cell_type": "code",
   "execution_count": 6,
   "id": "a6870838",
   "metadata": {},
   "outputs": [
    {
     "name": "stdout",
     "output_type": "stream",
     "text": [
      "Embeddings shape: (16392, 128)\n"
     ]
    }
   ],
   "source": [
    "# Print the shape of the embeddings\n",
    "print(\"Embeddings shape:\", embeddings.shape)"
   ]
  },
  {
   "cell_type": "code",
   "execution_count": 7,
   "id": "8a0f2021",
   "metadata": {},
   "outputs": [
    {
     "name": "stdout",
     "output_type": "stream",
     "text": [
      "Train embeddings shape: (13113, 128)\n",
      "Test embeddings shape: (3279, 128)\n"
     ]
    }
   ],
   "source": [
    "# Split the dataset into train and test sets\n",
    "train_size = int(0.8 * len(dataset))\n",
    "train_embeddings = embeddings[:train_size]\n",
    "test_embeddings = embeddings[train_size:]\n",
    "\n",
    "print(\"Train embeddings shape:\", train_embeddings.shape)\n",
    "print(\"Test embeddings shape:\", test_embeddings.shape)\n"
   ]
  },
  {
   "cell_type": "code",
   "execution_count": 8,
   "id": "a473598c",
   "metadata": {},
   "outputs": [],
   "source": [
    "# KNN search\n",
    "from sklearn.neighbors import KNeighborsClassifier\n",
    "\n",
    "knn = KNeighborsClassifier(n_neighbors=5, metric='cosine')\n",
    "\n",
    "knn.fit(train_embeddings, [\n",
    "    dataset[i]['labels'].numpy() for i in range(train_size)\n",
    "])\n",
    "\n",
    "# Classify test set\n",
    "predictions = knn.predict(test_embeddings)\n",
    "\n"
   ]
  },
  {
   "cell_type": "code",
   "execution_count": 9,
   "id": "b09767a5",
   "metadata": {},
   "outputs": [
    {
     "name": "stdout",
     "output_type": "stream",
     "text": [
      "                                           precision    recall  f1-score   support\n",
      "\n",
      "      disinfecting agents and antiseptics       0.00      0.00      0.00         0\n",
      "                            glycylcycline       0.00      0.00      0.00         0\n",
      "                     rifamycin antibiotic       0.00      0.00      0.00         0\n",
      "                     macrolide antibiotic       0.00      0.00      0.00         0\n",
      "                 streptogramin antibiotic       0.00      0.00      0.00         0\n",
      "                      pyrazine antibiotic       0.00      0.00      0.00         0\n",
      "                  tetracycline antibiotic       0.00      0.00      0.00         0\n",
      "             bicyclomycin-like antibiotic       0.00      0.00      0.00         0\n",
      "                isoniazid-like antibiotic       0.00      0.00      0.00         0\n",
      "                nitroimidazole antibiotic       0.00      0.00      0.00         0\n",
      "                  orthosomycin antibiotic       0.00      0.00      0.00         0\n",
      "                    nitrofuran antibiotic       0.00      0.00      0.00         0\n",
      "                               carbapenem       0.00      0.00      0.00         0\n",
      "               pactamycin-like antibiotic       0.00      0.00      0.00         0\n",
      "                    moenomycin antibiotic       0.00      0.00      0.00         0\n",
      "              cycloserine-like antibiotic       0.00      0.00      0.00         0\n",
      "                            cephalosporin       0.00      0.00      0.00         0\n",
      "             diaminopyrimidine antibiotic       0.00      0.00      0.00         0\n",
      "               fluoroquinolone antibiotic       0.00      0.00      0.00         0\n",
      "antibiotic without defined classification       0.00      0.00      0.00         0\n",
      "               phosphonic acid antibiotic       0.00      0.00      0.00         0\n",
      "                 pleuromutilin antibiotic       0.00      0.00      0.00         0\n",
      "                     elfamycin antibiotic       0.00      0.00      0.00         0\n",
      "                    nucleoside antibiotic       0.00      0.00      0.00         0\n",
      "                       peptide antibiotic       0.00      0.00      0.00         0\n",
      "                      phenicol antibiotic       0.00      0.00      0.00         0\n",
      "               streptogramin A antibiotic       0.00      0.00      0.00         0\n",
      "                 aminocoumarin antibiotic       0.00      0.00      0.00         0\n",
      "               streptogramin B antibiotic       0.00      0.00      0.00         0\n",
      "                   sulfonamide antibiotic       0.00      0.00      0.00         0\n",
      "                      fusidane antibiotic       0.00      0.00      0.00         0\n",
      "             zoliflodacin-like antibiotic       0.00      0.00      0.00         0\n",
      "                       sulfone antibiotic       0.00      0.00      0.00         0\n",
      "             thiosemicarbazone antibiotic       0.00      0.00      0.00         0\n",
      "                  glycopeptide antibiotic       0.00      0.00      0.00         0\n",
      "                 oxazolidinone antibiotic       0.00      0.00      0.00         0\n",
      "                aminoglycoside antibiotic       0.00      0.00      0.00         0\n",
      "                     thioamide antibiotic       0.00      0.00      0.00         0\n",
      "                salicylic acid antibiotic       0.00      0.00      0.00         0\n",
      "                mupirocin-like antibiotic       0.00      0.00      0.00         0\n",
      "               diarylquinoline antibiotic       0.00      0.00      0.00         0\n",
      "                   penicillin beta-lactam       0.00      0.00      0.00         0\n",
      "           antibacterial free fatty acids       0.00      0.00      0.00         0\n",
      "                   lincosamide antibiotic       0.00      0.00      0.00         0\n",
      "                               monobactam       0.00      0.00      0.00         0\n",
      "                     polyamine antibiotic       0.00      0.00      0.00         0\n",
      "                                  non-AMR       1.00      0.69      0.81      3279\n",
      "\n",
      "                                micro avg       0.91      0.69      0.78      3279\n",
      "                                macro avg       0.02      0.01      0.02      3279\n",
      "                             weighted avg       1.00      0.69      0.81      3279\n",
      "                              samples avg       0.69      0.69      0.69      3279\n",
      "\n"
     ]
    }
   ],
   "source": [
    "# Classification report\n",
    "from sklearn.metrics import classification_report\n",
    "\n",
    "print(classification_report(\n",
    "    [dataset[i + train_size]['labels'].numpy() for i in range(len(test_embeddings))],\n",
    "    predictions,\n",
    "    zero_division=0,\n",
    "    target_names=label_columns\n",
    "))"
   ]
  },
  {
   "cell_type": "code",
   "execution_count": null,
   "id": "406c5972",
   "metadata": {},
   "outputs": [],
   "source": []
  },
  {
   "cell_type": "code",
   "execution_count": 10,
   "id": "8b4c66a2",
   "metadata": {},
   "outputs": [],
   "source": [
    "# %%\n",
    "import plotly.express as px\n",
    "\n",
    "from sklearn.manifold import TSNE\n",
    "\n",
    "# Run t-SNE on the embeddings\n",
    "tsne = TSNE(n_components=2, random_state=102, perplexity=30)\n",
    "train_embeddings_2d = tsne.fit_transform(train_embeddings)\n"
   ]
  },
  {
   "cell_type": "code",
   "execution_count": 11,
   "id": "f7696bdd",
   "metadata": {},
   "outputs": [
    {
     "name": "stdout",
     "output_type": "stream",
     "text": [
      "Train labels shape: (13113, 47)\n"
     ]
    }
   ],
   "source": [
    "from torch.utils.data import DataLoader\n",
    "\n",
    "# Collect labels for the training split\n",
    "labels = []\n",
    "dataloader_labels = DataLoader(dataset, batch_size=32, shuffle=False)\n",
    "\n",
    "for i, batch in enumerate(dataloader_labels):\n",
    "    if i * 32 >= train_size:  # stop after train split\n",
    "        break\n",
    "    labels.append(batch[\"labels\"].numpy())\n",
    "\n",
    "train_labels = np.vstack(labels)[:train_size]  # shape (N, num_labels)\n",
    "print(\"Train labels shape:\", train_labels.shape)\n",
    "\n",
    "# Convert multilabel → single label for visualization\n",
    "train_labels_simple = train_labels.argmax(axis=1)"
   ]
  },
  {
   "cell_type": "code",
   "execution_count": 12,
   "id": "f5769465",
   "metadata": {},
   "outputs": [
    {
     "data": {
      "application/vnd.plotly.v1+json": {
       "config": {
        "plotlyServerURL": "https://plot.ly"
       },
       "data": [
        {
         "hovertemplate": "Gene family=carbapenem<br>t-SNE dim 1=%{x}<br>t-SNE dim 2=%{y}<extra></extra>",
         "legendgroup": "carbapenem",
         "marker": {
          "color": "#636efa",
          "opacity": 0.7,
          "symbol": "circle"
         },
         "mode": "markers",
         "name": "carbapenem",
         "showlegend": true,
         "type": "scattergl",
         "x": {
          "bdata": "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",
          "dtype": "f4"
         },
         "xaxis": "x",
         "y": {
          "bdata": "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",
          "dtype": "f4"
         },
         "yaxis": "y"
        },
        {
         "hovertemplate": "Gene family=penicillin beta-lactam<br>t-SNE dim 1=%{x}<br>t-SNE dim 2=%{y}<extra></extra>",
         "legendgroup": "penicillin beta-lactam",
         "marker": {
          "color": "#EF553B",
          "opacity": 0.7,
          "symbol": "circle"
         },
         "mode": "markers",
         "name": "penicillin beta-lactam",
         "showlegend": true,
         "type": "scattergl",
         "x": {
          "bdata": "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",
          "dtype": "f4"
         },
         "xaxis": "x",
         "y": {
          "bdata": "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",
          "dtype": "f4"
         },
         "yaxis": "y"
        },
        {
         "hovertemplate": "Gene family=cephalosporin<br>t-SNE dim 1=%{x}<br>t-SNE dim 2=%{y}<extra></extra>",
         "legendgroup": "cephalosporin",
         "marker": {
          "color": "#00cc96",
          "opacity": 0.7,
          "symbol": "circle"
         },
         "mode": "markers",
         "name": "cephalosporin",
         "showlegend": true,
         "type": "scattergl",
         "x": {
          "bdata": "lDSDQoAwhUJ0vmJC5AomQREGXkKzdTJC6Qu1QvliR0L4oTZCGW17QvwBe0IaEodC0eRNQld2dUJnm39CyypRQlXri0J9Mm1C3CCkQkKhaUKfpHhCYGSqQpyhjULBRXJCzTC4Qk7gdUJZUppC8VyDQttzOkLQBgxCwEyBQjvZY0LkulBC63uAQkDYQ0LS13BC7s57QgD9tUKXfLdCeE5fQvbTREJiIKRCqjhoQgAXN0IsrpZAEbdUQp4+HkIGTDpCDQk+QmLLvUIwfI1CW2yUQqzxdUKlVYZC+nEmQWRhgEK9P5FCIJwGQvX3PkK1iLlCdIlQQoEicUIlI7RCFlFuQjzWb0KLXK1CnWM9QiHSckLQXnVCLG2EQuFNZEJ7Y11CN3c8QlM7pkJZuVFC+NN0QicQU0IolyJCNNWJQvzwFUFL76lCaX+sQk9CXULcbD1CURGLQnsLXULRlodCiPhAQr7VZEIDbYRCDVqSQc7ESEJFBG9Ct4A+QjMguUK+rldCZImGQj6kf0I9PGVCGNuRQvwx00Bv8khCZbNeQpARgkJJ57VC7Rq9QotTZULQnnRCQkKDQhkLaELjvGlCzxgiQicNdUKZRoVCyjBZQjcmrULGnEJClqm/wN4wZ0K710tCeOJlQgPLeUIf50VCygaOQpAQQkLDdntCInWqQs/4XELyU21CmSFdQnG4VkKYbrpCOQhyQobX+EGoArBCNJ6EQnGHjEIKGYNCBbi8Qrg7SUL1IktCyDZCQiiHkkK9cE1CrbJPQu+BOkJXlmBCaLRmQoh/dkImS0dCLcBsQjG/ckKc9tRBGwFDQnrYvEKaja1Cxi6PQaHNrULoPxJCkFFOQiuhQkJY0TxCwiq8QkG2k0KkeV1CToyhQrXKPEIsjXZCprSGQkbJi0LQS6RCq6qLQroxpEKzJZBC44WmQYELaEL73o5CkJJsQhjNjUJQ0oNCJkBaQpTtbkLODXBCXQkjQr72aELVJKdC14xTQtNDR0LbSGBCXd88Qt/pa0JgB2tC0dltQlS1kELyQBpCimuDQnV5iEKQf0tCXsJ8QsxkK0KK+XZCXVqBQhPki0JYS1tCwO+NQnJmg0LSPGVCRFnfP7eOEELHC6JCGB97QsXbHkLBo7lC8tN+QuwBDEKveXxC6maGQm6Eg0FQQ0RCDhNcQk/oSEIblnFCqmWFQrJVcULKTxBCRPt0QhKuW0JKp5dCqIVsQoxlS0I7OKlB3l9sQllKhkLQo5VCFKE4QoovtEL/I0BCbrZEQpVUk0KJeY1BJvi7QlcaUEI9wkFCDOyVQa2gh0I7Rr1Cs70UQhcUgkIWvYtCASSnQsJ8N0LFMVFBZ2+IQhEChkIHZ2RCy+mUQm/hTELDwlVChoOFQljCWkJokWNCsNaSQtheVkKLLnhCnIVPQptmqULGPoNCczZDQpCLiEKDCHlCyJ4YQhcLWEK2hINCtslPQtE0vEIAq1dC2iSOQkzKH0K1y4pC0F5dQm32A0KqmlpCh46OQlDShULD3oFCCGq5QtJ+QELLSTdCmstWQtR1RkLDbz9C26+EQjdviEJWeWJCahqDQkBwuELhK4ZCSk2rQqtKlUJ+GUJCcwhVQj2yQkKjFgVCkCeBQqWXbkJGKrBCdwd/QnSPfEIxFo5Cdv6nQs8EFUJq2IJCqa1fQo4XfEJD8oBCzJeKQmlIukGh/3BCIwOCQut1lEKscGJCuBeEQiaxhEKikXxCvTOuQVSAikIh7IFC6fqBQiCUUkIvG6JC45wiQplmXEIOUE1CbiiAQqDzjkLqCtdBHxhGQkhNS0I5F3lCOUhtQrVksEJ3A3FCXkWCQiI3kkI+b95BYZdUQl3IcEI9ZLpC4/zIQZC5UUKITo1CHuGBQnNRR0Lcar5CdK2NQn3DhUFH3GRC/eqwQT0MBUKsXXJC+FdQQjAOPkLjYrlCzz4gQoMUj0KU1btCm/RZQv1wZEJj2p9CW1tEQnz7fEJKRotCnQ5uQuuqSUJg1rpC43eNQvJkQ0K18ZRCMSyQQgWkUEJR0HNCBrSGQpkbQ0I+a3hCZomGQrP5eELt1bxCNqOmQuvKekKejVFCdl9eQmnbZEKckLhC7w6mQmlWJEEVA21CsWC9QtDhSEI1vYNC+3uBQuZg+UF0GKlCrz9bQqaFb0JinGZCe5VtQgXvhEIaEm5C1n03Qt2TlkIhEXFCBb87Qp3uXEIvcKtCzhdEQuhoUEJdIkBC6JJTQs4hzkGs+mhCdaNXQmb6TUJVYolCz/tJQpCfVULNU2tCrqtTQmfy1kFzhopCdUuFQmTEhELWcoZCZCmYQq2ex0GVN4FCXdydQjG5kUK0QEFCms4oQtclLkJIhIxCf4KBQv86jUIdwYtCpJa6Qcg+YEI1PzZB1VY0QqL+hEIixL5CaAGOQQjehEKWSp5CoPKnQT5Yf0ITkEZCT1huQvVQhUKd6WtCNraQQkWPa0Kxnm5CnuqBQmiDQUKCcHVCyPP9QT49ZEKVL1hCeH52QtmfgkJTMo5Bn39oQiPIakK57GZCnFVWQvvtqEEIyWVCTQF1QvZ0V0ItEE1C5cWpQkljc0K8IGFC0ZiIQVbJjELawH1CZLF7QtPqpUJYe4xBL8A3QsMFaUIVf4FC6H+FQq9CZEIwpT1CjsKFQli3e0Jwv1xCl29vQp/NpkK1Q6ZCUfk9QjQtZkLmTmtCNeBGQl2JgUJ4EKxCiJaMQtg+Q0ImIhdCIlxuQupCtEJZK3xCQuttQoheZUL5K1JC2dlvQhB9uUKqZHdCxk9LQge6MUKKTKJCb8JGQt5ZhUIoiGdC8gHdvWmWrkIP6SdC8lypQjDU3cGRqi9BqixWQkH+xkHK0lpCZvqFQqtIRUI2U0FC2+VTQg5lbEKMaXNCGfdXQpyHb0KQ4qVCOshFQm4FOELCRWtCQxQZQoU4jUIwnWtCGGi3QhwQJ0J+yKRCKHm2QU4sFkFSVpNCuDZBQgN1hELHVWFCjFNKQnGKs0J9HilCWYS6Qs+BpUJ7cw5C4jZeQrH1U0Lm04hCkP5pQiIDYEL3/llClbpsQs8ZjULtIqxCNfYrQgm9i0KUw1NCg3qBQtqikELllkBCzESAQtfrtEI/wZ1CLut7Qob4X0J4h21Cyl97QuusdkKg4FtCUp5MQjABcUIqanBCJu9jQoC6D0L+w59BgXNJQjxKZkLJe2dCuOGNQuhbakLO7rxCuF17Qp9KSkKHxLlCLEenQiJVQUIby2xCSjBKQnBEqELiJVtCC92QQq8Sc0LAPvhBrOSPQvQ/j0JUZIxCB4E2QSvhgUJ15DlCa3uXQvlLpULBMVVC68bGQfeUUkK0nnZC/r1iQtfiVUIimFhCcI4jQi87h0LH9oVCicGiQp9XDUIFYZ1BcqmBQrDupEJ0sH1CMwSQQr2jqEKhSopCkIY3Qjr9XEL/qzpCmtY+QnMk/kHlTqZB0vl6Qqt6jkJQBjhC4BK5QhRYaUK1iYlCUBWsP0hKHUJrGEFCNXalQhQieELqkklCfTJOQu+EykHn4IJCI/5GQkW8XUJ14IxC0tFFQgRCfEJh/HRCUXBqQXsgK0KjL5RC1x6eQmseVkIFxkVCGS6qQtH8bUJ5Sa5CMX9bQj19REIF+rRCcplwQsdLiEInoUJCUuCzQjEyh0K4qYdCrZSGQslPi0JwD3pCN19gQjmYV0JE5YBCio+LQl6LQkLQbktCEzWzQqtqQULTb2hCv52OQjKQX0L8ioZCRM1lQsCDlELGtEtCwVqyQemrvEIGPHBCMvJ1QkxQe0LRhalC4tySQvRQY0J1doVCC2eOQotEUkKF0YVCafhMQshFg0K6STtCerJ7QisERUKcf4RCY11OQs4uWkKJD2xCYuhqQpKuXkIf0qtCzrpqQi6GT0Irt0RC9IMhQhzkTUInNmhCRKqZQpTXdULAP2VCTqSCQsbiW0LafQZClOZIQnW4i0LOpD5CQqNoQniYoUKisqdBZytnQj2xbkKPLZ5CTEWDQoxNh0IBbUzB3aGCQuqihkLPZ2JCUPNVQjK+kkLQj3FC9hZmQvNLBkJOP7tCYG2EQk5Td0KRFVtC7C9TQkJdmEKXpK1Cyim2Qm2+hUKLPl9CvHZgQvorgUI5lwBCNdCLQvAlpEL3BlNC/tm5QgDXlUIYGn5CZvWtQq21XULE6p1ChJ0bQpUbrULLtGJBWqM/Qp30uULwnrVCrEBOQp7hj0K4gXBCH5eKQsPKhkLyDP5BOkx5QszchEIF0KRC38bAQcAwhULsa2dC4bpKQv8wP0I0ZI5CKNFrQr9/q0LuQ4ZCd+urQvWoakIiiihChbFdQnpfNkLRtmRC+8S1QuRijUKCkmhC3VZFQtAcPkLa0G5CXI88QhP3QEKLQENCGqxtQuaZukKjaoFCCq94QkonbUIagU1CXzuGQkXekkIqmVRCF9JdQp8BhkKPWJpC3QdOQrQydkJfcodCRvI+Qs+imUJhj0FClXARQlgpcUIUvW9CAZQ/QniKVUKk9XFC7J0/QmE8jkI0pEpCRlCFQhTwH0LqSo1CNHZuQtMKQr/8uGJCLCGJQkEjVkJUgfdBQ3hlQuWMW0I8jbxCTJaCQvBERUI4cnJCsIc9Qgs/d0L3HyZCtnBWQqHfc0K4HW5C1fZSQrY7TEIW7RVBKMNWQtfXcEK+GJFCIDIsQj8BhkLSPaVC2euHQiE7ZULTwjdCJedTQlapikIoNahCTA+CQg4QsUINtwdCFTGWQtsjqEFQ5TtCN3c3Ql3Cf0LLvKZCmcfqQfR9lkL6/3VChaWMQv5JVUKXgVRCVoqBQhpdSEJqe4VCaJW8QqcsRkLNV4xC5BhqQt/wmkEMhmpCxhOGQSq7kUJY+4VC2YEzQgt9aEJ3do5CTOJdQnzzh0Jv9EdCcjF/QiJagEEH52BCkTxcQqLWgkIZXalCl5heQn+NyEGBAo9CZlFhQjrmlUKWs49CQ7KKQtj7XEJyULhBb99SQqrvT0I9vAY+PBKLQi0aa0J6HaJC6YpsQV8ii0JAY4xC1cwYQkkEuUKx/JJCavo6QpatlUG0U1dC3It/QthYUEL3YoNCcPlvQlXbHkLOb4NCT4yPQp0ccUJYgoZCHa2AQow7jkLCHklCgwtYQg/6lEKOn7dCT32AQuz1gkJiyW9CrKIzQRYBR0IjWYVCxyBmQk7EVkLdjkVCBQS6QolHPUL0QHVCJj6QQnVqUUL4d13BvbmsQh9xSkK9fUdCPcU9QjkwSkGe/lRCGp1dQieKs0KYK69C0phCQu57gMGLrEFCsH1vQi03QEKkuEhCIbZNQoNlRELXfnxCyL02QrEGZEIs9m1CsJx/Qh0WbEI7LZRCwg1QQnD/VEJrrUNCJM27Qrj0jUIdRl9C+C+KQrdyeELqX4FCOsZNQvQGTEG2N51CLzyEQrfygEKjaEBC/r15QnlqrkK9CItCzeW2QlcPhUJCmxRCqGikQnwMkEJRbX5CBe+3QhLPgUKghF5CqdNmQn/DTULs0EJC007tQQZBh0JsXKtCrZ5BQvUQiUJPTh5CMZQWQnCDkUKt7GRCJvFJQgutckLwM3VC6fcMQj6p3EF4MIhCnlluQi6bhUIlPIVBPX+rQraoskLIMUFCzX+GQm6+QUKOk3tCtyzlQV0fb0LVsoxCwSBoQlE0cEHJY65CuXppQgeTjkIGbIZCAAyeQiuvjEL+HgFCnU5UQjqKXEI0q1ZCc4BwQknbLMAks/5BD6ZoQo1RrEL5IWRCXEB3QuLOcUKT07dCCHREQmBnhUKViYdCTjUMQp1Sm0KjMINCJiSQQl6KXkIt441CCCGFQlmfRkJAm2FCtcc3QjepkkLrmIFCVSCKQjDQpEK2yUxCXY5FQu+IfkKgCwJCVoKWQiiIa0KmVJhCeoxgQg/7qUL6mBRCs3JJQpxuYULhl9rA4bVIQuVOVULQnHNCF6fDQRlH08GTF3BCBvSMQmWFhEKQ+fBBvIaGQldpZ0L/BXNCEOK8Qm7Xt0JE7KRCa79gQmFDV0JdoXZCQRRXQnTXhkLAU2hCvflLQnrxhkIFU3lC2c1FQjHUCUInGnRC2Y2PQS1EFEJpv3ZC0sZAQhyIRsGJLABCXRloQm3PoUEPd49C2ktvQpOkIkKS4l1CaN11QnV2XkJcobpCHGuHQlaVkkIudqRCujF4QjRjYkLTGIBCCj9ZQhuoS0Jrf15CH/2QQhmkgkIZDURCOb57QvsuX0JdnHFCIjODQoJIrUJCBnxCMQLWQUU/ZELGcmlCsKpHQrWcX0ISP35Cx3FNQjbHe0L0pWtCnfxwQrX5kEJeGIJCRYrCQe6BrkLCb35CqEJAQui3ikJ7NVxCiO1cQtT+jUKSsZNBYtVfQRHixUF1+itCimglQj+6ukINrI9CpRloQjasTUK4PjJC3dOBQk2bm0IQ8K9BylWfQrHLIUJN+IlCL2lBQrU8R0JbTchBxo1UQtMROUJdxo9CfgSIQtvTd0JxKm1CSyxwQo5icUKNMb1Cj+FCQmJmgUKxFI9CSLx3QgjvbUIG0zZCQ7SVQssrYULluINCbO1VQok0uEKXkYlCl2m1Qt1hSEJMylRCvf92QsWYR0I8xEhCiQFYQufQgULt7oRC08RCQoRQXUKaSFlCbiVGQobjcUKRPIFCi3iSQsMsfEJRO41CY7kiQrlmtkIFgEdC0I9XQmcBqEJ386RCUjdrQuHgt0Eluz5C+kB8QjMVdEE9CIZC6tE8Qk/ZuUIY9ntCqD2JQvhmQ0FPeFFC/p2SQu+rUkI/ILRCDzEHQpWprkJhLYhCVXtwQs9SRkJm4XhCpyG2Qn4Ja0IekLRCAxEiQsoxfkLrCnhCC0ieQt5vuUJfCZNCvWSNQmLwhkJ/47BCXxNhQsC/BEIyA0VCF2u3Qvn1hkKRCqvB5dpCQmcdRkJEvGlClw1dQrWPPUI1BUdCZzhtQirlDELnMD1CoWWhQjAmRUJC6mlCwwhjQlET5EG4AltCkJBzQrjdh0JZhGVCAAyNQoe6iEIbNPxBJOdVQsEbl0Itg0tC04mWPmrYVEJbloBCRIWiQs8yh0ISF55CcQ1LQitpSEKNq4JCpSy5Qj7WjUK/aURCOktxQrsvr0I2jX9Cl1t6QrERjEFdp2NCdqGLQgxtXkJiSqNCPp5oQkKNlUIaCYZCKZlIQvVbbEKPxz1CwSaRQp7dZULFwDpCv9hMQpAnRULHwGtCJ0ykQtw7kEKCZrpCXK2CQsffiELNyV1CoSSGQt+jjULAmWlCm+kDQmYwUkIHRpdCBKRqQrclkUI3tDxCMk1SQq5eb0IoL3NCXPRZQoTuVEJGbVxCsvZSQtOeQULT17lCY2mGQuVeE0INsmJC1PWFQnz7dUJcSHRCmrxFQgmOkkGGNJNCpa2QQrj4dELFnWpC/qdpQjq9REJv2zdCNkxPQimRfkJqmHFCGz5QQg/ibUIXsag9fMFsQh7jWkJ+qrtCF7GQQnnKikKmd1JCUi6GQvR6XkIypbZCCKpEQtd7SkIo3Z1ANLVcQtPrdELMKY1C6bqMQlXHOkKj5L1CnjdvQiI4QEBpYYFCQ6N2QixQuEH4LIBC1OVHQh8jt0IXuVNCfz1eQngLi0K7RoBC/Q6CQhqjVEJVdI5CPJOFQiZVjkKyaIZC0pVtQsjDhELGnqhCIDSQQioEaUICE3FCsxhyQsRDQUJlTzVCf1KxQgceDkKr3bdC+spnQjHIdUJle4ZCBRZ0QscVVUIWuHZCqVxkQviCZ0JIr7lCykCFQqoAikIgh6hCph6PQgaHVUL+00VC2ag8QuggXkL/g1ZCH7JQQSNJUUKYCz9CCDQDQj5hl0Hmp1pCpbZsQpevA0L2II1C/yM3Qgb7gUJy+npCWvFLQmmnmkJEIaVCCURTQswLHEJ2ZoRC1XBMQnXFZ0I6OU1CU16LQiX6R0ItUThC9CJZQlIWTUJdza5CTrtrQtCRlUJzU49C59FlQqEZi0I3HIBCQoZ4QgdFt0JR66FBjzhSQpXwqkGRfGdCix5vQt/thkLlJ3xBK39wQnZGVEIBakxCkWSJQr5GaEKfiIlClxpeQvfGBEL2IEFCmtE9QuQzaELdwX5CWTaoQrlVfEIVbHNC/PWDQrlqukLXMp1C+gQxQvjog0LQ8jVCd0SDQhlwS0JmyI9CLfwyQkgHQEKbwj1C5d0/QuJ1X0I4uY5CgVCMQo66ikLyhJpCjyqOQuRFh0KYPEdC5ySuQt7/k0KmdEpCUCUiQhERU0KUk5ZCvol2QvRqRUJfUh1Cuo5jQrWWXkJ4BilCj1E0Qpv/lMEe9IZCAmxsQoAPt0JqwD9CnW2nQuYVhEKUJmpCYGRhQsREdkJlmU9CHVZOQobh/kERAodC3P5lQlqueELUS6dCnammQolWSUIfInBCdSlEQiINSUKu/X5C6O06QgLkFUJLHaJBSrBgQqsLoUJtIIFC/qCNQifkUEJN4TpCIs+MQrGvOkIS4nhCkV9OQqYUL0L/CnZC5L+HQgRgu0LSGEBC7Q1sQkMcQUJlRnhCZ39JQrOyS0Ih4YtCmZmIQtsbTELWt4hCIztMQsQRoUISsZNCNweCQshfgUJNfa1C1DWCQnykVUIhVGdCCnGGQpDrXUISdbZChftjQnoVXkKzpz5Cogh9QjJbh0I5QEtCWQ5MQhNtrEIkx7lBfsBwQvAoPEIf4vJBFbS2QncYXELvF1xCis8oQss2VUJu6l1CpdJkQh24cELUn21CLbdsQnIpkUKZRH9Cqr+GQmRDQ0L5jaRBHDiPQtYVckLQa49CzaV/Qi5UQUJHIF5CZhunQsTiTkIAPO9A7EJcQurVokK+/49Cn0hPQrrNdEJWB2dCjhJPQrSnPELn7KlCytj/QW7VqELECLlCs//aQY4xj0I+aoBCTcakQlNqZUKR81lCtlF6QnrNQkLyhXVC+alEQtHBjUJgPUpCunpYQuu4f0KPfGpCknWNQpxgjUKiM0lCqftUQpaxvkIsxoRCYGu2QlHAq0ImyoFCqFh5QmaoD0KlcmRChp2IQjFdOUKtUoZCB05UQBhPP0I3tnBCgGRLQhkGu0JdUGlCVpV3Qk5UmkKcmoBCixaUQuIRQELMGIBCk4U6QnJbQULvXF5CP3sbQSKHVEJii4ZC3tNzQpaYvUGfGlRCXXlZQb3uTELOY4VCQJxmQuRMvEIX9bNCQ4tBQqsPSkIBFWxCc2ulQq4YUkK2xWVCCfpUQmqxiUIPlFlCuz14QsMPlEIHybxCueuNQvs+jEKx6FdCn6ZLQjaGgUIMtz5Ch7pFQqKjTkJ0F3BCNDSBQp4EZkIRV0FCxClwQq4UI0JOCERCh3OjQmE0rkJhy09CW4mCQtRmhUKh8EJC0/ytQsnyvEIgOoxCrEmEQiikO0K9AIZCE9p5Qih8rEK2Xo1CgIQ1QsiGgUILQm5CtRlfQiWKgkKa54BC4naTPmXvjUIeFo1CnwaHQqJllEJam21C8rZ7QtMttkLU61ZCi0goQg/rP8LTbU1CUuGHQhg5ZELKrFdCij2AQji6uEK6johCfEdFQkYxe0KiT4ZC50tjQnRNbUIzEEBCLdldQmPTqUJB+0NCEr+9QvHLh0JxRldCRIZOQi5hVkLHS3FCAw1FQkxNakLURW5CzCFZQtSKrEIaepJCp5qLQngDnkIk3mFCypCRQmA2gkI=",
          "dtype": "f4"
         },
         "xaxis": "x",
         "y": {
          "bdata": "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",
          "dtype": "f4"
         },
         "yaxis": "y"
        },
        {
         "hovertemplate": "Gene family=peptide antibiotic<br>t-SNE dim 1=%{x}<br>t-SNE dim 2=%{y}<extra></extra>",
         "legendgroup": "peptide antibiotic",
         "marker": {
          "color": "#ab63fa",
          "opacity": 0.7,
          "symbol": "circle"
         },
         "mode": "markers",
         "name": "peptide antibiotic",
         "showlegend": true,
         "type": "scattergl",
         "x": {
          "bdata": "hA+DQa33acGiyIJBjkMMwYfBDsJ8/ZlBPOy6QZPovMDGhIVBFAg2wGvxvkHvkcdB0hW7QQvXEELSDoFBnSu6QSaj00C2qJFBTOrVwdoL+r8Ee95Bk7JCwQCZAcKY1MBANYvqwOxLQUIWYMZAa5aFQciLkEH2boJB7YxDwVeHiUEzyadAI2eEQTZxVsHNOhVAxHViwbPeP8EoA49AVmqAQdiHccF1eC3Ajt9yQQkz3cFRtpNBZca8wDxZ+EEJMRTB904uwpnqkMCgxdtBIGQdwXpx5cFjf2TCwxYqwJLvvcDXLIRBooHowAL9+0F1oAFCo2/GQUT1MsA6JpBBWIqbQax8SsEvbBfCS2wDwboSu0Fw+rxBnFKbQVtMSkIxjJFBGVEnwqsqMcJUkzPABMi7QEifx0EexL1BgWuEQXaTAEJOxMlA0RLPQamVCkISUtRBl06/QGkKI0HEczPAyaIzwqNhmkE+V4vBonVAwfWlj0EAyZRB4mnGQVS7bkF5B8dBt951QURcscDzDMVBGU7sQdf1GcLQtp5BJhg8wNLzhEHTqIdBlHr8PbJK30HLHZJBuL4AwXIQfMCZ6YtBJiyZQO6kyUENWvFBS4qsQaF3x0HC4sdBLXBTwrsyxkF79aBBYWX+wC3WBUKCZaTAcEfIQW71/kAV0ZtBer/GQachkUGTCJ2/EO6PQfa5l0E3xeTB0nxBQULIj0FlHgDCdoaNQULtz0Hphs7BFffAQbcekkFec/fBrXdyQU1SrUEMnCbC8VSwQO4jhkGY++1AsdPLQO/iN8L2YgXC5D+QQdbg4MFeLTBCjuyZQUb5AELvK5FB22k7QgypyUHEhr9BHic/wXE86cBe/JFBtt6JQcbtfUGxzf3B/w3CQCfVLcFK+sZB5WabQV34isA3kyHB",
          "dtype": "f4"
         },
         "xaxis": "x",
         "y": {
          "bdata": "E3OGweJz/UDrfpTBhfGEwVtxwcHEpI3BuR96wVuYAMKZV5RB+vctwli97sFq06PBtRF1wVMNtsDicpfBS5KswW7tNkKxz4zB3T49wsFUZsIm3ArBPANuwiFmz8EWegbCZX4JwtWmK0KqEhtBhTtxwSU2pMEesoXBR9wlwnKlecFMl2LChfhewZneIsJKH7jBIT9PwoRnJ8LWW+jBydNmwTmlJcJNBjLCn2eKweM9dcJ8saDBivA8QobQFMGa3y7CCkAJwua4JsJwPUnBL4Eewt6atsGcG7nBjdQzwrZkFMH1dZFBS8oawiVJekI64GjBbEKywZeDOMIacYnBUGCdwaBeAsK9WA7CVuQ4wngCrcFBfsTBVkSKwfiTU8GxZp7Brgdewq94rcHNwLdACK5iwvv8ncFHuQBCmP5pwSRf3MF6hkZBEc0EwcprNsEnzQDCpfEewrJqIML+Iy/CKjpEwhRsU8Ej9t3BJA0lwlu/o8HGrKLB6/uowTWVisHnOqnBIk2IwYETRsJMnq7BKq/+QIwlwcGDaojBR58swv5BhcFZEmzB0K2kwWPiAML7AmvBWUSDwWdYwD+AVpPBDkDSwfXWs8FWOYfAVFLywfNTqMGOl6bBt2oVQrnUrsEDYQfCjX0Qwj9y8sAffTnC5ESjwYmj/sHMb4vBhuCnwciGncEqDezBhEWhwWaNmMHP5abB8dTRQVJ/ncHxH/nBXaSjwZPlCMGVR63B6OPDwesXkcHIr4LCnMiCwZ3vAkFrP9zBC2ZiwhVOksGgYv7Bx+IEwos8D0KGmljBikLSwEhp5kGQXsO/OpZSwfRcaMDsWhhBjt6hwFcOqsEczK3BToQlwmgaCsIx3YvBeWh0wUQ1g8FPIDU/USHNwfVNJMIh8a/BLVqSwcg0IsI/rnzB",
          "dtype": "f4"
         },
         "yaxis": "y"
        },
        {
         "hovertemplate": "Gene family=fluoroquinolone antibiotic<br>t-SNE dim 1=%{x}<br>t-SNE dim 2=%{y}<extra></extra>",
         "legendgroup": "fluoroquinolone antibiotic",
         "marker": {
          "color": "#FFA15A",
          "opacity": 0.7,
          "symbol": "circle"
         },
         "mode": "markers",
         "name": "fluoroquinolone antibiotic",
         "showlegend": true,
         "type": "scattergl",
         "x": {
          "bdata": "QF/0OoPWdsHXsbxB88TKQLYVM8K5z1tAZ+R4wLzdzkBYMq9AAGC6wcqlzUGR6olAsAGwwTtqzkGEACbBSr0DwuOYzkEv7dxBzxEWwjrR3EDxbtNA2UIhQNhoekC3nvc/Pt+gwRz4j0DFZy3AQ1WkwIQWvUG+a+5AVXmjwZ/ZhEDuhHG8ZaLGQWYWIcKg0WlAHmatQKoJ8kHHiJhBPL7XQVUavkBn3ArCLvhZQfKyJcKiIxXCBnzMwWIqoMDEwa7BGPxYQJb700Fng3BApevWQZP7jUBJIvzAVcxjP4zGtkApqY1A2f4eP7pTx8HH8KhAarXDwc6+5kENt9c+rhi/wVf4yEFRVdJBQ2PLQBfRfT9NeVQ+UK28QY+SNcLZXyRACPx4QAD9ykBN+bHBuo5owqIWOcJaUq093t37wVnHYMEWNaRA9DzrQMJy38GI3SPC8Re1QA6htsGalYVAyVA3wlBxoMFM7atBA6ogQkmu5UFWotBAiu03wlHK0EHcCtZAbMqtQYIiYEG2ddRAtoIBwsP6AcHoN/bBQjf/QR92VMEGU4RADdG1QMycscEHpbHBAxuOwdP0jcFJR/dAEYXAwX/AdkA6M6lBEi5hvt5E1kEC5ZbBdP7UQCp1qEC8zRZCbsgaQDoIxEC2E/nBR9SfQLn/tMEU44lAgPCuQc0/k0AFayLCyTwxQkrY3EGLqwlCnNSNQOhjC0LOeQFCF53EQLNIh0Cso8VBo+HJQdGHYEFSoa1ARtTiwUbKnUCqoeLBzKRCQbBBf0BCeydAATecQZcLnUGwEPpAOEyBvz3B2EGt047BVXLvwTv0hkCDvspAaLRgwI61ykGY287AFIPqPgrVzUEyI7E/pdbZQdU8skHpJzhAQs7hQZ1SX8DAm6pBs+i3PxGI7r5oG71A3purwQVZB0Etox7CQHUkQFO/SEJ8A49Agt72wZODmME/WptBifi0wUeyi0DwytxBa47XQTPElUDce3BATHrtQIyHscG4z1hAfT28QA==",
          "dtype": "f4"
         },
         "xaxis": "x",
         "y": {
          "bdata": "6+b8QWd+PMLAl5VBQ1SUQdDyNcKUTaJBL6qKQRk4pEF3HbhBjm1YwoUHz0AwsHRB1x4tQmOJ7kAezwpCCQQvwoDN5UA0Nv/BNrh+wSU1qEGDf45BbeWXQYOznUGqxI1BC3t0QRnPlEE+sTjCXk1dwj47lUFh7IRBciZuQXRFeEGiPJxBG0f7waZveMIgAJxB5HqJQeUnScEBsZBBZiH3wUPgkkF4igpCz6QoQdPCPsJl/oHBclBRwkAKO8LhTixCdnmfQc80A0FC4ZxBGDwJwmJylkEi4TrCGPGhQThBhUHHZ5xBKsyAQfuU58Ak3q9BjfAZwvqEh0BZf4BBasUkQoorPsEApUPBVjqSQXRookHARZ5BFreVQYXIRMIBlZdB9eV1QYb7lEHJPi1C4ZrowQwjPMI3CZxBHcMmQVQ7zEHqybBBXzz/wbWIoMF/B1XCZPaNQV/wa8JPxKJBK+NAwtmYdUFiE0XBh9oRPfIXkEAgzaJBanotwt529UCuAYxBZIVPwVXA20GisZZBO7dPwuOM58FYcMbBqoBXwcaFfEFrvG9BKD6OQQEfLkIHHi5CoRSYQNqBnkArYY5B2NUyQhsJnEHwqfbBQ4uZQXZp9sHtYNLBYqWMQWg9v0G3COPAos+WQZsgpUEmUEvCnG2+QYeHa8Ll9HRBvjZEwVR0okFDri5A5C9Gv9SmX8ECzCLBQxqjQbOR+MBoVo1Bs6STQXyzkUHhEsXBMpYPwlhZK8LgXo5BVKeqwV9Uo0GEnKlBInjpwJ2CcEG1dptBK74DQhuMe8HFk3tBqP0YwnuJ88FKzznCsIwmwm5BnUFAEmTC0B1UQS16kr/9aDvCJLh2QVzN0UCBJZhBQh34wYLADsHBwZNB/J0ewl0EVEE4Qi3BJkaYQUzAl0HouIlB89AoQsPvjkFz3yvCb2eZQQ7LTMHxw5hBmynevwfvRMG4aARCDd+IwRtNn0EM2h7CKFBOwXqIpEFFApdB4JuFQXNhLUKa+5ZBAcHtwA==",
          "dtype": "f4"
         },
         "yaxis": "y"
        },
        {
         "hovertemplate": "Gene family=lincosamide antibiotic<br>t-SNE dim 1=%{x}<br>t-SNE dim 2=%{y}<extra></extra>",
         "legendgroup": "lincosamide antibiotic",
         "marker": {
          "color": "#19d3f3",
          "opacity": 0.7,
          "symbol": "circle"
         },
         "mode": "markers",
         "name": "lincosamide antibiotic",
         "showlegend": true,
         "type": "scattergl",
         "x": {
          "bdata": "w2imQYAnAcJmLxdBjzA3wjXnUcIzQrjA93jqwbCty8FM2jzC691nwmXNIsKR8gZC76mPwkn7D8EZ8OJB",
          "dtype": "f4"
         },
         "xaxis": "x",
         "y": {
          "bdata": "a6oPwCTaekGaxi7BrucTwiQIO0DFQChAiPAFwvmJTcJ9bKdBaCGIPvGPyMFVrzHBYtzAP5hyzsD5ShbB",
          "dtype": "f4"
         },
         "yaxis": "y"
        },
        {
         "hovertemplate": "Gene family=pactamycin-like antibiotic<br>t-SNE dim 1=%{x}<br>t-SNE dim 2=%{y}<extra></extra>",
         "legendgroup": "pactamycin-like antibiotic",
         "marker": {
          "color": "#FF6692",
          "opacity": 0.7,
          "symbol": "circle"
         },
         "mode": "markers",
         "name": "pactamycin-like antibiotic",
         "showlegend": true,
         "type": "scattergl",
         "x": {
          "bdata": "5E8EQg==",
          "dtype": "f4"
         },
         "xaxis": "x",
         "y": {
          "bdata": "6x4jwQ==",
          "dtype": "f4"
         },
         "yaxis": "y"
        },
        {
         "hovertemplate": "Gene family=glycopeptide antibiotic<br>t-SNE dim 1=%{x}<br>t-SNE dim 2=%{y}<extra></extra>",
         "legendgroup": "glycopeptide antibiotic",
         "marker": {
          "color": "#B6E880",
          "opacity": 0.7,
          "symbol": "circle"
         },
         "mode": "markers",
         "name": "glycopeptide antibiotic",
         "showlegend": true,
         "type": "scattergl",
         "x": {
          "bdata": "DXe8QakdMMECsVVBX8KXwQq620GTgzzBotUnQrHCl8AylhJCSjotwVnU7MFg8QTCEPniwYKHKsGuejHAPq7awa45UcJ28hPCapi2QRN6nsEzvHfCigSewsOvysBkOpzAKtJOwQwUB0LzIdDBFMEhQXObvsF1gPpBQAiJwaFEqEEotbnBJVDKwXpQmEH1aWTCJU8fwWllOsLGJzXAjA0Pwkd728DIPJxB/BZOQXJ0UsGHr3pBKoJSwhihQsL7TEJBOHAiQS+vo8GQFIjCsEuBwK0VNcHqnd1BC8kOwrKUN8JcWf7BOcI3wsoMLkLK8UDC+i8eQryFIMKEjppBcrKKwYFQ+cFi/hVBtPQYwYrQLMISfu3BkFAOwnv6b8EVvdPBBz37wI1C3UHpdyDCQfRrv9v6VMElURXCpioSwr+t9MEvMm3BbS1bQfp4aUFQLsfBrDOtwfe0kEC4qfzB7uzrQcXfbz9aQ5q/",
          "dtype": "f4"
         },
         "xaxis": "x",
         "y": {
          "bdata": "b2r9QPvMBMICFiHAvsthQRrFM0FE8w7BPICfwdfslkJ4dSzAgmipwRSzpsAorU3A9JALQrmouEDCi4nBVbzCvyuSasFrn5HB1bmYwdkuY8LSnZpBYjSyQFw1D8Id50bCS+amwIbIusGXSAtCQ9Q/wXYxKcIH/kxBo7EOwGNW58FtlixBxLI0QR0PvED2IINBZu+DwsQqLcLNH+XA4fVvwUYLAMEwjLrBfD2jQY/iWUHkER7ChG2GQbB8m8D+ASJClV8/wpVfYcIGWclBS9jAQGmTw0Hy8/DB7TecweE87UBl8TRA9ZKjQG04tsGT9gJC5JbGwaWDTMEIgKhBtI7FQFfNdcKdqZXAfIkVwtGYVEF/SwrCsegCwomA1cGoR6DBFTIfQVxugEBkgm/BEQEVws5EDkIVRG/BVSz9wTlLD78Qh7ZBcR3oQUAOzL/roTzCyu64QVmxBUJOXyXChML0QJtPvME/o7xB",
          "dtype": "f4"
         },
         "yaxis": "y"
        },
        {
         "hovertemplate": "Gene family=rifamycin antibiotic<br>t-SNE dim 1=%{x}<br>t-SNE dim 2=%{y}<extra></extra>",
         "legendgroup": "rifamycin antibiotic",
         "marker": {
          "color": "#FF97FF",
          "opacity": 0.7,
          "symbol": "circle"
         },
         "mode": "markers",
         "name": "rifamycin antibiotic",
         "showlegend": true,
         "type": "scattergl",
         "x": {
          "bdata": "0P4AQsXvb8KCZtlBjZ37wRL/5sG58DXCaWGxQcvNDcLZtAlAhw7JQeaIF8Jg1VFBoYcUwsGEJsKpJg/B1zebQQnx1UF0wglCsdnnwVrnh0FgEiHCiAsbwho0AkETQBTBbcLMQREOykGB8CfCWqgCQrbqykHASgrCACS7v58fHcLrbgxCBD3BwEco70FOthLCxhPsQRB9/sE=",
          "dtype": "f4"
         },
         "xaxis": "x",
         "y": {
          "bdata": "nqZVwRQp2sFgOR3Ct+4kwm6noMFnhEDCXcIjwQoHb8G+xdbB6ZYvwWZO3EHy5DXBx2foQSkTP8IYul3Bt7QSwY1uHMH/BF6837AcQkXxV8E06+pBwKNNwugx/kGPR2bBnlANwix3RsGywSJCYWRHwc40C8IThhFCpcEmQIby3UGKlqFBu1AawUFR4sBGbzPC3CoOwdn5MUI=",
          "dtype": "f4"
         },
         "yaxis": "y"
        },
        {
         "hovertemplate": "Gene family=phenicol antibiotic<br>t-SNE dim 1=%{x}<br>t-SNE dim 2=%{y}<extra></extra>",
         "legendgroup": "phenicol antibiotic",
         "marker": {
          "color": "#FECB52",
          "opacity": 0.7,
          "symbol": "circle"
         },
         "mode": "markers",
         "name": "phenicol antibiotic",
         "showlegend": true,
         "type": "scattergl",
         "x": {
          "bdata": "+4C/wW8cy0EFvYHB8i8ywi2ihsH4bhRCW+0twhYYZ79iBCg9pmk3wXPjWMIWkifBzUlHwgW/ZMJ5L0vBcjq4vyHmncEqOuBBckZSwU2u90HgUMFB5YkQwssKmsGxZujAHtSNQNWf18EExl9B2wLeQeEmPEItw8TB5gCwwblY1MEFau3BVnATwgIzG8K0BspBWP4fQZ91AkKahfNAN/6WQbskpkBl87tBSLC7QbKiqUF6pn/BjOMbwhsMSMG/KgpCqV36wYywmUFEvOQ+9yP5QZFujcFPWRzCHFLkQWzAA8I=",
          "dtype": "f4"
         },
         "xaxis": "x",
         "y": {
          "bdata": "GBKzQDE6o0Dv1gpBKLFPQa+kVkHddIVAHDLLwWyAnUAZitdB1M82wkJhFsGrbANCVFvAwdlNsMGsNFfBB99KQVvrlUCHpxDBFH2BQcv5rMF2Mf3BVjh7QHJndsFSogfCf4FOwmOySEFU4QvCaI2SQfNUgcE4V5zBF9LQQdk3R0GVCMPBjgA0QaVLS8KE+AnCV2P7wJiCikFZqEbCNdLuwVvqrkD7e3XBlk95wQM068EbxOy/bYTXwEVaEUHoiTjBmJckwrXpEMGxWQHCvMFZwY93nUCk9oHAtkMVwh2G4cE=",
          "dtype": "f4"
         },
         "yaxis": "y"
        },
        {
         "hovertemplate": "Gene family=aminoglycoside antibiotic<br>t-SNE dim 1=%{x}<br>t-SNE dim 2=%{y}<extra></extra>",
         "legendgroup": "aminoglycoside antibiotic",
         "marker": {
          "color": "#636efa",
          "opacity": 0.7,
          "symbol": "circle"
         },
         "mode": "markers",
         "name": "aminoglycoside antibiotic",
         "showlegend": true,
         "type": "scattergl",
         "x": {
          "bdata": "ukr/QYAysMGOXRBCwO3awa3c+UFIWMxAlsIUwl0GEUGFnZ3BqJHcwZ+Pr8Hf0BXB7PwwQtBhIML4hsTB35srQdekXcFul33Al4j1QW56zMFAx/LBGK0IwlhB9kHT7c3BdkQQQKltc0B7tqNBNiU0QvCdrMCdFAdBRG6ZQb8e/cFgHPdB4zndQTPOqcGl+2rB3WPMwSlsHcElI67AXLEdwg7rsUFVh7rB9EAGQqG9Mj5oSedAlAkuQtm6LcKUY9FBCnUdwmJ75kHwbf7BjfEFQKFjXcIdBZRBFRCWQkM1m0EYzdhBL9gpwl1dEsJErXdABgp6wl+cHsJ+v/pAm4dJQRPoCEBrwRjBIVDFQVqcAELk85/BDFcXwdP1sMFgiIW/Ra4bwhcmrsLyrtVBhqi5wTNBEEL3o5xB6oArQh+gz7/RLiDCFAZfwvo8IMKYdfJB4+3ywX5aIEFDU6LBL//uQSYJZMJypP3BV4+9QZ901cFq9PZBHukewhOqFsK4HhbCDoqzwVXE8sAjoJnCZ5UGQp1yGcIjLfBBVVfSweiIDcIJgu9BKPkLwvG09kHnG0/C9AAAQhVREsJSgzVBmIrVwG5W2MEuJI9B+5A6wZSaH8GUmvJBlGcewe7jEkKQLNPAdHgUQqPVOkJa+hfC1qLQQIf8EsLT6D9Bp3ONQYDPZUCHYlFB43T+QcJp7UFb9wDBWdmewSJCTMHQs+1Bw9r5QbXkqMGuuPfACI8awkp/bsEzHP3BvY/hwCykCUKo8wNBZRUhQXDJA8IqZZBBzcLuQQrTr8EUgMFB/Dm/wZLB40F35nFBxuwXwmX83cGtu0TCZrocwn9YQ8IbcirCa9a9wYjOVcLOb9JBjXFxQUPoasFlRo3CdKjCQRwBiMGns6hAeV04wf/OwsG9mVVBNLYBQskHBEJ/hJVB6a2kvzcK6sG5rNnB3LbAwamt1EF0Yf5BvrD0QRVLD8LS7SdC2CQ3whfP0UAc9obBuZQJQnR6qcJ7oP09LIXEwYeAr8HAeyfCj4oIQR2cHcJaLglCnn4fwnI4/0HvmQRCyMa4wWbRAkJZLh5CUkHnwEuw5sFiQbG+1j9Iwkf+B8L7U35BXbaZQWEaub+abKDBli4DQkad2kCdV/BBU54JwqsQGcEQ9dBB",
          "dtype": "f4"
         },
         "xaxis": "x",
         "y": {
          "bdata": "3j4TwWyYIEJalVjAsjYMQmk/u0CrYhFB42roQW4nVsGXrE2/4IMuQr2MMEIBK7pBzoKWQIC+lUA27lZB+0DsQVKwQUFQFRHCFmy4waL0MkKfILbBkh81QRShFsE+mfZBoFnrwe2ma8ABpjVA1Bh3wDaxC8JJh2PC+2vswW5NI8JmleRAJR13wfHbCULibtLBDlm1QXkCDUL49gvCedoOQmIQUsGZDiNCgumhQR4xckBopVXBBTtUv8WNDELGJAfCy7lwwFDwE8J+LrLA87fIwPlTDkKs9ttA7UAHQeOHe0GfomXBBBcuQhXqi0FgLWjAvdq1QTNrxsDrYGXC3U+bQStUt8FI2NY94ESiwMLVo8ASsHZB5oI5Pr8zLEIWzQZC0/q8wba7W0G2/FbBuCsUQsvyXcAP6WxC70QhQX+bG0L2c/RBdkvfQeusB0L9KJZBdwcIQqlg40GRAF9BkyIZwrVI80G3nCbCVZi2QaaGtT+phzNBekRwwVlVTMETWNxBL/zwwPWqN8L/dbpBYfKZQVkB5kFKC4zBZhOGQVhwAUFnRKXBboE0QRktMcGrfmBBySjiQJHGScE4LwzCOPbQQfbnHkIVXRrBv2jeQeXypUGRezZBDzVMQbNEJ8HcbyVArzfgQILJN8EN0ihC1W30wah70sBGalPCKvkMwSu9/MGSJYtBWGb7QEhIh8HVXN1B6LQvQVZa4kGU8xnClgW9wChNQ8HYqtxBA4PDwaFe5ECs/QZCA/PxQVWwmEHWW8ZBQRpHwZQCZUGI5xxB+AnGQA84L0IQJfvA+6EiQtebiUHK4aBASDfOQfw4IsI1qIBBgWBVwb5sfkElWSDCVwojQsm2wECfQgLCIg9WQVw1N0GtRJ9B3w53QTetcMAi/wJBHOT5QT1vj0HOU0lBvYmqwUQXc8EVrwtCzrZKQtWBKkJX8CPCxjMEQuTfAMK0RuVAegdFQbrx+kFADUHAH60JwXJTBEIsSkdBLOnEwelzKEF2W3VAnNUtQr9HUEHhsTZCeRuywSIXFcIDI8jBeki7wfUe8kDYCBPBEmwLwggUG8F+lMXBgbLmQSZ4AcG7PxvB2ECWwM0lA0JhkepAdNvLwe3phUGcNnRBugYbwXVZ/UDbu8VAD2MBQn5dXj+yUdpB",
          "dtype": "f4"
         },
         "yaxis": "y"
        },
        {
         "hovertemplate": "Gene family=isoniazid-like antibiotic<br>t-SNE dim 1=%{x}<br>t-SNE dim 2=%{y}<extra></extra>",
         "legendgroup": "isoniazid-like antibiotic",
         "marker": {
          "color": "#EF553B",
          "opacity": 0.7,
          "symbol": "circle"
         },
         "mode": "markers",
         "name": "isoniazid-like antibiotic",
         "showlegend": true,
         "type": "scattergl",
         "x": {
          "bdata": "W6rdv4h17EFN6oZBEzjKQeYIP0GqAu5BsoCdwWyWAkKDXPVBFULhwRqCNcICxwZCY+SKwNt590FnC+ZBhAEBQpeQ8UFtR7vB",
          "dtype": "f4"
         },
         "xaxis": "x",
         "y": {
          "bdata": "0Vz3wDzKGsJEUzJClSgCwTi6s0ELX4LBrhQ1QSwCE8GeRczAc1+oQei9K0FSZZdBRokXwo5rIMHIhFjBhTawwS0UlMD1r5jB",
          "dtype": "f4"
         },
         "yaxis": "y"
        },
        {
         "hovertemplate": "Gene family=macrolide antibiotic<br>t-SNE dim 1=%{x}<br>t-SNE dim 2=%{y}<extra></extra>",
         "legendgroup": "macrolide antibiotic",
         "marker": {
          "color": "#00cc96",
          "opacity": 0.7,
          "symbol": "circle"
         },
         "mode": "markers",
         "name": "macrolide antibiotic",
         "showlegend": true,
         "type": "scattergl",
         "x": {
          "bdata": "P5UeQb2is8Dw3qnAgx1kwX+7EkGxZLU+laW0Qe8KCUKoqBJBhZjsQde89kGjwwvBGWo1wlUJ/sGhSGzCIyfSQcT55D/0HgtCRhGxQXiOkL8liz1Caf7swbhEUcLOI+1BIQ98PjC97MEI9wNCASLsv+Jn+kH5Qg7C6wi0wI78+8HyaftB1GLkwRoyrsExzVrBS/HrQd5IAkHJPSLCcdkPQi2Mx0ELUCLBdJDOQZGBgMEaaM9Bph92QVUaAkJhEu1BA/P3wXqEvMG4hNLBPKRGwhWQMMLP6MrAxwYkwhKto0FhIHzBNU8DQor14cHE2HHBGPIKQjlCBkKJR1fBEch4wO5fAUKFnMBBAdC3wdjJsUEuPNFBc/YCQoSIsMB5DhVCGnOMwZDFxsHW5o7AOsEAQkCGxcD1n95BlLaFwUv2/kF/m+RBTXYVwQ43esFB0+xBdCcoPUwm0EE78P1Bdornv/OoOcIj5JBBofgLQijSn0F8jkBCgOCkwJuhFEIUbEDCUsoTQrnL/kHZ4JpBJ4qOQdltaMHr9tVBjqeYwdBlzECSUxTCsP3uQZlt10GnOvNBt/PIwMX4BcJsaabB2/Q9Qlst4EGm2cnABvHrQZCL+0FGgdxB4NITwhEw48FqJ/hBxB2kQYMrR0HgvxfCkr+wQQbtqcEn/QDC144nQsRaGsLM5cpAL8g2wPEOrUFtNQVC6FI3wgc+7kGefQ9C1fJBwks1lsAsE9pBncOaQTIq+kEVXVtBlXo0wi4TwsCTtONBzBPovk+8ukHMLzrBQx4qQI559MG1sivCtCgywd0S8UEMsNpBRogXQsmbcEDeHAZCCp6ZQPZAFcIOysFByMwIQuRxo0FhVrLBelzjwNcPSMGPyxzCEki3QT2apcB5L0HBiIR7QEXHAMLzv9JBpGneQZtdmkGIgvfBXKrXQaW3gMB6kwhCT+yywHFJ50F2JGfBEq2DQPe3t8F116DBNZJIQSBCS8IBjutB",
          "dtype": "f4"
         },
         "xaxis": "x",
         "y": {
          "bdata": "qT78wKYHjkFTiQrCbo7hwd9DT8Gj9YfBuJalwKsFU8GcLoTB17XBQQwIOUEeZxLC6bLewdbROUCZMDHBTsqXwEYqBEAcHTe/c5TswKov3cEGKDhCZQcnwrQFZ0FeeU9AcfaIwS6ZAsK6CxHBK5oeQhXCOcGcGVjCwCsJQFgFTcCeg05BxyrRQVD8y8B/79jA9/oGQect/0HiuaLBmZxOwJdeOsH2hYLBqG5qwWclMEExvBHCJ3VJQRqWVsFlTq9BwWs/wlT8s0B0PsjB85wYwqnpHMCCTLfBvA4Owrgi7MH/mgq/UTMRwboI3sF4UtfBYp0hvxVWNsE0p4lBBZzUQTJUikEr7PDBr01SwipiNcF36D7BIUK2v7BhWcECNNzApTptwgQ5n8FkB/TAozSkwXzbmMGRExXCY7FAwjACwsB07fjB1KAwwvE020Del+DAN/neQQN/acEzNFvBo1BaQXLG0cGS3hzBNC3QQCIqaMFgSEzB8WcFQlWZZsCGSC1Chz+LQW3nEsEfLbhAQiwdwTo2dcFJdEnB7WWkwGMOQ8J7Qz5B11lewTP+WsEyXR7BCEu3wexhQMKSlF/C/H2JwEOnIcEfcrfBexMTwnI4XMGF8DnBv61Kwe1sCsIR0ALB3aw5QbjBskHvEHHBeuTiwN+76MEwmBFCMP+6v8sQRsHi7mPBjyFjQnsCMsEJazbBg6hCwikK3sBhm1fAP4whQk67QEJRu2XBgon6wfb8TkH4ZahBaHg1wvsTP0FJDxbCOeVqQDFdmcESaBPBqiLTQXkOK8LOdpbBFW0QQljVGMEGohfBOdrGQHPmBkKnrp5B8UFyQQxSW8H3nQ/Cw2V1PijDOkGCju3AopbxQQW7UMK4tX7B4gsMwY454sFDa95BzCxbwo7Xz0F4OWXB0IsAwjiFEcH7IsnBC+cLwlW4y8Hw5Zw/ghXpQQvIEcK3yg3BAzEkwjFD8j8v0QxA72+YQWuOnkEP9RPC",
          "dtype": "f4"
         },
         "yaxis": "y"
        },
        {
         "hovertemplate": "Gene family=disinfecting agents and antiseptics<br>t-SNE dim 1=%{x}<br>t-SNE dim 2=%{y}<extra></extra>",
         "legendgroup": "disinfecting agents and antiseptics",
         "marker": {
          "color": "#ab63fa",
          "opacity": 0.7,
          "symbol": "circle"
         },
         "mode": "markers",
         "name": "disinfecting agents and antiseptics",
         "showlegend": true,
         "type": "scattergl",
         "x": {
          "bdata": "K7xiQa8x2MGiNBjC4hDWQd40/cHL4QdCaQHOwRfnB0JpIh3CAWoqwsYG30Fb5sBBzSz4wcRCnkH85ApCeosXQi+mR8IZP23C14DjQSe0CEIUgFfCUhQfwpnKRcLf3CHCYinYQcDSUME1VvNBrWftQYaEA0K18/9Bp5U9wnM5p0E4bO7BY8AwwuLHV0H0zt7A8SIawtxuIMIrqFZCH8rwQF07PsJhSB7C9BA/wrTafEH5oARC9zshP7cHCEKCE+ZA1vLcQTkYr0F5J4NBp7qbQXcC4EFc11VBtSbeQTwK+UFITwlCUZV6wvVjlcIPi4xBMZiTwiWDLsLVWAo/XDeUwpY1aMJTyBdClaPUQas1G0JgUVrC8sm9QZ6o+EG8CgpCMqPuQezsT8GVxulBMHYwQpjcD0G9PHlBN+72wXvOAkJBpIhBrPv4QUiJe0GzgAFCBY/ZQSKVUUHKr+7AEUwHQtufbcE=",
          "dtype": "f4"
         },
         "xaxis": "x",
         "y": {
          "bdata": "WjxRQUfjHkJkhQxC6ZzzwI6VBsEcncZBebQzQqzHGcEBpCXC5bo6QjT2z8FaiQXCWmuxQYrT4UFqsFXBUXuuwD4vIkJ7lRtCgvEewsFDZT7vTulB83eEwbd290ESm1vCsmgEwgw07MHO0dHA7l+FwQJuucG+hOzA777cQaXCeUL2ZMxBsVEuQhmOLsErgAPBJRzBQb2qIEKFqibBEjofwALRA0JdDCjCYAJUQXE4iEF2+lTBM8LSQPSdKEDVhc7BJIU4wStBU8H3yQ5BHs4JwVBUCr+sl0ZBiLSWvrzhI8FjZLRAr7bvQJrrI0EUZClBiHzrP9yd4MCYJ1/CAID/QaAew0E6yxJABVsGwni5ncJeygxCMyXpwEhyhsDZLofBP4N1we/VYMKjgxzC1TlkQHkthUG7owlBFNQ1Qo37vL/hMdA/6dpEwRVuu8FUgKDBNQUFwqK1E8Gpu0fChQ1Pwb+zeEA=",
          "dtype": "f4"
         },
         "yaxis": "y"
        },
        {
         "hovertemplate": "Gene family=phosphonic acid antibiotic<br>t-SNE dim 1=%{x}<br>t-SNE dim 2=%{y}<extra></extra>",
         "legendgroup": "phosphonic acid antibiotic",
         "marker": {
          "color": "#FFA15A",
          "opacity": 0.7,
          "symbol": "circle"
         },
         "mode": "markers",
         "name": "phosphonic acid antibiotic",
         "showlegend": true,
         "type": "scattergl",
         "x": {
          "bdata": "nPBPwkQN1EENiCfCI3olwksq68Hu6T/CJZMCwufGUMJkLlDC/0bnQSEBi8KYoE5BnzloQCwnikHze2XCxuC+wY7Y8sECgkzCX6DgwZlF1sHOywvCAZ1PwhUi17+J4yfCk7zRQZZA/cFg1U/CdfoVwrx0W8JFbOHBV3scwNGHysAZmSfCJQVDwok1McLmyVXCpKpJwuLzHsKuzQrCzfKzwXfUA0LylNtBu1DUwYn5QMKp6RTCIGZywg==",
          "dtype": "f4"
         },
         "xaxis": "x",
         "y": {
          "bdata": "5YLvQBxnCUDx3spAGtY0QnqhNkJk6XZAU/wxQjEJA0JOBvVAPgpjwS2HA0AzaznBYTBnwieiJMELopJAbtgeQuK8KEKoBIFB+672wbY1H0JTv7NBGeXuQCSXbsJgwZJBdukEwTq9gEFugO9Aq7+HQaL3M0H2xZXBxIP3vgEoO8LogYVB31KoQfNq4EHKcOC/6WNEQatAEcJKZ8FAk4QhQmyn08EDsUHBYS4vwVH7yUGMuxJC8TWKPw==",
          "dtype": "f4"
         },
         "yaxis": "y"
        },
        {
         "hovertemplate": "Gene family=tetracycline antibiotic<br>t-SNE dim 1=%{x}<br>t-SNE dim 2=%{y}<extra></extra>",
         "legendgroup": "tetracycline antibiotic",
         "marker": {
          "color": "#19d3f3",
          "opacity": 0.7,
          "symbol": "circle"
         },
         "mode": "markers",
         "name": "tetracycline antibiotic",
         "showlegend": true,
         "type": "scattergl",
         "x": {
          "bdata": "4aL7wPlfMsLvZYZBVbPiwO7FBsII2ohBt8fswWUrJsIb9Yo/KaVUwgFTAkIhpexBUM9GwQyRzsFHzqrAInHJQWRYTEFUWiY/jNAxwnDWLUA5DDXCswi2PyAjCELxoMDBglEeQVbEK0IFf9vBjEXVQI8SikHxM2HByhYNQldPiMH0WJVAVGbnwGERwkG7FuS/ptMPQurW/0HgzOhB5NujQH5SZsHqIBJA9Q0jwgufKcIQ7u5Bl6TKwLcIyMBfknhBBQLKwdQT8sGdWstBv448woDfqkEbmPRBNc6QQS5vJkErWqdBlGxHQknSPUIrnI1BtJxXQjUC80G/TTJBADwbwu+mNEL4dJFB0/lQvv3Z/EE6oiFCMd0KQk6P8sH+HuzB/vcJQlvfEsKkXN5BmkpbwgVxScFuCsjBXnbywMVU9sEMLaBBZMsiwn9b+kHDkYpBgzejwYVQKkGUZ7lBnVw/wXQ9KMIGxOtBGeXZwaAx1z5rlfVBE3QGwlFREsIJefbB0ucAwbpLc8I=",
          "dtype": "f4"
         },
         "xaxis": "x",
         "y": {
          "bdata": "JbMRwieUQsJ+IJlBhzeWQaFvhMF3kry/1oW0wRpYK8J8hnHB8N0JQlEOdMBEpA7BlrTjwGAejcFTDxbBkgYOwnh52jxF4SvBI3ojws4SvUB++jLCfgTEwCEH2cCbar/B8loqwut+IMFyvCPCH7LOwJgSW8H6qiXCj2CrwXei3MGJeQrCMzL/wLBpG0Iw0m7BcYDIwEJSysHXzhjCJ+3gwbWec8EIiwTCkM+YQXS29MGsow3B3kE9wkbu3kHoq4tBJcOswQDQwsHgf/TBf3Y4wr2K/MCHDkTBgEArQDeU4MEYF1LBewK/wBoqhsEnZp/BTAVEQNrTysBRSTRAB0+fwVqY0sDlrF7BcHvLQbObecC7H9HBP9pbwaevKcJWkIvBo0mEwTpF0MHDYxrBQZcAQiTwbcJAMVXBBtwZwtZFB8EhCgbB41WnwX4RvsAr7Qo8vCAwwrsVX8IFY+fB5TStvryBPsJxyA/CT3CsweQvL8H3m0vB1gsqQgCjqMH2LSXCz9ElwTfB6cA=",
          "dtype": "f4"
         },
         "yaxis": "y"
        },
        {
         "hovertemplate": "Gene family=diaminopyrimidine antibiotic<br>t-SNE dim 1=%{x}<br>t-SNE dim 2=%{y}<extra></extra>",
         "legendgroup": "diaminopyrimidine antibiotic",
         "marker": {
          "color": "#FF6692",
          "opacity": 0.7,
          "symbol": "circle"
         },
         "mode": "markers",
         "name": "diaminopyrimidine antibiotic",
         "showlegend": true,
         "type": "scattergl",
         "x": {
          "bdata": "RLhNwjtJEMIls8TBHCifwIfKXsIPXO5BBF9LwSJWScHtsk3CEJEIwq2pMMIajsXBVfELQg5YpsInOkDC+S09wkKeDEIkT8TBePLywVQQTcLND23CHrE0wn6cj8Ek89/Bt4IlwvmfNMK28PXBvQ8dwuM45kHZJgvCJannwX3fzcGtx69BEkxNwiT6FcJPRuLBuAsqwtKaHMI1qE7CxDUGwjtNW8I+uJDC18ZqwqABIcK3FjjCtdJkQfoD1cHWmhPC7W6Uwq3WmcIRyC7CiNKFwvb3OcLk0l3CpkYtwnNZkcKYiIXC6HlIwvszHsKQn1/CS3sGQbbTQcK/y0XCAws0wra8ZMLLmiPCUwqBwg==",
          "dtype": "f4"
         },
         "xaxis": "x",
         "y": {
          "bdata": "ctxIQQcvw0GeOydCWuwVwjcD/EHxuKTBiyH7QUMwAkLPpxVCRHk4QTM3nEErfSdCqq1EwRoFfUF9wP5A+hUbQSrXLcEwQC1ChSWFQU/jEkJ/bSdCXrcvQZ2dBkLc/ixC0bhDQAEs00Hk9TVCH84OQiCTWcF2WApCl526QbhAtUEuGPfAr+4SQqBub0HhxRRBUtwpQoAhmkHvhyDAghIVQprsckHuoAJCQ/cCwQcAJkKFSvZBFu0pwfvzLEL72xdBa4FAQN+52EHqOZZBnaYGQu7UJELnp91AQ37/QTZz2EG4VAdC56wNwKI7kUAkvE9ArchXQW/rEUKEhMDBXTcuQe0JHUFSTLfAonNrwA==",
          "dtype": "f4"
         },
         "yaxis": "y"
        },
        {
         "hovertemplate": "Gene family=oxazolidinone antibiotic<br>t-SNE dim 1=%{x}<br>t-SNE dim 2=%{y}<extra></extra>",
         "legendgroup": "oxazolidinone antibiotic",
         "marker": {
          "color": "#B6E880",
          "opacity": 0.7,
          "symbol": "circle"
         },
         "mode": "markers",
         "name": "oxazolidinone antibiotic",
         "showlegend": true,
         "type": "scattergl",
         "x": {
          "bdata": "voL7vg==",
          "dtype": "f4"
         },
         "xaxis": "x",
         "y": {
          "bdata": "0fVmwQ==",
          "dtype": "f4"
         },
         "yaxis": "y"
        },
        {
         "hovertemplate": "Gene family=polyamine antibiotic<br>t-SNE dim 1=%{x}<br>t-SNE dim 2=%{y}<extra></extra>",
         "legendgroup": "polyamine antibiotic",
         "marker": {
          "color": "#FF97FF",
          "opacity": 0.7,
          "symbol": "circle"
         },
         "mode": "markers",
         "name": "polyamine antibiotic",
         "showlegend": true,
         "type": "scattergl",
         "x": {
          "bdata": "S/EKQtTVR0KUHZRB2RYEQq7jBUL6TjFCHuwVQg1a9UE=",
          "dtype": "f4"
         },
         "xaxis": "x",
         "y": {
          "bdata": "jmdlwEcCZj7dQh/BCDkxwaVcdsEiajRAWNhGQECUOcE=",
          "dtype": "f4"
         },
         "yaxis": "y"
        },
        {
         "hovertemplate": "Gene family=streptogramin antibiotic<br>t-SNE dim 1=%{x}<br>t-SNE dim 2=%{y}<extra></extra>",
         "legendgroup": "streptogramin antibiotic",
         "marker": {
          "color": "#FECB52",
          "opacity": 0.7,
          "symbol": "circle"
         },
         "mode": "markers",
         "name": "streptogramin antibiotic",
         "showlegend": true,
         "type": "scattergl",
         "x": {
          "bdata": "cuIhwmojOcKDCD3Cv0Qewqu9HcKdH2xBbxgfwsTd9cENPqfAAyTiwLkiIML12TfCC14LwqvKJcJcQiXCNMUfwv8JG8IPId7BsjkBwSGjDEEMnDTCftgyQdptN8K6Sv3Bt0Idwt4UAcIzwBXBronRwA+A+8G7VUS/cH8KwrM8D8LQBjjCIaLxwTfl0j+0sRbCn2wkwpxy3cDmDD3Cm+AZwZL6y8A=",
          "dtype": "f4"
         },
         "xaxis": "x",
         "y": {
          "bdata": "JMQrwpfrOMIihjfCu3plwSPmZcGUB7q/pNuDwbZoBcHCrT1CmN4PQv83TMEORnvB740hQf6XbsFq1m3BVClgwVrlQsGDzArCcSIFQt+z4UAl5FDCD95bwjKBAMKNGT9BTPtYwVn4zMFTw4jB8t4/wXhBFsFH4hzBUUypwa/bEMGFG9fBc2+qwXIuzUFgkGXC5dWXwbQijMFR8zzCBVGUwVG0UMI=",
          "dtype": "f4"
         },
         "yaxis": "y"
        },
        {
         "hovertemplate": "Gene family=pyrazine antibiotic<br>t-SNE dim 1=%{x}<br>t-SNE dim 2=%{y}<extra></extra>",
         "legendgroup": "pyrazine antibiotic",
         "marker": {
          "color": "#636efa",
          "opacity": 0.7,
          "symbol": "circle"
         },
         "mode": "markers",
         "name": "pyrazine antibiotic",
         "showlegend": true,
         "type": "scattergl",
         "x": {
          "bdata": "IuFrQcCuv0HQyu7BiDjGQa2uu8HZ0+1BV3acQc3cCEK2leZBcDjLQRkW2UHPnFrC",
          "dtype": "f4"
         },
         "xaxis": "x",
         "y": {
          "bdata": "JEdYQc92F8G5/yfC9OkRwoCHmMGwb4PBVG8qwRz+8UDGeBTCn2oLwr0VX8F5hv9B",
          "dtype": "f4"
         },
         "yaxis": "y"
        },
        {
         "hovertemplate": "Gene family=mupirocin-like antibiotic<br>t-SNE dim 1=%{x}<br>t-SNE dim 2=%{y}<extra></extra>",
         "legendgroup": "mupirocin-like antibiotic",
         "marker": {
          "color": "#EF553B",
          "opacity": 0.7,
          "symbol": "circle"
         },
         "mode": "markers",
         "name": "mupirocin-like antibiotic",
         "showlegend": true,
         "type": "scattergl",
         "x": {
          "bdata": "oh73QYS338GAq8XA1ZyowQ==",
          "dtype": "f4"
         },
         "xaxis": "x",
         "y": {
          "bdata": "AVtPwbFxl8E2ITxC/htKwg==",
          "dtype": "f4"
         },
         "yaxis": "y"
        },
        {
         "hovertemplate": "Gene family=moenomycin antibiotic<br>t-SNE dim 1=%{x}<br>t-SNE dim 2=%{y}<extra></extra>",
         "legendgroup": "moenomycin antibiotic",
         "marker": {
          "color": "#00cc96",
          "opacity": 0.7,
          "symbol": "circle"
         },
         "mode": "markers",
         "name": "moenomycin antibiotic",
         "showlegend": true,
         "type": "scattergl",
         "x": {
          "bdata": "5GfIwQ==",
          "dtype": "f4"
         },
         "xaxis": "x",
         "y": {
          "bdata": "gOu8wQ==",
          "dtype": "f4"
         },
         "yaxis": "y"
        },
        {
         "hovertemplate": "Gene family=aminocoumarin antibiotic<br>t-SNE dim 1=%{x}<br>t-SNE dim 2=%{y}<extra></extra>",
         "legendgroup": "aminocoumarin antibiotic",
         "marker": {
          "color": "#ab63fa",
          "opacity": 0.7,
          "symbol": "circle"
         },
         "mode": "markers",
         "name": "aminocoumarin antibiotic",
         "showlegend": true,
         "type": "scattergl",
         "x": {
          "bdata": "6NnRwZTgPUK3ZO/BSx2nQdYH9UEg/O7A2fYpQqKiC0LMOgZCMUi6QfXHHUJ/IM9B",
          "dtype": "f4"
         },
         "xaxis": "x",
         "y": {
          "bdata": "8pBIwtSZhcE3tJvBRRdcwR+DJcFfbyjCxzg3wOjydsD379DAf2NGwdZcZ79v9SHB",
          "dtype": "f4"
         },
         "yaxis": "y"
        },
        {
         "hovertemplate": "Gene family=sulfonamide antibiotic<br>t-SNE dim 1=%{x}<br>t-SNE dim 2=%{y}<extra></extra>",
         "legendgroup": "sulfonamide antibiotic",
         "marker": {
          "color": "#FFA15A",
          "opacity": 0.7,
          "symbol": "circle"
         },
         "mode": "markers",
         "name": "sulfonamide antibiotic",
         "showlegend": true,
         "type": "scattergl",
         "x": {
          "bdata": "JQiyP71bFUJ/9ofCorH2QCAnu8F7DQ1CYqBcQX9zEkJhqZhB",
          "dtype": "f4"
         },
         "xaxis": "x",
         "y": {
          "bdata": "sczwQW8boEAXow/A+8sXwY4qoL+ld5fANU/iwCW34EEuIhhA",
          "dtype": "f4"
         },
         "yaxis": "y"
        },
        {
         "hovertemplate": "Gene family=glycylcycline<br>t-SNE dim 1=%{x}<br>t-SNE dim 2=%{y}<extra></extra>",
         "legendgroup": "glycylcycline",
         "marker": {
          "color": "#19d3f3",
          "opacity": 0.7,
          "symbol": "circle"
         },
         "mode": "markers",
         "name": "glycylcycline",
         "showlegend": true,
         "type": "scattergl",
         "x": {
          "bdata": "Dg51wQriqMD/9gtCNSj1QTyC8UBneYnCykPQwddXUMGGn7nAdsa7wJ81VMG6nwvBSgUAwg==",
          "dtype": "f4"
         },
         "xaxis": "x",
         "y": {
          "bdata": "lfuHwkQmh0HwiHDAMyqLwIEDHkG4PEVBvBhDwnmfGcHcxsvB55t6wiScecHZu/7BN51Iwg==",
          "dtype": "f4"
         },
         "yaxis": "y"
        },
        {
         "hovertemplate": "Gene family=thioamide antibiotic<br>t-SNE dim 1=%{x}<br>t-SNE dim 2=%{y}<extra></extra>",
         "legendgroup": "thioamide antibiotic",
         "marker": {
          "color": "#FF6692",
          "opacity": 0.7,
          "symbol": "circle"
         },
         "mode": "markers",
         "name": "thioamide antibiotic",
         "showlegend": true,
         "type": "scattergl",
         "x": {
          "bdata": "CpbyQeUo2UH9pOtBzopAQVRJvT9SxFJBy18LQg==",
          "dtype": "f4"
         },
         "xaxis": "x",
         "y": {
          "bdata": "mWjKwLp08MCgXxrCoP6zQaKr/UHioDPBMzsnwQ==",
          "dtype": "f4"
         },
         "yaxis": "y"
        },
        {
         "hovertemplate": "Gene family=pleuromutilin antibiotic<br>t-SNE dim 1=%{x}<br>t-SNE dim 2=%{y}<extra></extra>",
         "legendgroup": "pleuromutilin antibiotic",
         "marker": {
          "color": "#B6E880",
          "opacity": 0.7,
          "symbol": "circle"
         },
         "mode": "markers",
         "name": "pleuromutilin antibiotic",
         "showlegend": true,
         "type": "scattergl",
         "x": {
          "bdata": "JMIhwsJ52EGTbWTBz+kcQX/LkMCfCM/B",
          "dtype": "f4"
         },
         "xaxis": "x",
         "y": {
          "bdata": "Ip9wwUPiTsH3hB3CZjqpwETQH8JIS7nB",
          "dtype": "f4"
         },
         "yaxis": "y"
        },
        {
         "hovertemplate": "Gene family=nitroimidazole antibiotic<br>t-SNE dim 1=%{x}<br>t-SNE dim 2=%{y}<extra></extra>",
         "legendgroup": "nitroimidazole antibiotic",
         "marker": {
          "color": "#FF97FF",
          "opacity": 0.7,
          "symbol": "circle"
         },
         "mode": "markers",
         "name": "nitroimidazole antibiotic",
         "showlegend": true,
         "type": "scattergl",
         "x": {
          "bdata": "bg4CwWoJEsLDg/rBrNXfweVdPsKoWirCyUeVwhHOK8JHOjLCo8m5QWclcsKsK7BBT2w8whLiOcLKboTC5/QmwpQxUMI=",
          "dtype": "f4"
         },
         "xaxis": "x",
         "y": {
          "bdata": "p279QV8OC0Ld7j1C8bGlQYsPMUIzkj5BbBUFQpVXBEKmaHdBRbHnwSik2cCXlSPATPmkQcPOnUHUYJY/oSgPQvTq9cE=",
          "dtype": "f4"
         },
         "yaxis": "y"
        },
        {
         "hovertemplate": "Gene family=elfamycin antibiotic<br>t-SNE dim 1=%{x}<br>t-SNE dim 2=%{y}<extra></extra>",
         "legendgroup": "elfamycin antibiotic",
         "marker": {
          "color": "#FECB52",
          "opacity": 0.7,
          "symbol": "circle"
         },
         "mode": "markers",
         "name": "elfamycin antibiotic",
         "showlegend": true,
         "type": "scattergl",
         "x": {
          "bdata": "bpkYwmt0wEHGXt1B3dbFwQ2HvsGUWotBoY1TPw==",
          "dtype": "f4"
         },
         "xaxis": "x",
         "y": {
          "bdata": "FVrjwZWI+sDROBXCpo6bwYQ9mMF7PzfBmerCQQ==",
          "dtype": "f4"
         },
         "yaxis": "y"
        },
        {
         "hovertemplate": "Gene family=nitrofuran antibiotic<br>t-SNE dim 1=%{x}<br>t-SNE dim 2=%{y}<extra></extra>",
         "legendgroup": "nitrofuran antibiotic",
         "marker": {
          "color": "#636efa",
          "opacity": 0.7,
          "symbol": "circle"
         },
         "mode": "markers",
         "name": "nitrofuran antibiotic",
         "showlegend": true,
         "type": "scattergl",
         "x": {
          "bdata": "6h3WQfbouEE=",
          "dtype": "f4"
         },
         "xaxis": "x",
         "y": {
          "bdata": "pWasQTltKkA=",
          "dtype": "f4"
         },
         "yaxis": "y"
        },
        {
         "hovertemplate": "Gene family=salicylic acid antibiotic<br>t-SNE dim 1=%{x}<br>t-SNE dim 2=%{y}<extra></extra>",
         "legendgroup": "salicylic acid antibiotic",
         "marker": {
          "color": "#EF553B",
          "opacity": 0.7,
          "symbol": "circle"
         },
         "mode": "markers",
         "name": "salicylic acid antibiotic",
         "showlegend": true,
         "type": "scattergl",
         "x": {
          "bdata": "X12LwcMK7UDop+lB",
          "dtype": "f4"
         },
         "xaxis": "x",
         "y": {
          "bdata": "3AJrwkM2m0D4Q+7A",
          "dtype": "f4"
         },
         "yaxis": "y"
        },
        {
         "hovertemplate": "Gene family=nucleoside antibiotic<br>t-SNE dim 1=%{x}<br>t-SNE dim 2=%{y}<extra></extra>",
         "legendgroup": "nucleoside antibiotic",
         "marker": {
          "color": "#00cc96",
          "opacity": 0.7,
          "symbol": "circle"
         },
         "mode": "markers",
         "name": "nucleoside antibiotic",
         "showlegend": true,
         "type": "scattergl",
         "x": {
          "bdata": "YI0nworvx0Hnj9XBwUgdQVLYxMG9RjLB484VwvpUk8I=",
          "dtype": "f4"
         },
         "xaxis": "x",
         "y": {
          "bdata": "glQoQmW+NcEnaw9ClAwDwUJFYMFgi8NBCwrFQNmLYL8=",
          "dtype": "f4"
         },
         "yaxis": "y"
        },
        {
         "hovertemplate": "Gene family=fusidane antibiotic<br>t-SNE dim 1=%{x}<br>t-SNE dim 2=%{y}<extra></extra>",
         "legendgroup": "fusidane antibiotic",
         "marker": {
          "color": "#ab63fa",
          "opacity": 0.7,
          "symbol": "circle"
         },
         "mode": "markers",
         "name": "fusidane antibiotic",
         "showlegend": true,
         "type": "scattergl",
         "x": {
          "bdata": "BZZgwFO8qsDSGwbCF0rhQUjV2cF24urBr/cewg==",
          "dtype": "f4"
         },
         "xaxis": "x",
         "y": {
          "bdata": "S4ijQJLYJEILYgVBveRkwVTO+0EMANtBbiN0wg==",
          "dtype": "f4"
         },
         "yaxis": "y"
        },
        {
         "hovertemplate": "Gene family=antibiotic without defined classification<br>t-SNE dim 1=%{x}<br>t-SNE dim 2=%{y}<extra></extra>",
         "legendgroup": "antibiotic without defined classification",
         "marker": {
          "color": "#FFA15A",
          "opacity": 0.7,
          "symbol": "circle"
         },
         "mode": "markers",
         "name": "antibiotic without defined classification",
         "showlegend": true,
         "type": "scattergl",
         "x": {
          "bdata": "bzsgwg==",
          "dtype": "f4"
         },
         "xaxis": "x",
         "y": {
          "bdata": "6MVLwQ==",
          "dtype": "f4"
         },
         "yaxis": "y"
        },
        {
         "hovertemplate": "Gene family=diarylquinoline antibiotic<br>t-SNE dim 1=%{x}<br>t-SNE dim 2=%{y}<extra></extra>",
         "legendgroup": "diarylquinoline antibiotic",
         "marker": {
          "color": "#19d3f3",
          "opacity": 0.7,
          "symbol": "circle"
         },
         "mode": "markers",
         "name": "diarylquinoline antibiotic",
         "showlegend": true,
         "type": "scattergl",
         "x": {
          "bdata": "uyFHwqQXK8LXdFfC",
          "dtype": "f4"
         },
         "xaxis": "x",
         "y": {
          "bdata": "J3XcQR+cMkLq5gNC",
          "dtype": "f4"
         },
         "yaxis": "y"
        },
        {
         "hovertemplate": "Gene family=cycloserine-like antibiotic<br>t-SNE dim 1=%{x}<br>t-SNE dim 2=%{y}<extra></extra>",
         "legendgroup": "cycloserine-like antibiotic",
         "marker": {
          "color": "#FF6692",
          "opacity": 0.7,
          "symbol": "circle"
         },
         "mode": "markers",
         "name": "cycloserine-like antibiotic",
         "showlegend": true,
         "type": "scattergl",
         "x": {
          "bdata": "7cMCQsSw6EE=",
          "dtype": "f4"
         },
         "xaxis": "x",
         "y": {
          "bdata": "/v1UwROaGsI=",
          "dtype": "f4"
         },
         "yaxis": "y"
        },
        {
         "hovertemplate": "Gene family=antibacterial free fatty acids<br>t-SNE dim 1=%{x}<br>t-SNE dim 2=%{y}<extra></extra>",
         "legendgroup": "antibacterial free fatty acids",
         "marker": {
          "color": "#B6E880",
          "opacity": 0.7,
          "symbol": "circle"
         },
         "mode": "markers",
         "name": "antibacterial free fatty acids",
         "showlegend": true,
         "type": "scattergl",
         "x": {
          "bdata": "Zz/+QR3rvUE=",
          "dtype": "f4"
         },
         "xaxis": "x",
         "y": {
          "bdata": "cN3Uwd239ME=",
          "dtype": "f4"
         },
         "yaxis": "y"
        },
        {
         "hovertemplate": "Gene family=sulfone antibiotic<br>t-SNE dim 1=%{x}<br>t-SNE dim 2=%{y}<extra></extra>",
         "legendgroup": "sulfone antibiotic",
         "marker": {
          "color": "#FF97FF",
          "opacity": 0.7,
          "symbol": "circle"
         },
         "mode": "markers",
         "name": "sulfone antibiotic",
         "showlegend": true,
         "type": "scattergl",
         "x": {
          "bdata": "KGudwQ==",
          "dtype": "f4"
         },
         "xaxis": "x",
         "y": {
          "bdata": "KqgDQQ==",
          "dtype": "f4"
         },
         "yaxis": "y"
        },
        {
         "hovertemplate": "Gene family=zoliflodacin-like antibiotic<br>t-SNE dim 1=%{x}<br>t-SNE dim 2=%{y}<extra></extra>",
         "legendgroup": "zoliflodacin-like antibiotic",
         "marker": {
          "color": "#FECB52",
          "opacity": 0.7,
          "symbol": "circle"
         },
         "mode": "markers",
         "name": "zoliflodacin-like antibiotic",
         "showlegend": true,
         "type": "scattergl",
         "x": {
          "bdata": "o6Z3wQ==",
          "dtype": "f4"
         },
         "xaxis": "x",
         "y": {
          "bdata": "kCkcwg==",
          "dtype": "f4"
         },
         "yaxis": "y"
        },
        {
         "hovertemplate": "Gene family=thiosemicarbazone antibiotic<br>t-SNE dim 1=%{x}<br>t-SNE dim 2=%{y}<extra></extra>",
         "legendgroup": "thiosemicarbazone antibiotic",
         "marker": {
          "color": "#636efa",
          "opacity": 0.7,
          "symbol": "circle"
         },
         "mode": "markers",
         "name": "thiosemicarbazone antibiotic",
         "showlegend": true,
         "type": "scattergl",
         "x": {
          "bdata": "4mQKQg==",
          "dtype": "f4"
         },
         "xaxis": "x",
         "y": {
          "bdata": "thsiwQ==",
          "dtype": "f4"
         },
         "yaxis": "y"
        },
        {
         "hovertemplate": "Gene family=bicyclomycin-like antibiotic<br>t-SNE dim 1=%{x}<br>t-SNE dim 2=%{y}<extra></extra>",
         "legendgroup": "bicyclomycin-like antibiotic",
         "marker": {
          "color": "#EF553B",
          "opacity": 0.7,
          "symbol": "circle"
         },
         "mode": "markers",
         "name": "bicyclomycin-like antibiotic",
         "showlegend": true,
         "type": "scattergl",
         "x": {
          "bdata": "GaSzQQ==",
          "dtype": "f4"
         },
         "xaxis": "x",
         "y": {
          "bdata": "MKPjwA==",
          "dtype": "f4"
         },
         "yaxis": "y"
        },
        {
         "hovertemplate": "Gene family=non-AMR<br>t-SNE dim 1=%{x}<br>t-SNE dim 2=%{y}<extra></extra>",
         "legendgroup": "non-AMR",
         "marker": {
          "color": "#00cc96",
          "opacity": 0.7,
          "symbol": "circle"
         },
         "mode": "markers",
         "name": "non-AMR",
         "showlegend": true,
         "type": "scattergl",
         "x": {
          "bdata": "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",
          "dtype": "f4"
         },
         "xaxis": "x",
         "y": {
          "bdata": "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",
          "dtype": "f4"
         },
         "yaxis": "y"
        }
       ],
       "layout": {
        "height": 768,
        "legend": {
         "title": {
          "text": "Gene family"
         },
         "tracegroupgap": 0
        },
        "template": {
         "data": {
          "bar": [
           {
            "error_x": {
             "color": "#2a3f5f"
            },
            "error_y": {
             "color": "#2a3f5f"
            },
            "marker": {
             "line": {
              "color": "#E5ECF6",
              "width": 0.5
             },
             "pattern": {
              "fillmode": "overlay",
              "size": 10,
              "solidity": 0.2
             }
            },
            "type": "bar"
           }
          ],
          "barpolar": [
           {
            "marker": {
             "line": {
              "color": "#E5ECF6",
              "width": 0.5
             },
             "pattern": {
              "fillmode": "overlay",
              "size": 10,
              "solidity": 0.2
             }
            },
            "type": "barpolar"
           }
          ],
          "carpet": [
           {
            "aaxis": {
             "endlinecolor": "#2a3f5f",
             "gridcolor": "white",
             "linecolor": "white",
             "minorgridcolor": "white",
             "startlinecolor": "#2a3f5f"
            },
            "baxis": {
             "endlinecolor": "#2a3f5f",
             "gridcolor": "white",
             "linecolor": "white",
             "minorgridcolor": "white",
             "startlinecolor": "#2a3f5f"
            },
            "type": "carpet"
           }
          ],
          "choropleth": [
           {
            "colorbar": {
             "outlinewidth": 0,
             "ticks": ""
            },
            "type": "choropleth"
           }
          ],
          "contour": [
           {
            "colorbar": {
             "outlinewidth": 0,
             "ticks": ""
            },
            "colorscale": [
             [
              0,
              "#0d0887"
             ],
             [
              0.1111111111111111,
              "#46039f"
             ],
             [
              0.2222222222222222,
              "#7201a8"
             ],
             [
              0.3333333333333333,
              "#9c179e"
             ],
             [
              0.4444444444444444,
              "#bd3786"
             ],
             [
              0.5555555555555556,
              "#d8576b"
             ],
             [
              0.6666666666666666,
              "#ed7953"
             ],
             [
              0.7777777777777778,
              "#fb9f3a"
             ],
             [
              0.8888888888888888,
              "#fdca26"
             ],
             [
              1,
              "#f0f921"
             ]
            ],
            "type": "contour"
           }
          ],
          "contourcarpet": [
           {
            "colorbar": {
             "outlinewidth": 0,
             "ticks": ""
            },
            "type": "contourcarpet"
           }
          ],
          "heatmap": [
           {
            "colorbar": {
             "outlinewidth": 0,
             "ticks": ""
            },
            "colorscale": [
             [
              0,
              "#0d0887"
             ],
             [
              0.1111111111111111,
              "#46039f"
             ],
             [
              0.2222222222222222,
              "#7201a8"
             ],
             [
              0.3333333333333333,
              "#9c179e"
             ],
             [
              0.4444444444444444,
              "#bd3786"
             ],
             [
              0.5555555555555556,
              "#d8576b"
             ],
             [
              0.6666666666666666,
              "#ed7953"
             ],
             [
              0.7777777777777778,
              "#fb9f3a"
             ],
             [
              0.8888888888888888,
              "#fdca26"
             ],
             [
              1,
              "#f0f921"
             ]
            ],
            "type": "heatmap"
           }
          ],
          "histogram": [
           {
            "marker": {
             "pattern": {
              "fillmode": "overlay",
              "size": 10,
              "solidity": 0.2
             }
            },
            "type": "histogram"
           }
          ],
          "histogram2d": [
           {
            "colorbar": {
             "outlinewidth": 0,
             "ticks": ""
            },
            "colorscale": [
             [
              0,
              "#0d0887"
             ],
             [
              0.1111111111111111,
              "#46039f"
             ],
             [
              0.2222222222222222,
              "#7201a8"
             ],
             [
              0.3333333333333333,
              "#9c179e"
             ],
             [
              0.4444444444444444,
              "#bd3786"
             ],
             [
              0.5555555555555556,
              "#d8576b"
             ],
             [
              0.6666666666666666,
              "#ed7953"
             ],
             [
              0.7777777777777778,
              "#fb9f3a"
             ],
             [
              0.8888888888888888,
              "#fdca26"
             ],
             [
              1,
              "#f0f921"
             ]
            ],
            "type": "histogram2d"
           }
          ],
          "histogram2dcontour": [
           {
            "colorbar": {
             "outlinewidth": 0,
             "ticks": ""
            },
            "colorscale": [
             [
              0,
              "#0d0887"
             ],
             [
              0.1111111111111111,
              "#46039f"
             ],
             [
              0.2222222222222222,
              "#7201a8"
             ],
             [
              0.3333333333333333,
              "#9c179e"
             ],
             [
              0.4444444444444444,
              "#bd3786"
             ],
             [
              0.5555555555555556,
              "#d8576b"
             ],
             [
              0.6666666666666666,
              "#ed7953"
             ],
             [
              0.7777777777777778,
              "#fb9f3a"
             ],
             [
              0.8888888888888888,
              "#fdca26"
             ],
             [
              1,
              "#f0f921"
             ]
            ],
            "type": "histogram2dcontour"
           }
          ],
          "mesh3d": [
           {
            "colorbar": {
             "outlinewidth": 0,
             "ticks": ""
            },
            "type": "mesh3d"
           }
          ],
          "parcoords": [
           {
            "line": {
             "colorbar": {
              "outlinewidth": 0,
              "ticks": ""
             }
            },
            "type": "parcoords"
           }
          ],
          "pie": [
           {
            "automargin": true,
            "type": "pie"
           }
          ],
          "scatter": [
           {
            "fillpattern": {
             "fillmode": "overlay",
             "size": 10,
             "solidity": 0.2
            },
            "type": "scatter"
           }
          ],
          "scatter3d": [
           {
            "line": {
             "colorbar": {
              "outlinewidth": 0,
              "ticks": ""
             }
            },
            "marker": {
             "colorbar": {
              "outlinewidth": 0,
              "ticks": ""
             }
            },
            "type": "scatter3d"
           }
          ],
          "scattercarpet": [
           {
            "marker": {
             "colorbar": {
              "outlinewidth": 0,
              "ticks": ""
             }
            },
            "type": "scattercarpet"
           }
          ],
          "scattergeo": [
           {
            "marker": {
             "colorbar": {
              "outlinewidth": 0,
              "ticks": ""
             }
            },
            "type": "scattergeo"
           }
          ],
          "scattergl": [
           {
            "marker": {
             "colorbar": {
              "outlinewidth": 0,
              "ticks": ""
             }
            },
            "type": "scattergl"
           }
          ],
          "scattermap": [
           {
            "marker": {
             "colorbar": {
              "outlinewidth": 0,
              "ticks": ""
             }
            },
            "type": "scattermap"
           }
          ],
          "scattermapbox": [
           {
            "marker": {
             "colorbar": {
              "outlinewidth": 0,
              "ticks": ""
             }
            },
            "type": "scattermapbox"
           }
          ],
          "scatterpolar": [
           {
            "marker": {
             "colorbar": {
              "outlinewidth": 0,
              "ticks": ""
             }
            },
            "type": "scatterpolar"
           }
          ],
          "scatterpolargl": [
           {
            "marker": {
             "colorbar": {
              "outlinewidth": 0,
              "ticks": ""
             }
            },
            "type": "scatterpolargl"
           }
          ],
          "scatterternary": [
           {
            "marker": {
             "colorbar": {
              "outlinewidth": 0,
              "ticks": ""
             }
            },
            "type": "scatterternary"
           }
          ],
          "surface": [
           {
            "colorbar": {
             "outlinewidth": 0,
             "ticks": ""
            },
            "colorscale": [
             [
              0,
              "#0d0887"
             ],
             [
              0.1111111111111111,
              "#46039f"
             ],
             [
              0.2222222222222222,
              "#7201a8"
             ],
             [
              0.3333333333333333,
              "#9c179e"
             ],
             [
              0.4444444444444444,
              "#bd3786"
             ],
             [
              0.5555555555555556,
              "#d8576b"
             ],
             [
              0.6666666666666666,
              "#ed7953"
             ],
             [
              0.7777777777777778,
              "#fb9f3a"
             ],
             [
              0.8888888888888888,
              "#fdca26"
             ],
             [
              1,
              "#f0f921"
             ]
            ],
            "type": "surface"
           }
          ],
          "table": [
           {
            "cells": {
             "fill": {
              "color": "#EBF0F8"
             },
             "line": {
              "color": "white"
             }
            },
            "header": {
             "fill": {
              "color": "#C8D4E3"
             },
             "line": {
              "color": "white"
             }
            },
            "type": "table"
           }
          ]
         },
         "layout": {
          "annotationdefaults": {
           "arrowcolor": "#2a3f5f",
           "arrowhead": 0,
           "arrowwidth": 1
          },
          "autotypenumbers": "strict",
          "coloraxis": {
           "colorbar": {
            "outlinewidth": 0,
            "ticks": ""
           }
          },
          "colorscale": {
           "diverging": [
            [
             0,
             "#8e0152"
            ],
            [
             0.1,
             "#c51b7d"
            ],
            [
             0.2,
             "#de77ae"
            ],
            [
             0.3,
             "#f1b6da"
            ],
            [
             0.4,
             "#fde0ef"
            ],
            [
             0.5,
             "#f7f7f7"
            ],
            [
             0.6,
             "#e6f5d0"
            ],
            [
             0.7,
             "#b8e186"
            ],
            [
             0.8,
             "#7fbc41"
            ],
            [
             0.9,
             "#4d9221"
            ],
            [
             1,
             "#276419"
            ]
           ],
           "sequential": [
            [
             0,
             "#0d0887"
            ],
            [
             0.1111111111111111,
             "#46039f"
            ],
            [
             0.2222222222222222,
             "#7201a8"
            ],
            [
             0.3333333333333333,
             "#9c179e"
            ],
            [
             0.4444444444444444,
             "#bd3786"
            ],
            [
             0.5555555555555556,
             "#d8576b"
            ],
            [
             0.6666666666666666,
             "#ed7953"
            ],
            [
             0.7777777777777778,
             "#fb9f3a"
            ],
            [
             0.8888888888888888,
             "#fdca26"
            ],
            [
             1,
             "#f0f921"
            ]
           ],
           "sequentialminus": [
            [
             0,
             "#0d0887"
            ],
            [
             0.1111111111111111,
             "#46039f"
            ],
            [
             0.2222222222222222,
             "#7201a8"
            ],
            [
             0.3333333333333333,
             "#9c179e"
            ],
            [
             0.4444444444444444,
             "#bd3786"
            ],
            [
             0.5555555555555556,
             "#d8576b"
            ],
            [
             0.6666666666666666,
             "#ed7953"
            ],
            [
             0.7777777777777778,
             "#fb9f3a"
            ],
            [
             0.8888888888888888,
             "#fdca26"
            ],
            [
             1,
             "#f0f921"
            ]
           ]
          },
          "colorway": [
           "#636efa",
           "#EF553B",
           "#00cc96",
           "#ab63fa",
           "#FFA15A",
           "#19d3f3",
           "#FF6692",
           "#B6E880",
           "#FF97FF",
           "#FECB52"
          ],
          "font": {
           "color": "#2a3f5f"
          },
          "geo": {
           "bgcolor": "white",
           "lakecolor": "white",
           "landcolor": "#E5ECF6",
           "showlakes": true,
           "showland": true,
           "subunitcolor": "white"
          },
          "hoverlabel": {
           "align": "left"
          },
          "hovermode": "closest",
          "mapbox": {
           "style": "light"
          },
          "paper_bgcolor": "white",
          "plot_bgcolor": "#E5ECF6",
          "polar": {
           "angularaxis": {
            "gridcolor": "white",
            "linecolor": "white",
            "ticks": ""
           },
           "bgcolor": "#E5ECF6",
           "radialaxis": {
            "gridcolor": "white",
            "linecolor": "white",
            "ticks": ""
           }
          },
          "scene": {
           "xaxis": {
            "backgroundcolor": "#E5ECF6",
            "gridcolor": "white",
            "gridwidth": 2,
            "linecolor": "white",
            "showbackground": true,
            "ticks": "",
            "zerolinecolor": "white"
           },
           "yaxis": {
            "backgroundcolor": "#E5ECF6",
            "gridcolor": "white",
            "gridwidth": 2,
            "linecolor": "white",
            "showbackground": true,
            "ticks": "",
            "zerolinecolor": "white"
           },
           "zaxis": {
            "backgroundcolor": "#E5ECF6",
            "gridcolor": "white",
            "gridwidth": 2,
            "linecolor": "white",
            "showbackground": true,
            "ticks": "",
            "zerolinecolor": "white"
           }
          },
          "shapedefaults": {
           "line": {
            "color": "#2a3f5f"
           }
          },
          "ternary": {
           "aaxis": {
            "gridcolor": "white",
            "linecolor": "white",
            "ticks": ""
           },
           "baxis": {
            "gridcolor": "white",
            "linecolor": "white",
            "ticks": ""
           },
           "bgcolor": "#E5ECF6",
           "caxis": {
            "gridcolor": "white",
            "linecolor": "white",
            "ticks": ""
           }
          },
          "title": {
           "x": 0.05
          },
          "xaxis": {
           "automargin": true,
           "gridcolor": "white",
           "linecolor": "white",
           "ticks": "",
           "title": {
            "standoff": 15
           },
           "zerolinecolor": "white",
           "zerolinewidth": 2
          },
          "yaxis": {
           "automargin": true,
           "gridcolor": "white",
           "linecolor": "white",
           "ticks": "",
           "title": {
            "standoff": 15
           },
           "zerolinecolor": "white",
           "zerolinewidth": 2
          }
         }
        },
        "title": {
         "text": "t-SNE visualization of Hyena embeddings"
        },
        "width": 1024,
        "xaxis": {
         "anchor": "y",
         "domain": [
          0,
          1
         ],
         "title": {
          "text": "t-SNE dim 1"
         }
        },
        "yaxis": {
         "anchor": "x",
         "domain": [
          0,
          1
         ],
         "title": {
          "text": "t-SNE dim 2"
         }
        }
       }
      }
     },
     "metadata": {},
     "output_type": "display_data"
    }
   ],
   "source": [
    "fig = px.scatter(\n",
    "    x=train_embeddings_2d[:, 0],\n",
    "    y=train_embeddings_2d[:, 1],\n",
    "    color=[label_columns[i] for i in train_labels_simple],\n",
    "    title=\"t-SNE visualization of Hyena embeddings\",\n",
    "    labels={\"x\": \"t-SNE dim 1\", \"y\": \"t-SNE dim 2\", \"color\": \"Gene family\"},\n",
    "    opacity=0.7,\n",
    ")\n",
    "# Square figure\n",
    "fig.update_layout(width=1024, height=768)\n",
    "fig.show()\n",
    "\n"
   ]
  }
 ],
 "metadata": {
  "kernelspec": {
   "display_name": ".venv",
   "language": "python",
   "name": "python3"
  },
  "language_info": {
   "codemirror_mode": {
    "name": "ipython",
    "version": 3
   },
   "file_extension": ".py",
   "mimetype": "text/x-python",
   "name": "python",
   "nbconvert_exporter": "python",
   "pygments_lexer": "ipython3",
   "version": "3.13.7"
  }
 },
 "nbformat": 4,
 "nbformat_minor": 5
}
