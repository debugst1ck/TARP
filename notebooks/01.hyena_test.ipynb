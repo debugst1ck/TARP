{
 "cells": [
  {
   "cell_type": "code",
   "execution_count": 7,
   "id": "a34d174a",
   "metadata": {},
   "outputs": [],
   "source": [
    "from tarp.model.backbone.untrained.lstm import LstmEncoder\n",
    "from tarp.model.backbone.untrained.hyena import HyenaEncoder\n",
    "from tarp.model.finetuning.classification import ClassificationModel\n",
    "\n",
    "from tarp.services.datasets.classification.multilabel import MultiLabelClassificationDataset\n",
    "from tarp.services.tokenizers.pretrained.dnabert import Dnabert2Tokenizer\n",
    "from tarp.services.datasource.sequence import TabularSequenceSource, CombinationSource, FastaSliceSource\n",
    "\n",
    "\n",
    "from tarp.services.preprocessing.augumentation import (\n",
    "    CombinationTechnique,\n",
    "    RandomMutation,\n",
    "    InsertionDeletion,\n",
    "    ReverseComplement,\n",
    ")\n",
    "\n",
    "from tarp.services.datasets.metric.triplet import MultilabelOfflineTripletDataset\n",
    "\n",
    "\n",
    "import torch\n",
    "import torch.nn as nn\n",
    "from torch.utils.data import DataLoader\n",
    "import polars as pl\n",
    "import numpy as np\n",
    "\n",
    "from sklearn.neighbors import NearestNeighbors\n",
    "\n",
    "from pathlib import Path"
   ]
  },
  {
   "cell_type": "code",
   "execution_count": 8,
   "id": "bfc4bb7b",
   "metadata": {},
   "outputs": [],
   "source": [
    "label_columns = (\n",
    "    pl.read_csv(Path(\"../temp/data/processed/labels.csv\")).to_series().to_list()\n",
    ")"
   ]
  },
  {
   "cell_type": "code",
   "execution_count": 9,
   "id": "ed61844b",
   "metadata": {},
   "outputs": [
    {
     "name": "stderr",
     "output_type": "stream",
     "text": [
      "\u001b[96m[DEBUG]\t2025-10-13 22:49:45,118 - Checking for label cache at: ../temp/data/interim/labels_cache.parquet\u001b[0m\n",
      "\u001b[93m[WARN]\t2025-10-13 22:49:45,132 - Label cache mismatch — columns or size differ. (cache columns: ['disinfecting agents and antiseptics', 'glycylcycline', 'rifamycin antibiotic', 'macrolide antibiotic', 'streptogramin antibiotic', 'pyrazine antibiotic', 'tetracycline antibiotic', 'bicyclomycin-like antibiotic', 'isoniazid-like antibiotic', 'nitroimidazole antibiotic', 'orthosomycin antibiotic', 'nitrofuran antibiotic', 'carbapenem', 'pactamycin-like antibiotic', 'moenomycin antibiotic', 'cycloserine-like antibiotic', 'cephalosporin', 'diaminopyrimidine antibiotic', 'fluoroquinolone antibiotic', 'antibiotic without defined classification', 'phosphonic acid antibiotic', 'pleuromutilin antibiotic', 'elfamycin antibiotic', 'nucleoside antibiotic', 'peptide antibiotic', 'phenicol antibiotic', 'streptogramin A antibiotic', 'aminocoumarin antibiotic', 'streptogramin B antibiotic', 'sulfonamide antibiotic', 'fusidane antibiotic', 'zoliflodacin-like antibiotic', 'sulfone antibiotic', 'thiosemicarbazone antibiotic', 'glycopeptide antibiotic', 'oxazolidinone antibiotic', 'aminoglycoside antibiotic', 'thioamide antibiotic', 'salicylic acid antibiotic', 'mupirocin-like antibiotic', 'diarylquinoline antibiotic', 'penicillin beta-lactam', 'antibacterial free fatty acids', 'lincosamide antibiotic', 'monobactam', 'polyamine antibiotic'], expected: ['disinfecting agents and antiseptics', 'glycylcycline', 'rifamycin antibiotic', 'macrolide antibiotic', 'streptogramin antibiotic', 'pyrazine antibiotic', 'tetracycline antibiotic', 'bicyclomycin-like antibiotic', 'isoniazid-like antibiotic', 'nitroimidazole antibiotic', 'orthosomycin antibiotic', 'nitrofuran antibiotic', 'carbapenem', 'pactamycin-like antibiotic', 'moenomycin antibiotic', 'cycloserine-like antibiotic', 'cephalosporin', 'diaminopyrimidine antibiotic', 'fluoroquinolone antibiotic', 'antibiotic without defined classification', 'phosphonic acid antibiotic', 'pleuromutilin antibiotic', 'elfamycin antibiotic', 'nucleoside antibiotic', 'peptide antibiotic', 'phenicol antibiotic', 'streptogramin A antibiotic', 'aminocoumarin antibiotic', 'streptogramin B antibiotic', 'sulfonamide antibiotic', 'fusidane antibiotic', 'zoliflodacin-like antibiotic', 'sulfone antibiotic', 'thiosemicarbazone antibiotic', 'glycopeptide antibiotic', 'oxazolidinone antibiotic', 'aminoglycoside antibiotic', 'thioamide antibiotic', 'salicylic acid antibiotic', 'mupirocin-like antibiotic', 'diarylquinoline antibiotic', 'penicillin beta-lactam', 'antibacterial free fatty acids', 'lincosamide antibiotic', 'monobactam', 'polyamine antibiotic', 'non-AMR'])\u001b[0m\n",
      "\u001b[93m[WARN]\t2025-10-13 22:49:45,133 - Computing labels from base dataset. This may take a while\u001b[0m\n",
      "\u001b[92m[INFO]\t2025-10-13 22:49:58,283 - Saved labels to cache: ../temp/data/interim/labels_cache.parquet\u001b[0m\n"
     ]
    }
   ],
   "source": [
    "dataset = MultiLabelClassificationDataset(\n",
    "    CombinationSource(\n",
    "        [\n",
    "            TabularSequenceSource(\n",
    "                source=Path(\"../temp/data/processed/card_amr.parquet\")\n",
    "            ),\n",
    "            FastaSliceSource(\n",
    "                directory=Path(\"../temp/data/external/sequences\"),\n",
    "                metadata=Path(\"../temp/data/processed/non_amr_genes_10000.parquet\"),\n",
    "                key_column=\"genomic_nucleotide_accession.version\",\n",
    "                start_column=\"start_position_on_the_genomic_accession\",\n",
    "                end_column=\"end_position_on_the_genomic_accession\",\n",
    "                orientation_column=\"orientation\",\n",
    "            ),\n",
    "        ]\n",
    "    ),\n",
    "    Dnabert2Tokenizer(),\n",
    "    sequence_column=\"sequence\",\n",
    "    label_columns=label_columns,\n",
    "    maximum_sequence_length=512,\n",
    "    augumentation=CombinationTechnique(\n",
    "        [\n",
    "            RandomMutation(),\n",
    "            InsertionDeletion(),\n",
    "            ReverseComplement(0.5),\n",
    "        ]\n",
    "    ),\n",
    ")\n",
    "\n",
    "metric_dataset = MultilabelOfflineTripletDataset(\n",
    "    base_dataset=dataset, label_cache=\"../temp/data/interim/labels_cache.parquet\"\n",
    ")"
   ]
  },
  {
   "cell_type": "code",
   "execution_count": 10,
   "id": "91d6fd7d",
   "metadata": {},
   "outputs": [],
   "source": [
    "encoder = HyenaEncoder(\n",
    "        vocabulary_size=dataset.tokenizer.vocab_size,\n",
    "        embedding_dimension=128,\n",
    "        hidden_dimension=256,\n",
    "        padding_id=dataset.tokenizer.pad_token_id,\n",
    "        number_of_layers=2,\n",
    "        dropout=0.2,\n",
    "    )\n",
    "\n",
    "classification_model = ClassificationModel(\n",
    "    encoder=encoder,\n",
    "    number_of_classes=len(label_columns),\n",
    ")\n",
    "\n",
    "classification_model.load_state_dict(\n",
    "    torch.load(\"../temp/checkpoints/HyenaEncoder_20251013_205824.pt\")\n",
    ")\n",
    "\n",
    "# Get the encoder part of the model\n",
    "encoder: HyenaEncoder = classification_model.encoder"
   ]
  },
  {
   "cell_type": "code",
   "execution_count": 11,
   "id": "cee7144e",
   "metadata": {},
   "outputs": [
    {
     "name": "stderr",
     "output_type": "stream",
     "text": [
      "100%|██████████| 513/513 [00:22<00:00, 22.57it/s]\n"
     ]
    }
   ],
   "source": [
    "# Apply the model to the dataset to get the embeddings\n",
    "from tqdm.auto import tqdm\n",
    "\n",
    "# Preallocate numpy array for all embeddings\n",
    "num_samples = len(dataset)\n",
    "batch_size = 32\n",
    "embedding_dim = encoder.encoding_size  # Output dimension of encoder.encode\n",
    "embeddings = np.empty((num_samples, embedding_dim), dtype=np.float32)\n",
    "\n",
    "DEVICE = torch.device(\"cuda\" if torch.cuda.is_available() else \"cpu\")\n",
    "encoder.to(DEVICE)\n",
    "\n",
    "dataloader = DataLoader(dataset, batch_size=batch_size, shuffle=False)\n",
    "start_idx = 0\n",
    "encoder.eval()\n",
    "with torch.no_grad():\n",
    "    for batch in tqdm(dataloader):\n",
    "        input_ids = batch[\"sequence\"].to(DEVICE)\n",
    "        attention_mask = batch[\"attention_mask\"].to(DEVICE)\n",
    "        batch_embeddings = encoder.encode(input_ids, attention_mask)\n",
    "        batch_size_actual = batch_embeddings.shape[0]\n",
    "        embeddings[start_idx:start_idx + batch_size_actual] = batch_embeddings.cpu().numpy()\n",
    "        start_idx += batch_size_actual"
   ]
  },
  {
   "cell_type": "code",
   "execution_count": 12,
   "id": "a6870838",
   "metadata": {},
   "outputs": [
    {
     "name": "stdout",
     "output_type": "stream",
     "text": [
      "Embeddings shape: (16392, 128)\n"
     ]
    }
   ],
   "source": [
    "# Print the shape of the embeddings\n",
    "print(\"Embeddings shape:\", embeddings.shape)"
   ]
  },
  {
   "cell_type": "code",
   "execution_count": 13,
   "id": "8a0f2021",
   "metadata": {},
   "outputs": [
    {
     "name": "stdout",
     "output_type": "stream",
     "text": [
      "Train embeddings shape: (13113, 128)\n",
      "Test embeddings shape: (3279, 128)\n"
     ]
    }
   ],
   "source": [
    "# Split the dataset into train and test sets\n",
    "train_size = int(0.8 * len(dataset))\n",
    "train_embeddings = embeddings[:train_size]\n",
    "test_embeddings = embeddings[train_size:]\n",
    "\n",
    "print(\"Train embeddings shape:\", train_embeddings.shape)\n",
    "print(\"Test embeddings shape:\", test_embeddings.shape)\n"
   ]
  },
  {
   "cell_type": "code",
   "execution_count": 14,
   "id": "a473598c",
   "metadata": {},
   "outputs": [],
   "source": [
    "# KNN search\n",
    "from sklearn.neighbors import KNeighborsClassifier\n",
    "\n",
    "knn = KNeighborsClassifier(n_neighbors=5, metric='cosine')\n",
    "\n",
    "knn.fit(train_embeddings, [\n",
    "    dataset[i]['labels'].numpy() for i in range(train_size)\n",
    "])\n",
    "\n",
    "# Classify test set\n",
    "predictions = knn.predict(test_embeddings)\n",
    "\n"
   ]
  },
  {
   "cell_type": "code",
   "execution_count": 15,
   "id": "b09767a5",
   "metadata": {},
   "outputs": [
    {
     "name": "stdout",
     "output_type": "stream",
     "text": [
      "                                           precision    recall  f1-score   support\n",
      "\n",
      "      disinfecting agents and antiseptics       0.00      0.00      0.00         0\n",
      "                            glycylcycline       0.00      0.00      0.00         0\n",
      "                     rifamycin antibiotic       0.00      0.00      0.00         0\n",
      "                     macrolide antibiotic       0.00      0.00      0.00         0\n",
      "                 streptogramin antibiotic       0.00      0.00      0.00         0\n",
      "                      pyrazine antibiotic       0.00      0.00      0.00         0\n",
      "                  tetracycline antibiotic       0.00      0.00      0.00         0\n",
      "             bicyclomycin-like antibiotic       0.00      0.00      0.00         0\n",
      "                isoniazid-like antibiotic       0.00      0.00      0.00         0\n",
      "                nitroimidazole antibiotic       0.00      0.00      0.00         0\n",
      "                  orthosomycin antibiotic       0.00      0.00      0.00         0\n",
      "                    nitrofuran antibiotic       0.00      0.00      0.00         0\n",
      "                               carbapenem       0.00      0.00      0.00         0\n",
      "               pactamycin-like antibiotic       0.00      0.00      0.00         0\n",
      "                    moenomycin antibiotic       0.00      0.00      0.00         0\n",
      "              cycloserine-like antibiotic       0.00      0.00      0.00         0\n",
      "                            cephalosporin       0.00      0.00      0.00         0\n",
      "             diaminopyrimidine antibiotic       0.00      0.00      0.00         0\n",
      "               fluoroquinolone antibiotic       0.00      0.00      0.00         0\n",
      "antibiotic without defined classification       0.00      0.00      0.00         0\n",
      "               phosphonic acid antibiotic       0.00      0.00      0.00         0\n",
      "                 pleuromutilin antibiotic       0.00      0.00      0.00         0\n",
      "                     elfamycin antibiotic       0.00      0.00      0.00         0\n",
      "                    nucleoside antibiotic       0.00      0.00      0.00         0\n",
      "                       peptide antibiotic       0.00      0.00      0.00         0\n",
      "                      phenicol antibiotic       0.00      0.00      0.00         0\n",
      "               streptogramin A antibiotic       0.00      0.00      0.00         0\n",
      "                 aminocoumarin antibiotic       0.00      0.00      0.00         0\n",
      "               streptogramin B antibiotic       0.00      0.00      0.00         0\n",
      "                   sulfonamide antibiotic       0.00      0.00      0.00         0\n",
      "                      fusidane antibiotic       0.00      0.00      0.00         0\n",
      "             zoliflodacin-like antibiotic       0.00      0.00      0.00         0\n",
      "                       sulfone antibiotic       0.00      0.00      0.00         0\n",
      "             thiosemicarbazone antibiotic       0.00      0.00      0.00         0\n",
      "                  glycopeptide antibiotic       0.00      0.00      0.00         0\n",
      "                 oxazolidinone antibiotic       0.00      0.00      0.00         0\n",
      "                aminoglycoside antibiotic       0.00      0.00      0.00         0\n",
      "                     thioamide antibiotic       0.00      0.00      0.00         0\n",
      "                salicylic acid antibiotic       0.00      0.00      0.00         0\n",
      "                mupirocin-like antibiotic       0.00      0.00      0.00         0\n",
      "               diarylquinoline antibiotic       0.00      0.00      0.00         0\n",
      "                   penicillin beta-lactam       0.00      0.00      0.00         0\n",
      "           antibacterial free fatty acids       0.00      0.00      0.00         0\n",
      "                   lincosamide antibiotic       0.00      0.00      0.00         0\n",
      "                               monobactam       0.00      0.00      0.00         0\n",
      "                     polyamine antibiotic       0.00      0.00      0.00         0\n",
      "                                  non-AMR       1.00      0.77      0.87      3279\n",
      "\n",
      "                                micro avg       0.92      0.77      0.84      3279\n",
      "                                macro avg       0.02      0.02      0.02      3279\n",
      "                             weighted avg       1.00      0.77      0.87      3279\n",
      "                              samples avg       0.77      0.77      0.77      3279\n",
      "\n"
     ]
    }
   ],
   "source": [
    "# Classification report\n",
    "from sklearn.metrics import classification_report\n",
    "\n",
    "print(classification_report(\n",
    "    [dataset[i + train_size]['labels'].numpy() for i in range(len(test_embeddings))],\n",
    "    predictions,\n",
    "    zero_division=0,\n",
    "    target_names=label_columns\n",
    "))"
   ]
  },
  {
   "cell_type": "code",
   "execution_count": 16,
   "id": "8b4c66a2",
   "metadata": {},
   "outputs": [],
   "source": [
    "# %%\n",
    "import plotly.express as px\n",
    "\n",
    "from sklearn.manifold import TSNE\n",
    "\n",
    "# Run t-SNE on the embeddings\n",
    "tsne = TSNE(n_components=2, random_state=102, perplexity=30)\n",
    "train_embeddings_2d = tsne.fit_transform(train_embeddings)\n"
   ]
  },
  {
   "cell_type": "code",
   "execution_count": 17,
   "id": "f7696bdd",
   "metadata": {},
   "outputs": [
    {
     "name": "stdout",
     "output_type": "stream",
     "text": [
      "Train labels shape: (13113, 47)\n"
     ]
    }
   ],
   "source": [
    "from torch.utils.data import DataLoader\n",
    "\n",
    "# Collect labels for the training split\n",
    "labels = []\n",
    "dataloader_labels = DataLoader(dataset, batch_size=32, shuffle=False)\n",
    "\n",
    "for i, batch in enumerate(dataloader_labels):\n",
    "    if i * 32 >= train_size:  # stop after train split\n",
    "        break\n",
    "    labels.append(batch[\"labels\"].numpy())\n",
    "\n",
    "train_labels = np.vstack(labels)[:train_size]  # shape (N, num_labels)\n",
    "print(\"Train labels shape:\", train_labels.shape)\n",
    "\n",
    "# Convert multilabel → single label for visualization\n",
    "train_labels_simple = train_labels.argmax(axis=1)"
   ]
  },
  {
   "cell_type": "code",
   "execution_count": 18,
   "id": "f5769465",
   "metadata": {},
   "outputs": [
    {
     "data": {
      "application/vnd.plotly.v1+json": {
       "config": {
        "plotlyServerURL": "https://plot.ly"
       },
       "data": [
        {
         "hovertemplate": "Gene family=carbapenem<br>t-SNE dim 1=%{x}<br>t-SNE dim 2=%{y}<extra></extra>",
         "legendgroup": "carbapenem",
         "marker": {
          "color": "#636efa",
          "opacity": 0.7,
          "symbol": "circle"
         },
         "mode": "markers",
         "name": "carbapenem",
         "showlegend": true,
         "type": "scattergl",
         "x": {
          "bdata": "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",
          "dtype": "f4"
         },
         "xaxis": "x",
         "y": {
          "bdata": "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",
          "dtype": "f4"
         },
         "yaxis": "y"
        },
        {
         "hovertemplate": "Gene family=penicillin beta-lactam<br>t-SNE dim 1=%{x}<br>t-SNE dim 2=%{y}<extra></extra>",
         "legendgroup": "penicillin beta-lactam",
         "marker": {
          "color": "#EF553B",
          "opacity": 0.7,
          "symbol": "circle"
         },
         "mode": "markers",
         "name": "penicillin beta-lactam",
         "showlegend": true,
         "type": "scattergl",
         "x": {
          "bdata": "HebzwTiUG0KsVc3A1ouLwM8gF0IwpYxB/jOCQaUC2EGtEYpAh+caQnUoBMJBy69BZG+5v2a8eEL/1RdC9lmJQQgYCUFW7vpBv2+2wN3pDEJ1TvdBafOhwAb5nsFYKa5BSoaaQcdxFkJa0KNBH8SFwNAb9UEloBVCfW/8QZenG0KtcphADC6eQUvngUK5MoxAA4wNQmS/yEDVTE7AmIHjQY3LUkIBwUlBLf+owOiNBkIcAnxCIMPiQZfKXkE99QRC/EmAwewL1cAaVXhB1wCBQuYYFkI8GOZBsDeCQVfO50EjfRLAGxIeQhTdgEL0kybA6aqIQJtDeEK9u1BBlFDSwI+hgUIug/hBHSQWQm6erMAYB43A5IV3QYPaxT5lYnbATZOAQjp3cEHQzeBBNhRtQXjplsCDQzlCx15rQeL750HPc37ATBiWQX7gDUK2huRBmgXpQZSBnkFCblBBXmqdQb5WhUG/i+BBJC/qP4b8FkK8LObAj+w5vo4x4cFtUJLBPh71QeV4bUHORWxBTH9/wKGj+EG/z/5BySPdwZhtZ8GrLhtC6pyJQWc9+EHCxYJCbcYVQhFd+0FxTmm/WrfkQbEP4EGmaoXAoBkEQrSEE0JYJx1CeQebQdC3BkK8moJBaIwUQh654UFs2HxC6Q4OQjn5kcGfIYu/xITeQRowykFRc4JCSL18QpvUFkJbLxxCLvxtQfViS8CaQhNCcnqdQQ8hhEL7NqfAnxQAQk+rrsCIQxBCWpB/wIsNrcCAFITAZU8QQnyfekJUL5jBnyUdQrQ/EUKViw1CE2WIQXe+qb8VaqdBAE+RwMTBPUKI6X9CK9mEQTSrl8DJnp1BimC0wOIkk8BabFBB9SElv2Z8GEKMMxJCn/UVQd5pzcCHGJdAXVsLQiHyAUKBDgtCjrWjQUgXFkJsYfxBfragQSng2UEvTeZBGD0GQnE2F0KUWdVB9AIGQo3jnEGcen7Ad4HhQecaHEJ/BclAEMUFQsxFF0Jw5ZDBSRCXwMjJpsDMhpBBbBWwQcfed0JyaE5BuusDQukbSkLJjB9B3IUJQomOM0GyGf1BUrgMQn8JEUJDKQZCL3QPQnZC+kEXQL6/nTyPwE3Tn0EOFBnAbWw8QZ5/tMDq/IRB/H5QQXdiGkI6Gh5CffIEQsvWgr8hr3XAg+PhQdkyL0Bp14HAakUGQpyPb8Fv7g5CdTYXQkmqDkKLHR5CRpgJQm+9HkKjafTAQTWOwAweFkLj7tBBoKsYQvmIqcCtNfVBLhXWQVnNHEIWUTHAKk/tQRV4DUK56hJC5D7AwfYQ5cCfG4FBCtUdQi56xkEXjrFBohODwOson0H+pn9BHhKHQYcIEEIqaOpBkdF5vxfwn0GykKlB+4+sv4jv6EGh95PAsLXhQdlTjcCpvvpBZoSDQm5UgkLK6NZBF7zkQUROj8B2K23AeXNuQTLaAkJ4PwFCBOOFQR+QS8BNiBtCL0qeQXLeuj8QSBBCpldGQWJknMAr9CXAmy2fQXNjjcDuehlCzKJqwSxKBEKy+gVCDkYcwqWbGUKkMAZCYlBFwMfFEELMFiLAx4EaQnEWhMAbnB1Cm+uEQRt0nkHTqOlBt8PvwYawG0J2SRpC9kcGQr4WxcDBk51BVqkhvgEEgkLPeoJCcmR3Qm9fD0KcQpnAggkLQpSwx0Ak8HlCFvgZQiBFlL625BpBC2kLQtFGCUK1p3tC3+zoQSlXT0G3LMvAZtCXQH9rDMCHdevARRGhQdEv/EE0eONBg0nMQSry5kFiBnlCzNHoQdDpDkIhopvA/uhBwkkdwb5aJdzBUeSXwLm4hUFFx39C9b1YwFa9FULSyZ5B1tXPQbMggsCegdRBuGNbwE3aE8B0BJJBUckaQjElKkG8AgvAF3wSQkCt/0D6ZA9C+kWCQR/VbUHRxgZCqb0JQvYif0E51eVBGO+BQtOGH0GTwxlCZkcQQq0QnkGoA65BiXv3QWDZv8ATHB5CoHBEQvZOeUKNCOlBpo6aQTg/zsBrgZ5BEekVQjWzeEIWS0XA7pEWQp+Al8DlSs1BltemQeZNEELNBgxCGaiCQop+z0EWnRJCg4AGQiy9L8CIJ2bAqt97QocL8kEfvYdB4ttfwVfqBEKwY21BbpkWQo3/6kGC1elBzBRMQXJvvcBSNpJBOgYaQkR2CEIxgUpBe7V8QWK2E0JV1xpCqDaDwI7/HULtko5BQ+agQS1AiUFe5hNCdOylwawplcD4GY1B6KPoQZdfm0FRH31C2x0lwPu7nEG0XahBq1PsQcrQBELvyRdC6iHYQVWKD0LCASHARtYPQkl/BUKpUQFCppieQXILwEGWopfAEs66PkMSnUFWGRBCBHyFQbSiE0LhiFzA5MDYwFMTnEEBJW9BIhM0QN8Kj0HsBoJBfPnawBWkm0EOM2NBKcPiwKqFlMBNEO1B71GDQiVl5UGb1DLAj2OAwK/3o0EJU+ZBmlH8Qdn9AEIkHqTA6SoyQeaWyEGD9QlA9qwEQhEGJ0IQK4BCnsnhwOvMp77J949A9DoGQtN8EUL8J0VC0afpQbAan0ELKdG/NEcLQubfdUFMuxVC5YRlQaNY4kA9VSBCcKV4Qnuz8UG5rRVCo8WYwJ0gXsAtsIJCkroOQhSsBEKpO+TAOm3eQd8IFEK8kYXAFu+QwFleXkIx7ApCKV8MQren6sGv7OtB3Kx+QjR+XUEX1oNB/xzkQacOc0HpBwRC3EqRPlRkDEJImIRBQXAjQc7vl8AW1+RBTdsXQjNgEUIB5YjA3a4fQrXB4kHKXnpCc/AZQmPGgULpaE1BrFTjQcR8cEFONYO/nOCDQdXxssDrc+ZBhZyAQoDvHELCwwVCsjh0QWrRssGOwONBrsNuQctStsCeL+9BhykKQgTAGkKUDFnAd3KLwL/eC0Lxaq9BFjYBQYHxDEJbGXW/zYcDQt/+9kHQCzfAmrSjQeip5EFH25rAkq1xwJEunUGbfBBCkyzUwLwr50Hed5HAaU4nQkyofMAzy6JBDbHPQXJW0UEDRE/A7VaCQrI2dkLskBRCe70CQrOr6EEiLhZCm9yvQUAwDkLjsXjAIw/6QZVbNUG1veZBR0l8QkAAGUIin6RBohkKQnHdgz6VvDpBHeVdQlDw+UFcLupBr6zqQQ==",
          "dtype": "f4"
         },
         "xaxis": "x",
         "y": {
          "bdata": "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",
          "dtype": "f4"
         },
         "yaxis": "y"
        },
        {
         "hovertemplate": "Gene family=cephalosporin<br>t-SNE dim 1=%{x}<br>t-SNE dim 2=%{y}<extra></extra>",
         "legendgroup": "cephalosporin",
         "marker": {
          "color": "#00cc96",
          "opacity": 0.7,
          "symbol": "circle"
         },
         "mode": "markers",
         "name": "cephalosporin",
         "showlegend": true,
         "type": "scattergl",
         "x": {
          "bdata": "YQOYQmhlhUKtzKFAUXiLQQAa1EBvGjlCefGwQtU0IEI/339Cm4KbQnAOlUKQVJhCttjHQGkCHUE7yiRCeVRIQmlNVEJrWWRCyNqgQkKflUIPmppCuW+sQkE5eULDoT5C6rGqQlbMF0GzUl9CtnaYQinyNkGECoBChVNWQmNVZEJjOcVADD1hQk7LGEJbm2FC5F8aQkbvmEKzDrFC/AS6QIvTW0IOB51C7zc2QUtPM0KAnSHBHWZVQlgDRkKSbzRCbRNXQlo3mkKyBodCbDFkQs2rl0Krg0FCrfYlQY4rlUJCHVFCIYByQfu8H0KEJrJCXkgwQuvsxkD9PLBCpk4jQQ34Y0IqPaJC0dGSQj/FKUIAnphCZvGdQtfAR0LAcz5BnXw0QgoqqUJGYVRCSxROQnG5WkFkbRlC8JBFQvODo0APipxCgNWsQhicb0FzOX5BDnZWQs2gI0EHY5pCXfQdQjPZSELvinxCdN4CQbdYO0G+NpRCO+8hQiC4r0IMzhxCw8+EQnj8TkKdRWVCabNxQh1mUEEq8hxCmNNTQmHlL0JKKKpC25GeQuS6RkIGzUJCU9OFQnYXSkIsVEtBYe0WQn1Rl0JFLyJCzEYaQimIqkLF1EVCF9nQvri+J0Gyl4RBfz7xQGVzfkIOIrFABG9YQjIHSUIkdHVCu4arQq1rBkH80kFCa8OMQuYmGULQhaxCezU5Qq6LskFdy6lCLEJHQj8Me0LQBh9CZgqjQpmWQ0KzpllB4UrwQUtfckItyC9BLn/jQIiXMkLARVRB6EKBQiWihkKuOzJC3kkWQXkISUI9jtZBY7sZQmtCp0JDE5tCtjwTQrvkrEIgAUNBXFtIQiwsH0EZBjlC+/SYQkFkhUI7mxNCI+ucQspXRkIfMZZCtCeMQjUVmUIKQ69CojZTQjHUrkKDPVRC5IBfQkZoTELEcoJClYZnQduMmELnyYhCrkFRQhR7R0L2TSFCAfMcQr1ZX0LUp6VCg3KCQWEZHEIQjflAGslGQoWsUEIAXm5B0M58QvYPXEKZ0NBBUB5EQnlEhEJGElFCCThSQrtUIcER3zxBkDd7QjINgEK8ehJBk+N1QnGre0KEkE1C4QovQWZTSkIwIKFCVgeVQiUYDUIhUbJCndaBQt4FU8Ind5RCOz1bQn8ZcUG/GsBAi4YjQRwcVULlo0RCqS1JQtOvZELdS5FCScDLQDVBDUEQJFlCbeEQQg9iUUK39QRC3fcmQrX+P0JTCXdCzbwhQnUtqUJEsFNBet4OQYkBYEKjxfhBHqmXQkM5ekH60x1CwrfgQVv+gkLpUq5C2AceQgwEaUIEFptCXsutQoTDMkKtOcxBR2l+QgN0nUJKyFBBj9NsQphsUUFv8iRCiMlNQrw6cEEW/UtBIS1hQtUwVUFmW2RCpN0TQoJ0nELc9U1CaGI9QSlzm0IXBClCcoYSQoK5JELqJVZCOFJpQewMqELTSVdCl7NJQvodGELvkFtCrLh9QrC0SEJ9TkFCFyl3QorWeUK8q1dC+9+dQnFKGkKy1xNCNxh0QhfnYEJ7mzFCnZE/QkY9mULGivNAHj0pQvNGrEKoPZRCTn2gQsF/BkK7CllCrmgRQhSpGkFANk5CZAOXQtaTS0KIgK9CSsAwQt3JHkI3a1JCkr6dQvz5EkKfGXhCE1ebQH/nkkLOy1VCYTBCQhLx/UGYOWxB7YYuQpc7f0KHazNCrY09Ql+aLEKja3ZCSeseQvfOfEILIEVCQC5kQgVv+kC8wKtCsSVfQoTnPEK2HXFB0xGcQv8HVkJ7NhpCcR4kQqWjUkKUrS9COIhPQjO5nkIzX5RCE2peQs5MnUJN+p9BmZw/QkdVJEGYx6JC0CnoQXEqHEG6Q19Cq9ZkQh9vN0I4dK9CTRhYQuy8bkEP2mJC/lZAQo/5G0Lx69lAVRkVQtnKUEKbYZ5Cy+goQbzgQkK1sp1CZw1eQouIjEKbBFpChAJ5QgsJl0LM1mpCw0F+QobaRkKW8JhCtxBYQqUsXELPwnpCMEtXQh3XHEL+9HFC/rA7Qk9CUUJUfJRCHDs6QlxGQULLHJ9CReCnQvM1lEIcQEpB6TkNQpq5JUIa9q5CJ/itQqzHcEGCC11CGOCiQjsYO0JO8SJC9P5NQnSZyEFnY6hC8F9EQkPXZEGAUWVCyREGQTvumEIxJ2NC8oA5QqS3c0K+UotAcbwaQsDxe0K2859CbsMVQVZvFEGuNX1BH5VJQVZRBUKetW9BNFdXQge4z0BEyApCAH9WQqUtQUFCfHxCT9JVQTsSFULGappCPspBQkfCS0K4STpClCNVQtUkRkI7aJtClkVSQp5+eUIjKoNBlFcRQvlCX0GxmUhCdp1nQtE7mEJZ3VFCFFc/QnfvgkHhnnJB3wchQpb5l0Jrd6JCwItKQvHGQkInT1RCYQYkQmqUm0JMhYNBTlhYQUd1RkK4nFlCTPV6QtZxlULxtsdAQ5YkQgltXUFh1JxCgEsDQiNZT0J/DyxC/iL8QNUNP0JxD+w/1yZRQv6SXkKbzJJCCV8vQkByEUGMqGhC9VpdQjElNUKEBs9ArFisQi/Jl0LFFNBAJVhVQjWQWkLhtpJCa/SxQEwym0LtKKZB7TMxQsYebEJvbY1CVVEvQvJ5ZELWQpVC0kqFQr1CJkLj1TtB8caVQmpvo0Kxip5C8DZOQulyUEJ4nytCZVNCQkBUVEJCOZ5Cb2dYQtuzK0LbacNBnG9kQpZGoEJ+X5JCHxSGQnmiYEJZE1pC9ZqnQE7QmUJzDZRCZ8pSQYdwAEKGdZ5CtiscQk8SQkJKlydB4dhrwP1bskLl+wNCojCuQm2bucGMPANAOPoQQkv2GkKDqTtCHbyZQl+zSkKaOlpC1dk0QoidWELzI0VCspU5QurhTkJdDJtCrfd5QVFGNUIfJ2BCDJ2TQoaUhEKi40FC/5icQkINAUIMqKJCGXhdQinuYUB3h3hCxldvQYB9l0JjlcBA5z0vQbwhmUKI3B5Ch+qsQh1yn0ITVD5CBOcvQpuB5kCIG5lCphR1Qrz2fEHKZVJCW/qTQjLeRkIDSZ5CMNsbQm5FmEI8+UpBQ30hQsUOmEJia2NB+DSbQrffsEKjsmdC7QWdQlsaKEJDlH1CYvqCQkurJ0KrbyNCU3lbQg4ZZ0FNEXhCYK0+QebnG0IX8nZCOwo2Qomlf0LfcwtBGZ1+Qkeod0ILlqhCY7oGQQWNfEEYyaJCDyKyQqD+ZEJJ+F9CSN9mQU6lr0L+9hBBZiN8QqUje0JFol1CBNtDQvyXTUIDP4ZCmkWgQWXikEK0ZTlCWUV/QkcMrkK9m0xBOvg4QsShh0DCJ3xC+49YQYLXdEEBiC1CiE0RQsRYR0Jfh3ZC+JCjQiNcx0HgHuJBvduBQttasEISY/hABpp6QlnvmkKMyXdCpnsyQthIL0KmIVZCRAm+QPGuXUKaVwRCOwGVQqc7WUJx2VdBm3+iQtu3W0K5glBChdifwWjrGkLWcx1CW1SeQnHXdULgYlRCW1ZNQQ9CVULTp39CXXosQpWhsECGtJRCGLEgQSZUg0JuH3pCL4ZVQhtLGUIhfnJCEDdVQuR1JUJKweRACjeoQuP5R0IYWLBCnmh9QvScVkEYsK1CvoNiQrUCf0LFhFBCqSCcQiBbVEKoMp1CwLFBQif4T0Jy1IZCXiLOQNPCQUK0oXpCEDh8QjmAD0I1uFNCb8qfQmgAHUJpVk9CEjJ/Qkvmb0G2rB9Cf8kQQiFCc0JZRUtCtPRAQmSqnkIEKdFA4XEhQtOHnUJQn6hCLGAgQmcVoUL/lFpCgKx8QrdEKEJ6R5tCsh5HQt3lT0JfQVVCKoSaQuoXQUKgZJVCff0HQc5zckElCpNCquNJQrANhkL+Sa1CwwtiQcU+WEIAo0tC/oIbQko8ykAxfTNCuRRCQo4ITEJu681AmeGMQjjg0EDWfDNCVjNWQj/WmUI6n1dCv4/YQNvcokJX1kdCjUy9QO01HEEhQ1NC2/N1QgB/fUIfPAFBaiiYQuiePULleFtBIENHQsBTfkJ3OD9Cus44QpT0EkKU8qdCZnInQnlxOkFUzVhBOUVkQeIpZkI4+p5CbV6iQs10fEKZdFJCOIi4QFTARkJ8shNCmFiZQhvkqEK2S11BXquqQpfnd0JjRGBCKaKnQjuoOEE/fGVCn6o8Qh30qEJ4PPZAHxlDQdA/nkISfJtCfzMbQpNqmkJumVRCEPJaQmqmgULg0v9BI2VLQi7AQkKQLaxCsbazQaVCQkLEKS9BVUBzQcPuR0KF7ntCPJZ1QvRLrkK2x4ZCmF6gQjDWc0KVdx5CNmNYQt34E0KDIQZBCz6zQnucYEK4DUFCgmfxQM00TEKCP4BBWlNaQkRpVELlHZ5AnyIjQuJMrELz4SlC80KbQk6hc0IKKxlBl/ycQre5ckL3hFZC5TnnQJXPREKjAGFCNdY7Qd9U3UBpi31CzNEXQixiV0Lf9ipC/pceQsZi2EBQOiJCZyVHQg7vGUJDWb9A7vmXQrZSlkLSmYZBi9yBQm8LGUK4y3pCNXIxQoqTiEGSnWVC7AVUQreiM0LdGFtCKLAvQQfrSkKYBZ1CAxMuQqmUY0GYckFC92lbQgJzHkJPbpBCdpoiQvxRR0Izr0tCrTZMQpI9JEH+iCBCpW4yQXeHgEKx4H1CH+l5Qm2nmEJx4qJCygeXQmjmJUISVQpCof8mQjOohEIEkqxCBzdaQneurkIoovpBJL5VQi/NUUGfThtCU8Q0QsqiX0I195xC1Ia4QSs7ZUIFW4ZCKPhwQky+RkIjB1dCwzhAQsBAXkJyp4NCLxGrQto1UkIjRllCALEnQgw4OULABmdBh0vlQabgm0J58oRCdegjQp/VDUGOaENCZpJQQe8YmkI0auBANOOTQc2IVkHspDdBMGJSQsuNekLMQrJCdg6BQnJlLELq0JVCeGN9QjG2UUIBN2NC031JQg58O0LSuZtBoV9IQpELYUIUM/ZALIhUQrLvjkJzOKhC1a9hQo3UQkIdtHxCa2wAQSbKp0J8LGBCE4hMQiojPkLSyYdBLspVQsQdJUL7EXRC0juUQns7cUHnkp1CyCCaQnIlpkA/7IFCGr+YQg4udEI/ZkRCeezRQJ7Nb0JAP6pCooQoQu3BJULYglxCYpzhQEjYJ0HWsEhCgyEzQmtrTUJOMRFBLyytQqH9HkLqumRBcCyWQgBEOUHqfWVAAt6dQowsFUK3OCVBT+hBQrG8akGRPhlCYQYrQsRGmkJC065CRRVTQasDusGgS0lCtZp7QduCXkKTyclAy6AfQrmxeUFVsiBBaRg6QmMOSkEn4FRCXuFhQuM0eEK8/3xCM9VfQokwRUKaHEVC/sKxQjU3S0KOR4xCinVDQkhnREJquIBCLB2KQA5siEGXyGdCU7FHQuIJgEJpUlVCb1aYQsZDr0IWblBCHDyZQpOkSUKw8JJCtoueQo+BgUK/tJtCuxKrQirPMUJSqypBzWpUQjpUJkETFkRCga7/QTcYjUKBAqFCnQYSQr2GmEL0EDpCru3HQaFYXkK1pVBC/ZBFQQdSeUJPdjhBtg8TQqjCVkEydYFCNeEhQs/rQkLvJ0S/Bn+sQoSgrEIm2BxB7ZJCQsqVPkJU019BHtOKQR7Mk0KoB0VCGOLzQIpnb0EDdZpCSGAVQVR7V0J0DEtCwn9QQrOLmULn7xFC1QsbQYvoO0KorkdBc+dFQtZfncF7frdBEJCMQgBuoELMMllCo1N+Qp4+ZkKnEK9CEYAqQimVe0KkrJxCSkoCQadqVEI2pCFCDbljQrKkSUJ1NGBC/N1BQvJ1UUJxhqJACRpkQRgAXUJ4Yl5CTRhAQqC2o0L23FtCBiRMQg+hgELUHUtCsUhfQhH230A7AlhC5CdfQeU1rELvg31Ca+QVQmm3ckEUeZtB8jRKQpbQBkHpGAVB5fdKQhOIJ0H2T2RCd1R8QoQyQ0IC9dxB2ytZQjc0oUDxxJJC1N+dQlapo0LN2KxCg8JZQl1eS0KnPExC9R9LQYm7R0IbCo1CZYIbQnMlOEL+D1BCorIjQsMNX0IV0nxCZxXwwAwQjELMRJpCBdYbQrUgP8D7qABCGbxJQiv6HkLgu4NCPQ+AQrRBX0Hx3oVClASVQl3AqUD/Z65CMBaAQudiW0KHm6FCrhQnQlnMIEGBYJdC9dMbQvjQfEGOR4RBPndgQuYiTUJS1U9CDtYcQnBirkC9KcNA1yp7Quu9oUKmfTFC4ZwPQlUKWULZHCxCYeJXQm+PXEHcfztCGIRLQqcPgUIRuDlCqdOcQns6dEJ8+ShC3ulQQeBuoELnhJZC8/xZQrQBm0KYMRpC6MQgQuKBY0KPm1xBLJ9QQU15D0IIR9tBAdUXQv8yq0IOQodCrDKSQrfwbkGl9j1CrHVmQjkhWEIjpdFBztZYQkhmYUKfNSJChEAgQrfRUkLcxjVBdH08QfU/KkKcjltC8bl2QqLEH0IdNmNCkRIxQul0ZEKCW7FCu9FIQjauZULk8HVCYcuZQnOrCEFVfmJCRyR6QuZiLkKe1CVCuZZEQpgOokKD/DRCwiypQqfeHEIbzDNC+mSSQokAbkGtqyNC/0lAQa5AnkLwplBC8/0YQkyV9UDD/h1Ck4xRQpSsR0LITUFCu8RcQua6XkHceVBCOHsLQkmcokJlhrhAZ1xYQkz7mkIuYp9C9LGNQpbUOUKhWFdCY1xDQhkCkEAkBilCAPooQXWBmkKkD4VCyxgiQhzLEEFxKlNClJeFQmNEhUF5aK9C7UAyQkILqEKD8khCDTd6QdvqQ0IAdShBMVKrQj5eDkENIJtCDgcUQj3Uk0I62GRBqpRmQjctqEI3I19Ce3N5QsVOmkJYu6tCe8FOQdH4SkLYizVBUr+fQsx1OULKK5O/Fl0jQQHhO0E4NzJCGnOAQUyRUkJ4DVlBChl7QlZ4FUII80xCmHqZQnpeSEH9G5VC6fmBQdYOskGs1vdAL3NgQjBBmELhPYBCg9GAQvGomkLRLgBCxrM2QlbceEITVzJC65DkQDB99kCnSmVC5QijQjNkQkKeglhCEXYZQrhWM0Ls/INCmHCjQupqUUKD8IZBa9p+QvDjr0L4qVdCH1d9QtgL9j76r4ZA7faLQppkgEJYsa5Cma1LQatVXUKmZkpCqgdXQj0SZ0KldExCT4d9QrZPQUKYUBtC468VQskxTEKBNHNCT1ulQiKtlUImG6hCMs2YQtwhgEJfl0tBdPKbQmZNVEIWCPlAZcwbQjoCUkLpd2ZCBxRRQs9xhkL+1kpCAtg7QfkGYEE9Mj1C2/cGQQOYdkEEv7tAdEAFQgfnW0F4TqxCFhE/QpmTEUKl1VxCkyCcQjhEkkJiwd1ArpIqQrM5gEC9tnZCrh+YQm8ilUK/liZCj7YmQq1eJEKkljVCdxkTQW5LIUGrVnxC56cWQSEPkELhwQJBOAmTQlwHCkGrDpxC7OdxQjtDRkIFLW1BWEpEQjFMIEEGwa9CxOUYQiN0SEK+D+5Bdu0dQssWXkIY6FxCyttcQur5OkJlRq1CRRFEQn4W7EDpp0NCGCWUQg8gscFYI2dCs2hKQt9HoEKR2R9BJ6VCQvUDl0LBXSZCF41GQoZ7K0LVImNC1KArQlBWlUK2g0FCH0FiQruzVkKwkapCuPp8Qr/sQUIRHV1Bz6tgQrb6gULdiZxBibaoQqsTQkLSmLFCj506QuwD8UDheIRCrD2AQaAVMkIbIClCwNBhQQmAD0FNwKxCB21GQmTxW0L7u5xCpEqVQsvOWEE7ZEtBLq6RQoRIXEFvbhhCOr4+QfKZREH374VBtB5LQhGUHELvV1ZCvKaMQgxhS0Ib8nJCCymEQSuYnUJruENC17M+QjXsXkJYBJ1C4idXQonBHUI56jBC5xsVQmB0lUJanRVCF05fQky9p0DTnTNCKYEYQUKTD0J6KqBC4XQgQfuWX0KKr4ZCqaJHQnUtm0IeUmVCFW6VQt8nrEIkW1pCmXBPQtlmXELcpTRBrLIkQid/T0KJuRzB6+eZQutsJkFrPRdCMeaCQt8Rg0HuG1hCMUI/QZoK1UG26CtBSNY2QhGXPUGJ6ElCO1OqQnBRZULRlU5CNuKFQv1EmkKExlZCzgAeQtr/V0KzXThCstBjQg2dSELXSHlCpMIAQhp9FEGfeIBBGD0PQs7lU0HY2ZpCJkR6QpcCRkLpMmVC17eCQpgGdUISBCA/dd+vQnaGekKe7kdBzQ8yQqf8TkLhZXFCiH2VQkQTQUGRkhRCYtZsQZKSD0He+k9CVdQTQlXMQkEF74FCNttxQipJqELQwSRCpQKZQo0PQUJl7itC9bzoQPdmkkKyVFNB6mZEQqqFR0JdjH9Cha9jQoNQU0Ks6JhCGBCrQs5xKEEUKV9C2C44QqNJf0EIVJpCf15VQvffekEBABpB10AWQctnnUKhZyVCaICAQpacWkICNxtCab9zQlYEMkJi8IFCHZA2QXSpkELCZpVCTfojQnExmkIn41NCWzw+Qj63SEFTFOpAZ34dQq6pVEJ36JRCNtKbQt2MTEIhHp1CXC3nQXgGrUItAJtCkI2BQhrQSULmSqpCwuNWQpI+HkImSUdCGI2AQl6tikLLtZpCMiBGQt/ZCUGXVxpCwqWbQunzmEJAKEVBNV4NQdBep0K4VDlCZchbQtPQkUJh9OBBtOmfQgWSc0GHQyNCkTqBQlqLzEAzzXZB9mUHQYhUUEKmbhNBID9EQTafd0L9qWVCYgCZQriRSkKaPzlCix6dQuvpPkKTZFNCoR4mQkq/ZELQYfZA1KyZQszBZUEE8yFCOmGLQibZqEIAt4JCXkzXQFmjaEKW/FhC+IoGQcku4kGPH5xChbQyQuN4rEJx0apCGdD/Qa3uUUL0j3RCktitQjsuR0JjUVdCKMNiQmhSfkCHUsxAlakHQcZzfEKt4wxC2jsZQmu8SUJvLTVCvMmAQno7V0K9w1ZClxpLQuyTpEIZLp1CUJijQmtisUIbq5tCgQomQrg8VULwdklB2hCbQrt7O0HZOCpCoo/HQbSnHUKpfFhCZtMUQoiLn0JEPIRBkDOLQrFoX0LXmF9C8Vx1QgVHXEKBr0dCGOkvQlTiF0K35IpC8vmjQK9SekHY+itCx2r1QBKZXELM2itCu0lNQak+l0CV+pVCPNeWQqK+nUIvlqhCQJNCQpq6UkK3GDFBLW6nQsP1U0G7hHFBfxrxQUetQkIE8VdCXBRXQUy9l0J1rqlCDqNXQhmMnULn5StCy/A8QSRIhEKkUIVBko0cQq+4cUFM84JC+Q0jQrpWK0HjXhtCXjdkQuMAVULZhjxCbD2aQkPIoEI2SpFA7JCbQunNnEL+3RlCQxWpQpdlmkLcaJpCXElHQg4MWEJoS0VCnGdeQY5TrEIuPFlCmLU8Qh+CaEIP/kFC6f2YQB0QhkLA9i5Cmge6wVjBXkLx6nJCnr55QivrS0J4V2RCCSIYQjsAq0Lh8zlC7TMfQmqvT8LolD5B4hCbQrwoM0KrYkhCZ0xWQgYcnUIAnZtC0aIqQRXjgEITqYhC3NCNQrGEW0LJSTBBzelAQkkboUIBKU5Cp8eYQhi6hUIc+01CBOm1QJxKQ0Ig8GBCyhvWQBCmW0LJM4BBAR8tQXknmkIwxHVC+fOXQtNYZkLSdUJCao2ZQiT1QEI=",
          "dtype": "f4"
         },
         "xaxis": "x",
         "y": {
          "bdata": "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",
          "dtype": "f4"
         },
         "yaxis": "y"
        },
        {
         "hovertemplate": "Gene family=peptide antibiotic<br>t-SNE dim 1=%{x}<br>t-SNE dim 2=%{y}<extra></extra>",
         "legendgroup": "peptide antibiotic",
         "marker": {
          "color": "#ab63fa",
          "opacity": 0.7,
          "symbol": "circle"
         },
         "mode": "markers",
         "name": "peptide antibiotic",
         "showlegend": true,
         "type": "scattergl",
         "x": {
          "bdata": "8GdOwZwKjb6V/DzBqKlCwTDLAkHNdTXB0L91QTagGj+jLULB1NpPwTL2FUFZF0DBWXY5wcci9EGVaULB5hc8wTiuDEErilfBu0Z1wdwPaUAjc7pBfHWDQW7c4kBuMGfBFDVoQMek0UE7tnbBcARAwcekKcFqJjXBzANcwdLwMMENoEXBP4s8wSpNTsFaH8VAFbAywrCrVcFU62vBpWIewa1RfMEzxjfBCrY2wanMQUA/JTjB2ChzQe61hkEES9vAdKJXQf5uR8E/6MFBMbmOwf7QsT+ZS/TBGYU6wc5EPEFIaTbBXWsZwRaUNULgTAlCDE5BwSEcScH0myXBpwczwfhoFUIo2vZA/I20QVPNOMFOQvRBiGBXwZnrFkL76TTBwvh1QY9xL0GEbxFB83XgQJUTUcFJsllAla48wcWDM8G4dAjAqOwAQisq20EjuqxBkEf0PxP/b8HckTXBdN5QQcb/DsGsarHAIdlMwR96Y8GUuS/BUpo/wV3dNsG0elTBpw5ZwRaXSMGQ2kTBNYMFQuXARkE+QSTBlV8lwcdLU8GDcDnB3ukowuvFEMGzMQ/BrypBwRGUm0HBLRXBva0AQtXRNMFiJNtBn2lBweb6LsGYnTfBEgpowpGgOcFntehACnORQNsNtEGwwxfBD6tPwUE+AEKTOzjBUKUzwRZoXcHsqUjBv04ywXtuMcEd2ZRAtVoAwmvjNcFpMGNB4cVVwUTnHkE6m81AuwRkwfYWbcE7xHJAC0BQweAd5kE0No/AxzP8wQJCPsFe/xVBObTrwWYjYMIwelzA9hk4wSL9A8LI4uVBgahsQYgS9UGNuFVBA4dKwUwqQ8Hagj/BWy5VwXQ2tUCNqFrBM7g4wT0AMMHcXqTBP742wQnVFMHORzLBU2cxwVYgAUGFWDfB",
          "dtype": "f4"
         },
         "xaxis": "x",
         "y": {
          "bdata": "EE6KwmS3w0GGRpHCVOGSwuhY/sEvz4rCfKzQwdWKFMFw65TCdoaJwmuudMHrQZLCyu63wTd3a8F20ZXCdDeVwmtZckFdDIzCAlJgwZ5S08FPtorAbJWiwRGQlkBEno/CTsGlwbsDvsBFgPRBIdyQwnEHjcL4TIrCuMKKwjWBlcIq6JHCxbKQwnOqkMJBfI3B336dwAo8jsKcrY/CvYqVwsMTI8Izz4vCHGKLwomPA8I9h4vCUoYhwjgzEcEbQpTBQ0MRwgN4jcLG3k7BTUkAwc2/u8EKbvRBF3CMwopaEcKVXpXCxcyCwn6ZSkKL0VTBdEORwjS+jcJwOYTCqEmMwrU818ABJxXCDnfVwKhzlcJdFWvBCoGKwornEsGOQ4zCYtQTwpWyosGqdvXAKQjRwf/rkMKPz5vBKiuVwusWjML8I/VAj1wewdkyUsE013rA5KKywROFj8I884rCPXUSwhDSg8JwATXCxGKOwjNTi8Koj43CsqiQwscejcIOiZLCqj+Lwga3icIQC5PC7FXgwB1xF7/xaYTCQzKOwvYiisLJMpXC7oQKwsUahMIlzoPCYAmRwog4BkEAWZXC+mFmwYLalcJpYVfBAXCVwgKRlcJZiJXCzefOQQ7YlcLGV9HBsSGewYSl5MDDUZXCbV2Qwgk9Z8EoBIvCqdSVwnfrisLxh43CtB+Mwpayi8LA7gLCZHUBQrjPi8Kmfq7BURaLwhooiMEXhR/C6tCPwkOCj8KlIoxA+++JwhH9usBD8xHBGpDwwZwblcKsPZXB8o3lwax26UG0RKdBYDlUwfaJNsGCAsG/BWnOwS84HMGiqZ5B77WQwv0HlcJXtJTCka+Kwt0rycH/4orCZHGVwkGrjcKwvb5BavqSwmD9hMK3W5XCLGKMwmAC0MEszIrC",
          "dtype": "f4"
         },
         "yaxis": "y"
        },
        {
         "hovertemplate": "Gene family=fluoroquinolone antibiotic<br>t-SNE dim 1=%{x}<br>t-SNE dim 2=%{y}<extra></extra>",
         "legendgroup": "fluoroquinolone antibiotic",
         "marker": {
          "color": "#FFA15A",
          "opacity": 0.7,
          "symbol": "circle"
         },
         "mode": "markers",
         "name": "fluoroquinolone antibiotic",
         "showlegend": true,
         "type": "scattergl",
         "x": {
          "bdata": "CF1MweKMicEtLKXB9ASuwbu2KsCuQp/BPPMJQawzscFsyqnB/MWVwXJ/AkFAygHBKPaYwQ6n88GeUGPBZHdgwJN3CEFDkOtBG/KSQBe9tcF4jZfB+Zmjwdp2tMEds6vBTdqTwQCYscHakRnBfkGywD+mqsEAUqnBUrCSwQaIocHRJ7vBasTcQfzcxr4h26LBQiugwe8lq0HKIH5B0VDwQYMvpcFG/dXBSbb+QYgCrEAaK4ZA7TiqwTzfgEEoEpjBv+W4wS+7u8Gm06TBTP6qQUlKmMGWt+hBnl23wT7toMHFFZ/BdPuiwQiV8sDg1LjBytWev4UjBcGB87PBmg0LwgSfskEi/3dBuMa8wQ+CtcERY7fBnnOswWJlW0GkObXBA/gBwX3ZpMGPvpnBADOpQEEwnEBa5KDBoF1XwWiTgsD/BKPBfGhiQd1yi0H6pdvA8IuiwdfuoUDKIbDBwXUyQCvrksFzA6JBfI62Qa8We0HAkqbBZLhvQNLCusGr0b3B1n3tQVO6R0G4LKPBCWZZQTUpUkGLYenA/aB+QUqDoMEbnwHBAhipwYD3k8HIkJ3BU8ihwSJRrsFkW7bBU9NmwdtwsMGqOgRCFxu5wb/6n0F3XjfCrDy6wTIPqsHZbulBeK2wwXhqscH6yDlBz8W1wR/388EvJwPBx2XHQWeao8E4F6PBcVyJQS8mrkEJyNxBfmCiwaMrvEFPiLRBZ/W7wTQfn8FYBu1Bao+ev9PXLUKda5zB29pEQaaHuMHrO1DCnx+KQf9O/8BZsLzBvlUMwUeHJkGMKz/BlpDkPnYlqkFbIsbB4DqVQXGor8GjsprBpcWgwXu170HGiqlBfhePQRKCB0GUSbLBxTyoQfL52UG/HJ/BInWoQUPcoME2oqtBFvaewXECr8FKg6jBEiuWwYibvMEqMbu/Njm5wQTd2EE+OKrBJS+iwdrCzL8jNfrAd7xbQfj6t8EsVndBrbY0QfvXocHw/a3Bp9afwaR4mME2vavBoMHKwQ==",
          "dtype": "f4"
         },
         "xaxis": "x",
         "y": {
          "bdata": "fDm0QZLiD8JdwHVCIeZwQsZtKcLtHnNC2lSyQZgbcUKHW2xCPp4Hwthiq0HOMwBC9IAwQmq+RMGuExtC5jUEwh/YrUGx3jvBWicawtB0bELww3RCJs95QoUDbEI7SHhCHOs5QlFmckLujYLCTA/uwQSfd0IUrGxCsi86QqZbZEKlU29C5aFTwWz5/8ENGXdCppZ1QvZJ9cA6qz5BD94ywScAeELyPwdCmrAtQGX6McKUBR/CRopvQqzq28FUtTBC77xsQqPjZkJqaHZCw2g5wRL0bUJ1rVjBGcBlQqqAdkIxpXVCG9FsQjM+esGyBXBC3bwowvmz/0GTgWdCC0oYQmSUTsF/dFrB1DpvQj5vY0K2wWVCr+52QgenG8KjoWxCnkgAQh7udULxLjBC7O7/QJlmF8IF8XpCT0izQQmnhEGC4mxCWqzGwW/mFMIcWlNAIFR2Qs777kAz021CIJQxwvdwO0LdI7nBEpRFwfrpfkBTEHlCM5Ivwk+0bEIu4W9CB3ovwUa/mUHdjHdCeI4XwvNWv8ER2VFAgtdAwYIsZkJzMwBCjGVvQkP7OULrdC9Cd/RjQuI8ckI+8mtCFXcbQmM2cULpllLBQvpwQvzjRMHyUhvC089vQg7sbEK4ZufAzHdwQozccUKppcbBmh5kQpZag0AUDgBCnLVywXYFekKJ4GhCR9kTQZGVJcHHnjPByFt0QmSSA8Hl0kTBOCNxQqysbEI6Rj3BmJzAwWe8KMGhw3VCZ9DMwZ9CcUIy4RZCJqIUQQqhAEIIxGtCs2XsQa6/r8GJdwNCvHK4wfMcbMFQRUPCbUg7wZzKcUL7SSvC79xjQv5+MsFie2/Bcb1sQV6TrUHEknFC9Z5uwbmwOMHEunVCEO1kwQD+Y0JtWUPBktJ0QjhsZEIy+nZC+qI5QhB+akKqQRbC4nJxQuYWQMEc/HdCWu1yQo3hhcHtS+ZBd4z3wOHtbEIboEjBxAhhwWRvdkIfYGRCHk9tQp/CMEL18HdCOkEYwg==",
          "dtype": "f4"
         },
         "yaxis": "y"
        },
        {
         "hovertemplate": "Gene family=lincosamide antibiotic<br>t-SNE dim 1=%{x}<br>t-SNE dim 2=%{y}<extra></extra>",
         "legendgroup": "lincosamide antibiotic",
         "marker": {
          "color": "#19d3f3",
          "opacity": 0.7,
          "symbol": "circle"
         },
         "mode": "markers",
         "name": "lincosamide antibiotic",
         "showlegend": true,
         "type": "scattergl",
         "x": {
          "bdata": "b+WmQJ2SFsK/aevBaMS/QOriS8KwcjjBfcedP9ulXr4lDJjB+WQpwjYUCMBsxL5BLbcWwvmhk0FOzpJB",
          "dtype": "f4"
         },
         "xaxis": "x",
         "y": {
          "bdata": "KorGwBECZEH4qgnBe9c7whzoez5GzMRBrzo0wmBto0F/O81BUCQKQbWlsEFcBVvBgkFnQeIV+cH/GJ3B",
          "dtype": "f4"
         },
         "yaxis": "y"
        },
        {
         "hovertemplate": "Gene family=pactamycin-like antibiotic<br>t-SNE dim 1=%{x}<br>t-SNE dim 2=%{y}<extra></extra>",
         "legendgroup": "pactamycin-like antibiotic",
         "marker": {
          "color": "#FF6692",
          "opacity": 0.7,
          "symbol": "circle"
         },
         "mode": "markers",
         "name": "pactamycin-like antibiotic",
         "showlegend": true,
         "type": "scattergl",
         "x": {
          "bdata": "JJ6rQQ==",
          "dtype": "f4"
         },
         "xaxis": "x",
         "y": {
          "bdata": "HiqawA==",
          "dtype": "f4"
         },
         "yaxis": "y"
        },
        {
         "hovertemplate": "Gene family=glycopeptide antibiotic<br>t-SNE dim 1=%{x}<br>t-SNE dim 2=%{y}<extra></extra>",
         "legendgroup": "glycopeptide antibiotic",
         "marker": {
          "color": "#B6E880",
          "opacity": 0.7,
          "symbol": "circle"
         },
         "mode": "markers",
         "name": "glycopeptide antibiotic",
         "showlegend": true,
         "type": "scattergl",
         "x": {
          "bdata": "zrglQUv+6cECTILATyP1wUwZBELkhpI/Xp3qwVZOWUGYiUNBeH8KwvEnlz/I/QnCK8GgQOhR/D/lZWjA24OOwfKQosGPLH5Bja4xQW+cQT+ZZ33CpU05woO4KMAwUJ5AYsKBQctVn8GX59RAigO8wdBEucFz/KFBUgSOwQGXyUFY2dnAbKwNQGpdbL/qU4XCkLW6wVyiREH37oFB5N19QVoYgkEG8RZAyfckv9wsikBGb1HAy+nDwdYMkcG9IoDBWi7GwNok8j6lKY/CXGg4wd2MrcFfBbRB7qKewChJysH4znhA6xFmwQCxjEHFhFHCEUffvx23RUDIw6vBR30vPx/EUsDIHOQ/rJKhwUGhosGSAmBBImM1wXW9HEFSvYBAbvKAQCi6N8FTH4hBZ8CdQY/UCMIXoDnBs/1/wOM3tEAqD5u/cYRKwOOyocBvM6o+rYatwTyEdEGw/MBB4JWCQSqeV8A4eztA",
          "dtype": "f4"
         },
         "xaxis": "x",
         "y": {
          "bdata": "WBeXQVeJlsFWzejAMI0lQi4aAsAAxRTCKm11QaC9kkJbWG1BDChUQLcd/D+hUXdBcmsaQaeOAr9I1YHAfTm0QZVhSME3hgTCD+TzwQMQBkE2nTRB0EcMQVs2jkCV5wjC2Q7vv78nrcCdv/zBG+bnwY7E3EEFb8DA/zE7wUFIasB+X7xBY0MRQW3PDcGfSvlBx1mBwGnrt8EovAjCQ6KwwRYiEcJtczRBxpMWwdj8aUE3RB1BcocnQkhTCkFJ69RB7bxjQLeJ9sA/eYK+VBWMQNYsG0L3IdvAz0IDwZ1LNEGFiyXCoezHQUGGmsHi5Q9Cta90wWNMVkDSQwpCSI9aQdoyPMJXpqtBJHKFwMz1rkH9g9/BgF1GwS6A98E7LPJAp9sKQeqx9kErAw/Cfq3DwR+B0UFtiSTBrY+fQXUdokEjQTFBz5lVQfGhKcHshCXBePiaQXPVg8LVGCfA+oaWQGDfGkGepyhB",
          "dtype": "f4"
         },
         "yaxis": "y"
        },
        {
         "hovertemplate": "Gene family=rifamycin antibiotic<br>t-SNE dim 1=%{x}<br>t-SNE dim 2=%{y}<extra></extra>",
         "legendgroup": "rifamycin antibiotic",
         "marker": {
          "color": "#FF97FF",
          "opacity": 0.7,
          "symbol": "circle"
         },
         "mode": "markers",
         "name": "rifamycin antibiotic",
         "showlegend": true,
         "type": "scattergl",
         "x": {
          "bdata": "IlO4QV1mLsIDrbFBknC2QZ5iSUG5ZOvATm2AQexMIEEE8y6/OSvCQU5CGsLyzsBBXkMTwtP/J0H542hAgiO1Qd7AsUFUlOBBY38awscb1UEwjTzC5lFLQSpa2UFCYFRBvumlQSUn0kGUkB/CPRS6QXJwu0FejzzC2CE4QYFoFsIMVMVBPiUOwdcNuUEKfhdBqUmTQXVfmME=",
          "dtype": "f4"
         },
         "xaxis": "x",
         "y": {
          "bdata": "cBF5wbbrJMK77xjBmlWHwZReE8K5SwLC4l8+wbptycF5y6rBWmcuwf6w/kHoZZPA54MJQquvscGA29PBTDdowZLHV8Fl3w7BX66qQQlFX8GreQ9CsCrQwRSg/MAaJdLBSDA2wfXlY8Gb7PBB9edmwZwSW8FNYg9CIVijwTidAEIR7wjBeawGwi8aB8EusZbBGRASwbVC+UE=",
          "dtype": "f4"
         },
         "yaxis": "y"
        },
        {
         "hovertemplate": "Gene family=phenicol antibiotic<br>t-SNE dim 1=%{x}<br>t-SNE dim 2=%{y}<extra></extra>",
         "legendgroup": "phenicol antibiotic",
         "marker": {
          "color": "#FECB52",
          "opacity": 0.7,
          "symbol": "circle"
         },
         "mode": "markers",
         "name": "phenicol antibiotic",
         "showlegend": true,
         "type": "scattergl",
         "x": {
          "bdata": "f0l/wZGzJ8ISn3TB0DxSwjeZA8LlgqFBpz0BwE5+2MELhSJBAQCVQfE4gcE9qtjB06cXwuF3FUDQVJRBquxjwOPUL8Iw5rhBPWM7wuZVp8GyhbdB8D2SwQW/vkDcySRB/61pQcwfE0BzNafBkZEIQTrVMEKaBFhBzkWIwRHg68CsHXxBNV4ewpAHXUFt4qBBeXm6QOT+skGMMiBBLG8lQWJZ3sFFGwVCD6f3wf5KI0F15ZfAAfD5v6K3hsJn8MpBUkGGQTMTgkHWZHU/Hz6XQdPBqD9JYZBAS3TfQU/M/8E=",
          "dtype": "f4"
         },
         "xaxis": "x",
         "y": {
          "bdata": "f9IYQQQDKkKIqPJB2eqcPz0aBELx/cHAjeIuQZgl/kFM3lDB2lsSQPNK50HtcnBB0YgrQUnR50AmGRFAGiyjQWDAEELVe3fB/IeMwRwzGkJg6aLAIxRTQQlk20AM6VDBFXYawYBc4kAV8XdBIU9uwWDMLsHWbcHBWqtwQbBArEHJqAjCEYXVQB0mG8KFwLzA9HCBQdZNycBAdtjBxGvawZIMK0GCabvABE/swZQu2cHBCL5BiPJVwNmqzUHJC+jAZ11CwavGJcHMVvTBtZ2dwSDdDMECApxB0wQqwVQJekE=",
          "dtype": "f4"
         },
         "yaxis": "y"
        },
        {
         "hovertemplate": "Gene family=aminoglycoside antibiotic<br>t-SNE dim 1=%{x}<br>t-SNE dim 2=%{y}<extra></extra>",
         "legendgroup": "aminoglycoside antibiotic",
         "marker": {
          "color": "#636efa",
          "opacity": 0.7,
          "symbol": "circle"
         },
         "mode": "markers",
         "name": "aminoglycoside antibiotic",
         "showlegend": true,
         "type": "scattergl",
         "x": {
          "bdata": "/5OIQasOvsFJRrlBo2Czwf3dmEFFSeTBZqoawiVAJsB+pI2/7EbkwZ2lmMF5zZBActoFQr4QgMEPcyrByI1ewe+b+7/OmodBRNyUQeQxHcLYQ49B0QzZwRSyy0G6T4HBjMowwQrKpkEFnbZBPg9/QYqjKkG95+BA5HRQQeWPtkGSuJvBdw25QVVgDMI0+BlAfpsJwukI3EB+scFBuDefwUjDsUFpz5rBvj1/QWoXdUHvdI9Bt8uDwQz5gcKdhc9B/Qp1wfXbbEGsTVVBr5b0QdizH8IN1OxARmXdQTvatUE/z2lBsHdrwk+OgMEXCaBBcG5swkXe5cExkH1B+Zi7QV5BD8G+14lB67mJQbE2wUFzg5LBzy6RwCwDmMG8hJHAm6eNQRBkQMLLUtRB12Qnwvqyy0G81qVBh2SgQeXzlEHibxfCix9ewtQBA8J1A/JBOuzgwVNJsECkmTPC4eT+wYqBbMJsa7hB6LG5QROkAsJnHY9Blr5lQYh5jsEmBX7BPXeSwMdQykAc5PbBl/K6Qef2ssFs7YZBm+ahwWFfpsENyMRBgfhlwd43rkGjECTChQ+cwbcOI0DJCYtBXa0fwYagDMLwrLdBAbm3QdtsAcFKdoFBgXlAQcxslMEp1ABB95OYwej1mUGfv2zC1bmTQXYzq8AndxJCkWrBQV9S3EBHqRfBfviZwVNZ40H/CXJBsPuTQWRoPcBnY7lBWtGpQdD4hsGiJfbArsG4QaitDMJuJJfB212EwPHExkGvXoJB8nRgQfndvcG/Sq1Bpd/rQXl8l8E1nLFBg7IMws0snUFIXbTB83wJwr0uHMB+rBjCBROhQW0h/MG/86hB56KTQZeDscHWsq1BpNumQcWQVkDKJfbBiqTDQcXDo8Hj1MfAKHLbwTn75ME3zMZBKT64Qda2rEE4mbfBr481v9irC8IJ8yXAATsXQPrrrEFLfZTBUUa5QWnAvMGgz09BVjApwhLalUADD3HBs+FHwtDaKsIjGJlBZfcZwqJKxUD1DO/Bs5kswqIvrUB5/cBBLkumwUkYlMG6hmlBPLDBwXnlzkEkK4hBQa2DwF9xzMAFGSJBkDzRwWgAC8JMrpHAGRmEQf5jy0H6OZjBVrCzQSXWhUG5sKRB9phjwixdCMJXjl1B",
          "dtype": "f4"
         },
         "xaxis": "x",
         "y": {
          "bdata": "a/AgwF9HKEJpCX7AyPkdQGTIeEDdKeNAdsIKQt4Xi0G3dL7AWWw9QcisMEIRvDxB3r5SQiIg1UFeP+NBGC/4wKsC9EBPEgNBtHaewAasDULHXQHCYt3AQYtqgsGUnwNCo9dCQTzTdMG5jx1C58BEQPmCEz+ilkvBkW1VwdPltD9KSjBCRgJAwIZuF0IBrF5ADSc2Qn1puUDX081A0eALQjFL3cBHvgJCkuCCwKj0kkF4uSvAq7gdQvV7nkFk1IXBPTq/QYhiTcC9r3nA64C2v4/dzUE1yIxBpo14wOHkhD28jVbA0OMaQl2owEEvzpW/iIWIQSXlykEgXT9A2YTIQRU6hcLXBidAfi2rwKZ6FMHsaDpCrX/8QXj4MEIelPxBtT5AwBKfrUEJGnzBE6gqQnFngsFmsKTBEOoJQXpXucEAOAVCOZK5QWN7jEGpl0LB4WgoQvH0kEGLThVCrR89wWPwHEIgVABAxmVawNEjBUJuYC7A1vYRwpagdMEsBQZC89f8vhkJ3ME2pStCndiYwWF9AkIbPfTAAkPyQSw/GEKtCwRBZFLHQaevxsBhhnhBlwUwQvhvDkDMGgzCR9moQUqND0IN9RM+4TmbP6S3hkGpimbACCeGQcIVOEK4S1ZBnjAfQgijg0B1BRxC0nKTQCvRjsCfahnB5ZG3QfYv+MCur61BLGs5QspNfb+4rybAT/4zQG160EEmIQTBoVLRvz397MC2cvy/kGJ4vyPMH0LBrc1BUdQZwXPCFb/0P6BAW0iGwd9gEkJJ6lXAH688wHz/MEKy5pTBCwcgQmb5P8Czz4o/Pqk2QgSMx8EJQxBCMrENwtowvEHJtKNAnl1WwSU+sEE6xoXAy88xQMmvE0FVTypC9v64QecvwkFChDLBjz0mQgdRJkIGYpdA/T5/v7nImsBdByhCf2OSv+S8E0L+EdPBIX3xQCILjcBEeDhCdN2ZwftSFEGmJ1DB1oY5QNE1/kDEsAhC+boGwdLyGEJwB1VAy/H8QfqnlkHn8OxBsmzYvqTVKMKSZYw/JKKowAsWOEJgAz6+O17RwRiFgsG/pQVBfTTwQO5HWkFn8kvBSOb0QfDxBkLWOfxBvlFcQVayZEHh8jBC/gnZwNwXMUBdE3TB8IaTwf5hJUGEvhvA",
          "dtype": "f4"
         },
         "yaxis": "y"
        },
        {
         "hovertemplate": "Gene family=isoniazid-like antibiotic<br>t-SNE dim 1=%{x}<br>t-SNE dim 2=%{y}<extra></extra>",
         "legendgroup": "isoniazid-like antibiotic",
         "marker": {
          "color": "#EF553B",
          "opacity": 0.7,
          "symbol": "circle"
         },
         "mode": "markers",
         "name": "isoniazid-like antibiotic",
         "showlegend": true,
         "type": "scattergl",
         "x": {
          "bdata": "XoesQbjjukFuichBsxe4QVk4NUHA0H9BbnnFQRjz1UHEKcdB+VodwlehCcKytbtB8wDBQZf0kEH5NpZBMappQT+IoUE6nsVB",
          "dtype": "f4"
         },
         "xaxis": "x",
         "y": {
          "bdata": "Bifkvhqu7sAoB8ZBmB+EP7uMCsF4fDrBj5aJwEza/MCQ/mHAUlDqQZ9mNkIWBo+/aRzMQPXwNcEttS3B0dEawerzI8FajcLA",
          "dtype": "f4"
         },
         "yaxis": "y"
        },
        {
         "hovertemplate": "Gene family=macrolide antibiotic<br>t-SNE dim 1=%{x}<br>t-SNE dim 2=%{y}<extra></extra>",
         "legendgroup": "macrolide antibiotic",
         "marker": {
          "color": "#00cc96",
          "opacity": 0.7,
          "symbol": "circle"
         },
         "mode": "markers",
         "name": "macrolide antibiotic",
         "showlegend": true,
         "type": "scattergl",
         "x": {
          "bdata": "6MqmwSp5n8Hr+6fBXouBQS/pysBpr4lB9Oa5QUgqjUEZTjVA+vpyQcqlm0E4YhhBzkw4QGZh2D/4SfZAmrGVQT/4BUBxq8xBQNirQXoaEkLDEGFC2pqyP1dYbcLKAcVAlEyDQW+G08EQ0YxBOMiEPwtbiEEp3+dACPQiwZdnikBM4ZJBl063wYvWSEEk6lBB49m4QRLwhD9oyoZBsMEwQb6f20Hl8O0/VumOQf/oiEBLEZBBTcyHQezGtEHl9blBxWeRQWpTrMFWt5NBbro0PyjJEMJ57ItBANH3QE83tsC7GT+/S8CyQZNp4b9eu0lBI2zoQbx84kFol4ZA5turQdpTk0FrbdZBzTrKQBoEsUEDF8ZBmQjlQRgFmkFzSatB6NrvweJookEwQN2/5Su7QWE7xD2g/Wo+a6U3wXBl4EG40MRB5tCPQUPGRkGJCLxBO0MEQCcsk0E10qVBpP/pQXl7h0Hvlb9BL7byQXuooUEHpSZCIjy5QOzV40HWX8TBIbzeQW1ef0HwGQhCSAywQUfVhkHodrpBBSGFQH7AdkE9hZLBhOp3QRLslEEOTHxBIACPQQBDyD9tWJlBazC0QcergUFf45ZBL82wQT+NkUElNphB6OEHwUvfgUFpvohB6t+IQaw2x0FqIX5BqsKtQQPAPkHIePO+p/PhQYO1Yr+IPIBAIPyoQNAorUGWSJJB3Sg0Qeqpm0FHW5FB603AweFpmUDLUI1BOYqXQdMSjUEj05BBIZNkQaZKWkDjhoZBzmxpQaJzj0FYXgrAV6CEQVmcq0FCeso/S3ThwVWCh0ECNaRBTLryQUuCoEExBJVBqVC+we8FmUDfFp1BvnbQQaZmsEHbVwZBftNTP6YF1ECM+ufA3NKsQZRAokHXTk5BVuCPQbO2IML2LrdBfNOdQVJkrEFP1BfBc4PYQZQVfcEQ8YlBwR6eQLSxxkGX4VdBG5nCQISN60FOA0VAO5mtQD+kX8KIeLNB",
          "dtype": "f4"
         },
         "xaxis": "x",
         "y": {
          "bdata": "GhkaQtsbVUE4eRlCzSsbwrCRhkEffq3B138WwUKqAsHCnwPCeIo9wNk0GMH40zfA9pcPwEPLBUFydc+/0gYPwRiyrUDLrEvBdLQlwZJ/5sCbfRfBK6TowZbK8EE7pJZByLqvwdrOoME7OhjBdAnkQGRRUMBi7BrCDtS1QNg9zkB0jBLBVxkQQvaUAsLisvDBifeuQFqNlMHTRA3Ch2Dewd6KOMGe4wTCz37Tv3DcAkHiiKPBJQMiwMtIScGh+2jB7f8Cwggz5EGmgMTBal8FwJLHL0HhEr/BFHzXwcU9p8Gg2+tBRi+cwdCNBsFd++fBZrEnwbDMIME778FANYyVwdZXmsDuiVvBxMvhwXNvRr9BNnnBB0wQwY8Dq8Gg3p3BlOI+QYTGsMFyO3BBS+OYwemS2EHNGdHBe2lBQZOGFsHvQkDBDIm9wRnJo0GCaInB0MJawHJGl8C6r6zB6RaXwDO5C8JHN5XABLtwQTprrMFRONLA0gaiQaV2TcHmQRtCGmchwR2UysD2PpbAnI+TwbXB3cGDMIbBm68eQWsGKsDycydCmnW0wYWeE8FSgjrBXG+9wU6yHkGTrArB8ScQwTbF98FDyKXBnmiVwWc/lsGEprLBK5AKP8Ew/ME3jPvASkw6wLLsB78mKwTCyH78wPnaFMLUcVbB5JxdwR2JlUA/Zm/Bd9kvQr6cNMGkqgrBnM4iwhADjMGMKaTBPOHGQRMdi0Cfof/A4HxVP+Al6MD1s8a/vpYKwqCT3kB6KQvB5zpfwWEtksH/Jg3CgyIUwobiTcHQQw1B2XnxP7uBisCXFK3Bv1n7wKtrDsJXnaXAEiMoQlUyhEARBLHB94NhwbNxl8H+W95BCmLmP7D7hUGwsUHCPc3CwBh7tMEHjALBnZOiwc7NMEIFaInB7XWywcviwb566GNAhr4uwejntkE5d2vB27OAQIwaH8EEehrCLovGQR3i1UHrT/dAmfcsQqj8DUJGcRPB",
          "dtype": "f4"
         },
         "yaxis": "y"
        },
        {
         "hovertemplate": "Gene family=disinfecting agents and antiseptics<br>t-SNE dim 1=%{x}<br>t-SNE dim 2=%{y}<extra></extra>",
         "legendgroup": "disinfecting agents and antiseptics",
         "marker": {
          "color": "#ab63fa",
          "opacity": 0.7,
          "symbol": "circle"
         },
         "mode": "markers",
         "name": "disinfecting agents and antiseptics",
         "showlegend": true,
         "type": "scattergl",
         "x": {
          "bdata": "FdfywZ5SIMLhWoXCC+2uQdftHkHQRwnCEe2WwVPl3EEvk+bAXvqawu/c5UAAvrnBvrq7QL0fhUFJwspB7/LTwKJRS8LFJV7CS/bNQW5twkEV+AbCEkWKQay1/sHwE4C/ZSKpQUCgh0GMec5B2SfCQTq5nkGHx+hB1aEUwi5R4kE8pHrBVlUGwue1xUEjd4JBoFMHwkLYpcEvqDhCVeH4wECnEsJsWB/A4nLHwR9yi0GKcbBBVjHpQQj2wkGs6pTB6329QfWTQkF7owjBskTBQY8SuUAQ4InBSTPbQUOQv0Gx7s9BOvhuwrm7Y8IbBTVBELQNwrk2tsFJb4FBG5r+we6CKsJ29ARCdx/nQZmLXkLwnDbCK2TnQdoz2kHEY4dBNATSQYRbTUDkXLhBS2fbQcPiVkHOl7VBfTuTwTee40EO5NO/RBnaQV1dkcFwZNlBKXfwQbbdyUF92abAELjQQb/xzsE=",
          "dtype": "f4"
         },
         "xaxis": "x",
         "y": {
          "bdata": "R/0iQuMHMUJ+N+9BxdwZwZER5sGcmilBxiUfQkv4ecA1uhjCDZuyQa4ch8EoIB5BCJ2rQKWcikFnCTXBA3U3wtlfIkKD0Y9B/0ZHwdEnA8FjWiVCppzgwY5mJkLcRR7C0qlvwRFGr8HAwgzBkz4Swa5sMD+vnsPAiMbvQfgTCcErXBxC9tMlQv1SF8FISxDCoFQeQh0mAEL327jA4J/DwTdEDkLtswzCkoslQsv9wcEDdyfB0uuMwLClIcFRB0/C8bcKwSX1ZsGULpZBBgR8wXeiesH/ch9CcN70wHo6SsGtvBnBnssPQuPSB0LWSW/BxkvEQUA730HHqNfBCtkKQs7L20GSZbhAorRRwQpdYsJgrgpC128rwQ4xWsFQmgJB/ilJwYXrpMEyIRrBg6OQwM1sE8Cm413An+MoQur0D8GdIKDBaVglwTvaFELa2H3AA/pmwTEcM7+Xfx7CtOIXwf2L3EA=",
          "dtype": "f4"
         },
         "yaxis": "y"
        },
        {
         "hovertemplate": "Gene family=phosphonic acid antibiotic<br>t-SNE dim 1=%{x}<br>t-SNE dim 2=%{y}<extra></extra>",
         "legendgroup": "phosphonic acid antibiotic",
         "marker": {
          "color": "#FFA15A",
          "opacity": 0.7,
          "symbol": "circle"
         },
         "mode": "markers",
         "name": "phosphonic acid antibiotic",
         "showlegend": true,
         "type": "scattergl",
         "x": {
          "bdata": "K72ewZbdAcIjZP7B0HILwlsiucE/9XLCS07jwYFU2cEF4p7BoteJQV4DL8KvL+lBG86GQLxzjUHpZh3CE2vzwa59ksHuXrnBn0SYwNnpmMElhKTB1EKSwS4JVkCVkgHC60kAQmxt1MH5qJ7BnOyewad/G8JQNFFBQII7wWFaQkANpBLCD0smwmpjpMFlIAbCIPfKwZ2/k8EJ1O3B2DeRwe1emEGSpbNBbzDSQO6mC8JkGgzCmOxwwQ==",
          "dtype": "f4"
         },
         "xaxis": "x",
         "y": {
          "bdata": "GkzkQQznC0IICbJBB4MZQvgs8kFRa31B6lIdQibV/UEhWeRBBDj6wPA5aUHbX1fBLLpuwXkPpcCxhXFBi6IcQuE/FEKrbZ9BbGAKwW2LHkIwYNlBQxvfQTh1BMKPuSNChQcfwd+Ls0GmYuRBFErkQdd7mkGySLHB8sknv02zpMH8l8RBoFu6QRNV2kGfqx9C6ynFQTh7HMIb6kFBYGskQssjy8FU13PBY2QtwqX9YkG2nxdCb0/+QQ==",
          "dtype": "f4"
         },
         "yaxis": "y"
        },
        {
         "hovertemplate": "Gene family=tetracycline antibiotic<br>t-SNE dim 1=%{x}<br>t-SNE dim 2=%{y}<extra></extra>",
         "legendgroup": "tetracycline antibiotic",
         "marker": {
          "color": "#19d3f3",
          "opacity": 0.7,
          "symbol": "circle"
         },
         "mode": "markers",
         "name": "tetracycline antibiotic",
         "showlegend": true,
         "type": "scattergl",
         "x": {
          "bdata": "Blg1QWG7sEDF6TLABbAawB1wvMFUGFhBE+dfQVXziEHDvZpBSoRzwlgsmEFrucJBsqDMQKsTxkC3l3FBoHKoQfynmUEt60nBL8YbwSBOI8AD5zxBeCp1QdPUl0FcWJjBroTZQFl4ucHHSJO/v2I8QJHEb0HqlhNADtz3wYGBj8E9G4VBT8SLQUcX30F7XBtAaLEKQqlo7EHJWIHAdS8awFFMoMG5qdpAOu89wn1xsL94IJBBxUh4wSy4PkG7VVBBENeXwUtLfkEq4NxBGc1OQLZg3kFFYldBI6sHwfIPbz9uXfhB6c4AQo3fMUJF7pZBWd4UQoCBtkF5I0HBzS7GwewAFkIpTXZBTUMVQJJf2kFRYs/BUZ1hQfEvP8AHd4JBwBWuQdxr6j+rLdXAc+tMwrGoAMEQDbHAx4atwW0YHkH3UEVBUMzaP2HdxkHINYo/ScXmvoUgUUEoL49BqmfCwdRIaEGpH69Bl9HFQGM+2MEr3QFCa27Twa9vbkHX+Z5BEWphQTGfnME=",
          "dtype": "f4"
         },
         "xaxis": "x",
         "y": {
          "bdata": "oBBxwX7WNMKidajB82oTwQgFJMJ7mPfBmNwOwg2oD8Jk/43BHsDbQTPIl8FVOC7BiOM0QWYZNUEYN9DBrzCPwLeckcGgmr7B7SZlwaQ/s8FfdBzCr97OwUbBlcGD+8fBvefDwevOrT/wU9vBW73mwFWuYEFKcWjBUzAowb9MwsEM0drB8okQwkRNgUDHOA/Cym6Xvj0uMsGFvWhBFXIWwpP9l8DdLwPCrjIPQjhZDUEQAgfB2McVwroducHVuprBPma1wbMkGsKDGTXB4I5xQINhzj6j358+ywhVwag9L8HJQ4vAiE4cwMbeK8FeBZzBAr8EwIdoZ8CZlhhBG1AvwTJKZ8EY09PBe3cIwgh7TsFLxEbBc1IYwRyDusFpm/rBwukAwBG/fsHvvf7AdrGpQcSZYMEVPSHCRLDfwN/BJcIuFAjBnzQlwh63H8GT/CrBt9RWwY9nS8GXM4jBQC6GQcAXa8FWlB3BRDf0wSeOJMLoHmTBELgMQmsmB8IUYjfB4ggHwgY3qUE=",
          "dtype": "f4"
         },
         "yaxis": "y"
        },
        {
         "hovertemplate": "Gene family=diaminopyrimidine antibiotic<br>t-SNE dim 1=%{x}<br>t-SNE dim 2=%{y}<extra></extra>",
         "legendgroup": "diaminopyrimidine antibiotic",
         "marker": {
          "color": "#FF6692",
          "opacity": 0.7,
          "symbol": "circle"
         },
         "mode": "markers",
         "name": "diaminopyrimidine antibiotic",
         "showlegend": true,
         "type": "scattergl",
         "x": {
          "bdata": "vyqUwZXMlsF4nhzCKMPZQN3nUMJJUt9BTiqIwVyqOcECAVjC9WALwvF7LMIwOhPC6jI4QQg4F8IURkXCTYcuwnwQuEFJ3xLCLy8LwvDBZsLreP7BbWl3wREQDcJ2rvTB6awIwpDdTcKLcGbCompIwiv8qkF7FeTBP0PBwXT8U8FyI4pB1vhywkQz6sHBy9/BJwdMwtGbj8Hr7YDBQBUbwhGGWcJf3pTBE3hxwho3HsLM7g3CozikQV5458FvNCPCXRXLwQiCKMJMpgvCD5P+wT7GVcJBjhrC/3Uswk2YVMI4ZHbCrRDQwWwC+8GDFRbCCI9kwd6pHMKRtsU/7006wtLtEMJju4rBpkBVwg==",
          "dtype": "f4"
         },
         "xaxis": "x",
         "y": {
          "bdata": "tljfQbWkHELkHwJCXUh2wWiMxUGK9S/BMkX+QX7nCkI2tCJCHhDRQe0fEEGbSA1CS45ewYFqw0Ht8ORBT5imQc2cycAd2g1CuKKLQRbFF0LvrS9C2Vz7QTwHG0JraRJCPraJPn5Q4UHlGR5COvwaQvBkKcGnke9BCPMMQpQQ9UFFv0HBddP1QazDq0EELClCZT4WQl613kEISQlCO7z4QfHCukCErB9CEpDDQcVL+UFCTUlBAdlewamo6UHQeRlCo4/EQRpkAULD+gdCvPMvQjqNBkJ/pJdBac/LQZjh4UG6CxlC5AUMQktLIkJ9IGdBsmcHQsO1C0LvA/g/HSClQQcU2UG9DgVCSYkMQg==",
          "dtype": "f4"
         },
         "yaxis": "y"
        },
        {
         "hovertemplate": "Gene family=oxazolidinone antibiotic<br>t-SNE dim 1=%{x}<br>t-SNE dim 2=%{y}<extra></extra>",
         "legendgroup": "oxazolidinone antibiotic",
         "marker": {
          "color": "#B6E880",
          "opacity": 0.7,
          "symbol": "circle"
         },
         "mode": "markers",
         "name": "oxazolidinone antibiotic",
         "showlegend": true,
         "type": "scattergl",
         "x": {
          "bdata": "Hkm5QQ==",
          "dtype": "f4"
         },
         "xaxis": "x",
         "y": {
          "bdata": "rkd7wQ==",
          "dtype": "f4"
         },
         "yaxis": "y"
        },
        {
         "hovertemplate": "Gene family=polyamine antibiotic<br>t-SNE dim 1=%{x}<br>t-SNE dim 2=%{y}<extra></extra>",
         "legendgroup": "polyamine antibiotic",
         "marker": {
          "color": "#FF97FF",
          "opacity": 0.7,
          "symbol": "circle"
         },
         "mode": "markers",
         "name": "polyamine antibiotic",
         "showlegend": true,
         "type": "scattergl",
         "x": {
          "bdata": "t8bCQQu9uUHPJLxBC1DRQRzZckGcauFBiKKyQRMDyEE=",
          "dtype": "f4"
         },
         "xaxis": "x",
         "y": {
          "bdata": "vj3swDttBsFjwlnBDGcNweTfJ8EaGwzBWKyxPxNYXME=",
          "dtype": "f4"
         },
         "yaxis": "y"
        },
        {
         "hovertemplate": "Gene family=streptogramin antibiotic<br>t-SNE dim 1=%{x}<br>t-SNE dim 2=%{y}<extra></extra>",
         "legendgroup": "streptogramin antibiotic",
         "marker": {
          "color": "#FECB52",
          "opacity": 0.7,
          "symbol": "circle"
         },
         "mode": "markers",
         "name": "streptogramin antibiotic",
         "showlegend": true,
         "type": "scattergl",
         "x": {
          "bdata": "l/GRQfRqKEG14XNB5PKTQTH+k0FFWZBB6liKQfAgkUG6Hp5BJzirwFH/fkGhBDJACzvNQEpclkH2PZZBWc2QQZU2jkGs9W2+SIuJwUmNK0G/L3dBwmRDQMH1gEHquaLBdnSZQRgsQr/bPn1BzrKRQY4/hUGgILnAWNI1v8Oa5cDj1p3ByRMkQZ24nkGzNK5AkuOFQRWagL7D73ZA0rafQR3dhkA=",
          "dtype": "f4"
         },
         "xaxis": "x",
         "y": {
          "bdata": "WvsOwtc/I8KUUw3C8WoQwqulE8LNWfbBI/YTwpExCcIgixDCqp0iQheQCsJAvfBAajPSQN6gGMJzThjCmW0RwpuaEsLT4hZBWWKhQVr8oMFAhgvCFTPyP3NtG8IAzrFBXUoQwrKkRUHgb6rBO6AJwnaeFcLWKSzBxqBVwPXqsUGnfqlBRvAnwmjoD8J38ilBL9AVwpB7GkFSL31Aq361wVmo9T8=",
          "dtype": "f4"
         },
         "yaxis": "y"
        },
        {
         "hovertemplate": "Gene family=pyrazine antibiotic<br>t-SNE dim 1=%{x}<br>t-SNE dim 2=%{y}<extra></extra>",
         "legendgroup": "pyrazine antibiotic",
         "marker": {
          "color": "#636efa",
          "opacity": 0.7,
          "symbol": "circle"
         },
         "mode": "markers",
         "name": "pyrazine antibiotic",
         "showlegend": true,
         "type": "scattergl",
         "x": {
          "bdata": "Qe7YQSeDykH13+RAd3GlQcSNqEF1IKVBoE2ZQaGOy0FZs8JBXS3KQW9FpkHVOobC",
          "dtype": "f4"
         },
         "xaxis": "x",
         "y": {
          "bdata": "VY+ivaMancBXIKbAz2E0wSBqQcEk4DbBS9Mqwf7VtcBi3kzBBr1bwbjlGsEoOOxB",
          "dtype": "f4"
         },
         "yaxis": "y"
        },
        {
         "hovertemplate": "Gene family=mupirocin-like antibiotic<br>t-SNE dim 1=%{x}<br>t-SNE dim 2=%{y}<extra></extra>",
         "legendgroup": "mupirocin-like antibiotic",
         "marker": {
          "color": "#EF553B",
          "opacity": 0.7,
          "symbol": "circle"
         },
         "mode": "markers",
         "name": "mupirocin-like antibiotic",
         "showlegend": true,
         "type": "scattergl",
         "x": {
          "bdata": "lPq+QV5DnkFUwZpBWVI5vw==",
          "dtype": "f4"
         },
         "xaxis": "x",
         "y": {
          "bdata": "4ZZVwYmn+MHMfffBqUIOwg==",
          "dtype": "f4"
         },
         "yaxis": "y"
        },
        {
         "hovertemplate": "Gene family=moenomycin antibiotic<br>t-SNE dim 1=%{x}<br>t-SNE dim 2=%{y}<extra></extra>",
         "legendgroup": "moenomycin antibiotic",
         "marker": {
          "color": "#00cc96",
          "opacity": 0.7,
          "symbol": "circle"
         },
         "mode": "markers",
         "name": "moenomycin antibiotic",
         "showlegend": true,
         "type": "scattergl",
         "x": {
          "bdata": "7Y3Nvw==",
          "dtype": "f4"
         },
         "xaxis": "x",
         "y": {
          "bdata": "yQTqwQ==",
          "dtype": "f4"
         },
         "yaxis": "y"
        },
        {
         "hovertemplate": "Gene family=aminocoumarin antibiotic<br>t-SNE dim 1=%{x}<br>t-SNE dim 2=%{y}<extra></extra>",
         "legendgroup": "aminocoumarin antibiotic",
         "marker": {
          "color": "#ab63fa",
          "opacity": 0.7,
          "symbol": "circle"
         },
         "mode": "markers",
         "name": "aminocoumarin antibiotic",
         "showlegend": true,
         "type": "scattergl",
         "x": {
          "bdata": "Mbm4QI53M0LZQe9AJE/ZQW8+xUEaJ8lAYDjDQfHR8EHAGdRBgMjJQQyZ7kFPCsdB",
          "dtype": "f4"
         },
         "xaxis": "x",
         "y": {
          "bdata": "XKYnwjwrK8HlcubBqOtkweZhvMBZ7rLBQ/R3wRdjIcFdwUnB1s5awHw7N8Htd2LB",
          "dtype": "f4"
         },
         "yaxis": "y"
        },
        {
         "hovertemplate": "Gene family=sulfonamide antibiotic<br>t-SNE dim 1=%{x}<br>t-SNE dim 2=%{y}<extra></extra>",
         "legendgroup": "sulfonamide antibiotic",
         "marker": {
          "color": "#FFA15A",
          "opacity": 0.7,
          "symbol": "circle"
         },
         "mode": "markers",
         "name": "sulfonamide antibiotic",
         "showlegend": true,
         "type": "scattergl",
         "x": {
          "bdata": "/hYWwk5+70H7WtjBUf9kQX8G/sFkBWRBtco6QR8koEEEi5NB",
          "dtype": "f4"
         },
         "xaxis": "x",
         "y": {
          "bdata": "oQqTwen1B0EzCR1CQpisQDZGPcGpfwJBSDUuwL4PCUFGbplA",
          "dtype": "f4"
         },
         "yaxis": "y"
        },
        {
         "hovertemplate": "Gene family=glycylcycline<br>t-SNE dim 1=%{x}<br>t-SNE dim 2=%{y}<extra></extra>",
         "legendgroup": "glycylcycline",
         "marker": {
          "color": "#19d3f3",
          "opacity": 0.7,
          "symbol": "circle"
         },
         "mode": "markers",
         "name": "glycylcycline",
         "showlegend": true,
         "type": "scattergl",
         "x": {
          "bdata": "BmcwwY7ggUFqxtBB37+yQeNvS8G1i47BR8i2wfdJU0FVnllAiBagwUhwKsHkQ/PAqOsCQQ==",
          "dtype": "f4"
         },
         "xaxis": "x",
         "y": {
          "bdata": "56w0wop0m8ElxmHB6YpzwUcLNkDkmQRCG+4GwYb5rsE0jbnBdpspwhr+sMCvEajBRnr/wQ==",
          "dtype": "f4"
         },
         "yaxis": "y"
        },
        {
         "hovertemplate": "Gene family=thioamide antibiotic<br>t-SNE dim 1=%{x}<br>t-SNE dim 2=%{y}<extra></extra>",
         "legendgroup": "thioamide antibiotic",
         "marker": {
          "color": "#FF6692",
          "opacity": 0.7,
          "symbol": "circle"
         },
         "mode": "markers",
         "name": "thioamide antibiotic",
         "showlegend": true,
         "type": "scattergl",
         "x": {
          "bdata": "duTHQTKxokHewQRCtVbfQeqyNUFrlTdBQ26zQQ==",
          "dtype": "f4"
         },
         "xaxis": "x",
         "y": {
          "bdata": "yTGrwHjUIcEbaOvAnpkRPX0IKD+Ap2DBQhpZwQ==",
          "dtype": "f4"
         },
         "yaxis": "y"
        },
        {
         "hovertemplate": "Gene family=pleuromutilin antibiotic<br>t-SNE dim 1=%{x}<br>t-SNE dim 2=%{y}<extra></extra>",
         "legendgroup": "pleuromutilin antibiotic",
         "marker": {
          "color": "#B6E880",
          "opacity": 0.7,
          "symbol": "circle"
         },
         "mode": "markers",
         "name": "pleuromutilin antibiotic",
         "showlegend": true,
         "type": "scattergl",
         "x": {
          "bdata": "6KOdQY9+tkHCoRjBHvYnwbCq9kCXMZ9B",
          "dtype": "f4"
         },
         "xaxis": "x",
         "y": {
          "bdata": "8W0TwqKimsEWdUfBFT2qQZVqB8IsTLPB",
          "dtype": "f4"
         },
         "yaxis": "y"
        },
        {
         "hovertemplate": "Gene family=nitroimidazole antibiotic<br>t-SNE dim 1=%{x}<br>t-SNE dim 2=%{y}<extra></extra>",
         "legendgroup": "nitroimidazole antibiotic",
         "marker": {
          "color": "#FF97FF",
          "opacity": 0.7,
          "symbol": "circle"
         },
         "mode": "markers",
         "name": "nitroimidazole antibiotic",
         "showlegend": true,
         "type": "scattergl",
         "x": {
          "bdata": "wUXDwZy5gMGxoAHC08wRwpi7ycHhMu7BvbOMwsRfTsEiJR3CBurzQY1NQ8KUCKtBFieRwV8PUMIKpjHCURDswUmXFUA=",
          "dtype": "f4"
         },
         "xaxis": "x",
         "y": {
          "bdata": "Ev1VwXnO50FLuhlCiuzYQblpKEIlniJCsAp3QUlU9EFk0Q1CWWVXwZ3Wr8Aa8gXBE4HdQYrZRsDeUhxCZmu5QU85CcE=",
          "dtype": "f4"
         },
         "yaxis": "y"
        },
        {
         "hovertemplate": "Gene family=elfamycin antibiotic<br>t-SNE dim 1=%{x}<br>t-SNE dim 2=%{y}<extra></extra>",
         "legendgroup": "elfamycin antibiotic",
         "marker": {
          "color": "#FECB52",
          "opacity": 0.7,
          "symbol": "circle"
         },
         "mode": "markers",
         "name": "elfamycin antibiotic",
         "showlegend": true,
         "type": "scattergl",
         "x": {
          "bdata": "0plbQTJ1h0G4hqlBisWPQJrHiUHAR4lBIw0eQQ==",
          "dtype": "f4"
         },
         "xaxis": "x",
         "y": {
          "bdata": "0KnywMKQbcFhB0DBqPvqwXZghMH9eIPBeISSwQ==",
          "dtype": "f4"
         },
         "yaxis": "y"
        },
        {
         "hovertemplate": "Gene family=nitrofuran antibiotic<br>t-SNE dim 1=%{x}<br>t-SNE dim 2=%{y}<extra></extra>",
         "legendgroup": "nitrofuran antibiotic",
         "marker": {
          "color": "#636efa",
          "opacity": 0.7,
          "symbol": "circle"
         },
         "mode": "markers",
         "name": "nitrofuran antibiotic",
         "showlegend": true,
         "type": "scattergl",
         "x": {
          "bdata": "ihCbQfbd5UA=",
          "dtype": "f4"
         },
         "xaxis": "x",
         "y": {
          "bdata": "6eq/wLz8rEE=",
          "dtype": "f4"
         },
         "yaxis": "y"
        },
        {
         "hovertemplate": "Gene family=salicylic acid antibiotic<br>t-SNE dim 1=%{x}<br>t-SNE dim 2=%{y}<extra></extra>",
         "legendgroup": "salicylic acid antibiotic",
         "marker": {
          "color": "#EF553B",
          "opacity": 0.7,
          "symbol": "circle"
         },
         "mode": "markers",
         "name": "salicylic acid antibiotic",
         "showlegend": true,
         "type": "scattergl",
         "x": {
          "bdata": "2qb1QHH6FkKLdpRB",
          "dtype": "f4"
         },
         "xaxis": "x",
         "y": {
          "bdata": "0ccDwZaLmMCanhHB",
          "dtype": "f4"
         },
         "yaxis": "y"
        },
        {
         "hovertemplate": "Gene family=nucleoside antibiotic<br>t-SNE dim 1=%{x}<br>t-SNE dim 2=%{y}<extra></extra>",
         "legendgroup": "nucleoside antibiotic",
         "marker": {
          "color": "#00cc96",
          "opacity": 0.7,
          "symbol": "circle"
         },
         "mode": "markers",
         "name": "nucleoside antibiotic",
         "showlegend": true,
         "type": "scattergl",
         "x": {
          "bdata": "By5ewZ2+XEHdvvDBf+sEwr8RZcCd79PB8RORQcnBTsI=",
          "dtype": "f4"
         },
         "xaxis": "x",
         "y": {
          "bdata": "1MAHQgSxGMGHkzdB84w7QP/e5ME97bNBsyhXQK4qCUE=",
          "dtype": "f4"
         },
         "yaxis": "y"
        },
        {
         "hovertemplate": "Gene family=fusidane antibiotic<br>t-SNE dim 1=%{x}<br>t-SNE dim 2=%{y}<extra></extra>",
         "legendgroup": "fusidane antibiotic",
         "marker": {
          "color": "#ab63fa",
          "opacity": 0.7,
          "symbol": "circle"
         },
         "mode": "markers",
         "name": "fusidane antibiotic",
         "showlegend": true,
         "type": "scattergl",
         "x": {
          "bdata": "m1Iewl7u3EA4oNlAcTCSQQd7fMCu4zZBL7l0QQ==",
          "dtype": "f4"
         },
         "xaxis": "x",
         "y": {
          "bdata": "YXi1QeDF7UDN3eZAPPP5wPYs3EEG7aNBrKW6wQ==",
          "dtype": "f4"
         },
         "yaxis": "y"
        },
        {
         "hovertemplate": "Gene family=antibiotic without defined classification<br>t-SNE dim 1=%{x}<br>t-SNE dim 2=%{y}<extra></extra>",
         "legendgroup": "antibiotic without defined classification",
         "marker": {
          "color": "#FFA15A",
          "opacity": 0.7,
          "symbol": "circle"
         },
         "mode": "markers",
         "name": "antibiotic without defined classification",
         "showlegend": true,
         "type": "scattergl",
         "x": {
          "bdata": "BvKfQQ==",
          "dtype": "f4"
         },
         "xaxis": "x",
         "y": {
          "bdata": "OyIPwg==",
          "dtype": "f4"
         },
         "yaxis": "y"
        },
        {
         "hovertemplate": "Gene family=diarylquinoline antibiotic<br>t-SNE dim 1=%{x}<br>t-SNE dim 2=%{y}<extra></extra>",
         "legendgroup": "diarylquinoline antibiotic",
         "marker": {
          "color": "#19d3f3",
          "opacity": 0.7,
          "symbol": "circle"
         },
         "mode": "markers",
         "name": "diarylquinoline antibiotic",
         "showlegend": true,
         "type": "scattergl",
         "x": {
          "bdata": "mm0rwlL1mUFlHI3B",
          "dtype": "f4"
         },
         "xaxis": "x",
         "y": {
          "bdata": "gkzTQQbUw8B3CghC",
          "dtype": "f4"
         },
         "yaxis": "y"
        },
        {
         "hovertemplate": "Gene family=cycloserine-like antibiotic<br>t-SNE dim 1=%{x}<br>t-SNE dim 2=%{y}<extra></extra>",
         "legendgroup": "cycloserine-like antibiotic",
         "marker": {
          "color": "#FF6692",
          "opacity": 0.7,
          "symbol": "circle"
         },
         "mode": "markers",
         "name": "cycloserine-like antibiotic",
         "showlegend": true,
         "type": "scattergl",
         "x": {
          "bdata": "T/6yQQV8yEE=",
          "dtype": "f4"
         },
         "xaxis": "x",
         "y": {
          "bdata": "Y8GYwY9J3MA=",
          "dtype": "f4"
         },
         "yaxis": "y"
        },
        {
         "hovertemplate": "Gene family=antibacterial free fatty acids<br>t-SNE dim 1=%{x}<br>t-SNE dim 2=%{y}<extra></extra>",
         "legendgroup": "antibacterial free fatty acids",
         "marker": {
          "color": "#B6E880",
          "opacity": 0.7,
          "symbol": "circle"
         },
         "mode": "markers",
         "name": "antibacterial free fatty acids",
         "showlegend": true,
         "type": "scattergl",
         "x": {
          "bdata": "j3gsQl8SQkE=",
          "dtype": "f4"
         },
         "xaxis": "x",
         "y": {
          "bdata": "C/5TwVEDJME=",
          "dtype": "f4"
         },
         "yaxis": "y"
        },
        {
         "hovertemplate": "Gene family=sulfone antibiotic<br>t-SNE dim 1=%{x}<br>t-SNE dim 2=%{y}<extra></extra>",
         "legendgroup": "sulfone antibiotic",
         "marker": {
          "color": "#FF97FF",
          "opacity": 0.7,
          "symbol": "circle"
         },
         "mode": "markers",
         "name": "sulfone antibiotic",
         "showlegend": true,
         "type": "scattergl",
         "x": {
          "bdata": "WpxUQQ==",
          "dtype": "f4"
         },
         "xaxis": "x",
         "y": {
          "bdata": "HQpywA==",
          "dtype": "f4"
         },
         "yaxis": "y"
        },
        {
         "hovertemplate": "Gene family=zoliflodacin-like antibiotic<br>t-SNE dim 1=%{x}<br>t-SNE dim 2=%{y}<extra></extra>",
         "legendgroup": "zoliflodacin-like antibiotic",
         "marker": {
          "color": "#FECB52",
          "opacity": 0.7,
          "symbol": "circle"
         },
         "mode": "markers",
         "name": "zoliflodacin-like antibiotic",
         "showlegend": true,
         "type": "scattergl",
         "x": {
          "bdata": "Yx8XQQ==",
          "dtype": "f4"
         },
         "xaxis": "x",
         "y": {
          "bdata": "WZE0wQ==",
          "dtype": "f4"
         },
         "yaxis": "y"
        },
        {
         "hovertemplate": "Gene family=thiosemicarbazone antibiotic<br>t-SNE dim 1=%{x}<br>t-SNE dim 2=%{y}<extra></extra>",
         "legendgroup": "thiosemicarbazone antibiotic",
         "marker": {
          "color": "#636efa",
          "opacity": 0.7,
          "symbol": "circle"
         },
         "mode": "markers",
         "name": "thiosemicarbazone antibiotic",
         "showlegend": true,
         "type": "scattergl",
         "x": {
          "bdata": "xtK5QQ==",
          "dtype": "f4"
         },
         "xaxis": "x",
         "y": {
          "bdata": "jgPjwA==",
          "dtype": "f4"
         },
         "yaxis": "y"
        },
        {
         "hovertemplate": "Gene family=bicyclomycin-like antibiotic<br>t-SNE dim 1=%{x}<br>t-SNE dim 2=%{y}<extra></extra>",
         "legendgroup": "bicyclomycin-like antibiotic",
         "marker": {
          "color": "#EF553B",
          "opacity": 0.7,
          "symbol": "circle"
         },
         "mode": "markers",
         "name": "bicyclomycin-like antibiotic",
         "showlegend": true,
         "type": "scattergl",
         "x": {
          "bdata": "a9/GQQ==",
          "dtype": "f4"
         },
         "xaxis": "x",
         "y": {
          "bdata": "CrMCwQ==",
          "dtype": "f4"
         },
         "yaxis": "y"
        },
        {
         "hovertemplate": "Gene family=non-AMR<br>t-SNE dim 1=%{x}<br>t-SNE dim 2=%{y}<extra></extra>",
         "legendgroup": "non-AMR",
         "marker": {
          "color": "#00cc96",
          "opacity": 0.7,
          "symbol": "circle"
         },
         "mode": "markers",
         "name": "non-AMR",
         "showlegend": true,
         "type": "scattergl",
         "x": {
          "bdata": "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",
          "dtype": "f4"
         },
         "xaxis": "x",
         "y": {
          "bdata": "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",
          "dtype": "f4"
         },
         "yaxis": "y"
        }
       ],
       "layout": {
        "height": 768,
        "legend": {
         "title": {
          "text": "Gene family"
         },
         "tracegroupgap": 0
        },
        "template": {
         "data": {
          "bar": [
           {
            "error_x": {
             "color": "#2a3f5f"
            },
            "error_y": {
             "color": "#2a3f5f"
            },
            "marker": {
             "line": {
              "color": "#E5ECF6",
              "width": 0.5
             },
             "pattern": {
              "fillmode": "overlay",
              "size": 10,
              "solidity": 0.2
             }
            },
            "type": "bar"
           }
          ],
          "barpolar": [
           {
            "marker": {
             "line": {
              "color": "#E5ECF6",
              "width": 0.5
             },
             "pattern": {
              "fillmode": "overlay",
              "size": 10,
              "solidity": 0.2
             }
            },
            "type": "barpolar"
           }
          ],
          "carpet": [
           {
            "aaxis": {
             "endlinecolor": "#2a3f5f",
             "gridcolor": "white",
             "linecolor": "white",
             "minorgridcolor": "white",
             "startlinecolor": "#2a3f5f"
            },
            "baxis": {
             "endlinecolor": "#2a3f5f",
             "gridcolor": "white",
             "linecolor": "white",
             "minorgridcolor": "white",
             "startlinecolor": "#2a3f5f"
            },
            "type": "carpet"
           }
          ],
          "choropleth": [
           {
            "colorbar": {
             "outlinewidth": 0,
             "ticks": ""
            },
            "type": "choropleth"
           }
          ],
          "contour": [
           {
            "colorbar": {
             "outlinewidth": 0,
             "ticks": ""
            },
            "colorscale": [
             [
              0,
              "#0d0887"
             ],
             [
              0.1111111111111111,
              "#46039f"
             ],
             [
              0.2222222222222222,
              "#7201a8"
             ],
             [
              0.3333333333333333,
              "#9c179e"
             ],
             [
              0.4444444444444444,
              "#bd3786"
             ],
             [
              0.5555555555555556,
              "#d8576b"
             ],
             [
              0.6666666666666666,
              "#ed7953"
             ],
             [
              0.7777777777777778,
              "#fb9f3a"
             ],
             [
              0.8888888888888888,
              "#fdca26"
             ],
             [
              1,
              "#f0f921"
             ]
            ],
            "type": "contour"
           }
          ],
          "contourcarpet": [
           {
            "colorbar": {
             "outlinewidth": 0,
             "ticks": ""
            },
            "type": "contourcarpet"
           }
          ],
          "heatmap": [
           {
            "colorbar": {
             "outlinewidth": 0,
             "ticks": ""
            },
            "colorscale": [
             [
              0,
              "#0d0887"
             ],
             [
              0.1111111111111111,
              "#46039f"
             ],
             [
              0.2222222222222222,
              "#7201a8"
             ],
             [
              0.3333333333333333,
              "#9c179e"
             ],
             [
              0.4444444444444444,
              "#bd3786"
             ],
             [
              0.5555555555555556,
              "#d8576b"
             ],
             [
              0.6666666666666666,
              "#ed7953"
             ],
             [
              0.7777777777777778,
              "#fb9f3a"
             ],
             [
              0.8888888888888888,
              "#fdca26"
             ],
             [
              1,
              "#f0f921"
             ]
            ],
            "type": "heatmap"
           }
          ],
          "histogram": [
           {
            "marker": {
             "pattern": {
              "fillmode": "overlay",
              "size": 10,
              "solidity": 0.2
             }
            },
            "type": "histogram"
           }
          ],
          "histogram2d": [
           {
            "colorbar": {
             "outlinewidth": 0,
             "ticks": ""
            },
            "colorscale": [
             [
              0,
              "#0d0887"
             ],
             [
              0.1111111111111111,
              "#46039f"
             ],
             [
              0.2222222222222222,
              "#7201a8"
             ],
             [
              0.3333333333333333,
              "#9c179e"
             ],
             [
              0.4444444444444444,
              "#bd3786"
             ],
             [
              0.5555555555555556,
              "#d8576b"
             ],
             [
              0.6666666666666666,
              "#ed7953"
             ],
             [
              0.7777777777777778,
              "#fb9f3a"
             ],
             [
              0.8888888888888888,
              "#fdca26"
             ],
             [
              1,
              "#f0f921"
             ]
            ],
            "type": "histogram2d"
           }
          ],
          "histogram2dcontour": [
           {
            "colorbar": {
             "outlinewidth": 0,
             "ticks": ""
            },
            "colorscale": [
             [
              0,
              "#0d0887"
             ],
             [
              0.1111111111111111,
              "#46039f"
             ],
             [
              0.2222222222222222,
              "#7201a8"
             ],
             [
              0.3333333333333333,
              "#9c179e"
             ],
             [
              0.4444444444444444,
              "#bd3786"
             ],
             [
              0.5555555555555556,
              "#d8576b"
             ],
             [
              0.6666666666666666,
              "#ed7953"
             ],
             [
              0.7777777777777778,
              "#fb9f3a"
             ],
             [
              0.8888888888888888,
              "#fdca26"
             ],
             [
              1,
              "#f0f921"
             ]
            ],
            "type": "histogram2dcontour"
           }
          ],
          "mesh3d": [
           {
            "colorbar": {
             "outlinewidth": 0,
             "ticks": ""
            },
            "type": "mesh3d"
           }
          ],
          "parcoords": [
           {
            "line": {
             "colorbar": {
              "outlinewidth": 0,
              "ticks": ""
             }
            },
            "type": "parcoords"
           }
          ],
          "pie": [
           {
            "automargin": true,
            "type": "pie"
           }
          ],
          "scatter": [
           {
            "fillpattern": {
             "fillmode": "overlay",
             "size": 10,
             "solidity": 0.2
            },
            "type": "scatter"
           }
          ],
          "scatter3d": [
           {
            "line": {
             "colorbar": {
              "outlinewidth": 0,
              "ticks": ""
             }
            },
            "marker": {
             "colorbar": {
              "outlinewidth": 0,
              "ticks": ""
             }
            },
            "type": "scatter3d"
           }
          ],
          "scattercarpet": [
           {
            "marker": {
             "colorbar": {
              "outlinewidth": 0,
              "ticks": ""
             }
            },
            "type": "scattercarpet"
           }
          ],
          "scattergeo": [
           {
            "marker": {
             "colorbar": {
              "outlinewidth": 0,
              "ticks": ""
             }
            },
            "type": "scattergeo"
           }
          ],
          "scattergl": [
           {
            "marker": {
             "colorbar": {
              "outlinewidth": 0,
              "ticks": ""
             }
            },
            "type": "scattergl"
           }
          ],
          "scattermap": [
           {
            "marker": {
             "colorbar": {
              "outlinewidth": 0,
              "ticks": ""
             }
            },
            "type": "scattermap"
           }
          ],
          "scattermapbox": [
           {
            "marker": {
             "colorbar": {
              "outlinewidth": 0,
              "ticks": ""
             }
            },
            "type": "scattermapbox"
           }
          ],
          "scatterpolar": [
           {
            "marker": {
             "colorbar": {
              "outlinewidth": 0,
              "ticks": ""
             }
            },
            "type": "scatterpolar"
           }
          ],
          "scatterpolargl": [
           {
            "marker": {
             "colorbar": {
              "outlinewidth": 0,
              "ticks": ""
             }
            },
            "type": "scatterpolargl"
           }
          ],
          "scatterternary": [
           {
            "marker": {
             "colorbar": {
              "outlinewidth": 0,
              "ticks": ""
             }
            },
            "type": "scatterternary"
           }
          ],
          "surface": [
           {
            "colorbar": {
             "outlinewidth": 0,
             "ticks": ""
            },
            "colorscale": [
             [
              0,
              "#0d0887"
             ],
             [
              0.1111111111111111,
              "#46039f"
             ],
             [
              0.2222222222222222,
              "#7201a8"
             ],
             [
              0.3333333333333333,
              "#9c179e"
             ],
             [
              0.4444444444444444,
              "#bd3786"
             ],
             [
              0.5555555555555556,
              "#d8576b"
             ],
             [
              0.6666666666666666,
              "#ed7953"
             ],
             [
              0.7777777777777778,
              "#fb9f3a"
             ],
             [
              0.8888888888888888,
              "#fdca26"
             ],
             [
              1,
              "#f0f921"
             ]
            ],
            "type": "surface"
           }
          ],
          "table": [
           {
            "cells": {
             "fill": {
              "color": "#EBF0F8"
             },
             "line": {
              "color": "white"
             }
            },
            "header": {
             "fill": {
              "color": "#C8D4E3"
             },
             "line": {
              "color": "white"
             }
            },
            "type": "table"
           }
          ]
         },
         "layout": {
          "annotationdefaults": {
           "arrowcolor": "#2a3f5f",
           "arrowhead": 0,
           "arrowwidth": 1
          },
          "autotypenumbers": "strict",
          "coloraxis": {
           "colorbar": {
            "outlinewidth": 0,
            "ticks": ""
           }
          },
          "colorscale": {
           "diverging": [
            [
             0,
             "#8e0152"
            ],
            [
             0.1,
             "#c51b7d"
            ],
            [
             0.2,
             "#de77ae"
            ],
            [
             0.3,
             "#f1b6da"
            ],
            [
             0.4,
             "#fde0ef"
            ],
            [
             0.5,
             "#f7f7f7"
            ],
            [
             0.6,
             "#e6f5d0"
            ],
            [
             0.7,
             "#b8e186"
            ],
            [
             0.8,
             "#7fbc41"
            ],
            [
             0.9,
             "#4d9221"
            ],
            [
             1,
             "#276419"
            ]
           ],
           "sequential": [
            [
             0,
             "#0d0887"
            ],
            [
             0.1111111111111111,
             "#46039f"
            ],
            [
             0.2222222222222222,
             "#7201a8"
            ],
            [
             0.3333333333333333,
             "#9c179e"
            ],
            [
             0.4444444444444444,
             "#bd3786"
            ],
            [
             0.5555555555555556,
             "#d8576b"
            ],
            [
             0.6666666666666666,
             "#ed7953"
            ],
            [
             0.7777777777777778,
             "#fb9f3a"
            ],
            [
             0.8888888888888888,
             "#fdca26"
            ],
            [
             1,
             "#f0f921"
            ]
           ],
           "sequentialminus": [
            [
             0,
             "#0d0887"
            ],
            [
             0.1111111111111111,
             "#46039f"
            ],
            [
             0.2222222222222222,
             "#7201a8"
            ],
            [
             0.3333333333333333,
             "#9c179e"
            ],
            [
             0.4444444444444444,
             "#bd3786"
            ],
            [
             0.5555555555555556,
             "#d8576b"
            ],
            [
             0.6666666666666666,
             "#ed7953"
            ],
            [
             0.7777777777777778,
             "#fb9f3a"
            ],
            [
             0.8888888888888888,
             "#fdca26"
            ],
            [
             1,
             "#f0f921"
            ]
           ]
          },
          "colorway": [
           "#636efa",
           "#EF553B",
           "#00cc96",
           "#ab63fa",
           "#FFA15A",
           "#19d3f3",
           "#FF6692",
           "#B6E880",
           "#FF97FF",
           "#FECB52"
          ],
          "font": {
           "color": "#2a3f5f"
          },
          "geo": {
           "bgcolor": "white",
           "lakecolor": "white",
           "landcolor": "#E5ECF6",
           "showlakes": true,
           "showland": true,
           "subunitcolor": "white"
          },
          "hoverlabel": {
           "align": "left"
          },
          "hovermode": "closest",
          "mapbox": {
           "style": "light"
          },
          "paper_bgcolor": "white",
          "plot_bgcolor": "#E5ECF6",
          "polar": {
           "angularaxis": {
            "gridcolor": "white",
            "linecolor": "white",
            "ticks": ""
           },
           "bgcolor": "#E5ECF6",
           "radialaxis": {
            "gridcolor": "white",
            "linecolor": "white",
            "ticks": ""
           }
          },
          "scene": {
           "xaxis": {
            "backgroundcolor": "#E5ECF6",
            "gridcolor": "white",
            "gridwidth": 2,
            "linecolor": "white",
            "showbackground": true,
            "ticks": "",
            "zerolinecolor": "white"
           },
           "yaxis": {
            "backgroundcolor": "#E5ECF6",
            "gridcolor": "white",
            "gridwidth": 2,
            "linecolor": "white",
            "showbackground": true,
            "ticks": "",
            "zerolinecolor": "white"
           },
           "zaxis": {
            "backgroundcolor": "#E5ECF6",
            "gridcolor": "white",
            "gridwidth": 2,
            "linecolor": "white",
            "showbackground": true,
            "ticks": "",
            "zerolinecolor": "white"
           }
          },
          "shapedefaults": {
           "line": {
            "color": "#2a3f5f"
           }
          },
          "ternary": {
           "aaxis": {
            "gridcolor": "white",
            "linecolor": "white",
            "ticks": ""
           },
           "baxis": {
            "gridcolor": "white",
            "linecolor": "white",
            "ticks": ""
           },
           "bgcolor": "#E5ECF6",
           "caxis": {
            "gridcolor": "white",
            "linecolor": "white",
            "ticks": ""
           }
          },
          "title": {
           "x": 0.05
          },
          "xaxis": {
           "automargin": true,
           "gridcolor": "white",
           "linecolor": "white",
           "ticks": "",
           "title": {
            "standoff": 15
           },
           "zerolinecolor": "white",
           "zerolinewidth": 2
          },
          "yaxis": {
           "automargin": true,
           "gridcolor": "white",
           "linecolor": "white",
           "ticks": "",
           "title": {
            "standoff": 15
           },
           "zerolinecolor": "white",
           "zerolinewidth": 2
          }
         }
        },
        "title": {
         "text": "t-SNE visualization of Hyena embeddings"
        },
        "width": 1024,
        "xaxis": {
         "anchor": "y",
         "domain": [
          0,
          1
         ],
         "title": {
          "text": "t-SNE dim 1"
         }
        },
        "yaxis": {
         "anchor": "x",
         "domain": [
          0,
          1
         ],
         "title": {
          "text": "t-SNE dim 2"
         }
        }
       }
      }
     },
     "metadata": {},
     "output_type": "display_data"
    }
   ],
   "source": [
    "fig = px.scatter(\n",
    "    x=train_embeddings_2d[:, 0],\n",
    "    y=train_embeddings_2d[:, 1],\n",
    "    color=[label_columns[i] for i in train_labels_simple],\n",
    "    title=\"t-SNE visualization of Hyena embeddings\",\n",
    "    labels={\"x\": \"t-SNE dim 1\", \"y\": \"t-SNE dim 2\", \"color\": \"Gene family\"},\n",
    "    opacity=0.7,\n",
    ")\n",
    "# Square figure\n",
    "fig.update_layout(width=1024, height=768)\n",
    "fig.show()\n",
    "\n"
   ]
  }
 ],
 "metadata": {
  "kernelspec": {
   "display_name": ".venv",
   "language": "python",
   "name": "python3"
  },
  "language_info": {
   "codemirror_mode": {
    "name": "ipython",
    "version": 3
   },
   "file_extension": ".py",
   "mimetype": "text/x-python",
   "name": "python",
   "nbconvert_exporter": "python",
   "pygments_lexer": "ipython3",
   "version": "3.13.7"
  }
 },
 "nbformat": 4,
 "nbformat_minor": 5
}
