{
 "cells": [
  {
   "cell_type": "code",
   "execution_count": null,
   "id": "a34d174a",
   "metadata": {},
   "outputs": [
    {
     "name": "stderr",
     "output_type": "stream",
     "text": [
      "c:\\Mainframe\\TARP\\.venv\\Lib\\site-packages\\tqdm\\auto.py:21: TqdmWarning: IProgress not found. Please update jupyter and ipywidgets. See https://ipywidgets.readthedocs.io/en/stable/user_install.html\n",
      "  from .autonotebook import tqdm as notebook_tqdm\n"
     ]
    }
   ],
   "source": [
    "from tarp.model.backbone.untrained.lstm import LstmEncoder\n",
    "from tarp.model.backbone.untrained.hyena import HyenaEncoder\n",
    "from tarp.model.finetuning.classification import ClassificationModel\n",
    "\n",
    "from tarp.services.datasets.classification.multilabel import MultiLabelClassificationDataset\n",
    "from tarp.services.tokenizers.pretrained.dnabert import Dnabert2Tokenizer\n",
    "from tarp.services.datasource.sequence import TabularSequenceSource\n",
    "\n",
    "\n",
    "from tarp.services.preprocessing.augumentation import (\n",
    "    CombinationTechnique,\n",
    "    RandomMutation,\n",
    "    InsertionDeletion,\n",
    "    ReverseComplement,\n",
    ")\n",
    "\n",
    "import torch\n",
    "import torch.nn as nn\n",
    "from torch.utils.data import DataLoader\n",
    "import polars as pl\n",
    "import numpy as np\n",
    "\n",
    "from sklearn.neighbors import NearestNeighbors\n",
    "\n",
    "from pathlib import Path"
   ]
  },
  {
   "cell_type": "code",
   "execution_count": 2,
   "id": "bfc4bb7b",
   "metadata": {},
   "outputs": [],
   "source": [
    "df = pl.read_parquet(\"temp/data/preprocessed/card_amr.parquet\")\n",
    "# Get every column except 'sequence' as label columns\n",
    "label_columns = [col for col in df.collect_schema().names() if col != \"sequence\"]"
   ]
  },
  {
   "cell_type": "code",
   "execution_count": null,
   "id": "ed61844b",
   "metadata": {},
   "outputs": [],
   "source": [
    "dataset = MultiLabelClassificationDataset(\n",
    "    TabularSequenceSource(source=Path(\"temp/data/preprocessed/card_amr.parquet\")),\n",
    "    Dnabert2Tokenizer(),\n",
    "    sequence_column=\"sequence\",\n",
    "    label_columns=label_columns,\n",
    "    maximum_sequence_length=512,\n",
    "    augumentation=CombinationTechnique(\n",
    "        [\n",
    "            RandomMutation(),\n",
    "            InsertionDeletion(),\n",
    "            ReverseComplement(0.5),\n",
    "        ]\n",
    "    ),\n",
    ")\n",
    "from services.datasets.metric.triplet import MultilabelOfflineTripletDataset\n",
    "\n",
    "metric_dataset = MultilabelOfflineTripletDataset(base_dataset=dataset)"
   ]
  },
  {
   "cell_type": "code",
   "execution_count": 4,
   "id": "91d6fd7d",
   "metadata": {},
   "outputs": [],
   "source": [
    "encoder = HyenaEncoder(\n",
    "        vocabulary_size=dataset.tokenizer.vocab_size,\n",
    "        embedding_dimension=128,\n",
    "        hidden_dimension=256,\n",
    "        padding_id=dataset.tokenizer.pad_token_id,\n",
    "        number_of_layers=2,\n",
    "        dropout=0.2,\n",
    "    )\n",
    "\n",
    "classification_model = ClassificationModel(\n",
    "    encoder=encoder,\n",
    "    number_of_classes=len(label_columns),\n",
    ")\n",
    "\n",
    "classification_model.load_state_dict(\n",
    "    torch.load(r\"temp\\models\\HyenaEncoder_20251010_132058.pt\")\n",
    ")\n",
    "\n",
    "# Get the encoder part of the model\n",
    "encoder: HyenaEncoder = classification_model.encoder"
   ]
  },
  {
   "cell_type": "code",
   "execution_count": 5,
   "id": "cee7144e",
   "metadata": {},
   "outputs": [
    {
     "name": "stderr",
     "output_type": "stream",
     "text": [
      "100%|██████████| 200/200 [00:05<00:00, 34.03it/s]\n"
     ]
    }
   ],
   "source": [
    "# Apply the model to the dataset to get the embeddings\n",
    "from tqdm.auto import tqdm\n",
    "\n",
    "# Preallocate numpy array for all embeddings\n",
    "num_samples = len(dataset)\n",
    "batch_size = 32\n",
    "embedding_dim = encoder.encoding_size  # Output dimension of encoder.encode\n",
    "embeddings = np.empty((num_samples, embedding_dim), dtype=np.float32)\n",
    "\n",
    "DEVICE = torch.device(\"cuda\" if torch.cuda.is_available() else \"cpu\")\n",
    "encoder.to(DEVICE)\n",
    "\n",
    "dataloader = DataLoader(dataset, batch_size=batch_size, shuffle=False)\n",
    "start_idx = 0\n",
    "encoder.eval()\n",
    "with torch.no_grad():\n",
    "    for batch in tqdm(dataloader):\n",
    "        input_ids = batch[\"sequence\"].to(DEVICE)\n",
    "        attention_mask = batch[\"attention_mask\"].to(DEVICE)\n",
    "        batch_embeddings = encoder.encode(input_ids, attention_mask)\n",
    "        batch_size_actual = batch_embeddings.shape[0]\n",
    "        embeddings[start_idx:start_idx + batch_size_actual] = batch_embeddings.cpu().numpy()\n",
    "        start_idx += batch_size_actual"
   ]
  },
  {
   "cell_type": "code",
   "execution_count": 6,
   "id": "a6870838",
   "metadata": {},
   "outputs": [
    {
     "name": "stdout",
     "output_type": "stream",
     "text": [
      "Embeddings shape: (6392, 128)\n"
     ]
    }
   ],
   "source": [
    "# Print the shape of the embeddings\n",
    "print(\"Embeddings shape:\", embeddings.shape)"
   ]
  },
  {
   "cell_type": "code",
   "execution_count": 7,
   "id": "8a0f2021",
   "metadata": {},
   "outputs": [
    {
     "name": "stdout",
     "output_type": "stream",
     "text": [
      "Train embeddings shape: (5113, 128)\n",
      "Test embeddings shape: (1279, 128)\n"
     ]
    }
   ],
   "source": [
    "# Split the dataset into train and test sets\n",
    "train_size = int(0.8 * len(dataset))\n",
    "train_embeddings = embeddings[:train_size]\n",
    "test_embeddings = embeddings[train_size:]\n",
    "\n",
    "print(\"Train embeddings shape:\", train_embeddings.shape)\n",
    "print(\"Test embeddings shape:\", test_embeddings.shape)\n"
   ]
  },
  {
   "cell_type": "code",
   "execution_count": 8,
   "id": "a473598c",
   "metadata": {},
   "outputs": [],
   "source": [
    "# KNN search\n",
    "from sklearn.neighbors import KNeighborsClassifier\n",
    "\n",
    "knn = KNeighborsClassifier(n_neighbors=5, metric='cosine')\n",
    "\n",
    "knn.fit(train_embeddings, [\n",
    "    dataset[i]['labels'].numpy() for i in range(train_size)\n",
    "])\n",
    "\n",
    "# Classify test set\n",
    "predictions = knn.predict(test_embeddings)\n",
    "\n"
   ]
  },
  {
   "cell_type": "code",
   "execution_count": 9,
   "id": "b09767a5",
   "metadata": {},
   "outputs": [
    {
     "name": "stdout",
     "output_type": "stream",
     "text": [
      "                                           precision    recall  f1-score   support\n",
      "\n",
      "      disinfecting agents and antiseptics       0.50      0.06      0.11        16\n",
      "                            glycylcycline       0.00      0.00      0.00         6\n",
      "                     rifamycin antibiotic       0.00      0.00      0.00        13\n",
      "                     macrolide antibiotic       0.40      0.24      0.30        42\n",
      "                 streptogramin antibiotic       0.80      0.71      0.75        17\n",
      "                      pyrazine antibiotic       0.00      0.00      0.00         4\n",
      "                  tetracycline antibiotic       0.38      0.11      0.18        44\n",
      "             bicyclomycin-like antibiotic       0.00      0.00      0.00         1\n",
      "                isoniazid-like antibiotic       0.00      0.00      0.00         5\n",
      "                nitroimidazole antibiotic       0.00      0.00      0.00         4\n",
      "                  orthosomycin antibiotic       0.00      0.00      0.00         0\n",
      "                    nitrofuran antibiotic       0.00      0.00      0.00         0\n",
      "                               carbapenem       0.97      0.94      0.95       504\n",
      "               pactamycin-like antibiotic       0.00      0.00      0.00         0\n",
      "                    moenomycin antibiotic       0.00      0.00      0.00         0\n",
      "              cycloserine-like antibiotic       0.00      0.00      0.00         1\n",
      "                            cephalosporin       0.97      0.95      0.96       661\n",
      "             diaminopyrimidine antibiotic       0.67      0.24      0.35        17\n",
      "               fluoroquinolone antibiotic       0.78      0.45      0.57        64\n",
      "antibiotic without defined classification       0.00      0.00      0.00         1\n",
      "               phosphonic acid antibiotic       0.67      0.18      0.29        11\n",
      "                 pleuromutilin antibiotic       0.57      0.57      0.57         7\n",
      "                     elfamycin antibiotic       0.00      0.00      0.00         2\n",
      "                    nucleoside antibiotic       0.00      0.00      0.00         4\n",
      "                       peptide antibiotic       0.91      0.53      0.67        38\n",
      "                      phenicol antibiotic       1.00      0.07      0.13        28\n",
      "               streptogramin A antibiotic       0.75      0.30      0.43        10\n",
      "                 aminocoumarin antibiotic       0.00      0.00      0.00         5\n",
      "               streptogramin B antibiotic       1.00      0.27      0.43        11\n",
      "                   sulfonamide antibiotic       0.00      0.00      0.00         4\n",
      "                      fusidane antibiotic       0.00      0.00      0.00         2\n",
      "             zoliflodacin-like antibiotic       0.00      0.00      0.00         0\n",
      "                       sulfone antibiotic       0.00      0.00      0.00         0\n",
      "             thiosemicarbazone antibiotic       0.00      0.00      0.00         1\n",
      "                  glycopeptide antibiotic       0.00      0.00      0.00        25\n",
      "                 oxazolidinone antibiotic       0.00      0.00      0.00         5\n",
      "                aminoglycoside antibiotic       0.62      0.23      0.33        71\n",
      "                     thioamide antibiotic       0.00      0.00      0.00         2\n",
      "                salicylic acid antibiotic       0.00      0.00      0.00         0\n",
      "                mupirocin-like antibiotic       0.00      0.00      0.00         1\n",
      "               diarylquinoline antibiotic       0.00      0.00      0.00         1\n",
      "                   penicillin beta-lactam       0.95      0.96      0.95       627\n",
      "           antibacterial free fatty acids       0.00      0.00      0.00         1\n",
      "                   lincosamide antibiotic       0.75      0.47      0.58        19\n",
      "                               monobactam       1.00      0.97      0.99       253\n",
      "                     polyamine antibiotic       0.00      0.00      0.00         4\n",
      "\n",
      "                                micro avg       0.94      0.82      0.88      2532\n",
      "                                macro avg       0.30      0.18      0.21      2532\n",
      "                             weighted avg       0.89      0.82      0.84      2532\n",
      "                              samples avg       0.79      0.78      0.78      2532\n",
      "\n"
     ]
    }
   ],
   "source": [
    "# Classification report\n",
    "from sklearn.metrics import classification_report\n",
    "\n",
    "print(classification_report(\n",
    "    [dataset[i + train_size]['labels'].numpy() for i in range(len(test_embeddings))],\n",
    "    predictions,\n",
    "    zero_division=0,\n",
    "    target_names=label_columns\n",
    "))"
   ]
  },
  {
   "cell_type": "code",
   "execution_count": 10,
   "id": "8b4c66a2",
   "metadata": {},
   "outputs": [],
   "source": [
    "# %%\n",
    "import plotly.express as px\n",
    "\n",
    "from sklearn.manifold import TSNE\n",
    "\n",
    "# Run t-SNE on the embeddings\n",
    "tsne = TSNE(n_components=2, random_state=102, perplexity=30)\n",
    "train_embeddings_2d = tsne.fit_transform(train_embeddings)\n"
   ]
  },
  {
   "cell_type": "code",
   "execution_count": 11,
   "id": "f7696bdd",
   "metadata": {},
   "outputs": [
    {
     "name": "stdout",
     "output_type": "stream",
     "text": [
      "Train labels shape: (5113, 46)\n"
     ]
    }
   ],
   "source": [
    "from torch.utils.data import DataLoader\n",
    "\n",
    "# Collect labels for the training split\n",
    "labels = []\n",
    "dataloader_labels = DataLoader(dataset, batch_size=32, shuffle=False)\n",
    "\n",
    "for i, batch in enumerate(dataloader_labels):\n",
    "    if i * 32 >= train_size:  # stop after train split\n",
    "        break\n",
    "    labels.append(batch[\"labels\"].numpy())\n",
    "\n",
    "train_labels = np.vstack(labels)[:train_size]  # shape (N, num_labels)\n",
    "print(\"Train labels shape:\", train_labels.shape)\n",
    "\n",
    "# Convert multilabel → single label for visualization\n",
    "train_labels_simple = train_labels.argmax(axis=1)"
   ]
  },
  {
   "cell_type": "code",
   "execution_count": 12,
   "id": "f5769465",
   "metadata": {},
   "outputs": [
    {
     "data": {
      "application/vnd.plotly.v1+json": {
       "config": {
        "plotlyServerURL": "https://plot.ly"
       },
       "data": [
        {
         "hovertemplate": "Gene family=carbapenem<br>t-SNE dim 1=%{x}<br>t-SNE dim 2=%{y}<extra></extra>",
         "legendgroup": "carbapenem",
         "marker": {
          "color": "#636efa",
          "opacity": 0.7,
          "symbol": "circle"
         },
         "mode": "markers",
         "name": "carbapenem",
         "showlegend": true,
         "type": "scattergl",
         "x": {
          "bdata": "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",
          "dtype": "f4"
         },
         "xaxis": "x",
         "y": {
          "bdata": "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",
          "dtype": "f4"
         },
         "yaxis": "y"
        },
        {
         "hovertemplate": "Gene family=penicillin beta-lactam<br>t-SNE dim 1=%{x}<br>t-SNE dim 2=%{y}<extra></extra>",
         "legendgroup": "penicillin beta-lactam",
         "marker": {
          "color": "#EF553B",
          "opacity": 0.7,
          "symbol": "circle"
         },
         "mode": "markers",
         "name": "penicillin beta-lactam",
         "showlegend": true,
         "type": "scattergl",
         "x": {
          "bdata": "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",
          "dtype": "f4"
         },
         "xaxis": "x",
         "y": {
          "bdata": "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",
          "dtype": "f4"
         },
         "yaxis": "y"
        },
        {
         "hovertemplate": "Gene family=cephalosporin<br>t-SNE dim 1=%{x}<br>t-SNE dim 2=%{y}<extra></extra>",
         "legendgroup": "cephalosporin",
         "marker": {
          "color": "#00cc96",
          "opacity": 0.7,
          "symbol": "circle"
         },
         "mode": "markers",
         "name": "cephalosporin",
         "showlegend": true,
         "type": "scattergl",
         "x": {
          "bdata": "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",
          "dtype": "f4"
         },
         "xaxis": "x",
         "y": {
          "bdata": "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",
          "dtype": "f4"
         },
         "yaxis": "y"
        },
        {
         "hovertemplate": "Gene family=peptide antibiotic<br>t-SNE dim 1=%{x}<br>t-SNE dim 2=%{y}<extra></extra>",
         "legendgroup": "peptide antibiotic",
         "marker": {
          "color": "#ab63fa",
          "opacity": 0.7,
          "symbol": "circle"
         },
         "mode": "markers",
         "name": "peptide antibiotic",
         "showlegend": true,
         "type": "scattergl",
         "x": {
          "bdata": "o2eeQUbj2EHlGYNBHfSDQZ6DAEJEq5ZB+z7PQQIrvkFEP4NB9gObQSHr4EBPt4hBACTZQQS3fUGATY1BFY+HQRgGA0KCa5NBNsDdQct6bEA1nYtAdizGQblU/0HaT5xBeW5gv9jpzEAdtiZCc1x/QXvXlkFs2ZxBQI2lQYS9fEEUOoNBCjyFQXdIhEHSD5RBLqrCQewko0GVx2xB/Xx0Qag3k0HqNpdB79efQf9T6EFvx5pBVR/+QbQQdkGt4a9B3TnOQS5TjEF5MbNAAiLdQT9yy0EXlxpCD8mmQQd7wUEeY4dBU/3LQbLYIUGfXtJBkP6BQRYlrkGFiJRBeNCZQdxqvEG/yQZC6ICDQN0CgUHPQaVBnpimQSHxjUDNqJlBFmzeQXXW+kELxRRCi6CWQaFlh0FIeehBk6eIQbyhrEEBnTxBl3z7QCQ64kBQ/JFBQ9PmQQUefUGRp6VBsTTuQYkUmkGiMNJBoe+pQaf1rEHb9qtBUDSDQUn/l0GhqoNB0qSrQfXsmkFdAX1BQ0YlQZX3HEGqwpRBj7KlQa/0lUHiw3dBu2DaQbMAmkEYs5RBBHeGQUjESUHivntB0LuWQYqChEELwoRBTVx+QXQAg0ELBIlBJyomQkhVgkGtjbRBr75eQCaUYEFlJXhBN5x6QTRBlEFYmJlBk/GIQXUhrkEVV5lBmXWXQe+zlkEel61B8CEdQtBWpkE=",
          "dtype": "f4"
         },
         "xaxis": "x",
         "y": {
          "bdata": "Eb2AQitu2ED9rnxCrAaDQiIfEELeV4FCqRriQcdszkHi2INCUTh/Qih9KEGkdX9Cbu/CQWb/xEFAfIRCCkl/QuxKFkDTdIBC5szqQXMG4EEEgIZBLhXaQSMF1EFQendCwiSgQVCgoUEBS8JBzax8QtCHf0IjXIBCbMh9QmgDgELOIn5CZ0qDQqW/e0IjOcRBiGTEwJlRe0Lz639C2wyCQliocUKX1IFCjA+CQst2DUKIY4FC2/UZQlzQBkIhwfZBzOPaQZ+UfkIk289B1ZUIQkAWB0IXBq1BXPF7Qvxb+EF1doJCXGnmQfYwKsIUtdtB7mh8Qs1FfULcqW9C8yJ+QpbQ9EE7gedBqnOaQewse0LHZdVBCJN/QvrrQUH8lYFCAe3xQRQB70CuzMVBabjYQfE8hEKlacZBtv6CQlW2f0KbAK5A5veKQbzJwEG+zfJBCSPiQMvqhEIMLIBClOcWQtfnZkJ7pBlCpPx+Qs1WgUI0OX1CNU+DQieXeUJTEX1CjCuAQiINfUJehX5CqjqhQTqqAkLerHBCgMJ5QspQgkIKboJCMALCQdvyZkIAHnFC7G98Qi2hwUC47oNCJUnUQXgog0LzZdBBqEd9Qso4fkIw/4NCNJOJQRF2e0KQgedBDmfaQR4puUFuz3tCrXyCQpSw2EG+w39CrDuDQm5LfkJM9IJCNgGCQtmCgkLY3NVBKW7CQYX4f0I=",
          "dtype": "f4"
         },
         "yaxis": "y"
        },
        {
         "hovertemplate": "Gene family=fluoroquinolone antibiotic<br>t-SNE dim 1=%{x}<br>t-SNE dim 2=%{y}<extra></extra>",
         "legendgroup": "fluoroquinolone antibiotic",
         "marker": {
          "color": "#FFA15A",
          "opacity": 0.7,
          "symbol": "circle"
         },
         "mode": "markers",
         "name": "fluoroquinolone antibiotic",
         "showlegend": true,
         "type": "scattergl",
         "x": {
          "bdata": "XFM4Qhn22UHNZV5C3tlsQu9x3kE9dGJCIhZHwVsda0IxOWdCkf+4QKhbu0Ge+1BCt6PfQTPaA0IZy8dBUmetQeGvFkJMs+1AxW/2QfPjZEIey2hCZnFvQn02YEJ+TW9CQcXaQRbocEJJ2bFBn461QcRGZ0KqfFtCji/VQdDFUkJXyGdC0Dj3QHg1v0FuFG1C7KdpQjJ4GEHdxOpAoqqVQL2rbEJaFPpBU6C7QW3z10EPLQRCCPZtQlZ1s0G1XN5B2CdnQnBHXEKkUGpCjf0XQUrMX0K5LexA36ZjQpQiZkILM3BC4opcQkEb20Fn2W5CaWHoQfQKVkIwXWBCiKUOQsJ1G0FiLwdBTotqQna0Y0JIYGJC/illQt1A5UFFQmdCXFFXQmYga0KOD9RBnFQkQvzY1EE9vGJCExMoQpEy3kG6KWBCfu7EQep73UETZOVBOcVqQvIPIkI5SmlCFFeoQXf72kE1sKBBbd6uQKlkCEKHDGxCYBbyQdgfaULj025CP0Z1QIKj5UGcZ2xCrtHNQWBA00GEpPlBX+ypQE6kWkLMZVpCr+tsQq8n3EGm79lBDtJZQiOWbUKn6l9CK0cIQuAQbEKmp5ZBuXNsQsTqNkEZJRBCXHxuQoomaEJd+Qk/kGZuQvR+ckKo6pRBA+NmQh5nIkKI3FFCs00dQWcDakJhmVpCy9QXQkYDlUD/XjpA6EtkQpTgHEGaoJhAlMNtQl/YWULqeftA9e4FQUYtDMFqD29CGBW0QRrZbkKjVOdBsacJQjpCXUKpqGNCaNdTQl2sA0HB6ANCwReqQQ==",
          "dtype": "f4"
         },
         "xaxis": "x",
         "y": {
          "bdata": "YljAQUqr90Hr++hBz77+QbO8+kGzA+VBZ5GQQVIO+kH/DwJCRD/WQUbHk0Ex19hB9VuZQZSqrEF0CMVAuBjUQeAfuEEBYdBBH0z4Qd47/EGZruNB0+wAQgla7kEcj/xB8VibQaiF9kGv5udB5fzOQY1R/EHtUPtBwSWIQVuo2kEgBelBsn7cQUlf5EFiqPhBMSnlQY9MAUL2eKpBNCHUQTMk+UEWNKJBW9WTQb3eDkJa0wdCEufoQeIV2UGakJlBZsfsQZNx+kHCi+dBxCvZQQZW7kFxe89BNBLkQZ2v+kFRxfpBriDyQYO86EEkTABCD7H9QTDL5kE0qP1B0LyYQWIr10F5sb9BphMAQnoJ5EHMw+NByoj5QdDD/EFtZuhBgWHcQYEe90FKc4ZBMlX0QEpVAUJqBuRBTYwbQWDrZUEvvv9BZy/WQfHKDUJ/hA5CMgbmQVMjqEF2h+tBfjLjQc8Lm0FSwepBeLK/QWlIxEGUZP1BiHwRQt/760HvNOpBTHfbQf86csB35eVB8qHyQUS8AEJSkARCfiSQQYxZ40EQfuJBk5n5QUWMm0HJw51Bo6HjQfcM/0G2zf5BSmFYQQen5EFkccNBOKrqQQs040HnM6tBdFblQfz4AUIMyHJB8mjoQf3e+0GRDURB+/naQYS/qEEb59lBMJrjQRaR+UGBRvJBXie2QdU1tUHU28ZBPdr+QUpxC0IvwMZB3qn0QV6n70F+potBts7hQXyWuEEqvf9BsBbjQYr9/EF10zlB/ajEQSBv4UG3ef5B+IHbQZev3EF9Ea1B1EPfQQ==",
          "dtype": "f4"
         },
         "yaxis": "y"
        },
        {
         "hovertemplate": "Gene family=lincosamide antibiotic<br>t-SNE dim 1=%{x}<br>t-SNE dim 2=%{y}<extra></extra>",
         "legendgroup": "lincosamide antibiotic",
         "marker": {
          "color": "#19d3f3",
          "opacity": 0.7,
          "symbol": "circle"
         },
         "mode": "markers",
         "name": "lincosamide antibiotic",
         "showlegend": true,
         "type": "scattergl",
         "x": {
          "bdata": "nPvQQXZsOEJIohpCAyI4QqG1MkJSkgpCHzjeQbKt+0HWrzRC1YcqQm5AfEHBRSRB",
          "dtype": "f4"
         },
         "xaxis": "x",
         "y": {
          "bdata": "h+cIQZTxfkEt2/NBhEpWQfXLZkGuph3A7rENQuNG1UGxw6pB2uayQY807kEdBPRB",
          "dtype": "f4"
         },
         "yaxis": "y"
        },
        {
         "hovertemplate": "Gene family=pactamycin-like antibiotic<br>t-SNE dim 1=%{x}<br>t-SNE dim 2=%{y}<extra></extra>",
         "legendgroup": "pactamycin-like antibiotic",
         "marker": {
          "color": "#FF6692",
          "opacity": 0.7,
          "symbol": "circle"
         },
         "mode": "markers",
         "name": "pactamycin-like antibiotic",
         "showlegend": true,
         "type": "scattergl",
         "x": {
          "bdata": "+7CpQQ==",
          "dtype": "f4"
         },
         "xaxis": "x",
         "y": {
          "bdata": "EmwWQg==",
          "dtype": "f4"
         },
         "yaxis": "y"
        },
        {
         "hovertemplate": "Gene family=glycopeptide antibiotic<br>t-SNE dim 1=%{x}<br>t-SNE dim 2=%{y}<extra></extra>",
         "legendgroup": "glycopeptide antibiotic",
         "marker": {
          "color": "#B6E880",
          "opacity": 0.7,
          "symbol": "circle"
         },
         "mode": "markers",
         "name": "glycopeptide antibiotic",
         "showlegend": true,
         "type": "scattergl",
         "x": {
          "bdata": "MrLnQQ5VB8Gnu6RBmvYNQmQ3rEEubeBBrBblQW/UaULD3pVB+Xb1QW2WwUH73TlCkforQpv9KUI5vAtCROITQhNNBkLFFyVC51zIQSzQDUJBZChCsg4bQgHWKUKhrgBCQpeHQaWJy0EdTQtCLUYRQgPoJkKWPm1BrgbjQbwWPUGIvghC2AUfQkYuskAvmipCpPTkQe+w8UGBWxFCjAH9QT1r4kEIquZBl2INQnQ99EHV+WlBkikwQjCKLEJcvhpCF7TXQWtQI0J6Cw1CdrzcQR3zi0HE1U1BZMEMQqmTyUGeVCxC4YgrQtfAzkFXvCBCFPQfQi4fEULufshB+2waQg/5BkLOGRdC",
          "dtype": "f4"
         },
         "xaxis": "x",
         "y": {
          "bdata": "QxmnQK+2wkHmthhC9u3PQRepYkHkYvZB2aT3QFjDz8GFKcFB5Teyvu4tRsADgjpBe5XBQaGm40F5DcRB6fDlvyQvNEBQ98lB3hbvQUR3/0EcppZBSpOoQcZT5EE9lg1CqE8WQo/q4kCcqwNADibtQVRVp0Fyj5hBW3yZQAStFUE4Cas+kzgNQvkDWUE7bZNBFM0dQnPVEULbSQBC9/m8QcyHC0IqbpRALtrbQQOY7D8mrZpAF+l6QRWOXkEs9zlB0p0EQnDX60GqppBB69e3QZS1DEKChq9BmAwFQodpBkEBasdB5Z9TQUDqs0Fs11VBfD3nQI4dGkLexAJAmvljQMtV2kHR2h9A",
          "dtype": "f4"
         },
         "yaxis": "y"
        },
        {
         "hovertemplate": "Gene family=rifamycin antibiotic<br>t-SNE dim 1=%{x}<br>t-SNE dim 2=%{y}<extra></extra>",
         "legendgroup": "rifamycin antibiotic",
         "marker": {
          "color": "#FF97FF",
          "opacity": 0.7,
          "symbol": "circle"
         },
         "mode": "markers",
         "name": "rifamycin antibiotic",
         "showlegend": true,
         "type": "scattergl",
         "x": {
          "bdata": "w0cmQQQXM0JdmHhAkud9QRzk6EEoHuRBcvgKQdJi3UFQL/pAuwFVQe95mEE9qFlBS/IKQoSdiEETIrtBAUTDQAwNrkDJIlNAi3z7QXsjg0EybhpCql2MQf7aokDA1YpBsu4kQWNiBEHAxPlBWT9NQQ==",
          "dtype": "f4"
         },
         "xaxis": "x",
         "y": {
          "bdata": "w2TzQSxt00FNoZ9BZ0sPQtxOEUK9oQ1CYYHuQQOs00FIr35B7tYKQhonckEnM/hBAE2AQUgg4EF6X9FBB4rRQbbw3kHCwaFBUx9hQQVF0kGCY4VBVEvQQa/voUEAs89BhPrsQfDCykH4eI1BfPoEQg==",
          "dtype": "f4"
         },
         "yaxis": "y"
        },
        {
         "hovertemplate": "Gene family=phenicol antibiotic<br>t-SNE dim 1=%{x}<br>t-SNE dim 2=%{y}<extra></extra>",
         "legendgroup": "phenicol antibiotic",
         "marker": {
          "color": "#FECB52",
          "opacity": 0.7,
          "symbol": "circle"
         },
         "mode": "markers",
         "name": "phenicol antibiotic",
         "showlegend": true,
         "type": "scattergl",
         "x": {
          "bdata": "g0RCQtjDoUFj/CJC0XYnQr/IA0JfhTlBOosMQoU44EFjxnFBrMzOQRBQ/UEJT+lBibAlQvKSFEIEkn5BXf/WQZsiK0KNELVBQjkUQibrnEG8gT9BUCAbQhmkMUI7bspBu6oFQdBVCUK/9jhCydR0QbrVCME+T8NBG6YdQvX+JkK5ddVBy6ssQpWtAEKcrSxBAfwbQkgfQUGON39B2vGZQXNX7kGkTQxBYCLPQT2cakH99hxCkLkVQnsIxUFKL3NA",
          "dtype": "f4"
         },
         "xaxis": "x",
         "y": {
          "bdata": "2nHNQLA0l0HQOdRBTHgwQds7l0FQD/ZB6l6xQcreIEEIuOdBQSTSQd1WuUGk5ZVATnWhQYgr5EHeandBLi4mQV1lv0G5gxVCQu3OQfqpiEHEwslBaJ47QTb6sUHSigZCiT2WQWKgVkCsilJB0GbBQTc+vkHlt9JBb0jCQbpdq0HNPelBEhVrQcFRDkKNNbZBx//XQSxdv0EsDMdBPjvNQVdYDkGIZJpBe6r2QfURvEENjC5BzAzwQaisaEGUpcxB",
          "dtype": "f4"
         },
         "yaxis": "y"
        },
        {
         "hovertemplate": "Gene family=aminoglycoside antibiotic<br>t-SNE dim 1=%{x}<br>t-SNE dim 2=%{y}<extra></extra>",
         "legendgroup": "aminoglycoside antibiotic",
         "marker": {
          "color": "#636efa",
          "opacity": 0.7,
          "symbol": "circle"
         },
         "mode": "markers",
         "name": "aminoglycoside antibiotic",
         "showlegend": true,
         "type": "scattergl",
         "x": {
          "bdata": "PvZpQZpWbj98aEZBDCe7QbfPkEGPMc9BRncaQo46xkESYwJCs8KCQUXy0kF/3ShClaDMwETeGUIvPiVClUr2Qb6hNEITZr1BC1xJQZFs4kGmjfNBjkcjQm83ZkHDwpVB5IANQkFYakEFbnBBnVS+QSrUT0EWKJhBeCmdQT6Gh0Fbu9ZBtSiEQQdtvEF64h9CNKaQQcCIB0L1JPFB9szxQa4mMEEIgAhCTcSuQYCWwkGqqYpBbz3SQVis70Em4mdBQXYJQjxWe0F6C8NBn8wQQZfsFkLnHJtBlX3cP6aSQEFx8IJBIYqxPzhsNkK+j4ZBLJQTQpZsMkKbnddB3OjQQT+RiUFIbMFBvdY1QU20EkGobdtBCv/DQXgB00GHA9VB6TGJQTkuEkIz8WtBYhwuQF3lRkFbsaFBFdTLQU8AlEHfVexBFBD/QWYyDkJh5GpBezsLQhCNKkKjgHZBLFn7QI7LC0LwU3RBVefXQXnyDkJT619BJQn3QYMzE0In/ABC6DE2QhvmfEEKu/NBmvlvQXhaJULLcmJBPe0eQi1ciEE/NO9AHEckQpPwhUGtECxC/IrWQb/9E0LU6jRCu571QYe/JkKHLkxBirGNQdtUQEKuXHhBkUfQQR4I00EfVCJCaWb2QSJetUGeYRdCIRO8QantIUITguZA3gTXQQQ2FEKKw5VBb+XcQTKzJkE2tYpBDpKqQQA+zEF1l6NA9ktUQTVXI0LvRhJCyTBXQd0cE0L0GxhCyF4RQuCNqUGHuadB87EdQhtsIUK+vRlBYDioQWoL2kFdWWZBKh3FQWMjXkFcPdRBXoHdQeUat0FRhwVCX/MgQnhHL0KCGYFBM8XEQc6XKULNK2ZBS2pIQaZTEULQy/xB7CLbQQ==",
          "dtype": "f4"
         },
         "xaxis": "x",
         "y": {
          "bdata": "5I4LQnXCBEHWgslBB0ETQfYedEGf4ENBVNqBQUH/ZsAGgZVAJp45wFbIhEH/6LRBV9uWQcto60Eno1lB1n7WQYzVxUGfYGJBrzqQQcO2R0HJSQNCEcNkQcoH0EGHcXJBVa/fQQt20EGtpRRAWWdbQSz6K0GpBxpCJDSIQcKyA0J6e5dBlXGkQZDphkHbheFB4daLQVp9x0HQbHFBSFdJQaxJ+kExZIJBFdw0QacVT0GDVwZCDGJHQbILSEEP1s1B5TYWQSw5BkImJe9Ak1KZQaGSlEGvoOlAm++hQef0MEGqo4ZBvIkCQTthnkE5RxdCrZ5TQXOLYkGjpFtBsLNHQeFL8EFY/lRBfEOuQcbSs0H2bppB4b5IQb5fhEGvfmJBe4sVQvi4iUG0zc9BfPUNQaYlykFXCQdC/Y8iQVaQEUJcWUJBb9toQSPqZUGoiMVB6pOCQVhKwEHO4qy+WqtaQZZENEFGqYNBbW1bQSqMtUH60nlBFPgVQkhS7kHZMCxBdJbBQWvy70G+pohByYWaQdGockE2BxJCn4RSQRNUkUHoRahByPpfQVROoUHlpI5B/keWQSQ/8UEHRMVBsmjVQaeegkHvz5BBtussQebjJkGRCZBB7QRMQaFFlkHndrdBj4YvQWvJskH4j3xBQ19XQQnlFUFjf7BBNOw+QXGg0UEEcg1AE8OZQQEX5EEYVA5CnzUpQeVLJ0GMHIxBa1+BQWXsFkHNXoJBUKyoQbHXikEZrE1BHMPuQViankGqE4NBXS3dQe/tb0F+G0tBuUyBQd4imEHyZwxCngt8QdhLcEHAwalAdHdAQahclUCdIXJBrV3tP2WViEHth+RBnONoQb4/WEFPONBB1juAQUDO+UFoj4ZBvIBiQQ==",
          "dtype": "f4"
         },
         "yaxis": "y"
        },
        {
         "hovertemplate": "Gene family=isoniazid-like antibiotic<br>t-SNE dim 1=%{x}<br>t-SNE dim 2=%{y}<extra></extra>",
         "legendgroup": "isoniazid-like antibiotic",
         "marker": {
          "color": "#EF553B",
          "opacity": 0.7,
          "symbol": "circle"
         },
         "mode": "markers",
         "name": "isoniazid-like antibiotic",
         "showlegend": true,
         "type": "scattergl",
         "x": {
          "bdata": "+N8/QUgwFUHbymNBkj+DQQeMX0E+8A9Bvt4rQXCnUkFwmulAXZqXQZwP6UEw1i1BNPOqQMr1KkFaEUVB",
          "dtype": "f4"
         },
         "xaxis": "x",
         "y": {
          "bdata": "QQzVQeikukHxpeRBkzOMQaFh/kG93PVBKWO2QbKrB0IRr5lB4X+TQcPPk0ExixRBWpOQQRggzkEBEstB",
          "dtype": "f4"
         },
         "yaxis": "y"
        },
        {
         "hovertemplate": "Gene family=macrolide antibiotic<br>t-SNE dim 1=%{x}<br>t-SNE dim 2=%{y}<extra></extra>",
         "legendgroup": "macrolide antibiotic",
         "marker": {
          "color": "#00cc96",
          "opacity": 0.7,
          "symbol": "circle"
         },
         "mode": "markers",
         "name": "macrolide antibiotic",
         "showlegend": true,
         "type": "scattergl",
         "x": {
          "bdata": "91EnQSfKJUJ0iBFBYwD7QfsV7kEMlcNBPRiNQL3gjUHscqRBb1ITQij/N0ELWAVBoOAbQlxJUUK9F5FB6/BpQWLpMkK5oaxAPlwRQeNAzEBfSow+xONyQf7H+kEVc/NBFXe+QZhQjEHH6GpBmldBQnCAWkE8hA5C/McJQvgIGUKHWRdBebERQnMXGUKvGAFCLTKLQZEsJkLzPRlCqGvEQY3mmEDtKwtCxNuEQcYXGkLrk7FBntCTQUMoLUCfoW5BZhkTQlIc7kHx+tpB13QPQtPljEFjVdZBofIFQuGGnUBPUiJCEyiSQX7L7kHsYI1BWUouQPIknkCeIRlC/89rQcrWdEHutJ9Bk4ymQbgkxUDfYI9BGMhGQE+7xEEUtcdB99fcQbBdz0F5Ic5BU+GFQal9AUJhjAhBZRweQk8s3EBd2bdA5FTMQTK5BkKazLJB4AkCQjQPYUGfr9RBR086P7rtFkIVOoNBTwNlQfCtw0F8/z9AdLkfQiy89kDeO+hBsiSRQBCMYkF1KfTAP6xzQQ0hBUJg4XZBYNMMQnC/vEGlUzJCPgi0QYhlYEE7i0tBHlXHQaQSHUIok5NBZBhBQGjGAkJTYL1B5l/YQMonkkHKPXNBONH/QfcOAEIynY9Bw0N9QRiHrkHFOQNCbIr6QPBN8kGoHcFBlCmqQHg6+kEVng1C1q4ZQg/VBUE4gTJB4ZMFQlKutEEhgLZBHkgGQmuJFUIR9mtBQEdlQNbtikEtVn9BYAXZQTgpGkL5q1tB5YLRQfrntEH1ltdBH6UHQkouIEGiBhdCbqM6Qg==",
          "dtype": "f4"
         },
         "xaxis": "x",
         "y": {
          "bdata": "OB+iQfuaW0C712NBdKAPQoneykEs+RFCLwO0QYUfH0L4OLxBOUbQQfkV60FRswlCY9P2QTIs1kBXtaFB7cUOQuOi00F8e9pB8CbTQTParUE/lHBB3QMXQly0sUGtPdNBUmL7QcVIgkEA+JNBSdIfQYevCELR5v9BOLIxwHTHD0KkGAFCDxPCQTtEEkI/DApCAR8UQsZWxEG8iQxCUesZQmyh0EHyawRCdFgXQjkZBEKTgRBCX6UbQjUjy0EFig9C1UoMQqMgD0Gf/hFCTmwRQmGDF0Js2wxC+iD2QbOF6UFkGPhBNvzsQSCyB0IV001BcMXFQeHIzUHfmA9Cu+4WQpq1oUGR//VBlaP7QcqDF8ElnudBu+rHQdhWFEK5RRZClco3QcHTGELkLNZBMoUYQogLdkAyIrtBNa3xQbFQxEHnq8hBYq0ZQnhInEHOpxJCGhXqQYsNCkIPaxFCsWG+QTe+CkKFjZZBEsyRQe1kFkLY7RZB+S3eQWUos0F8OIVB/QvIQSTnEUI8Bi5BqWOgQXlk/EFw3fxBD0IJQsQxwUDkTINBlyURQgDXAkJXbeZBk48XQp/s20HHSCJC0Re7QRAI6kFxmBZCKmz+QY2F7kGaZwBCkTPBQa2VFUKD/R9COvsNQvEZYUG/kQFCKWnrQQkc+kEue2NAhEXMQSARvEA6Dr9ByMbQwe5m10GDtf1BjOIaQrf8FEKd9BFCxdOCQZm6/kEALBZCQcCRQNq7H0JwVRtCHgtJQD5SEkKJsA1CCEMJQaaAFUIpmv1BjWsYQpko1kFZ+dtBLQxLQQ==",
          "dtype": "f4"
         },
         "yaxis": "y"
        },
        {
         "hovertemplate": "Gene family=disinfecting agents and antiseptics<br>t-SNE dim 1=%{x}<br>t-SNE dim 2=%{y}<extra></extra>",
         "legendgroup": "disinfecting agents and antiseptics",
         "marker": {
          "color": "#ab63fa",
          "opacity": 0.7,
          "symbol": "circle"
         },
         "mode": "markers",
         "name": "disinfecting agents and antiseptics",
         "showlegend": true,
         "type": "scattergl",
         "x": {
          "bdata": "VKyKQbr+6kF35HxBaiChQFQiEkKQwQFCYGfxQYRZtEDARdZBbEQSQtPhAUIzrMk/3LcoQkyetkGHbQZA5NSzQeOvBkLH5BdCYOViQMGOVL/2XBBCR0MGQhOUCUIbauRBLvTmQFC6wEEPadw/7DYOQYcfH0FxAoc/sDkMQm8LaD/b6gY/DBYCQvmqr0Bh5eRBDuURQqVmDkKDAGI/3qfHQVS0FUJ6/tRBs/ffQah51EFhsa5AJ617P4AWo0COzs1B9ssLQRFFsEHhwghCOSHeQHZTvUF/RwVCmYhSQJxW7UDIjEtAUdYOQi4xEkKUWw5BHFcwQifQGUJ6nqpBk/EAQnC7F0Ib4otBd3bjQAPMmcLvghRCCORgQGkyrD8=",
          "dtype": "f4"
         },
         "xaxis": "x",
         "y": {
          "bdata": "9TIAwDhrXkG6N/VAaOCNQXtf/0EzcpZBxq1wQTx4tkFReflBISOfQcWQ9kGHarNBheqjQTGaskHvasVBegLCQVOQXUEJiXdBZj6nQaGXYkEZJ5lBlgMKQv/BiUGz5BJCGaXZQQee4UFCuMZBqN31QR6K5EGbq75B8J5lQXtdp0Ef4sNBLkhXQdrRu0GlUwRC++mWQdnhg0HqTYVBIersQYqdk0ENgf9BTm53QTjR7EHxIL9BsmLFQUEvt0E3WN1BogL3QXboyUE6V8NB3IOvQYBuBkJo+4tBiqbjQeej4kH4pslBwQd8QSMrlEFQnMpBwwKPQTDV8EGSA/xBrSiGQRCCckFLBHZAKJ7YQfBvGkAVa2xBxLGhQdfywkE=",
          "dtype": "f4"
         },
         "yaxis": "y"
        },
        {
         "hovertemplate": "Gene family=phosphonic acid antibiotic<br>t-SNE dim 1=%{x}<br>t-SNE dim 2=%{y}<extra></extra>",
         "legendgroup": "phosphonic acid antibiotic",
         "marker": {
          "color": "#FFA15A",
          "opacity": 0.7,
          "symbol": "circle"
         },
         "mode": "markers",
         "name": "phosphonic acid antibiotic",
         "showlegend": true,
         "type": "scattergl",
         "x": {
          "bdata": "ZtM2QmIe9kEYDTdClGsQQhz7C0JsKxhCreQPQjWaKELFFDBCfvR9QdzKK0KwWOg/RAqnQRsNiEE6eDJCfBP7QXpQ+kGPAexBUKsnQgdf8kEF3yxC83Y2QugX6UHbYxdCkL8Lv5iMKkKtjDZCLxswQuhgHELrFv9BxpO3QdFXCL/PcydC0qktQg8zKkKaGAFC",
          "dtype": "f4"
         },
         "xaxis": "x",
         "y": {
          "bdata": "+TWRQe3ibkHAoI5BXaVcQehiHUEkqFBBvZpkQWVUbUFV9aFBfYQZQpZ7hUEPdrhBc+7KQaAKkUGDS6xBaVtyQYGlLUHBlWBBVg/mQQz3LkGS0Z9BHCKRQUAq70E5OZ5BC0+HQewTZ0HSL5FBnSCiQe1xgEEnDRhCUgejQXP2iEFzwX5Bh+aPQetsi0EOh4ZB",
          "dtype": "f4"
         },
         "yaxis": "y"
        },
        {
         "hovertemplate": "Gene family=tetracycline antibiotic<br>t-SNE dim 1=%{x}<br>t-SNE dim 2=%{y}<extra></extra>",
         "legendgroup": "tetracycline antibiotic",
         "marker": {
          "color": "#19d3f3",
          "opacity": 0.7,
          "symbol": "circle"
         },
         "mode": "markers",
         "name": "tetracycline antibiotic",
         "showlegend": true,
         "type": "scattergl",
         "x": {
          "bdata": "bqpEQVkf9kGqccTAKp3gQWcO2kEQEuZB6/0CQg5o90EQdZpBsJESQtXplUGxEwpBtGrkQf2V7kFyBbpBV0iMQZiTvUFOQppB03bUQbg7kUFB7uhBLZIKQuhnw0Fy36JBQb0AQulsyEFrjHNBUqccQqA+rUGTTOlB4V2WQfdY7UFGAQtCnzv1QVv5E0FQGr9BOCnrPwFbrz+XulRBYQ3DQchZBkIrR4RBOKIHQrsBn0Gch41BWwO6QWVS/UEsD5JBeir/QWJ1B0KmYH1ALdT2QQL7qEFWhX9BWJTZQQET+kFsK8NBmmgYQLJzCMHKlMNBp+YAQnu1X0GZ3JhB8bD1QHF1XUD44e1BeUvCQZ6RB7/xrdNAhVIMQcefQEF/EwZC",
          "dtype": "f4"
         },
         "xaxis": "x",
         "y": {
          "bdata": "mkk0QdGyDUJxPTNBjGTbQQ/m4UHrchtComQSQs7yC0KWFuZBcmc1QcoyxkEEnuZB3ArcQWlzDkJsW/5BAvdDQRWiB0IGVc1BnQoCQjhsvEGQSxZCBAcYQl9ZDEKFTwdCCEcMQumiPEEdMPpB/1BqPz0W0UFdQwdAU5/NQbewykFgW/FB0cISQudRp0HYLfRBYSJrQcNQqEHVPq5BF4XhQbag20HmJNJB/46ZQfsgrUEzvh9CdUTSQaT0GkJ4S6dA4xf8QWVQCELxF8VBSzsUQnd4FkLgLHdB9Dzovwwhw0GmPtNBKmiIQWeAskEckQxCuhLrQWHEAkLV3EdB4h6AQUvjhEEpYghCzcYJQpcy6sDYJxdBejSwQeka1UG+LL9A",
          "dtype": "f4"
         },
         "yaxis": "y"
        },
        {
         "hovertemplate": "Gene family=diaminopyrimidine antibiotic<br>t-SNE dim 1=%{x}<br>t-SNE dim 2=%{y}<extra></extra>",
         "legendgroup": "diaminopyrimidine antibiotic",
         "marker": {
          "color": "#FF6692",
          "opacity": 0.7,
          "symbol": "circle"
         },
         "mode": "markers",
         "name": "diaminopyrimidine antibiotic",
         "showlegend": true,
         "type": "scattergl",
         "x": {
          "bdata": "rx00Qh3UI0J1OvxBs7xqQYsg4UEemvZAd1MuQryrxEGouRhCK/8kQnToHEKX3ftB/nQ5QfqSKEJ3yx5CvDQuQvEo/0Dew/lBpJoOQmjQLkJ27QJCezwqQllcC0JUbRtCZwgJQox6G0J3uB1CdL4OQssJu0A4mgFCbNPqQTr4AEI8FulAnHv9QSQnOUJFwgJC+dADQm5tM0IKXPRBBrAOQg2uA0Isc/1Bh10MQppaEEL+LytCdo/uQCodDkKWRwlCQRQkQmq1HULKbhdCglMCQsULI0Jf/xRCbM8JQg==",
          "dtype": "f4"
         },
         "xaxis": "x",
         "y": {
          "bdata": "NcaZQSzgk0GxKoJBlDnmQapXI0HdHc9B0HhCQXGBfEESo55B7yUrQZcIeUHU9nxBFHn/QXTHmkFQj2BBVeNFQZsFwEHp0IZBy95LQU6pfkFO9E1BmyqUQeY5gkH30j1BOhYhQUxrm0ExMmBBhZ9MQSU73UHAoyFBHzOwQcoQL0HhgO5BVv5KQZghb0H275dBFMmEQW55l0E9cGtBmZ8aQc/JIEEEV0tBXExLQYVRmEF4kY9Bs86aQRZ0XEFW5pJBDgCTQWq8j0EWioVBVB9PQUUxkUGeBoRBcZ9GQQ==",
          "dtype": "f4"
         },
         "yaxis": "y"
        },
        {
         "hovertemplate": "Gene family=oxazolidinone antibiotic<br>t-SNE dim 1=%{x}<br>t-SNE dim 2=%{y}<extra></extra>",
         "legendgroup": "oxazolidinone antibiotic",
         "marker": {
          "color": "#B6E880",
          "opacity": 0.7,
          "symbol": "circle"
         },
         "mode": "markers",
         "name": "oxazolidinone antibiotic",
         "showlegend": true,
         "type": "scattergl",
         "x": {
          "bdata": "HXTGQQ==",
          "dtype": "f4"
         },
         "xaxis": "x",
         "y": {
          "bdata": "4+0WQg==",
          "dtype": "f4"
         },
         "yaxis": "y"
        },
        {
         "hovertemplate": "Gene family=polyamine antibiotic<br>t-SNE dim 1=%{x}<br>t-SNE dim 2=%{y}<extra></extra>",
         "legendgroup": "polyamine antibiotic",
         "marker": {
          "color": "#FF97FF",
          "opacity": 0.7,
          "symbol": "circle"
         },
         "mode": "markers",
         "name": "polyamine antibiotic",
         "showlegend": true,
         "type": "scattergl",
         "x": {
          "bdata": "tY1NQDOHG0GbSRdBvPXLQBQHKUEO8w5B",
          "dtype": "f4"
         },
         "xaxis": "x",
         "y": {
          "bdata": "7FCiQdAjC0JVHtNB/XLPQU3UwkGwiwhC",
          "dtype": "f4"
         },
         "yaxis": "y"
        },
        {
         "hovertemplate": "Gene family=streptogramin antibiotic<br>t-SNE dim 1=%{x}<br>t-SNE dim 2=%{y}<extra></extra>",
         "legendgroup": "streptogramin antibiotic",
         "marker": {
          "color": "#FECB52",
          "opacity": 0.7,
          "symbol": "circle"
         },
         "mode": "markers",
         "name": "streptogramin antibiotic",
         "showlegend": true,
         "type": "scattergl",
         "x": {
          "bdata": "fcQEQopYC0Kc8AZCIh8GQlMRBkJhmv9BwtwHQqUpBkIK6QJCcTU9QvCmBUIuAiJCq7IfQofwEkLbQBpCUggJQkcu+kGzqA5CNM8XQkf5J0KXNgtCtfTdQYoiA0Jp5TZCFj4GQm2WB0KSJQtCsk4GQjkkCUI30ZhBlkgLQo90F0Kl8xtC",
          "dtype": "f4"
         },
         "xaxis": "x",
         "y": {
          "bdata": "1SMVQv6CF0IKTxxCdL4bQtPCHUKDCxZCeSYQQlJiGkLWBhxC3pA2QYTjEULQa5BBnBwNQr5RGEJ4sQRCxIoUQrnCGUL8BxdCQBXtQZ8eMEEfeBpCnv0DQrLLD0LGhKVBhEQZQsEFEkJGIPJBFacNQg0YEUIbuRlCPesKQotr6EHx6R9B",
          "dtype": "f4"
         },
         "yaxis": "y"
        },
        {
         "hovertemplate": "Gene family=pyrazine antibiotic<br>t-SNE dim 1=%{x}<br>t-SNE dim 2=%{y}<extra></extra>",
         "legendgroup": "pyrazine antibiotic",
         "marker": {
          "color": "#636efa",
          "opacity": 0.7,
          "symbol": "circle"
         },
         "mode": "markers",
         "name": "pyrazine antibiotic",
         "showlegend": true,
         "type": "scattergl",
         "x": {
          "bdata": "AUWWQSg3mUCtL2RB9rYpQeY0cEHHYRRBR24iQXziPEE=",
          "dtype": "f4"
         },
         "xaxis": "x",
         "y": {
          "bdata": "asOTQWVan0GIJtJBsNXKQbKr+UE6ZetBiaXVQYvZ5UE=",
          "dtype": "f4"
         },
         "yaxis": "y"
        },
        {
         "hovertemplate": "Gene family=mupirocin-like antibiotic<br>t-SNE dim 1=%{x}<br>t-SNE dim 2=%{y}<extra></extra>",
         "legendgroup": "mupirocin-like antibiotic",
         "marker": {
          "color": "#EF553B",
          "opacity": 0.7,
          "symbol": "circle"
         },
         "mode": "markers",
         "name": "mupirocin-like antibiotic",
         "showlegend": true,
         "type": "scattergl",
         "x": {
          "bdata": "vXU/QYPz/UFjgO9B",
          "dtype": "f4"
         },
         "xaxis": "x",
         "y": {
          "bdata": "xevJQWI+D0JGrwJC",
          "dtype": "f4"
         },
         "yaxis": "y"
        },
        {
         "hovertemplate": "Gene family=moenomycin antibiotic<br>t-SNE dim 1=%{x}<br>t-SNE dim 2=%{y}<extra></extra>",
         "legendgroup": "moenomycin antibiotic",
         "marker": {
          "color": "#00cc96",
          "opacity": 0.7,
          "symbol": "circle"
         },
         "mode": "markers",
         "name": "moenomycin antibiotic",
         "showlegend": true,
         "type": "scattergl",
         "x": {
          "bdata": "KxOOQQ==",
          "dtype": "f4"
         },
         "xaxis": "x",
         "y": {
          "bdata": "28PyQQ==",
          "dtype": "f4"
         },
         "yaxis": "y"
        },
        {
         "hovertemplate": "Gene family=aminocoumarin antibiotic<br>t-SNE dim 1=%{x}<br>t-SNE dim 2=%{y}<extra></extra>",
         "legendgroup": "aminocoumarin antibiotic",
         "marker": {
          "color": "#ab63fa",
          "opacity": 0.7,
          "symbol": "circle"
         },
         "mode": "markers",
         "name": "aminocoumarin antibiotic",
         "showlegend": true,
         "type": "scattergl",
         "x": {
          "bdata": "l9bTQSuoCcG1cK9B7ZOQQcl3K0F3xNxBlFHNQBaf4D/e/YRALcysQVHvgUA=",
          "dtype": "f4"
         },
         "xaxis": "x",
         "y": {
          "bdata": "ZawBQgYiu0EIWedBeVDDQV2370EQH99BKIomQXc+tUFd1+BBUYA8QV8A3kE=",
          "dtype": "f4"
         },
         "yaxis": "y"
        },
        {
         "hovertemplate": "Gene family=sulfonamide antibiotic<br>t-SNE dim 1=%{x}<br>t-SNE dim 2=%{y}<extra></extra>",
         "legendgroup": "sulfonamide antibiotic",
         "marker": {
          "color": "#FFA15A",
          "opacity": 0.7,
          "symbol": "circle"
         },
         "mode": "markers",
         "name": "sulfonamide antibiotic",
         "showlegend": true,
         "type": "scattergl",
         "x": {
          "bdata": "m2gPQl+Di0E2filCetULQbYACkIPpStB",
          "dtype": "f4"
         },
         "xaxis": "x",
         "y": {
          "bdata": "3wO5QW03hkElU7BBFZejQTnKsEEQFARB",
          "dtype": "f4"
         },
         "yaxis": "y"
        },
        {
         "hovertemplate": "Gene family=glycylcycline<br>t-SNE dim 1=%{x}<br>t-SNE dim 2=%{y}<extra></extra>",
         "legendgroup": "glycylcycline",
         "marker": {
          "color": "#19d3f3",
          "opacity": 0.7,
          "symbol": "circle"
         },
         "mode": "markers",
         "name": "glycylcycline",
         "showlegend": true,
         "type": "scattergl",
         "x": {
          "bdata": "f27+QbJnDEJws+FAR7HPQevzw0H4dQ9CQyzdQeQOB0IrkepBSES3QQ==",
          "dtype": "f4"
         },
         "xaxis": "x",
         "y": {
          "bdata": "02sDQm1g0EH8qeJBcOYCQh4Bqb8S93NBGdDSQRAeD0LJKPBBDvDfQQ==",
          "dtype": "f4"
         },
         "yaxis": "y"
        },
        {
         "hovertemplate": "Gene family=thioamide antibiotic<br>t-SNE dim 1=%{x}<br>t-SNE dim 2=%{y}<extra></extra>",
         "legendgroup": "thioamide antibiotic",
         "marker": {
          "color": "#FF6692",
          "opacity": 0.7,
          "symbol": "circle"
         },
         "mode": "markers",
         "name": "thioamide antibiotic",
         "showlegend": true,
         "type": "scattergl",
         "x": {
          "bdata": "gqp4QD80G0EhjkpBaQ5gQXYEcEE=",
          "dtype": "f4"
         },
         "xaxis": "x",
         "y": {
          "bdata": "4up2QPEv4UFZi69Bq6n+QT48QkE=",
          "dtype": "f4"
         },
         "yaxis": "y"
        },
        {
         "hovertemplate": "Gene family=pleuromutilin antibiotic<br>t-SNE dim 1=%{x}<br>t-SNE dim 2=%{y}<extra></extra>",
         "legendgroup": "pleuromutilin antibiotic",
         "marker": {
          "color": "#B6E880",
          "opacity": 0.7,
          "symbol": "circle"
         },
         "mode": "markers",
         "name": "pleuromutilin antibiotic",
         "showlegend": true,
         "type": "scattergl",
         "x": {
          "bdata": "JFkUQmZsuUGmXt1BRIRqQQ==",
          "dtype": "f4"
         },
         "xaxis": "x",
         "y": {
          "bdata": "r+QUQviaGELInRVCZlEZQg==",
          "dtype": "f4"
         },
         "yaxis": "y"
        },
        {
         "hovertemplate": "Gene family=nitroimidazole antibiotic<br>t-SNE dim 1=%{x}<br>t-SNE dim 2=%{y}<extra></extra>",
         "legendgroup": "nitroimidazole antibiotic",
         "marker": {
          "color": "#FF97FF",
          "opacity": 0.7,
          "symbol": "circle"
         },
         "mode": "markers",
         "name": "nitroimidazole antibiotic",
         "showlegend": true,
         "type": "scattergl",
         "x": {
          "bdata": "kK3QQTjLDUJm1QZC9cHoQTcoAULnuwlCSP8HQkylLELWlAFCe4biP3xIEkKABUhBEcYOQg==",
          "dtype": "f4"
         },
         "xaxis": "x",
         "y": {
          "bdata": "pD2PQCRqiUF98iFBDhBBQberLEFgfkpB4NpWQYtJdEF6z3lBqBqxQQaXWUHeGrBBGrscQQ==",
          "dtype": "f4"
         },
         "yaxis": "y"
        },
        {
         "hovertemplate": "Gene family=elfamycin antibiotic<br>t-SNE dim 1=%{x}<br>t-SNE dim 2=%{y}<extra></extra>",
         "legendgroup": "elfamycin antibiotic",
         "marker": {
          "color": "#FECB52",
          "opacity": 0.7,
          "symbol": "circle"
         },
         "mode": "markers",
         "name": "elfamycin antibiotic",
         "showlegend": true,
         "type": "scattergl",
         "x": {
          "bdata": "r/QpQadXVkGswUFBkY3DQT26AEE=",
          "dtype": "f4"
         },
         "xaxis": "x",
         "y": {
          "bdata": "U/zHQXw39kHpZAhCpFrHQWxX+kE=",
          "dtype": "f4"
         },
         "yaxis": "y"
        },
        {
         "hovertemplate": "Gene family=nitrofuran antibiotic<br>t-SNE dim 1=%{x}<br>t-SNE dim 2=%{y}<extra></extra>",
         "legendgroup": "nitrofuran antibiotic",
         "marker": {
          "color": "#636efa",
          "opacity": 0.7,
          "symbol": "circle"
         },
         "mode": "markers",
         "name": "nitrofuran antibiotic",
         "showlegend": true,
         "type": "scattergl",
         "x": {
          "bdata": "wQ+6QXtfsEE=",
          "dtype": "f4"
         },
         "xaxis": "x",
         "y": {
          "bdata": "6aUOQbGiMEE=",
          "dtype": "f4"
         },
         "yaxis": "y"
        },
        {
         "hovertemplate": "Gene family=salicylic acid antibiotic<br>t-SNE dim 1=%{x}<br>t-SNE dim 2=%{y}<extra></extra>",
         "legendgroup": "salicylic acid antibiotic",
         "marker": {
          "color": "#EF553B",
          "opacity": 0.7,
          "symbol": "circle"
         },
         "mode": "markers",
         "name": "salicylic acid antibiotic",
         "showlegend": true,
         "type": "scattergl",
         "x": {
          "bdata": "NY+KQaD/k8D/oB5B",
          "dtype": "f4"
         },
         "xaxis": "x",
         "y": {
          "bdata": "YS0NQkuE5ECjz+1B",
          "dtype": "f4"
         },
         "yaxis": "y"
        },
        {
         "hovertemplate": "Gene family=nucleoside antibiotic<br>t-SNE dim 1=%{x}<br>t-SNE dim 2=%{y}<extra></extra>",
         "legendgroup": "nucleoside antibiotic",
         "marker": {
          "color": "#00cc96",
          "opacity": 0.7,
          "symbol": "circle"
         },
         "mode": "markers",
         "name": "nucleoside antibiotic",
         "showlegend": true,
         "type": "scattergl",
         "x": {
          "bdata": "EwcKQrZ2QkEPX9JBmzYsQorP1UFLyTFC",
          "dtype": "f4"
         },
         "xaxis": "x",
         "y": {
          "bdata": "uEB5QWxLA0KVhoBBjgthQTQlEEKu9lpB",
          "dtype": "f4"
         },
         "yaxis": "y"
        },
        {
         "hovertemplate": "Gene family=fusidane antibiotic<br>t-SNE dim 1=%{x}<br>t-SNE dim 2=%{y}<extra></extra>",
         "legendgroup": "fusidane antibiotic",
         "marker": {
          "color": "#ab63fa",
          "opacity": 0.7,
          "symbol": "circle"
         },
         "mode": "markers",
         "name": "fusidane antibiotic",
         "showlegend": true,
         "type": "scattergl",
         "x": {
          "bdata": "rbkUQuBFN0K/ISlCLxuCQSo3EUKNqqhB",
          "dtype": "f4"
         },
         "xaxis": "x",
         "y": {
          "bdata": "1gTYQBj5okG8OKdBlcUQQlaDgkEk1rFA",
          "dtype": "f4"
         },
         "yaxis": "y"
        },
        {
         "hovertemplate": "Gene family=antibiotic without defined classification<br>t-SNE dim 1=%{x}<br>t-SNE dim 2=%{y}<extra></extra>",
         "legendgroup": "antibiotic without defined classification",
         "marker": {
          "color": "#FFA15A",
          "opacity": 0.7,
          "symbol": "circle"
         },
         "mode": "markers",
         "name": "antibiotic without defined classification",
         "showlegend": true,
         "type": "scattergl",
         "x": {
          "bdata": "Ab75QQ==",
          "dtype": "f4"
         },
         "xaxis": "x",
         "y": {
          "bdata": "tUQbQg==",
          "dtype": "f4"
         },
         "yaxis": "y"
        },
        {
         "hovertemplate": "Gene family=diarylquinoline antibiotic<br>t-SNE dim 1=%{x}<br>t-SNE dim 2=%{y}<extra></extra>",
         "legendgroup": "diarylquinoline antibiotic",
         "marker": {
          "color": "#19d3f3",
          "opacity": 0.7,
          "symbol": "circle"
         },
         "mode": "markers",
         "name": "diarylquinoline antibiotic",
         "showlegend": true,
         "type": "scattergl",
         "x": {
          "bdata": "OPsTQmXI9kE=",
          "dtype": "f4"
         },
         "xaxis": "x",
         "y": {
          "bdata": "152dQc++ckE=",
          "dtype": "f4"
         },
         "yaxis": "y"
        },
        {
         "hovertemplate": "Gene family=cycloserine-like antibiotic<br>t-SNE dim 1=%{x}<br>t-SNE dim 2=%{y}<extra></extra>",
         "legendgroup": "cycloserine-like antibiotic",
         "marker": {
          "color": "#FF6692",
          "opacity": 0.7,
          "symbol": "circle"
         },
         "mode": "markers",
         "name": "cycloserine-like antibiotic",
         "showlegend": true,
         "type": "scattergl",
         "x": {
          "bdata": "uxl5QQ==",
          "dtype": "f4"
         },
         "xaxis": "x",
         "y": {
          "bdata": "1sGOQQ==",
          "dtype": "f4"
         },
         "yaxis": "y"
        },
        {
         "hovertemplate": "Gene family=antibacterial free fatty acids<br>t-SNE dim 1=%{x}<br>t-SNE dim 2=%{y}<extra></extra>",
         "legendgroup": "antibacterial free fatty acids",
         "marker": {
          "color": "#B6E880",
          "opacity": 0.7,
          "symbol": "circle"
         },
         "mode": "markers",
         "name": "antibacterial free fatty acids",
         "showlegend": true,
         "type": "scattergl",
         "x": {
          "bdata": "w83NQQ==",
          "dtype": "f4"
         },
         "xaxis": "x",
         "y": {
          "bdata": "PWsNQg==",
          "dtype": "f4"
         },
         "yaxis": "y"
        },
        {
         "hovertemplate": "Gene family=sulfone antibiotic<br>t-SNE dim 1=%{x}<br>t-SNE dim 2=%{y}<extra></extra>",
         "legendgroup": "sulfone antibiotic",
         "marker": {
          "color": "#FF97FF",
          "opacity": 0.7,
          "symbol": "circle"
         },
         "mode": "markers",
         "name": "sulfone antibiotic",
         "showlegend": true,
         "type": "scattergl",
         "x": {
          "bdata": "gFyFQQ==",
          "dtype": "f4"
         },
         "xaxis": "x",
         "y": {
          "bdata": "gGcDQg==",
          "dtype": "f4"
         },
         "yaxis": "y"
        },
        {
         "hovertemplate": "Gene family=zoliflodacin-like antibiotic<br>t-SNE dim 1=%{x}<br>t-SNE dim 2=%{y}<extra></extra>",
         "legendgroup": "zoliflodacin-like antibiotic",
         "marker": {
          "color": "#FECB52",
          "opacity": 0.7,
          "symbol": "circle"
         },
         "mode": "markers",
         "name": "zoliflodacin-like antibiotic",
         "showlegend": true,
         "type": "scattergl",
         "x": {
          "bdata": "vF3HQA==",
          "dtype": "f4"
         },
         "xaxis": "x",
         "y": {
          "bdata": "64rTQQ==",
          "dtype": "f4"
         },
         "yaxis": "y"
        }
       ],
       "layout": {
        "height": 768,
        "legend": {
         "title": {
          "text": "Gene family"
         },
         "tracegroupgap": 0
        },
        "template": {
         "data": {
          "bar": [
           {
            "error_x": {
             "color": "#2a3f5f"
            },
            "error_y": {
             "color": "#2a3f5f"
            },
            "marker": {
             "line": {
              "color": "#E5ECF6",
              "width": 0.5
             },
             "pattern": {
              "fillmode": "overlay",
              "size": 10,
              "solidity": 0.2
             }
            },
            "type": "bar"
           }
          ],
          "barpolar": [
           {
            "marker": {
             "line": {
              "color": "#E5ECF6",
              "width": 0.5
             },
             "pattern": {
              "fillmode": "overlay",
              "size": 10,
              "solidity": 0.2
             }
            },
            "type": "barpolar"
           }
          ],
          "carpet": [
           {
            "aaxis": {
             "endlinecolor": "#2a3f5f",
             "gridcolor": "white",
             "linecolor": "white",
             "minorgridcolor": "white",
             "startlinecolor": "#2a3f5f"
            },
            "baxis": {
             "endlinecolor": "#2a3f5f",
             "gridcolor": "white",
             "linecolor": "white",
             "minorgridcolor": "white",
             "startlinecolor": "#2a3f5f"
            },
            "type": "carpet"
           }
          ],
          "choropleth": [
           {
            "colorbar": {
             "outlinewidth": 0,
             "ticks": ""
            },
            "type": "choropleth"
           }
          ],
          "contour": [
           {
            "colorbar": {
             "outlinewidth": 0,
             "ticks": ""
            },
            "colorscale": [
             [
              0,
              "#0d0887"
             ],
             [
              0.1111111111111111,
              "#46039f"
             ],
             [
              0.2222222222222222,
              "#7201a8"
             ],
             [
              0.3333333333333333,
              "#9c179e"
             ],
             [
              0.4444444444444444,
              "#bd3786"
             ],
             [
              0.5555555555555556,
              "#d8576b"
             ],
             [
              0.6666666666666666,
              "#ed7953"
             ],
             [
              0.7777777777777778,
              "#fb9f3a"
             ],
             [
              0.8888888888888888,
              "#fdca26"
             ],
             [
              1,
              "#f0f921"
             ]
            ],
            "type": "contour"
           }
          ],
          "contourcarpet": [
           {
            "colorbar": {
             "outlinewidth": 0,
             "ticks": ""
            },
            "type": "contourcarpet"
           }
          ],
          "heatmap": [
           {
            "colorbar": {
             "outlinewidth": 0,
             "ticks": ""
            },
            "colorscale": [
             [
              0,
              "#0d0887"
             ],
             [
              0.1111111111111111,
              "#46039f"
             ],
             [
              0.2222222222222222,
              "#7201a8"
             ],
             [
              0.3333333333333333,
              "#9c179e"
             ],
             [
              0.4444444444444444,
              "#bd3786"
             ],
             [
              0.5555555555555556,
              "#d8576b"
             ],
             [
              0.6666666666666666,
              "#ed7953"
             ],
             [
              0.7777777777777778,
              "#fb9f3a"
             ],
             [
              0.8888888888888888,
              "#fdca26"
             ],
             [
              1,
              "#f0f921"
             ]
            ],
            "type": "heatmap"
           }
          ],
          "histogram": [
           {
            "marker": {
             "pattern": {
              "fillmode": "overlay",
              "size": 10,
              "solidity": 0.2
             }
            },
            "type": "histogram"
           }
          ],
          "histogram2d": [
           {
            "colorbar": {
             "outlinewidth": 0,
             "ticks": ""
            },
            "colorscale": [
             [
              0,
              "#0d0887"
             ],
             [
              0.1111111111111111,
              "#46039f"
             ],
             [
              0.2222222222222222,
              "#7201a8"
             ],
             [
              0.3333333333333333,
              "#9c179e"
             ],
             [
              0.4444444444444444,
              "#bd3786"
             ],
             [
              0.5555555555555556,
              "#d8576b"
             ],
             [
              0.6666666666666666,
              "#ed7953"
             ],
             [
              0.7777777777777778,
              "#fb9f3a"
             ],
             [
              0.8888888888888888,
              "#fdca26"
             ],
             [
              1,
              "#f0f921"
             ]
            ],
            "type": "histogram2d"
           }
          ],
          "histogram2dcontour": [
           {
            "colorbar": {
             "outlinewidth": 0,
             "ticks": ""
            },
            "colorscale": [
             [
              0,
              "#0d0887"
             ],
             [
              0.1111111111111111,
              "#46039f"
             ],
             [
              0.2222222222222222,
              "#7201a8"
             ],
             [
              0.3333333333333333,
              "#9c179e"
             ],
             [
              0.4444444444444444,
              "#bd3786"
             ],
             [
              0.5555555555555556,
              "#d8576b"
             ],
             [
              0.6666666666666666,
              "#ed7953"
             ],
             [
              0.7777777777777778,
              "#fb9f3a"
             ],
             [
              0.8888888888888888,
              "#fdca26"
             ],
             [
              1,
              "#f0f921"
             ]
            ],
            "type": "histogram2dcontour"
           }
          ],
          "mesh3d": [
           {
            "colorbar": {
             "outlinewidth": 0,
             "ticks": ""
            },
            "type": "mesh3d"
           }
          ],
          "parcoords": [
           {
            "line": {
             "colorbar": {
              "outlinewidth": 0,
              "ticks": ""
             }
            },
            "type": "parcoords"
           }
          ],
          "pie": [
           {
            "automargin": true,
            "type": "pie"
           }
          ],
          "scatter": [
           {
            "fillpattern": {
             "fillmode": "overlay",
             "size": 10,
             "solidity": 0.2
            },
            "type": "scatter"
           }
          ],
          "scatter3d": [
           {
            "line": {
             "colorbar": {
              "outlinewidth": 0,
              "ticks": ""
             }
            },
            "marker": {
             "colorbar": {
              "outlinewidth": 0,
              "ticks": ""
             }
            },
            "type": "scatter3d"
           }
          ],
          "scattercarpet": [
           {
            "marker": {
             "colorbar": {
              "outlinewidth": 0,
              "ticks": ""
             }
            },
            "type": "scattercarpet"
           }
          ],
          "scattergeo": [
           {
            "marker": {
             "colorbar": {
              "outlinewidth": 0,
              "ticks": ""
             }
            },
            "type": "scattergeo"
           }
          ],
          "scattergl": [
           {
            "marker": {
             "colorbar": {
              "outlinewidth": 0,
              "ticks": ""
             }
            },
            "type": "scattergl"
           }
          ],
          "scattermap": [
           {
            "marker": {
             "colorbar": {
              "outlinewidth": 0,
              "ticks": ""
             }
            },
            "type": "scattermap"
           }
          ],
          "scattermapbox": [
           {
            "marker": {
             "colorbar": {
              "outlinewidth": 0,
              "ticks": ""
             }
            },
            "type": "scattermapbox"
           }
          ],
          "scatterpolar": [
           {
            "marker": {
             "colorbar": {
              "outlinewidth": 0,
              "ticks": ""
             }
            },
            "type": "scatterpolar"
           }
          ],
          "scatterpolargl": [
           {
            "marker": {
             "colorbar": {
              "outlinewidth": 0,
              "ticks": ""
             }
            },
            "type": "scatterpolargl"
           }
          ],
          "scatterternary": [
           {
            "marker": {
             "colorbar": {
              "outlinewidth": 0,
              "ticks": ""
             }
            },
            "type": "scatterternary"
           }
          ],
          "surface": [
           {
            "colorbar": {
             "outlinewidth": 0,
             "ticks": ""
            },
            "colorscale": [
             [
              0,
              "#0d0887"
             ],
             [
              0.1111111111111111,
              "#46039f"
             ],
             [
              0.2222222222222222,
              "#7201a8"
             ],
             [
              0.3333333333333333,
              "#9c179e"
             ],
             [
              0.4444444444444444,
              "#bd3786"
             ],
             [
              0.5555555555555556,
              "#d8576b"
             ],
             [
              0.6666666666666666,
              "#ed7953"
             ],
             [
              0.7777777777777778,
              "#fb9f3a"
             ],
             [
              0.8888888888888888,
              "#fdca26"
             ],
             [
              1,
              "#f0f921"
             ]
            ],
            "type": "surface"
           }
          ],
          "table": [
           {
            "cells": {
             "fill": {
              "color": "#EBF0F8"
             },
             "line": {
              "color": "white"
             }
            },
            "header": {
             "fill": {
              "color": "#C8D4E3"
             },
             "line": {
              "color": "white"
             }
            },
            "type": "table"
           }
          ]
         },
         "layout": {
          "annotationdefaults": {
           "arrowcolor": "#2a3f5f",
           "arrowhead": 0,
           "arrowwidth": 1
          },
          "autotypenumbers": "strict",
          "coloraxis": {
           "colorbar": {
            "outlinewidth": 0,
            "ticks": ""
           }
          },
          "colorscale": {
           "diverging": [
            [
             0,
             "#8e0152"
            ],
            [
             0.1,
             "#c51b7d"
            ],
            [
             0.2,
             "#de77ae"
            ],
            [
             0.3,
             "#f1b6da"
            ],
            [
             0.4,
             "#fde0ef"
            ],
            [
             0.5,
             "#f7f7f7"
            ],
            [
             0.6,
             "#e6f5d0"
            ],
            [
             0.7,
             "#b8e186"
            ],
            [
             0.8,
             "#7fbc41"
            ],
            [
             0.9,
             "#4d9221"
            ],
            [
             1,
             "#276419"
            ]
           ],
           "sequential": [
            [
             0,
             "#0d0887"
            ],
            [
             0.1111111111111111,
             "#46039f"
            ],
            [
             0.2222222222222222,
             "#7201a8"
            ],
            [
             0.3333333333333333,
             "#9c179e"
            ],
            [
             0.4444444444444444,
             "#bd3786"
            ],
            [
             0.5555555555555556,
             "#d8576b"
            ],
            [
             0.6666666666666666,
             "#ed7953"
            ],
            [
             0.7777777777777778,
             "#fb9f3a"
            ],
            [
             0.8888888888888888,
             "#fdca26"
            ],
            [
             1,
             "#f0f921"
            ]
           ],
           "sequentialminus": [
            [
             0,
             "#0d0887"
            ],
            [
             0.1111111111111111,
             "#46039f"
            ],
            [
             0.2222222222222222,
             "#7201a8"
            ],
            [
             0.3333333333333333,
             "#9c179e"
            ],
            [
             0.4444444444444444,
             "#bd3786"
            ],
            [
             0.5555555555555556,
             "#d8576b"
            ],
            [
             0.6666666666666666,
             "#ed7953"
            ],
            [
             0.7777777777777778,
             "#fb9f3a"
            ],
            [
             0.8888888888888888,
             "#fdca26"
            ],
            [
             1,
             "#f0f921"
            ]
           ]
          },
          "colorway": [
           "#636efa",
           "#EF553B",
           "#00cc96",
           "#ab63fa",
           "#FFA15A",
           "#19d3f3",
           "#FF6692",
           "#B6E880",
           "#FF97FF",
           "#FECB52"
          ],
          "font": {
           "color": "#2a3f5f"
          },
          "geo": {
           "bgcolor": "white",
           "lakecolor": "white",
           "landcolor": "#E5ECF6",
           "showlakes": true,
           "showland": true,
           "subunitcolor": "white"
          },
          "hoverlabel": {
           "align": "left"
          },
          "hovermode": "closest",
          "mapbox": {
           "style": "light"
          },
          "paper_bgcolor": "white",
          "plot_bgcolor": "#E5ECF6",
          "polar": {
           "angularaxis": {
            "gridcolor": "white",
            "linecolor": "white",
            "ticks": ""
           },
           "bgcolor": "#E5ECF6",
           "radialaxis": {
            "gridcolor": "white",
            "linecolor": "white",
            "ticks": ""
           }
          },
          "scene": {
           "xaxis": {
            "backgroundcolor": "#E5ECF6",
            "gridcolor": "white",
            "gridwidth": 2,
            "linecolor": "white",
            "showbackground": true,
            "ticks": "",
            "zerolinecolor": "white"
           },
           "yaxis": {
            "backgroundcolor": "#E5ECF6",
            "gridcolor": "white",
            "gridwidth": 2,
            "linecolor": "white",
            "showbackground": true,
            "ticks": "",
            "zerolinecolor": "white"
           },
           "zaxis": {
            "backgroundcolor": "#E5ECF6",
            "gridcolor": "white",
            "gridwidth": 2,
            "linecolor": "white",
            "showbackground": true,
            "ticks": "",
            "zerolinecolor": "white"
           }
          },
          "shapedefaults": {
           "line": {
            "color": "#2a3f5f"
           }
          },
          "ternary": {
           "aaxis": {
            "gridcolor": "white",
            "linecolor": "white",
            "ticks": ""
           },
           "baxis": {
            "gridcolor": "white",
            "linecolor": "white",
            "ticks": ""
           },
           "bgcolor": "#E5ECF6",
           "caxis": {
            "gridcolor": "white",
            "linecolor": "white",
            "ticks": ""
           }
          },
          "title": {
           "x": 0.05
          },
          "xaxis": {
           "automargin": true,
           "gridcolor": "white",
           "linecolor": "white",
           "ticks": "",
           "title": {
            "standoff": 15
           },
           "zerolinecolor": "white",
           "zerolinewidth": 2
          },
          "yaxis": {
           "automargin": true,
           "gridcolor": "white",
           "linecolor": "white",
           "ticks": "",
           "title": {
            "standoff": 15
           },
           "zerolinecolor": "white",
           "zerolinewidth": 2
          }
         }
        },
        "title": {
         "text": "t-SNE visualization of Hyena embeddings"
        },
        "width": 1024,
        "xaxis": {
         "anchor": "y",
         "domain": [
          0,
          1
         ],
         "title": {
          "text": "t-SNE dim 1"
         }
        },
        "yaxis": {
         "anchor": "x",
         "domain": [
          0,
          1
         ],
         "title": {
          "text": "t-SNE dim 2"
         }
        }
       }
      }
     },
     "metadata": {},
     "output_type": "display_data"
    }
   ],
   "source": [
    "fig = px.scatter(\n",
    "    x=train_embeddings_2d[:, 0],\n",
    "    y=train_embeddings_2d[:, 1],\n",
    "    color=[label_columns[i] for i in train_labels_simple],\n",
    "    title=\"t-SNE visualization of Hyena embeddings\",\n",
    "    labels={\"x\": \"t-SNE dim 1\", \"y\": \"t-SNE dim 2\", \"color\": \"Gene family\"},\n",
    "    opacity=0.7,\n",
    ")\n",
    "# Square figure\n",
    "fig.update_layout(width=1024, height=768)\n",
    "fig.show()\n",
    "\n"
   ]
  },
  {
   "cell_type": "code",
   "execution_count": 13,
   "id": "c53b1fd8",
   "metadata": {},
   "outputs": [
    {
     "name": "stdout",
     "output_type": "stream",
     "text": [
      "ROC AUC for disinfecting agents and antiseptics: 0.5309\n",
      "ROC AUC for glycylcycline: 0.4996\n",
      "ROC AUC for rifamycin antibiotic: 0.4996\n",
      "ROC AUC for macrolide antibiotic: 0.6130\n",
      "ROC AUC for streptogramin antibiotic: 0.8518\n",
      "ROC AUC for pyrazine antibiotic: 0.5000\n",
      "ROC AUC for tetracycline antibiotic: 0.5536\n",
      "ROC AUC for bicyclomycin-like antibiotic: 0.5000\n",
      "ROC AUC for isoniazid-like antibiotic: 0.5000\n",
      "ROC AUC for nitroimidazole antibiotic: 0.5000\n"
     ]
    },
    {
     "name": "stderr",
     "output_type": "stream",
     "text": [
      "c:\\Mainframe\\TARP\\.venv\\Lib\\site-packages\\sklearn\\metrics\\_ranking.py:424: UndefinedMetricWarning:\n",
      "\n",
      "Only one class is present in y_true. ROC AUC score is not defined in that case.\n",
      "\n"
     ]
    },
    {
     "name": "stdout",
     "output_type": "stream",
     "text": [
      "ROC AUC for orthosomycin antibiotic: nan\n"
     ]
    },
    {
     "name": "stderr",
     "output_type": "stream",
     "text": [
      "c:\\Mainframe\\TARP\\.venv\\Lib\\site-packages\\sklearn\\metrics\\_ranking.py:424: UndefinedMetricWarning:\n",
      "\n",
      "Only one class is present in y_true. ROC AUC score is not defined in that case.\n",
      "\n"
     ]
    },
    {
     "name": "stdout",
     "output_type": "stream",
     "text": [
      "ROC AUC for nitrofuran antibiotic: nan\n",
      "ROC AUC for carbapenem: 0.9583\n"
     ]
    },
    {
     "name": "stderr",
     "output_type": "stream",
     "text": [
      "c:\\Mainframe\\TARP\\.venv\\Lib\\site-packages\\sklearn\\metrics\\_ranking.py:424: UndefinedMetricWarning:\n",
      "\n",
      "Only one class is present in y_true. ROC AUC score is not defined in that case.\n",
      "\n"
     ]
    },
    {
     "name": "stdout",
     "output_type": "stream",
     "text": [
      "ROC AUC for pactamycin-like antibiotic: nan\n"
     ]
    },
    {
     "name": "stderr",
     "output_type": "stream",
     "text": [
      "c:\\Mainframe\\TARP\\.venv\\Lib\\site-packages\\sklearn\\metrics\\_ranking.py:424: UndefinedMetricWarning:\n",
      "\n",
      "Only one class is present in y_true. ROC AUC score is not defined in that case.\n",
      "\n"
     ]
    },
    {
     "name": "stdout",
     "output_type": "stream",
     "text": [
      "ROC AUC for moenomycin antibiotic: nan\n",
      "ROC AUC for cycloserine-like antibiotic: 0.5000\n",
      "ROC AUC for cephalosporin: 0.9604\n",
      "ROC AUC for diaminopyrimidine antibiotic: 0.6169\n",
      "ROC AUC for fluoroquinolone antibiotic: 0.7233\n",
      "ROC AUC for antibiotic without defined classification: 0.5000\n",
      "ROC AUC for phosphonic acid antibiotic: 0.5905\n",
      "ROC AUC for pleuromutilin antibiotic: 0.7845\n",
      "ROC AUC for elfamycin antibiotic: 0.5000\n",
      "ROC AUC for nucleoside antibiotic: 0.5000\n",
      "ROC AUC for peptide antibiotic: 0.7624\n",
      "ROC AUC for phenicol antibiotic: 0.5357\n",
      "ROC AUC for streptogramin A antibiotic: 0.6496\n",
      "ROC AUC for aminocoumarin antibiotic: 0.4996\n",
      "ROC AUC for streptogramin B antibiotic: 0.6364\n",
      "ROC AUC for sulfonamide antibiotic: 0.5000\n",
      "ROC AUC for fusidane antibiotic: 0.5000\n"
     ]
    },
    {
     "name": "stderr",
     "output_type": "stream",
     "text": [
      "c:\\Mainframe\\TARP\\.venv\\Lib\\site-packages\\sklearn\\metrics\\_ranking.py:424: UndefinedMetricWarning:\n",
      "\n",
      "Only one class is present in y_true. ROC AUC score is not defined in that case.\n",
      "\n"
     ]
    },
    {
     "name": "stdout",
     "output_type": "stream",
     "text": [
      "ROC AUC for zoliflodacin-like antibiotic: nan\n"
     ]
    },
    {
     "name": "stderr",
     "output_type": "stream",
     "text": [
      "c:\\Mainframe\\TARP\\.venv\\Lib\\site-packages\\sklearn\\metrics\\_ranking.py:424: UndefinedMetricWarning:\n",
      "\n",
      "Only one class is present in y_true. ROC AUC score is not defined in that case.\n",
      "\n"
     ]
    },
    {
     "name": "stdout",
     "output_type": "stream",
     "text": [
      "ROC AUC for sulfone antibiotic: nan\n",
      "ROC AUC for thiosemicarbazone antibiotic: 0.5000\n",
      "ROC AUC for glycopeptide antibiotic: 0.5000\n",
      "ROC AUC for oxazolidinone antibiotic: 0.5000\n",
      "ROC AUC for aminoglycoside antibiotic: 0.6085\n",
      "ROC AUC for thioamide antibiotic: 0.5000\n"
     ]
    },
    {
     "name": "stderr",
     "output_type": "stream",
     "text": [
      "c:\\Mainframe\\TARP\\.venv\\Lib\\site-packages\\sklearn\\metrics\\_ranking.py:424: UndefinedMetricWarning:\n",
      "\n",
      "Only one class is present in y_true. ROC AUC score is not defined in that case.\n",
      "\n"
     ]
    },
    {
     "name": "stdout",
     "output_type": "stream",
     "text": [
      "ROC AUC for salicylic acid antibiotic: nan\n",
      "ROC AUC for mupirocin-like antibiotic: 0.5000\n",
      "ROC AUC for diarylquinoline antibiotic: 0.5000\n",
      "ROC AUC for penicillin beta-lactam: 0.9547\n",
      "ROC AUC for antibacterial free fatty acids: 0.5000\n",
      "ROC AUC for lincosamide antibiotic: 0.7357\n",
      "ROC AUC for monobactam: 0.9862\n",
      "ROC AUC for polyamine antibiotic: 0.5000\n"
     ]
    }
   ],
   "source": [
    "# ROC AUC curve for each class\n",
    "from sklearn.metrics import roc_auc_score\n",
    "for i, label in enumerate(label_columns):\n",
    "    y_true = [dataset[j + train_size]['labels'].numpy()[i] for j in range(len(test_embeddings))]\n",
    "    y_scores = [predictions[j][i] for j in range(len(test_embeddings))]\n",
    "    auc = roc_auc_score(y_true, y_scores)\n",
    "    print(f\"ROC AUC for {label}: {auc:.4f}\")"
   ]
  }
 ],
 "metadata": {
  "kernelspec": {
   "display_name": ".venv",
   "language": "python",
   "name": "python3"
  },
  "language_info": {
   "codemirror_mode": {
    "name": "ipython",
    "version": 3
   },
   "file_extension": ".py",
   "mimetype": "text/x-python",
   "name": "python",
   "nbconvert_exporter": "python",
   "pygments_lexer": "ipython3",
   "version": "3.13.7"
  }
 },
 "nbformat": 4,
 "nbformat_minor": 5
}
